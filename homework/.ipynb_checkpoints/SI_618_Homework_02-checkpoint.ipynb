{
 "cells": [
  {
   "cell_type": "markdown",
   "metadata": {
    "tags": []
   },
   "source": [
    "# SI 618 - Homework #2: More Data Manipulation"
   ]
  },
  {
   "cell_type": "markdown",
   "metadata": {},
   "source": [
    "### The total score for this assignment will be 100 points, consisting of:\n",
    "- 10 pt: Overall quality of spelling, grammar, punctuation, etc. of written sentences. ([Guide](https://drive.google.com/file/d/1L0P7xJwjUGBvyb49mL3dw1Bt7hzRTiTl/view ))\n",
    "- 10 pt: Codes are written in [PEP 8](https://www.python.org/dev/peps/pep-0008/) style.\n",
    "- 80 pt: Homework questions. \n",
    "\n",
    "Version 2022.01.24.1.CT"
   ]
  },
  {
   "cell_type": "markdown",
   "metadata": {},
   "source": [
    "# Background\n",
    "You're a Data Science Consultant for an eCommerce retail company, they've asked you to analyze their sales database. Unfortunately, they did nothing to prepare or clean their data, only exporting their 3 database tables as JSON files. It's up to you to clean their data, analyze it and answer questions to help drive business value!\n",
    "\n",
    "### The below files have been provided via the URLs shown:\n",
    "- invoices.json https://github.com/umsi-data-science/data/raw/main/invoices.json\n",
    "- items.json https://github.com/umsi-data-science/data/raw/main/items.json\n",
    "- purchases.json https://github.com/umsi-data-science/data/raw/main/purchases.json\n",
    "\n",
    "### They provided this data dictionary:\n",
    "\n",
    "**InvoiceNo:** Invoice number. Nominal, a 6-digit integral number uniquely assigned to each transaction.  \n",
    "**StockCode:** Product (item) code. Nominal, a 5-digit integral number uniquely assigned to each distinct product.  \n",
    "**Description:** Product (item) name. Nominal.   \n",
    "**Quantity:** The quantities of each product (item) per transaction. Numeric.  \n",
    "**InvoiceDate:** Invoice Date and time. Numeric, the day and time when each transaction was generated.  \n",
    "**UnitPrice:** Unit price. Numeric, Product price per unit in sterling.  \n",
    "**CustomerID:** Customer number. Nominal, a 5-digit integral number uniquely assigned to each customer.  \n",
    "**Country:** Country name. Nominal, the name of the country where each customer resides.  \n",
    "\n",
    "### A few notes from the company:\n",
    "* If the InvoiceNo starts with the letter 'c', it indicates a cancellation. When conducting this analysis we only want to analyze invoices that were shipped. (ie. not canceled)\n",
    "* The datasets should be able to be merged, each row in the invoice table corresponds to multiple rows in the purchases table.\n",
    "* To find out the description or unit cost of an item in the purchase table, the StockCode should be used to match up the product in the items table. \n",
    "* They mentioned that they've been having a difficult time lately joining the items and purchases table, maybe there's something wrong with the columns?"
   ]
  },
  {
   "cell_type": "markdown",
   "metadata": {},
   "source": [
    "# Answer the questions below.\n",
    "- Write your Python code that can answer the following questions, \n",
    "- and explain **ALL** your answers in plain English. \n",
    "- you can use as many code and markdown cells as you need for each question (i.e. don't limit yourself to just one of each if you feel you need more)."
   ]
  },
  {
   "cell_type": "code",
   "execution_count": 385,
   "metadata": {},
   "outputs": [],
   "source": [
    "MY_UNIQNAME = 'kaiyanc'  # replace this with your uniqname"
   ]
  },
  {
   "cell_type": "markdown",
   "metadata": {},
   "source": [
    "### <span style=\"color:magenta\"> Q1. [5 points] Describe the dataset. </span>\n",
    "1. Load the data. \n",
    "1. How many total invoices have been placed?\n",
    "1. How many unique customers are there?\n",
    "1. What is the total number of unique items?\n",
    "1. Are there any columns with null values?\n",
    "1. Thinking ahead, how do you think you would join the different tables? Please share 2-3 sentences about your approach."
   ]
  },
  {
   "cell_type": "code",
   "execution_count": 386,
   "metadata": {},
   "outputs": [],
   "source": [
    "# put your code here\n",
    "import pandas as pd\n",
    "import numpy as np\n",
    "invoice = pd.read_json('https://raw.githubusercontent.com/umsi-data-science/data/main/invoices.json')\n",
    "item = pd.read_json('https://raw.githubusercontent.com/umsi-data-science/data/main/items.json')\n",
    "purchase = pd.read_json('https://raw.githubusercontent.com/umsi-data-science/data/main/purchases.json')"
   ]
  },
  {
   "cell_type": "code",
   "execution_count": 387,
   "metadata": {},
   "outputs": [
    {
     "data": {
      "text/plain": [
       "541631     2\n",
       "567183     2\n",
       "543171     2\n",
       "544186     2\n",
       "571735     2\n",
       "          ..\n",
       "551542     1\n",
       "C551541    1\n",
       "C551540    1\n",
       "551539     1\n",
       "581587     1\n",
       "Name: InvoiceNo, Length: 25900, dtype: int64"
      ]
     },
     "execution_count": 387,
     "metadata": {},
     "output_type": "execute_result"
    }
   ],
   "source": [
    "invoice.InvoiceNo = invoice.InvoiceNo.astype(str)\n",
    "invoice.InvoiceNo.value_counts()"
   ]
  },
  {
   "cell_type": "markdown",
   "metadata": {},
   "source": [
    "From the count of the value I find that some invoice is placed twice, and I think this should be a problem. To clean the data, I should first merge the invoice with the same number and delete the invoice that is canceled."
   ]
  },
  {
   "cell_type": "code",
   "execution_count": 388,
   "metadata": {},
   "outputs": [
    {
     "data": {
      "text/plain": [
       "22061"
      ]
     },
     "execution_count": 388,
     "metadata": {},
     "output_type": "execute_result"
    }
   ],
   "source": [
    "invoice_nodup = invoice[invoice.duplicated('InvoiceNo')==False]\n",
    "invoice_clean = invoice_nodup[invoice_nodup.InvoiceNo.str.len()<=6]\n",
    "len(invoice_clean)"
   ]
  },
  {
   "cell_type": "code",
   "execution_count": 389,
   "metadata": {},
   "outputs": [
    {
     "data": {
      "text/html": [
       "<div>\n",
       "<style scoped>\n",
       "    .dataframe tbody tr th:only-of-type {\n",
       "        vertical-align: middle;\n",
       "    }\n",
       "\n",
       "    .dataframe tbody tr th {\n",
       "        vertical-align: top;\n",
       "    }\n",
       "\n",
       "    .dataframe thead th {\n",
       "        text-align: right;\n",
       "    }\n",
       "</style>\n",
       "<table border=\"1\" class=\"dataframe\">\n",
       "  <thead>\n",
       "    <tr style=\"text-align: right;\">\n",
       "      <th></th>\n",
       "      <th>InvoiceNo</th>\n",
       "      <th>InvoiceDate</th>\n",
       "      <th>CustomerID</th>\n",
       "      <th>Country</th>\n",
       "    </tr>\n",
       "  </thead>\n",
       "  <tbody>\n",
       "    <tr>\n",
       "      <th>46</th>\n",
       "      <td>536414</td>\n",
       "      <td>12/1/10 11:52</td>\n",
       "      <td>NaN</td>\n",
       "      <td>United Kingdom</td>\n",
       "    </tr>\n",
       "    <tr>\n",
       "      <th>89</th>\n",
       "      <td>536544</td>\n",
       "      <td>12/1/10 14:32</td>\n",
       "      <td>NaN</td>\n",
       "      <td>United Kingdom</td>\n",
       "    </tr>\n",
       "    <tr>\n",
       "      <th>90</th>\n",
       "      <td>536545</td>\n",
       "      <td>12/1/10 14:32</td>\n",
       "      <td>NaN</td>\n",
       "      <td>United Kingdom</td>\n",
       "    </tr>\n",
       "    <tr>\n",
       "      <th>91</th>\n",
       "      <td>536546</td>\n",
       "      <td>12/1/10 14:33</td>\n",
       "      <td>NaN</td>\n",
       "      <td>United Kingdom</td>\n",
       "    </tr>\n",
       "    <tr>\n",
       "      <th>92</th>\n",
       "      <td>536547</td>\n",
       "      <td>12/1/10 14:33</td>\n",
       "      <td>NaN</td>\n",
       "      <td>United Kingdom</td>\n",
       "    </tr>\n",
       "    <tr>\n",
       "      <th>...</th>\n",
       "      <td>...</td>\n",
       "      <td>...</td>\n",
       "      <td>...</td>\n",
       "      <td>...</td>\n",
       "    </tr>\n",
       "    <tr>\n",
       "      <th>25859</th>\n",
       "      <td>581435</td>\n",
       "      <td>12/8/11 16:14</td>\n",
       "      <td>NaN</td>\n",
       "      <td>United Kingdom</td>\n",
       "    </tr>\n",
       "    <tr>\n",
       "      <th>25863</th>\n",
       "      <td>581439</td>\n",
       "      <td>12/8/11 16:30</td>\n",
       "      <td>NaN</td>\n",
       "      <td>United Kingdom</td>\n",
       "    </tr>\n",
       "    <tr>\n",
       "      <th>25911</th>\n",
       "      <td>581492</td>\n",
       "      <td>12/9/11 10:03</td>\n",
       "      <td>NaN</td>\n",
       "      <td>United Kingdom</td>\n",
       "    </tr>\n",
       "    <tr>\n",
       "      <th>25916</th>\n",
       "      <td>581497</td>\n",
       "      <td>12/9/11 10:23</td>\n",
       "      <td>NaN</td>\n",
       "      <td>United Kingdom</td>\n",
       "    </tr>\n",
       "    <tr>\n",
       "      <th>25917</th>\n",
       "      <td>581498</td>\n",
       "      <td>12/9/11 10:26</td>\n",
       "      <td>NaN</td>\n",
       "      <td>United Kingdom</td>\n",
       "    </tr>\n",
       "  </tbody>\n",
       "</table>\n",
       "<p>3525 rows × 4 columns</p>\n",
       "</div>"
      ],
      "text/plain": [
       "      InvoiceNo    InvoiceDate  CustomerID         Country\n",
       "46       536414  12/1/10 11:52         NaN  United Kingdom\n",
       "89       536544  12/1/10 14:32         NaN  United Kingdom\n",
       "90       536545  12/1/10 14:32         NaN  United Kingdom\n",
       "91       536546  12/1/10 14:33         NaN  United Kingdom\n",
       "92       536547  12/1/10 14:33         NaN  United Kingdom\n",
       "...         ...            ...         ...             ...\n",
       "25859    581435  12/8/11 16:14         NaN  United Kingdom\n",
       "25863    581439  12/8/11 16:30         NaN  United Kingdom\n",
       "25911    581492  12/9/11 10:03         NaN  United Kingdom\n",
       "25916    581497  12/9/11 10:23         NaN  United Kingdom\n",
       "25917    581498  12/9/11 10:26         NaN  United Kingdom\n",
       "\n",
       "[3525 rows x 4 columns]"
      ]
     },
     "execution_count": 389,
     "metadata": {},
     "output_type": "execute_result"
    }
   ],
   "source": [
    "invoice_clean.CustomerID\n",
    "invoice_clean[invoice_clean.CustomerID.isna()]"
   ]
  },
  {
   "cell_type": "markdown",
   "metadata": {},
   "source": [
    "From this code we can find that the customer id is not well formated, and some of them is null. To calculte the unique customer, we may need to drop these null value."
   ]
  },
  {
   "cell_type": "code",
   "execution_count": 390,
   "metadata": {},
   "outputs": [
    {
     "data": {
      "text/plain": [
       "4339"
      ]
     },
     "execution_count": 390,
     "metadata": {},
     "output_type": "execute_result"
    }
   ],
   "source": [
    "invoice_nona = invoice_clean[~invoice_clean.CustomerID.isna()]\n",
    "len(invoice_nona.CustomerID.unique())"
   ]
  },
  {
   "cell_type": "code",
   "execution_count": 391,
   "metadata": {},
   "outputs": [
    {
     "data": {
      "text/html": [
       "<div>\n",
       "<style scoped>\n",
       "    .dataframe tbody tr th:only-of-type {\n",
       "        vertical-align: middle;\n",
       "    }\n",
       "\n",
       "    .dataframe tbody tr th {\n",
       "        vertical-align: top;\n",
       "    }\n",
       "\n",
       "    .dataframe thead th {\n",
       "        text-align: right;\n",
       "    }\n",
       "</style>\n",
       "<table border=\"1\" class=\"dataframe\">\n",
       "  <thead>\n",
       "    <tr style=\"text-align: right;\">\n",
       "      <th></th>\n",
       "      <th>StockCode</th>\n",
       "      <th>Description</th>\n",
       "      <th>UnitPrice</th>\n",
       "    </tr>\n",
       "  </thead>\n",
       "  <tbody>\n",
       "    <tr>\n",
       "      <th>0</th>\n",
       "      <td>85123A</td>\n",
       "      <td>WHITE HANGING HEART T-LIGHT HOLDER</td>\n",
       "      <td>2.55</td>\n",
       "    </tr>\n",
       "    <tr>\n",
       "      <th>1</th>\n",
       "      <td>71053</td>\n",
       "      <td>WHITE METAL LANTERN</td>\n",
       "      <td>3.39</td>\n",
       "    </tr>\n",
       "    <tr>\n",
       "      <th>2</th>\n",
       "      <td>84406B</td>\n",
       "      <td>CREAM CUPID HEARTS COAT HANGER</td>\n",
       "      <td>2.75</td>\n",
       "    </tr>\n",
       "    <tr>\n",
       "      <th>3</th>\n",
       "      <td>84029G</td>\n",
       "      <td>KNITTED UNION FLAG HOT WATER BOTTLE</td>\n",
       "      <td>3.39</td>\n",
       "    </tr>\n",
       "    <tr>\n",
       "      <th>4</th>\n",
       "      <td>84029E</td>\n",
       "      <td>RED WOOLLY HOTTIE WHITE HEART.</td>\n",
       "      <td>3.39</td>\n",
       "    </tr>\n",
       "    <tr>\n",
       "      <th>...</th>\n",
       "      <td>...</td>\n",
       "      <td>...</td>\n",
       "      <td>...</td>\n",
       "    </tr>\n",
       "    <tr>\n",
       "      <th>4065</th>\n",
       "      <td>85179a</td>\n",
       "      <td>GREEN BITTY LIGHT CHAIN</td>\n",
       "      <td>2.46</td>\n",
       "    </tr>\n",
       "    <tr>\n",
       "      <th>4066</th>\n",
       "      <td>23617</td>\n",
       "      <td>SET 10 CARDS SWIRLY XMAS TREE 17104</td>\n",
       "      <td>2.91</td>\n",
       "    </tr>\n",
       "    <tr>\n",
       "      <th>4067</th>\n",
       "      <td>90214U</td>\n",
       "      <td>LETTER \"U\" BLING KEY RING</td>\n",
       "      <td>0.29</td>\n",
       "    </tr>\n",
       "    <tr>\n",
       "      <th>4068</th>\n",
       "      <td>47591b</td>\n",
       "      <td>SCOTTIES CHILDRENS APRON</td>\n",
       "      <td>4.13</td>\n",
       "    </tr>\n",
       "    <tr>\n",
       "      <th>4069</th>\n",
       "      <td>23843</td>\n",
       "      <td>PAPER CRAFT , LITTLE BIRDIE</td>\n",
       "      <td>2.08</td>\n",
       "    </tr>\n",
       "  </tbody>\n",
       "</table>\n",
       "<p>4070 rows × 3 columns</p>\n",
       "</div>"
      ],
      "text/plain": [
       "     StockCode                          Description  UnitPrice\n",
       "0       85123A   WHITE HANGING HEART T-LIGHT HOLDER       2.55\n",
       "1        71053                  WHITE METAL LANTERN       3.39\n",
       "2       84406B       CREAM CUPID HEARTS COAT HANGER       2.75\n",
       "3       84029G  KNITTED UNION FLAG HOT WATER BOTTLE       3.39\n",
       "4       84029E       RED WOOLLY HOTTIE WHITE HEART.       3.39\n",
       "...        ...                                  ...        ...\n",
       "4065    85179a              GREEN BITTY LIGHT CHAIN       2.46\n",
       "4066     23617  SET 10 CARDS SWIRLY XMAS TREE 17104       2.91\n",
       "4067    90214U            LETTER \"U\" BLING KEY RING       0.29\n",
       "4068    47591b             SCOTTIES CHILDRENS APRON       4.13\n",
       "4069     23843          PAPER CRAFT , LITTLE BIRDIE       2.08\n",
       "\n",
       "[4070 rows x 3 columns]"
      ]
     },
     "execution_count": 391,
     "metadata": {},
     "output_type": "execute_result"
    }
   ],
   "source": [
    "item"
   ]
  },
  {
   "cell_type": "markdown",
   "metadata": {},
   "source": [
    "From the above, we notice that some stock code of the item is not added with a character and not well-formated. We should delete the last cha first."
   ]
  },
  {
   "cell_type": "code",
   "execution_count": 392,
   "metadata": {},
   "outputs": [
    {
     "data": {
      "text/plain": [
       "3401"
      ]
     },
     "execution_count": 392,
     "metadata": {},
     "output_type": "execute_result"
    }
   ],
   "source": [
    "item.StockCode = item.StockCode.str[:5]\n",
    "len(item.StockCode.unique())"
   ]
  },
  {
   "cell_type": "code",
   "execution_count": 393,
   "metadata": {},
   "outputs": [
    {
     "name": "stdout",
     "output_type": "stream",
     "text": [
      "      InvoiceNo    InvoiceDate  CustomerID         Country\n",
      "46       536414  12/1/10 11:52         NaN  United Kingdom\n",
      "89       536544  12/1/10 14:32         NaN  United Kingdom\n",
      "90       536545  12/1/10 14:32         NaN  United Kingdom\n",
      "91       536546  12/1/10 14:33         NaN  United Kingdom\n",
      "92       536547  12/1/10 14:33         NaN  United Kingdom\n",
      "...         ...            ...         ...             ...\n",
      "25859    581435  12/8/11 16:14         NaN  United Kingdom\n",
      "25863    581439  12/8/11 16:30         NaN  United Kingdom\n",
      "25911    581492  12/9/11 10:03         NaN  United Kingdom\n",
      "25916    581497  12/9/11 10:23         NaN  United Kingdom\n",
      "25917    581498  12/9/11 10:26         NaN  United Kingdom\n",
      "\n",
      "[3722 rows x 4 columns]\n",
      "     StockCode Description  UnitPrice\n",
      "1041     21134        None        0.0\n",
      "1042     22145        None        0.0\n",
      "1043     37509        None        0.0\n",
      "1047     85226        None        0.0\n",
      "1048     85044        None        0.0\n",
      "...        ...         ...        ...\n",
      "3723     37477        None        0.0\n",
      "3839     35592        None        0.0\n",
      "3860     35598        None        0.0\n",
      "3958     23702        None        0.0\n",
      "4050     84971        None        0.0\n",
      "\n",
      "[176 rows x 3 columns]\n"
     ]
    }
   ],
   "source": [
    "print(invoice[invoice.CustomerID.isna()])\n",
    "print(item[item.Description.isna()])"
   ]
  },
  {
   "cell_type": "markdown",
   "metadata": {},
   "source": [
    "(Use this space to explain your answers)"
   ]
  },
  {
   "cell_type": "markdown",
   "metadata": {},
   "source": [
    "1. There are 22061 invoices.\n",
    "1. There are 4339 unique customers.\n",
    "1. There are 3401 unique items.\n",
    "1. Some of the customerid of invoice have null values.\n",
    "1. Some of the description of itme have null values.\n",
    "1. Purchase and invoice have InvoiceNo in common, and purchase and item have StockCode in common. We can merge the three forms by merging by these three columns."
   ]
  },
  {
   "cell_type": "markdown",
   "metadata": {},
   "source": [
    "### <span style=\"color:magenta\"> Q2. [10 points] Invoice Analysis </span>\n",
    "1. For each customer calculate how many total invoices they have placed. List the top 10 customers who have placed an invoice in descending order.\n",
    "2. Perform a similar calculation but instead of the number of invoices, calculate the total quantity of items ordered for each customer. List the top 10 customers in descending order.\n",
    "3. Compare the top 10 customers, does it appear that the more invoices a customer have, the greater the total quantity of items? Explain your reasoning.\n",
    "\n",
    "_Hint: For 2.2, you may need to join two datasets together to answer the question._"
   ]
  },
  {
   "cell_type": "markdown",
   "metadata": {},
   "source": [
    "First correct the format of the customer id."
   ]
  },
  {
   "cell_type": "code",
   "execution_count": 395,
   "metadata": {},
   "outputs": [
    {
     "data": {
      "text/plain": [
       "CustomerID\n",
       "12748    210\n",
       "14911    201\n",
       "17841    124\n",
       "13089     97\n",
       "14606     93\n",
       "15311     91\n",
       "12971     86\n",
       "14646     74\n",
       "16029     63\n",
       "13408     62\n",
       "dtype: int64"
      ]
     },
     "execution_count": 395,
     "metadata": {},
     "output_type": "execute_result"
    }
   ],
   "source": [
    "invoice_nona.CustomerID = invoice_nona.CustomerID.astype(str)\n",
    "invoice_nona.CustomerID = invoice_nona.CustomerID.str[:5]\n",
    "invoice_nona.value_counts('CustomerID').head(10)"
   ]
  },
  {
   "cell_type": "markdown",
   "metadata": {},
   "source": [
    "Then we need to merge the invoice and purchase with the stock code to find the item purchased."
   ]
  },
  {
   "cell_type": "code",
   "execution_count": 396,
   "metadata": {},
   "outputs": [
    {
     "data": {
      "text/html": [
       "<div>\n",
       "<style scoped>\n",
       "    .dataframe tbody tr th:only-of-type {\n",
       "        vertical-align: middle;\n",
       "    }\n",
       "\n",
       "    .dataframe tbody tr th {\n",
       "        vertical-align: top;\n",
       "    }\n",
       "\n",
       "    .dataframe thead th {\n",
       "        text-align: right;\n",
       "    }\n",
       "</style>\n",
       "<table border=\"1\" class=\"dataframe\">\n",
       "  <thead>\n",
       "    <tr style=\"text-align: right;\">\n",
       "      <th></th>\n",
       "      <th>InvoiceNo</th>\n",
       "      <th>StockCodeSC</th>\n",
       "      <th>Quantity</th>\n",
       "    </tr>\n",
       "  </thead>\n",
       "  <tbody>\n",
       "    <tr>\n",
       "      <th>0</th>\n",
       "      <td>536365</td>\n",
       "      <td>SC85123A</td>\n",
       "      <td>6</td>\n",
       "    </tr>\n",
       "    <tr>\n",
       "      <th>1</th>\n",
       "      <td>536365</td>\n",
       "      <td>SC71053</td>\n",
       "      <td>6</td>\n",
       "    </tr>\n",
       "    <tr>\n",
       "      <th>2</th>\n",
       "      <td>536365</td>\n",
       "      <td>SC84406B</td>\n",
       "      <td>8</td>\n",
       "    </tr>\n",
       "    <tr>\n",
       "      <th>3</th>\n",
       "      <td>536365</td>\n",
       "      <td>SC84029G</td>\n",
       "      <td>6</td>\n",
       "    </tr>\n",
       "    <tr>\n",
       "      <th>4</th>\n",
       "      <td>536365</td>\n",
       "      <td>SC84029E</td>\n",
       "      <td>6</td>\n",
       "    </tr>\n",
       "    <tr>\n",
       "      <th>...</th>\n",
       "      <td>...</td>\n",
       "      <td>...</td>\n",
       "      <td>...</td>\n",
       "    </tr>\n",
       "    <tr>\n",
       "      <th>541904</th>\n",
       "      <td>581587</td>\n",
       "      <td>SC22613</td>\n",
       "      <td>12</td>\n",
       "    </tr>\n",
       "    <tr>\n",
       "      <th>541905</th>\n",
       "      <td>581587</td>\n",
       "      <td>SC22899</td>\n",
       "      <td>6</td>\n",
       "    </tr>\n",
       "    <tr>\n",
       "      <th>541906</th>\n",
       "      <td>581587</td>\n",
       "      <td>SC23254</td>\n",
       "      <td>4</td>\n",
       "    </tr>\n",
       "    <tr>\n",
       "      <th>541907</th>\n",
       "      <td>581587</td>\n",
       "      <td>SC23255</td>\n",
       "      <td>4</td>\n",
       "    </tr>\n",
       "    <tr>\n",
       "      <th>541908</th>\n",
       "      <td>581587</td>\n",
       "      <td>SC22138</td>\n",
       "      <td>3</td>\n",
       "    </tr>\n",
       "  </tbody>\n",
       "</table>\n",
       "<p>541909 rows × 3 columns</p>\n",
       "</div>"
      ],
      "text/plain": [
       "       InvoiceNo StockCodeSC  Quantity\n",
       "0         536365    SC85123A         6\n",
       "1         536365     SC71053         6\n",
       "2         536365    SC84406B         8\n",
       "3         536365    SC84029G         6\n",
       "4         536365    SC84029E         6\n",
       "...          ...         ...       ...\n",
       "541904    581587     SC22613        12\n",
       "541905    581587     SC22899         6\n",
       "541906    581587     SC23254         4\n",
       "541907    581587     SC23255         4\n",
       "541908    581587     SC22138         3\n",
       "\n",
       "[541909 rows x 3 columns]"
      ]
     },
     "execution_count": 396,
     "metadata": {},
     "output_type": "execute_result"
    }
   ],
   "source": [
    "purchase"
   ]
  },
  {
   "cell_type": "markdown",
   "metadata": {},
   "source": [
    "From above, we find that purchase only have stock code sc, we can make a new column with the old one."
   ]
  },
  {
   "cell_type": "code",
   "execution_count": 403,
   "metadata": {},
   "outputs": [
    {
     "data": {
      "text/plain": [
       "0         85123\n",
       "1         71053\n",
       "2         84406\n",
       "3         84029\n",
       "4         84029\n",
       "          ...  \n",
       "541904    22613\n",
       "541905    22899\n",
       "541906    23254\n",
       "541907    23255\n",
       "541908    22138\n",
       "Name: StockCode, Length: 541909, dtype: object"
      ]
     },
     "execution_count": 403,
     "metadata": {},
     "output_type": "execute_result"
    }
   ],
   "source": [
    "purchase['StockCode'] = purchase['StockCodeSC'].str[2:7]\n",
    "purchase.StockCode"
   ]
  },
  {
   "cell_type": "code",
   "execution_count": 636,
   "metadata": {},
   "outputs": [
    {
     "data": {
      "text/html": [
       "<div>\n",
       "<style scoped>\n",
       "    .dataframe tbody tr th:only-of-type {\n",
       "        vertical-align: middle;\n",
       "    }\n",
       "\n",
       "    .dataframe tbody tr th {\n",
       "        vertical-align: top;\n",
       "    }\n",
       "\n",
       "    .dataframe thead th {\n",
       "        text-align: right;\n",
       "    }\n",
       "</style>\n",
       "<table border=\"1\" class=\"dataframe\">\n",
       "  <thead>\n",
       "    <tr style=\"text-align: right;\">\n",
       "      <th></th>\n",
       "      <th>InvoiceNo</th>\n",
       "      <th>StockCodeSC</th>\n",
       "      <th>Quantity</th>\n",
       "      <th>StockCode</th>\n",
       "    </tr>\n",
       "  </thead>\n",
       "  <tbody>\n",
       "    <tr>\n",
       "      <th>45</th>\n",
       "      <td>536370</td>\n",
       "      <td>SCPOST</td>\n",
       "      <td>3</td>\n",
       "      <td>POST</td>\n",
       "    </tr>\n",
       "    <tr>\n",
       "      <th>141</th>\n",
       "      <td>C536379</td>\n",
       "      <td>SCD</td>\n",
       "      <td>-1</td>\n",
       "      <td>D</td>\n",
       "    </tr>\n",
       "    <tr>\n",
       "      <th>386</th>\n",
       "      <td>536403</td>\n",
       "      <td>SCPOST</td>\n",
       "      <td>1</td>\n",
       "      <td>POST</td>\n",
       "    </tr>\n",
       "    <tr>\n",
       "      <th>1123</th>\n",
       "      <td>536527</td>\n",
       "      <td>SCPOST</td>\n",
       "      <td>1</td>\n",
       "      <td>POST</td>\n",
       "    </tr>\n",
       "    <tr>\n",
       "      <th>1423</th>\n",
       "      <td>536540</td>\n",
       "      <td>SCC2</td>\n",
       "      <td>1</td>\n",
       "      <td>C2</td>\n",
       "    </tr>\n",
       "    <tr>\n",
       "      <th>...</th>\n",
       "      <td>...</td>\n",
       "      <td>...</td>\n",
       "      <td>...</td>\n",
       "      <td>...</td>\n",
       "    </tr>\n",
       "    <tr>\n",
       "      <th>541540</th>\n",
       "      <td>581498</td>\n",
       "      <td>SCDOT</td>\n",
       "      <td>1</td>\n",
       "      <td>DOT</td>\n",
       "    </tr>\n",
       "    <tr>\n",
       "      <th>541541</th>\n",
       "      <td>C581499</td>\n",
       "      <td>SCM</td>\n",
       "      <td>-1</td>\n",
       "      <td>M</td>\n",
       "    </tr>\n",
       "    <tr>\n",
       "      <th>541730</th>\n",
       "      <td>581570</td>\n",
       "      <td>SCPOST</td>\n",
       "      <td>1</td>\n",
       "      <td>POST</td>\n",
       "    </tr>\n",
       "    <tr>\n",
       "      <th>541767</th>\n",
       "      <td>581574</td>\n",
       "      <td>SCPOST</td>\n",
       "      <td>2</td>\n",
       "      <td>POST</td>\n",
       "    </tr>\n",
       "    <tr>\n",
       "      <th>541768</th>\n",
       "      <td>581578</td>\n",
       "      <td>SCPOST</td>\n",
       "      <td>3</td>\n",
       "      <td>POST</td>\n",
       "    </tr>\n",
       "  </tbody>\n",
       "</table>\n",
       "<p>2995 rows × 4 columns</p>\n",
       "</div>"
      ],
      "text/plain": [
       "       InvoiceNo StockCodeSC  Quantity StockCode\n",
       "45        536370      SCPOST         3      POST\n",
       "141      C536379         SCD        -1         D\n",
       "386       536403      SCPOST         1      POST\n",
       "1123      536527      SCPOST         1      POST\n",
       "1423      536540        SCC2         1        C2\n",
       "...          ...         ...       ...       ...\n",
       "541540    581498       SCDOT         1       DOT\n",
       "541541   C581499         SCM        -1         M\n",
       "541730    581570      SCPOST         1      POST\n",
       "541767    581574      SCPOST         2      POST\n",
       "541768    581578      SCPOST         3      POST\n",
       "\n",
       "[2995 rows x 4 columns]"
      ]
     },
     "execution_count": 636,
     "metadata": {},
     "output_type": "execute_result"
    }
   ],
   "source": [
    "purchase[~purchase.StockCode.str.isdigit()]"
   ]
  },
  {
   "cell_type": "markdown",
   "metadata": {},
   "source": [
    "I also find that some of the Stock code is not digit, which should also be delected"
   ]
  },
  {
   "cell_type": "code",
   "execution_count": 637,
   "metadata": {},
   "outputs": [],
   "source": [
    "purchase=purchase[purchase.StockCode.str.isdigit()]"
   ]
  },
  {
   "cell_type": "markdown",
   "metadata": {},
   "source": [
    "After that, we can merge the two frame and get the larger one"
   ]
  },
  {
   "cell_type": "code",
   "execution_count": 638,
   "metadata": {},
   "outputs": [
    {
     "data": {
      "text/html": [
       "<div>\n",
       "<style scoped>\n",
       "    .dataframe tbody tr th:only-of-type {\n",
       "        vertical-align: middle;\n",
       "    }\n",
       "\n",
       "    .dataframe tbody tr th {\n",
       "        vertical-align: top;\n",
       "    }\n",
       "\n",
       "    .dataframe thead th {\n",
       "        text-align: right;\n",
       "    }\n",
       "</style>\n",
       "<table border=\"1\" class=\"dataframe\">\n",
       "  <thead>\n",
       "    <tr style=\"text-align: right;\">\n",
       "      <th></th>\n",
       "      <th>InvoiceNo</th>\n",
       "      <th>InvoiceDate</th>\n",
       "      <th>CustomerID</th>\n",
       "      <th>Country</th>\n",
       "      <th>StockCodeSC</th>\n",
       "      <th>Quantity</th>\n",
       "      <th>StockCode</th>\n",
       "    </tr>\n",
       "  </thead>\n",
       "  <tbody>\n",
       "    <tr>\n",
       "      <th>0</th>\n",
       "      <td>536365</td>\n",
       "      <td>12/1/10 8:26</td>\n",
       "      <td>17850</td>\n",
       "      <td>United Kingdom</td>\n",
       "      <td>SC85123A</td>\n",
       "      <td>6.0</td>\n",
       "      <td>85123</td>\n",
       "    </tr>\n",
       "    <tr>\n",
       "      <th>1</th>\n",
       "      <td>536365</td>\n",
       "      <td>12/1/10 8:26</td>\n",
       "      <td>17850</td>\n",
       "      <td>United Kingdom</td>\n",
       "      <td>SC71053</td>\n",
       "      <td>6.0</td>\n",
       "      <td>71053</td>\n",
       "    </tr>\n",
       "    <tr>\n",
       "      <th>2</th>\n",
       "      <td>536365</td>\n",
       "      <td>12/1/10 8:26</td>\n",
       "      <td>17850</td>\n",
       "      <td>United Kingdom</td>\n",
       "      <td>SC84406B</td>\n",
       "      <td>8.0</td>\n",
       "      <td>84406</td>\n",
       "    </tr>\n",
       "    <tr>\n",
       "      <th>3</th>\n",
       "      <td>536365</td>\n",
       "      <td>12/1/10 8:26</td>\n",
       "      <td>17850</td>\n",
       "      <td>United Kingdom</td>\n",
       "      <td>SC84029G</td>\n",
       "      <td>6.0</td>\n",
       "      <td>84029</td>\n",
       "    </tr>\n",
       "    <tr>\n",
       "      <th>4</th>\n",
       "      <td>536365</td>\n",
       "      <td>12/1/10 8:26</td>\n",
       "      <td>17850</td>\n",
       "      <td>United Kingdom</td>\n",
       "      <td>SC84029E</td>\n",
       "      <td>6.0</td>\n",
       "      <td>84029</td>\n",
       "    </tr>\n",
       "    <tr>\n",
       "      <th>...</th>\n",
       "      <td>...</td>\n",
       "      <td>...</td>\n",
       "      <td>...</td>\n",
       "      <td>...</td>\n",
       "      <td>...</td>\n",
       "      <td>...</td>\n",
       "      <td>...</td>\n",
       "    </tr>\n",
       "    <tr>\n",
       "      <th>396496</th>\n",
       "      <td>581587</td>\n",
       "      <td>12/9/11 12:50</td>\n",
       "      <td>12680</td>\n",
       "      <td>France</td>\n",
       "      <td>SC22613</td>\n",
       "      <td>12.0</td>\n",
       "      <td>22613</td>\n",
       "    </tr>\n",
       "    <tr>\n",
       "      <th>396497</th>\n",
       "      <td>581587</td>\n",
       "      <td>12/9/11 12:50</td>\n",
       "      <td>12680</td>\n",
       "      <td>France</td>\n",
       "      <td>SC22899</td>\n",
       "      <td>6.0</td>\n",
       "      <td>22899</td>\n",
       "    </tr>\n",
       "    <tr>\n",
       "      <th>396498</th>\n",
       "      <td>581587</td>\n",
       "      <td>12/9/11 12:50</td>\n",
       "      <td>12680</td>\n",
       "      <td>France</td>\n",
       "      <td>SC23254</td>\n",
       "      <td>4.0</td>\n",
       "      <td>23254</td>\n",
       "    </tr>\n",
       "    <tr>\n",
       "      <th>396499</th>\n",
       "      <td>581587</td>\n",
       "      <td>12/9/11 12:50</td>\n",
       "      <td>12680</td>\n",
       "      <td>France</td>\n",
       "      <td>SC23255</td>\n",
       "      <td>4.0</td>\n",
       "      <td>23255</td>\n",
       "    </tr>\n",
       "    <tr>\n",
       "      <th>396500</th>\n",
       "      <td>581587</td>\n",
       "      <td>12/9/11 12:50</td>\n",
       "      <td>12680</td>\n",
       "      <td>France</td>\n",
       "      <td>SC22138</td>\n",
       "      <td>3.0</td>\n",
       "      <td>22138</td>\n",
       "    </tr>\n",
       "  </tbody>\n",
       "</table>\n",
       "<p>396501 rows × 7 columns</p>\n",
       "</div>"
      ],
      "text/plain": [
       "       InvoiceNo    InvoiceDate CustomerID         Country StockCodeSC  \\\n",
       "0         536365   12/1/10 8:26      17850  United Kingdom    SC85123A   \n",
       "1         536365   12/1/10 8:26      17850  United Kingdom     SC71053   \n",
       "2         536365   12/1/10 8:26      17850  United Kingdom    SC84406B   \n",
       "3         536365   12/1/10 8:26      17850  United Kingdom    SC84029G   \n",
       "4         536365   12/1/10 8:26      17850  United Kingdom    SC84029E   \n",
       "...          ...            ...        ...             ...         ...   \n",
       "396496    581587  12/9/11 12:50      12680          France     SC22613   \n",
       "396497    581587  12/9/11 12:50      12680          France     SC22899   \n",
       "396498    581587  12/9/11 12:50      12680          France     SC23254   \n",
       "396499    581587  12/9/11 12:50      12680          France     SC23255   \n",
       "396500    581587  12/9/11 12:50      12680          France     SC22138   \n",
       "\n",
       "        Quantity StockCode  \n",
       "0            6.0     85123  \n",
       "1            6.0     71053  \n",
       "2            8.0     84406  \n",
       "3            6.0     84029  \n",
       "4            6.0     84029  \n",
       "...          ...       ...  \n",
       "396496      12.0     22613  \n",
       "396497       6.0     22899  \n",
       "396498       4.0     23254  \n",
       "396499       4.0     23255  \n",
       "396500       3.0     22138  \n",
       "\n",
       "[396501 rows x 7 columns]"
      ]
     },
     "execution_count": 638,
     "metadata": {},
     "output_type": "execute_result"
    }
   ],
   "source": [
    "invoice_purchase = invoice_nona.merge(purchase,on='InvoiceNo',how='left')\n",
    "invoice_purchase"
   ]
  },
  {
   "cell_type": "markdown",
   "metadata": {},
   "source": [
    "We can then check if there is any problem with the quantity. And finally get the number of items bought by each customer."
   ]
  },
  {
   "cell_type": "code",
   "execution_count": 639,
   "metadata": {},
   "outputs": [
    {
     "data": {
      "text/html": [
       "<div>\n",
       "<style scoped>\n",
       "    .dataframe tbody tr th:only-of-type {\n",
       "        vertical-align: middle;\n",
       "    }\n",
       "\n",
       "    .dataframe tbody tr th {\n",
       "        vertical-align: top;\n",
       "    }\n",
       "\n",
       "    .dataframe thead th {\n",
       "        text-align: right;\n",
       "    }\n",
       "</style>\n",
       "<table border=\"1\" class=\"dataframe\">\n",
       "  <thead>\n",
       "    <tr style=\"text-align: right;\">\n",
       "      <th></th>\n",
       "      <th>InvoiceNo</th>\n",
       "      <th>InvoiceDate</th>\n",
       "      <th>CustomerID</th>\n",
       "      <th>Country</th>\n",
       "      <th>StockCodeSC</th>\n",
       "      <th>Quantity</th>\n",
       "      <th>StockCode</th>\n",
       "    </tr>\n",
       "  </thead>\n",
       "  <tbody>\n",
       "  </tbody>\n",
       "</table>\n",
       "</div>"
      ],
      "text/plain": [
       "Empty DataFrame\n",
       "Columns: [InvoiceNo, InvoiceDate, CustomerID, Country, StockCodeSC, Quantity, StockCode]\n",
       "Index: []"
      ]
     },
     "execution_count": 639,
     "metadata": {},
     "output_type": "execute_result"
    }
   ],
   "source": [
    "invoice_purchase[invoice_purchase.Quantity<0]"
   ]
  },
  {
   "cell_type": "code",
   "execution_count": 640,
   "metadata": {},
   "outputs": [
    {
     "name": "stdout",
     "output_type": "stream",
     "text": [
      "            Quantity\n",
      "CustomerID          \n",
      "14646       197420.0\n",
      "16446        80997.0\n",
      "14911        80429.0\n",
      "12415        77669.0\n",
      "12346        74215.0\n",
      "17450        69993.0\n",
      "17511        64549.0\n",
      "18102        64124.0\n",
      "13694        63312.0\n",
      "14298        58343.0\n"
     ]
    },
    {
     "data": {
      "text/plain": [
       "CustomerID\n",
       "12748    210\n",
       "14911    201\n",
       "17841    124\n",
       "13089     97\n",
       "14606     93\n",
       "15311     91\n",
       "12971     86\n",
       "14646     74\n",
       "16029     63\n",
       "13408     62\n",
       "dtype: int64"
      ]
     },
     "execution_count": 640,
     "metadata": {},
     "output_type": "execute_result"
    }
   ],
   "source": [
    "print(invoice_purchase.groupby('CustomerID').sum().sort_values('Quantity', ascending=False).head(10))\n",
    "invoice_nona.value_counts('CustomerID').head(10)"
   ]
  },
  {
   "cell_type": "markdown",
   "metadata": {},
   "source": [
    "By comparing the two form, we find that they do have some common customer like 14646, 14911. However, most customers with comparatively large voice do not show on the form of the quantity. I would like to say it seems not the case that the more invoices one customer has, the more items he would purchased."
   ]
  },
  {
   "cell_type": "markdown",
   "metadata": {},
   "source": [
    "The top customers of invoice and items have been shown above, the reason for doing in this way is also depicted among the code."
   ]
  },
  {
   "cell_type": "markdown",
   "metadata": {},
   "source": [
    "### <span style=\"color:magenta\"> Q3. [10 points] Item Analysis </span>\n",
    "1. What is the average item-unit price? \n",
    "1. What % of items are under $25?\n",
    "1. Generate a histogram of the unit prices. Select reasonable min/max values for the x-axis. Why did you pick those values? What do you notice about the histogram? "
   ]
  },
  {
   "cell_type": "code",
   "execution_count": 641,
   "metadata": {},
   "outputs": [
    {
     "data": {
      "text/html": [
       "<div>\n",
       "<style scoped>\n",
       "    .dataframe tbody tr th:only-of-type {\n",
       "        vertical-align: middle;\n",
       "    }\n",
       "\n",
       "    .dataframe tbody tr th {\n",
       "        vertical-align: top;\n",
       "    }\n",
       "\n",
       "    .dataframe thead th {\n",
       "        text-align: right;\n",
       "    }\n",
       "</style>\n",
       "<table border=\"1\" class=\"dataframe\">\n",
       "  <thead>\n",
       "    <tr style=\"text-align: right;\">\n",
       "      <th></th>\n",
       "      <th>StockCode</th>\n",
       "      <th>Description</th>\n",
       "      <th>UnitPrice</th>\n",
       "    </tr>\n",
       "  </thead>\n",
       "  <tbody>\n",
       "    <tr>\n",
       "      <th>947</th>\n",
       "      <td>90214</td>\n",
       "      <td>LETTER \"D\" BLING KEY RING</td>\n",
       "      <td>0.85</td>\n",
       "    </tr>\n",
       "    <tr>\n",
       "      <th>948</th>\n",
       "      <td>90214</td>\n",
       "      <td>LETTER \"G\" BLING KEY RING</td>\n",
       "      <td>0.85</td>\n",
       "    </tr>\n",
       "    <tr>\n",
       "      <th>949</th>\n",
       "      <td>90214</td>\n",
       "      <td>LETTER \"H\" BLING KEY RING</td>\n",
       "      <td>0.85</td>\n",
       "    </tr>\n",
       "    <tr>\n",
       "      <th>950</th>\n",
       "      <td>90214</td>\n",
       "      <td>LETTER \"J\" BLING KEY RING</td>\n",
       "      <td>0.85</td>\n",
       "    </tr>\n",
       "    <tr>\n",
       "      <th>951</th>\n",
       "      <td>90214</td>\n",
       "      <td>LETTER \"R\" BLING KEY RING</td>\n",
       "      <td>0.85</td>\n",
       "    </tr>\n",
       "    <tr>\n",
       "      <th>1143</th>\n",
       "      <td>90214</td>\n",
       "      <td>LETTER \"M\" BLING KEY RING</td>\n",
       "      <td>1.25</td>\n",
       "    </tr>\n",
       "    <tr>\n",
       "      <th>1144</th>\n",
       "      <td>90214</td>\n",
       "      <td>LETTER \"V\" BLING KEY RING</td>\n",
       "      <td>1.25</td>\n",
       "    </tr>\n",
       "    <tr>\n",
       "      <th>1145</th>\n",
       "      <td>90214</td>\n",
       "      <td>LETTER \"S\" BLING KEY RING</td>\n",
       "      <td>1.25</td>\n",
       "    </tr>\n",
       "    <tr>\n",
       "      <th>1326</th>\n",
       "      <td>90214</td>\n",
       "      <td>LETTER \"A\" BLING KEY RING</td>\n",
       "      <td>0.85</td>\n",
       "    </tr>\n",
       "    <tr>\n",
       "      <th>1327</th>\n",
       "      <td>90214</td>\n",
       "      <td>LETTER \"E\" BLING KEY RING</td>\n",
       "      <td>0.85</td>\n",
       "    </tr>\n",
       "    <tr>\n",
       "      <th>1722</th>\n",
       "      <td>90214</td>\n",
       "      <td>LETTER \"B\" BLING KEY RING</td>\n",
       "      <td>0.85</td>\n",
       "    </tr>\n",
       "    <tr>\n",
       "      <th>1723</th>\n",
       "      <td>90214</td>\n",
       "      <td>LETTER \"C\" BLING KEY RING</td>\n",
       "      <td>0.85</td>\n",
       "    </tr>\n",
       "    <tr>\n",
       "      <th>1724</th>\n",
       "      <td>90214</td>\n",
       "      <td>LETTER \"F\" BLING KEY RING</td>\n",
       "      <td>0.85</td>\n",
       "    </tr>\n",
       "    <tr>\n",
       "      <th>1725</th>\n",
       "      <td>90214</td>\n",
       "      <td>LETTER \"I\" BLING KEY RING</td>\n",
       "      <td>0.85</td>\n",
       "    </tr>\n",
       "    <tr>\n",
       "      <th>1726</th>\n",
       "      <td>90214</td>\n",
       "      <td>LETTER \"L\" BLING KEY RING</td>\n",
       "      <td>0.85</td>\n",
       "    </tr>\n",
       "    <tr>\n",
       "      <th>1727</th>\n",
       "      <td>90214</td>\n",
       "      <td>LETTER \"N\" BLING KEY RING</td>\n",
       "      <td>0.85</td>\n",
       "    </tr>\n",
       "    <tr>\n",
       "      <th>1728</th>\n",
       "      <td>90214</td>\n",
       "      <td>LETTER \"Y\" BLING KEY RING</td>\n",
       "      <td>0.85</td>\n",
       "    </tr>\n",
       "    <tr>\n",
       "      <th>2327</th>\n",
       "      <td>90214</td>\n",
       "      <td>LETTER \"K\" BLING KEY RING</td>\n",
       "      <td>0.85</td>\n",
       "    </tr>\n",
       "    <tr>\n",
       "      <th>2328</th>\n",
       "      <td>90214</td>\n",
       "      <td>LETTER \"P\" BLING KEY RING</td>\n",
       "      <td>0.85</td>\n",
       "    </tr>\n",
       "    <tr>\n",
       "      <th>2329</th>\n",
       "      <td>90214</td>\n",
       "      <td>LETTER \"Z\" BLING KEY RING</td>\n",
       "      <td>0.85</td>\n",
       "    </tr>\n",
       "    <tr>\n",
       "      <th>2440</th>\n",
       "      <td>90214</td>\n",
       "      <td>LETTER \"O\" BLING KEY RING</td>\n",
       "      <td>0.85</td>\n",
       "    </tr>\n",
       "    <tr>\n",
       "      <th>2739</th>\n",
       "      <td>90214</td>\n",
       "      <td>LETTER \"T\" BLING KEY RING</td>\n",
       "      <td>0.85</td>\n",
       "    </tr>\n",
       "    <tr>\n",
       "      <th>2888</th>\n",
       "      <td>90214</td>\n",
       "      <td>LETTER \"W\" BLING KEY RING</td>\n",
       "      <td>0.85</td>\n",
       "    </tr>\n",
       "    <tr>\n",
       "      <th>4067</th>\n",
       "      <td>90214</td>\n",
       "      <td>LETTER \"U\" BLING KEY RING</td>\n",
       "      <td>0.29</td>\n",
       "    </tr>\n",
       "  </tbody>\n",
       "</table>\n",
       "</div>"
      ],
      "text/plain": [
       "     StockCode                Description  UnitPrice\n",
       "947      90214  LETTER \"D\" BLING KEY RING       0.85\n",
       "948      90214  LETTER \"G\" BLING KEY RING       0.85\n",
       "949      90214  LETTER \"H\" BLING KEY RING       0.85\n",
       "950      90214  LETTER \"J\" BLING KEY RING       0.85\n",
       "951      90214  LETTER \"R\" BLING KEY RING       0.85\n",
       "1143     90214  LETTER \"M\" BLING KEY RING       1.25\n",
       "1144     90214  LETTER \"V\" BLING KEY RING       1.25\n",
       "1145     90214  LETTER \"S\" BLING KEY RING       1.25\n",
       "1326     90214  LETTER \"A\" BLING KEY RING       0.85\n",
       "1327     90214  LETTER \"E\" BLING KEY RING       0.85\n",
       "1722     90214  LETTER \"B\" BLING KEY RING       0.85\n",
       "1723     90214  LETTER \"C\" BLING KEY RING       0.85\n",
       "1724     90214  LETTER \"F\" BLING KEY RING       0.85\n",
       "1725     90214  LETTER \"I\" BLING KEY RING       0.85\n",
       "1726     90214  LETTER \"L\" BLING KEY RING       0.85\n",
       "1727     90214  LETTER \"N\" BLING KEY RING       0.85\n",
       "1728     90214  LETTER \"Y\" BLING KEY RING       0.85\n",
       "2327     90214  LETTER \"K\" BLING KEY RING       0.85\n",
       "2328     90214  LETTER \"P\" BLING KEY RING       0.85\n",
       "2329     90214  LETTER \"Z\" BLING KEY RING       0.85\n",
       "2440     90214  LETTER \"O\" BLING KEY RING       0.85\n",
       "2739     90214  LETTER \"T\" BLING KEY RING       0.85\n",
       "2888     90214  LETTER \"W\" BLING KEY RING       0.85\n",
       "4067     90214  LETTER \"U\" BLING KEY RING       0.29"
      ]
     },
     "execution_count": 641,
     "metadata": {},
     "output_type": "execute_result"
    }
   ],
   "source": [
    "item.StockCode.value_counts()\n",
    "item[item.StockCode=='90214']"
   ]
  },
  {
   "cell_type": "markdown",
   "metadata": {},
   "source": [
    "First, I check if the stock code has some problem, and find that some of them are duplicated. However, after I check them, I find them differ in the description, so I think this make sense, which means there seems to be no problem."
   ]
  },
  {
   "cell_type": "code",
   "execution_count": 642,
   "metadata": {},
   "outputs": [
    {
     "name": "stdout",
     "output_type": "stream",
     "text": [
      "6.905277886977952\n",
      "0.9874692874692874\n",
      "count     4070.000000\n",
      "mean         6.905278\n",
      "std        173.775142\n",
      "min          0.000000\n",
      "25%          1.250000\n",
      "50%          2.510000\n",
      "75%          4.250000\n",
      "max      11062.060000\n",
      "Name: UnitPrice, dtype: float64\n"
     ]
    },
    {
     "data": {
      "text/plain": [
       "<AxesSubplot:ylabel='Frequency'>"
      ]
     },
     "execution_count": 642,
     "metadata": {},
     "output_type": "execute_result"
    },
    {
     "data": {
      "image/png": "[encoded data removed]",
      "text/plain": [
       "<Figure size 432x288 with 1 Axes>"
      ]
     },
     "metadata": {
      "needs_background": "light"
     },
     "output_type": "display_data"
    }
   ],
   "source": [
    "print(item.UnitPrice.mean())\n",
    "print(len(item[item.UnitPrice<25])/len(item))\n",
    "print(item.UnitPrice.describe())\n",
    "item.UnitPrice.plot.hist(xlim=[0,25])"
   ]
  },
  {
   "cell_type": "markdown",
   "metadata": {},
   "source": [
    "I choose the min value 0, and the max value 25. I choose 0 because from describe I find that the min value for all the product is 0. I choose 25 becasue nearly 99% of the products are below 25, and the left items are very sparse to the max value. I think it is enough to only set the max value as 25. For the histgram, I think since we set not enough bins, there is not enough bins to describe the difference between the price, we can add the bins to make the plot more clear."
   ]
  },
  {
   "cell_type": "code",
   "execution_count": 643,
   "metadata": {},
   "outputs": [
    {
     "data": {
      "text/plain": [
       "<AxesSubplot:ylabel='Frequency'>"
      ]
     },
     "execution_count": 643,
     "metadata": {},
     "output_type": "execute_result"
    },
    {
     "data": {
      "image/png": "[encoded data removed]",
      "text/plain": [
       "<Figure size 432x288 with 1 Axes>"
      ]
     },
     "metadata": {
      "needs_background": "light"
     },
     "output_type": "display_data"
    }
   ],
   "source": [
    "item.UnitPrice.plot.hist(xlim=[0,25], bins=10000)"
   ]
  },
  {
   "cell_type": "markdown",
   "metadata": {},
   "source": [
    "### <span style=\"color:magenta\"> Q4. [25 points] Order Trends </span>\n",
    "1. What are the top 10 most ordered items? Describe them. Do you see any trends?  \n",
    "1. What are the top 5 invoices that generated the most revenue? (Revenue is calculated by \"marking up\" the unit price by 25%.) \n",
    "1. Do the top 5 invoices contain any of the top 10 most ordered items?\n",
    "\n",
    "_Hint: When calculating the revenue we suggest adding a new column on the dataframe._"
   ]
  },
  {
   "cell_type": "code",
   "execution_count": 644,
   "metadata": {},
   "outputs": [
    {
     "data": {
      "text/plain": [
       "StockCode\n",
       "85099    2941\n",
       "85123    2035\n",
       "22423    1724\n",
       "47566    1714\n",
       "84879    1408\n",
       "85049    1361\n",
       "20725    1317\n",
       "84997    1302\n",
       "22720    1159\n",
       "20727    1105\n",
       "dtype: int64"
      ]
     },
     "execution_count": 644,
     "metadata": {},
     "output_type": "execute_result"
    }
   ],
   "source": [
    "invoice_purchase.value_counts('StockCode').head(10)"
   ]
  },
  {
   "cell_type": "code",
   "execution_count": 645,
   "metadata": {},
   "outputs": [
    {
     "name": "stdout",
     "output_type": "stream",
     "text": [
      "     StockCode                     Description  UnitPrice\n",
      "60       85099  JUMBO  BAG BAROQUE BLACK WHITE       1.95\n",
      "140      85099         JUMBO BAG RED RETROSPOT       1.65\n",
      "359      85099            JUMBO BAG STRAWBERRY       1.95\n",
      "1800     85099            JUMBO BAG STRAWBERRY       5.06\n",
      "     StockCode                         Description  UnitPrice\n",
      "0        85123  WHITE HANGING HEART T-LIGHT HOLDER       2.55\n",
      "1801     85123  WHITE HANGING HEART T-LIGHT HOLDER       6.77\n",
      "    StockCode               Description  UnitPrice\n",
      "532     22423  REGENCY CAKESTAND 3 TIER      10.95\n",
      "     StockCode             Description  UnitPrice\n",
      "1270     47566  TEA TIME PARTY BUNTING       8.47\n",
      "1629     47566  TEA TIME PARTY BUNTING       8.47\n",
      "1646     47566           PARTY BUNTING       9.32\n",
      "  StockCode                    Description  UnitPrice\n",
      "9     84879  ASSORTED COLOUR BIRD ORNAMENT       1.69\n",
      "     StockCode                    Description  UnitPrice\n",
      "136      85049  TRADITIONAL CHRISTMAS RIBBONS       1.25\n",
      "227      85049      SCANDINAVIAN REDS RIBBONS       1.25\n",
      "280      85049        ROMANTIC PINKS RIBBONS        1.25\n",
      "281      85049          BRIGHT BLUES RIBBONS        1.25\n",
      "282      85049         CHOCOLATE BOX RIBBONS        1.25\n",
      "432      85049           URBAN BLACK RIBBONS        1.25\n",
      "1496     85049             BABY BOOM RIBBONS        1.25\n",
      "1615     85049            LUSH GREENS RIBBONS       1.25\n",
      "1798     85049  TRADITIONAL CHRISTMAS RIBBONS       3.36\n",
      "1799     85049      SCANDINAVIAN REDS RIBBONS       3.36\n",
      "2798     85049         CHOCOLATE BOX RIBBONS        2.51\n",
      "3258     85049            LUSH GREENS RIBBONS       2.46\n",
      "3259     85049          BRIGHT BLUES RIBBONS        2.46\n",
      "4049     85049        ROMANTIC PINKS RIBBONS        2.46\n",
      "   StockCode              Description  UnitPrice\n",
      "66     20725  LUNCH BAG RED RETROSPOT       1.65\n",
      "     StockCode                         Description  UnitPrice\n",
      "63       84997   RED 3 PIECE RETROSPOT CUTLERY SET       3.75\n",
      "64       84997   BLUE 3 PIECE POLKADOT CUTLERY SET       3.75\n",
      "601      84997   PINK 3 PIECE POLKADOT CUTLERY SET       3.75\n",
      "1139     84997  GREEN 3 PIECE POLKADOT CUTLERY SET       3.75\n",
      "1795     84997   RED 3 PIECE RETROSPOT CUTLERY SET       8.47\n",
      "1796     84997   BLUE 3 PIECE POLKADOT CUTLERY SET       8.47\n",
      "1797     84997   PINK 3 PIECE POLKADOT CUTLERY SET       8.47\n",
      "2992     84997  GREEN 3 PIECE POLKADOT CUTLERY SET       8.29\n",
      "     StockCode                        Description  UnitPrice\n",
      "2611     22720  SET OF 3 CAKE TINS PANTRY DESIGN        4.95\n",
      "    StockCode              Description  UnitPrice\n",
      "294     20727  LUNCH BAG  BLACK SKULL.       1.65\n"
     ]
    }
   ],
   "source": [
    "for i in range(0, 10):\n",
    "    print(item[item.StockCode==invoice_purchase.value_counts('StockCode').head(10).index[i]])"
   ]
  },
  {
   "cell_type": "markdown",
   "metadata": {},
   "source": [
    "The description of the top 10 items are shown above. I find that most of them are food, so I think people tend to buy more food."
   ]
  },
  {
   "cell_type": "code",
   "execution_count": 647,
   "metadata": {},
   "outputs": [],
   "source": [
    "invoice_purchase_item = invoice_purchase.merge(item, on='StockCode', how='left')\n",
    "invoice_purchase_item['Revenue'] = invoice_purchase_item.UnitPrice.apply(lambda x: x*1.25)"
   ]
  },
  {
   "cell_type": "code",
   "execution_count": 648,
   "metadata": {},
   "outputs": [
    {
     "data": {
      "text/plain": [
       "InvoiceNo\n",
       "576339    2773.9125\n",
       "580727    2725.6625\n",
       "579196    2452.4000\n",
       "562031    2250.2750\n",
       "567656    2177.9750\n",
       "573576    2088.8875\n",
       "578270    2017.2375\n",
       "571441    1896.2125\n",
       "567183    1842.0500\n",
       "570488    1836.6625\n",
       "Name: Revenue, dtype: float64"
      ]
     },
     "execution_count": 648,
     "metadata": {},
     "output_type": "execute_result"
    }
   ],
   "source": [
    "invoice_purchase_item.groupby('InvoiceNo').Revenue.sum().sort_values(ascending=False).head(10)"
   ]
  },
  {
   "cell_type": "code",
   "execution_count": 649,
   "metadata": {},
   "outputs": [
    {
     "name": "stdout",
     "output_type": "stream",
     "text": [
      "28\n",
      "12\n",
      "8\n",
      "12\n",
      "2\n",
      "490\n",
      "7\n",
      "72\n",
      "7\n",
      "1\n"
     ]
    }
   ],
   "source": [
    "invoice_top = invoice_purchase_item[invoice_purchase_item.InvoiceNo == invoice_purchase_item.groupby('InvoiceNo').Revenue.sum().sort_values(ascending=False).head(10).index[0]]\n",
    "for i in range(1,10):\n",
    "    invoice_top = invoice_top.merge(invoice_purchase_item[invoice_purchase_item.InvoiceNo == invoice_purchase_item.groupby('InvoiceNo').Revenue.sum().sort_values(ascending=False).head(10).index[i]], how='outer')\n",
    "for i in range(0, 10):\n",
    "    print(len(invoice_top[invoice_top.StockCode==invoice_purchase.value_counts('StockCode').head(10).index[i]]))"
   ]
  },
  {
   "cell_type": "markdown",
   "metadata": {},
   "source": [
    "The above is the number of the top item appear in the top invoices."
   ]
  },
  {
   "cell_type": "markdown",
   "metadata": {},
   "source": [
    "### <span style=\"color:magenta\"> Q5. [30 points] Customer Analysis </span>\n",
    "1. Classify customers into segments based on the total revenue they have generated for the company.\n",
    " * low value: less than \\$1500  \n",
    " * medium value: between 1500 and 8000 dollars\n",
    " * high value: greater than \\$8000\n",
    "1. How many customers are in each segment? \n",
    "1. Using the pivot table function, create a table that displays the average order quantity of each stock code for a given segment.\n",
    "1. Are the items with the highest average order quantity generally the same across segments? Explain your reasoning. \n",
    "1. Choose three items and discuss any trends/differences you notice across the three segments.\n",
    "\n",
    "_Hint: When calculating the segment, we suggest constructing a new dataframe as an intermediary step with the columns: CustomerID, Revenue, Segment._"
   ]
  },
  {
   "cell_type": "code",
   "execution_count": 650,
   "metadata": {},
   "outputs": [],
   "source": [
    "top_customer = invoice_purchase_item.groupby('CustomerID').Revenue.sum()"
   ]
  },
  {
   "cell_type": "code",
   "execution_count": 651,
   "metadata": {},
   "outputs": [
    {
     "data": {
      "text/plain": [
       "low value       4046\n",
       "medium value     276\n",
       "high value         5\n",
       "Name: Revenue, dtype: int64"
      ]
     },
     "execution_count": 651,
     "metadata": {},
     "output_type": "execute_result"
    }
   ],
   "source": [
    "bins = [0,1500,8000,10000]\n",
    "pd.cut(invoice_purchase_item.groupby('CustomerID').Revenue.sum(),bins,labels=['low value','medium value','high value']).value_counts()"
   ]
  },
  {
   "cell_type": "code",
   "execution_count": 656,
   "metadata": {},
   "outputs": [
    {
     "name": "stdout",
     "output_type": "stream",
     "text": [
      "            Quantity\n",
      "StockCode           \n",
      "10002      20.843750\n",
      "10080      17.000000\n",
      "10120       5.947368\n",
      "10123       1.666667\n",
      "10124       3.500000\n",
      "...              ...\n",
      "90209      18.857143\n",
      "90210       8.000000\n",
      "90211       2.000000\n",
      "90212       3.000000\n",
      "90214      11.523810\n",
      "\n",
      "[3138 rows x 1 columns]\n",
      "            Quantity\n",
      "StockCode           \n",
      "10002       9.533333\n",
      "10080       3.800000\n",
      "10120       8.222222\n",
      "10124       4.000000\n",
      "10125      11.416667\n",
      "...              ...\n",
      "90206       2.000000\n",
      "90209       2.500000\n",
      "90210      20.444444\n",
      "90211       2.000000\n",
      "90214       5.583333\n",
      "\n",
      "[2996 rows x 1 columns]\n",
      "             Quantity\n",
      "StockCode            \n",
      "10133       20.000000\n",
      "15034      240.000000\n",
      "15036       32.727273\n",
      "15039       27.333333\n",
      "15044        6.000000\n",
      "...               ...\n",
      "85232        1.000000\n",
      "90057       24.000000\n",
      "90058       72.000000\n",
      "90125       28.500000\n",
      "90191        6.000000\n",
      "\n",
      "[1814 rows x 1 columns]\n"
     ]
    }
   ],
   "source": [
    "dummies = pd.get_dummies(pd.cut(invoice_purchase_item.groupby('CustomerID').Revenue.sum(),bins,labels=['low value','medium value','high value']))\n",
    "customer_value = invoice_purchase_item.merge(dummies, on='CustomerID')\n",
    "customer_low = customer_value[customer_value['low value']==1]\n",
    "customer_low_pivot = customer_low.pivot_table(index='StockCode',values='Quantity',aggfunc=np.mean)\n",
    "print(customer_low_pivot)\n",
    "customer_medium = customer_value[customer_value['medium value']==1]\n",
    "customer_medium_pivot = customer_medium.pivot_table(index='StockCode',values='Quantity',aggfunc=np.mean)\n",
    "print(customer_medium_pivot)\n",
    "customer_high = customer_value[customer_value['high value']==1]\n",
    "customer_high_pivot = customer_high.pivot_table(index='StockCode',values='Quantity',aggfunc=np.mean)\n",
    "print(customer_high_pivot)"
   ]
  },
  {
   "cell_type": "code",
   "execution_count": 663,
   "metadata": {},
   "outputs": [
    {
     "name": "stdout",
     "output_type": "stream",
     "text": [
      "               Quantity\n",
      "StockCode              \n",
      "23843      80995.000000\n",
      "47556       1300.000000\n",
      "23166        641.890756\n",
      "84568        533.333333\n",
      "84826        516.846154\n",
      "18007        387.066667\n",
      "16014        318.804878\n",
      "22053        309.692308\n",
      "17096        252.333333\n",
      "84598        240.000000\n",
      "             Quantity\n",
      "StockCode            \n",
      "84568      480.000000\n",
      "84598      288.000000\n",
      "84422      241.500000\n",
      "21897      201.000000\n",
      "17003      197.827586\n",
      "35957      192.000000\n",
      "79337      192.000000\n",
      "16052      173.500000\n",
      "16216      151.833333\n",
      "16045      136.363636\n",
      "             Quantity\n",
      "StockCode            \n",
      "84212      480.000000\n",
      "22152      432.000000\n",
      "22492      432.000000\n",
      "70006      410.000000\n",
      "23084      408.083333\n",
      "21292      384.000000\n",
      "21684      360.000000\n",
      "17084      355.600000\n",
      "22582      288.000000\n",
      "22292      288.000000\n"
     ]
    }
   ],
   "source": [
    "print(customer_low_pivot.sort_values('Quantity', ascending=False).head(10))\n",
    "print(customer_medium_pivot.sort_values('Quantity', ascending=False).head(10))\n",
    "print(customer_high_pivot.sort_values('Quantity', ascending=False).head(10))"
   ]
  },
  {
   "cell_type": "markdown",
   "metadata": {},
   "source": [
    "3. By comparing the item bought most by the three segements, I would say that for customer with low value and medium value, the item bought most is generally the same because they have many hit items in common. For the customers with high value, it seems not this case, the items they buy most differ from the before two."
   ]
  },
  {
   "cell_type": "code",
   "execution_count": 668,
   "metadata": {},
   "outputs": [
    {
     "data": {
      "text/html": [
       "<div>\n",
       "<style scoped>\n",
       "    .dataframe tbody tr th:only-of-type {\n",
       "        vertical-align: middle;\n",
       "    }\n",
       "\n",
       "    .dataframe tbody tr th {\n",
       "        vertical-align: top;\n",
       "    }\n",
       "\n",
       "    .dataframe thead th {\n",
       "        text-align: right;\n",
       "    }\n",
       "</style>\n",
       "<table border=\"1\" class=\"dataframe\">\n",
       "  <thead>\n",
       "    <tr style=\"text-align: right;\">\n",
       "      <th></th>\n",
       "      <th>StockCode</th>\n",
       "      <th>Description</th>\n",
       "      <th>UnitPrice</th>\n",
       "    </tr>\n",
       "  </thead>\n",
       "  <tbody>\n",
       "    <tr>\n",
       "      <th>2061</th>\n",
       "      <td>84568</td>\n",
       "      <td>GIRLS ALPHABET IRON ON PATCHES</td>\n",
       "      <td>0.43</td>\n",
       "    </tr>\n",
       "  </tbody>\n",
       "</table>\n",
       "</div>"
      ],
      "text/plain": [
       "     StockCode                      Description  UnitPrice\n",
       "2061     84568  GIRLS ALPHABET IRON ON PATCHES        0.43"
      ]
     },
     "execution_count": 668,
     "metadata": {},
     "output_type": "execute_result"
    }
   ],
   "source": [
    "customer_high_pivot[customer_high_pivot.index=='84568']\n",
    "item[item.StockCode=='84568']"
   ]
  },
  {
   "cell_type": "code",
   "execution_count": 671,
   "metadata": {},
   "outputs": [
    {
     "data": {
      "text/html": [
       "<div>\n",
       "<style scoped>\n",
       "    .dataframe tbody tr th:only-of-type {\n",
       "        vertical-align: middle;\n",
       "    }\n",
       "\n",
       "    .dataframe tbody tr th {\n",
       "        vertical-align: top;\n",
       "    }\n",
       "\n",
       "    .dataframe thead th {\n",
       "        text-align: right;\n",
       "    }\n",
       "</style>\n",
       "<table border=\"1\" class=\"dataframe\">\n",
       "  <thead>\n",
       "    <tr style=\"text-align: right;\">\n",
       "      <th></th>\n",
       "      <th>StockCode</th>\n",
       "      <th>Description</th>\n",
       "      <th>UnitPrice</th>\n",
       "    </tr>\n",
       "  </thead>\n",
       "  <tbody>\n",
       "    <tr>\n",
       "      <th>959</th>\n",
       "      <td>84598</td>\n",
       "      <td>BOYS ALPHABET IRON ON PATCHES</td>\n",
       "      <td>0.43</td>\n",
       "    </tr>\n",
       "  </tbody>\n",
       "</table>\n",
       "</div>"
      ],
      "text/plain": [
       "    StockCode                    Description  UnitPrice\n",
       "959     84598  BOYS ALPHABET IRON ON PATCHES       0.43"
      ]
     },
     "execution_count": 671,
     "metadata": {},
     "output_type": "execute_result"
    }
   ],
   "source": [
    "customer_high_pivot[customer_high_pivot.index=='84598']\n",
    "item[item.StockCode=='84598']"
   ]
  },
  {
   "cell_type": "code",
   "execution_count": 685,
   "metadata": {},
   "outputs": [
    {
     "name": "stdout",
     "output_type": "stream",
     "text": [
      "            Quantity\n",
      "StockCode           \n",
      "22582      12.571429\n",
      "           Quantity\n",
      "StockCode          \n",
      "22582      9.147541\n"
     ]
    },
    {
     "data": {
      "text/html": [
       "<div>\n",
       "<style scoped>\n",
       "    .dataframe tbody tr th:only-of-type {\n",
       "        vertical-align: middle;\n",
       "    }\n",
       "\n",
       "    .dataframe tbody tr th {\n",
       "        vertical-align: top;\n",
       "    }\n",
       "\n",
       "    .dataframe thead th {\n",
       "        text-align: right;\n",
       "    }\n",
       "</style>\n",
       "<table border=\"1\" class=\"dataframe\">\n",
       "  <thead>\n",
       "    <tr style=\"text-align: right;\">\n",
       "      <th></th>\n",
       "      <th>StockCode</th>\n",
       "      <th>Description</th>\n",
       "      <th>UnitPrice</th>\n",
       "    </tr>\n",
       "  </thead>\n",
       "  <tbody>\n",
       "    <tr>\n",
       "      <th>516</th>\n",
       "      <td>22582</td>\n",
       "      <td>PACK OF 6 SWEETIE GIFT BOXES</td>\n",
       "      <td>2.55</td>\n",
       "    </tr>\n",
       "  </tbody>\n",
       "</table>\n",
       "</div>"
      ],
      "text/plain": [
       "    StockCode                   Description  UnitPrice\n",
       "516     22582  PACK OF 6 SWEETIE GIFT BOXES       2.55"
      ]
     },
     "execution_count": 685,
     "metadata": {},
     "output_type": "execute_result"
    }
   ],
   "source": [
    "print(customer_medium_pivot[customer_medium_pivot.index=='22582'])\n",
    "print(customer_low_pivot[customer_low_pivot.index=='22582'])\n",
    "item[item.StockCode=='22582']"
   ]
  },
  {
   "cell_type": "markdown",
   "metadata": {},
   "source": [
    "4. * One thing I choose is the item with stock code 84568, it is among the top 10 item of the first two segements, but not even purchased by the customer with high value. I check the description, and it shows that this item seems to be some kind of decoration for girl. I think it means that customer with low and medium value are probably family or identity, while the customer with high value may be company, that's why they do not need this kind of decoration.\n",
    "* Another item can be noticed is the item with stock code 84598, it is also popular among the customers with low and medium value, but not even purchased by the customers with high value. It turns out it is some decoration for boy, which verify my guess again.\n",
    "* The last item I would like to mention is item with stock code 22582, which is a gift box, it is among the top seller for the customer with the highest value but not well sold for customer of low and medium value. Thoes who may buy this item should be some company or shop, but not common family."
   ]
  },
  {
   "cell_type": "markdown",
   "metadata": {},
   "source": [
    "# Please submit your completed notebook in .IPYNB and .HTML formats via Canvas"
   ]
  },
  {
   "cell_type": "code",
   "execution_count": null,
   "metadata": {},
   "outputs": [],
   "source": []
  }
 ],
 "metadata": {
  "kernelspec": {
   "display_name": "Python 3 (ipykernel)",
   "language": "python",
   "name": "python3"
  },
  "language_info": {
   "codemirror_mode": {
    "name": "ipython",
    "version": 3
   },
   "file_extension": ".py",
   "mimetype": "text/x-python",
   "name": "python",
   "nbconvert_exporter": "python",
   "pygments_lexer": "ipython3",
   "version": "3.9.7"
  }
 },
 "nbformat": 4,
 "nbformat_minor": 4
}
