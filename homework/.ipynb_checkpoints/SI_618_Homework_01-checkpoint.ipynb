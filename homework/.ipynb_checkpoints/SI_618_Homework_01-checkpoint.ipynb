{
 "cells": [
  {
   "cell_type": "markdown",
   "metadata": {
    "colab_type": "text",
    "id": "UGqk3SzXsMR3"
   },
   "source": [
    "# SI 618 - Homework #1: Data Manipulation\n",
    "\n",
    "Version 2022.01.17.01.CT"
   ]
  },
  {
   "cell_type": "markdown",
   "metadata": {
    "colab_type": "text",
    "id": "Crxe7LeXJ9yn"
   },
   "source": [
    "## Background"
   ]
  },
  {
   "cell_type": "markdown",
   "metadata": {
    "colab_type": "text",
    "id": "1IaTA3GNJ9yo"
   },
   "source": [
    "This homework assignment focuses on the analysis of biometric data and exercise performance."
   ]
  },
  {
   "cell_type": "markdown",
   "metadata": {
    "colab_type": "text",
    "id": "jae-nANHJ9yp"
   },
   "source": [
    "Your main task in this assignment is to explore the data *using the data\n",
    "manipulation methods we covered in class* as well as those in the assigned readings.  You may need to consult pandas documentation, Stack Overflow, or other online resources.  \n"
   ]
  },
  {
   "cell_type": "markdown",
   "metadata": {
    "colab_type": "text",
    "id": "pbqbtPreaCjs"
   },
   "source": [
    "A total of 100 points is available in this homework assignment, consisting of:\n",
    "- 80 points for completing the specific homework questions. More comprehensive \n",
    "answers will tend to gain more points.\n",
    "- 10 points for the overall quality of spelling, grammar, punctuation, and style of written responses  (see [Strunk & White](https://drive.google.com/file/d/1L0P7xJwjUGBvyb49mL3dw1Bt7hzRTiTl/view) for detailed specifications).\n",
    "- 10 points for creating code that conforms to [PEP 8](https://www.python.org/dev/peps/pep-0008/) guidelines.  You should review those guidelines before proceding with the assignment.\n"
   ]
  },
  {
   "cell_type": "markdown",
   "metadata": {
    "colab_type": "text",
    "id": "Pr9WBUQyZY4V",
    "tags": []
   },
   "source": [
    "## Download the data from: \n",
    "https://www.kaggle.com/kukuroo3/body-performance-data\n"
   ]
  },
  {
   "cell_type": "code",
   "execution_count": 1,
   "metadata": {},
   "outputs": [],
   "source": [
    "MY_UNIQNAME = 'kaiyanc' # please fill in your uniqname"
   ]
  },
  {
   "cell_type": "markdown",
   "metadata": {
    "colab_type": "text",
    "id": "8EV1PilWtl0Z"
   },
   "source": [
    "## Answer the following questions.\n",
    "Points for each question are shown below.\n",
    "\n",
    "For each question, you should\n",
    "1. Write code using Python and pandas that can help you answer the following questions, and\n",
    "2. Explain your answers in plain English. You should use complete sentences that would be understood by an educated professional who is not necessarily a data scientist (like a product manager).  When we ask for an explanation of your answer, we are interested in your interpretation of the analyses that you produce.  With the exception of Question 1a, we are not interested in a description of the steps you took to arrive at your answer."
   ]
  },
  {
   "cell_type": "markdown",
   "metadata": {
    "colab_type": "text",
    "id": "PfjXDtHoabcS",
    "tags": []
   },
   "source": [
    "### <span style=\"color:magenta\"> Q1: 5 pt(total):</span>\n",
    "#### Q1a (2pt): Write out the steps you need to follow in order to describe the dataset, in terms of size, number of rows, and number of columns.\n",
    "\n"
   ]
  },
  {
   "cell_type": "markdown",
   "metadata": {},
   "source": [
    "When facing with a new dataset, I will check the dataset with the following steps:\n",
    "1. use function \"head\" to check the basic style of the dataset.\n",
    "1. use function \"info\" and attribute \"columns\" to see the basic content of the dataset.\n",
    "1. use function \"len(df)\", \"len(df.columns)\" and attribute \"shape\" to see the size of the dataset.\\\n",
    "From the result of the following code, I know this dataset is about the overall body performance of the people involved, with the data like age, height, weight, sit-ups counts and jump high. This dataset include 12 attribute and 13392 rows of involvers."
   ]
  },
  {
   "cell_type": "markdown",
   "metadata": {},
   "source": [
    "#### Q1b (3pt): Write and execute the code that will do the steps you identified in Part (a) of this question."
   ]
  },
  {
   "cell_type": "code",
   "execution_count": 7,
   "metadata": {},
   "outputs": [
    {
     "name": "stdout",
     "output_type": "stream",
     "text": [
      "<class 'pandas.core.frame.DataFrame'>\n",
      "RangeIndex: 13393 entries, 0 to 13392\n",
      "Data columns (total 12 columns):\n",
      " #   Column                   Non-Null Count  Dtype  \n",
      "---  ------                   --------------  -----  \n",
      " 0   age                      13393 non-null  float64\n",
      " 1   gender                   13393 non-null  object \n",
      " 2   height_cm                13393 non-null  float64\n",
      " 3   weight_kg                13393 non-null  float64\n",
      " 4   body fat_%               13393 non-null  float64\n",
      " 5   diastolic                13393 non-null  float64\n",
      " 6   systolic                 13393 non-null  float64\n",
      " 7   gripForce                13393 non-null  float64\n",
      " 8   sit and bend forward_cm  13393 non-null  float64\n",
      " 9   sit-ups counts           13393 non-null  float64\n",
      " 10  broad jump_cm            13393 non-null  float64\n",
      " 11  class                    13393 non-null  object \n",
      "dtypes: float64(10), object(2)\n",
      "memory usage: 1.2+ MB\n",
      "Index(['age', 'gender', 'height_cm', 'weight_kg', 'body fat_%', 'diastolic',\n",
      "       'systolic', 'gripForce', 'sit and bend forward_cm', 'sit-ups counts',\n",
      "       'broad jump_cm', 'class'],\n",
      "      dtype='object')\n",
      "13393\n",
      "12\n",
      "(13393, 12)\n"
     ]
    }
   ],
   "source": [
    "# put your code here\n",
    "import numpy as np\n",
    "import pandas as pd\n",
    "df=pd.read_csv('./bodyPerformance.csv')\n",
    "df.head()\n",
    "df.info()\n",
    "print(df.columns)\n",
    "print(len(df))\n",
    "print(len(df.columns))\n",
    "print(df.shape)"
   ]
  },
  {
   "cell_type": "markdown",
   "metadata": {},
   "source": [
    "(Use this space to explain your answers)"
   ]
  },
  {
   "cell_type": "markdown",
   "metadata": {},
   "source": [
    "### <span style=\"color:magenta\">Q2: 5 pt:</span>\n",
    "Without using pd.DataFrame.describe(), report the median age, height, and weight for people in the data. Round your answer to the nearest whole number.  Be sure to indicate units for each variable in your write-up."
   ]
  },
  {
   "cell_type": "code",
   "execution_count": 8,
   "metadata": {},
   "outputs": [
    {
     "name": "stdout",
     "output_type": "stream",
     "text": [
      "32\n",
      "169\n",
      "67\n"
     ]
    }
   ],
   "source": [
    "# put your code here\n",
    "print(round(df.age.median()))\n",
    "print(round(df.height_cm.median()))\n",
    "print(round(df.weight_kg.median()))"
   ]
  },
  {
   "cell_type": "markdown",
   "metadata": {},
   "source": [
    "* Median age: 32 years old.\n",
    "* Median height: 169 cm.\n",
    "* Median weight: 67 kg."
   ]
  },
  {
   "cell_type": "markdown",
   "metadata": {},
   "source": [
    "### <span style=\"color:magenta\">Q3: 5 pt: </span>\n",
    "Look for any anomalous data points.  For example, are there cases where diastolic blood pressure is higher than systolic blood pressure (which is physiologically impossible)?  Do you notice any other anomalies?"
   ]
  },
  {
   "cell_type": "code",
   "execution_count": 9,
   "metadata": {},
   "outputs": [
    {
     "name": "stdout",
     "output_type": "stream",
     "text": [
      "        age gender  height_cm  weight_kg  body fat_%  diastolic  systolic  \\\n",
      "1484   64.0      M      166.0      63.32        23.8       81.0     156.0   \n",
      "11054  64.0      M      169.8      58.60        13.6       87.0     158.0   \n",
      "11061  64.0      F      148.9      47.40        39.8       63.0     131.0   \n",
      "9901   64.0      F      157.8      50.00        24.4       95.0     156.0   \n",
      "9025   64.0      F      154.5      61.80        37.4       67.0     124.0   \n",
      "\n",
      "       gripForce  sit and bend forward_cm  sit-ups counts  broad jump_cm class  \n",
      "1484        34.1                     11.2            33.0          162.0     B  \n",
      "11054       42.8                      8.5            26.0          168.0     B  \n",
      "11061       15.7                     28.1             0.0           72.0     D  \n",
      "9901        18.5                     13.4             3.0           62.0     D  \n",
      "9025        25.8                      4.1            10.0          105.0     D  \n",
      "       age gender  height_cm  weight_kg  body fat_%  diastolic  systolic  \\\n",
      "4876  21.0      F      165.2      59.10        30.2       64.0     101.0   \n",
      "8117  21.0      F      172.9      65.16        25.7       80.0     120.0   \n",
      "2103  21.0      M      172.9      67.90        25.7       93.0     143.0   \n",
      "2109  21.0      M      176.0      62.50        16.4       69.0     114.0   \n",
      "8126  21.0      M      181.0      68.70        10.0       68.0     125.0   \n",
      "\n",
      "      gripForce  sit and bend forward_cm  sit-ups counts  broad jump_cm class  \n",
      "4876       24.7                     18.1            35.0          156.0     B  \n",
      "8117       33.3                     11.9            45.0          189.0     C  \n",
      "2103       33.0                     -2.2            45.0          184.0     D  \n",
      "2109       36.0                     19.9            52.0          262.0     B  \n",
      "8126       37.2                      9.2            57.0          234.0     C  \n",
      "        age gender  height_cm  weight_kg  body fat_%  diastolic  systolic  \\\n",
      "4961   26.0      M      191.8      101.4        24.9       86.0     120.0   \n",
      "13191  30.0      M      191.8       91.0        15.5       79.0     131.0   \n",
      "4681   22.0      M      191.9       92.8        24.8       87.0     136.0   \n",
      "4978   30.0      M      192.0       99.5        26.9       73.0     135.0   \n",
      "5386   30.0      M      193.8       93.4        19.4       77.0     133.0   \n",
      "\n",
      "       gripForce  sit and bend forward_cm  sit-ups counts  broad jump_cm class  \n",
      "4961        65.1                     20.2            59.0          247.0     A  \n",
      "13191       53.7                     16.4            53.0          248.0     B  \n",
      "4681        42.0                    -11.2            41.0          220.0     D  \n",
      "4978        50.5                     -8.2            41.0          138.0     D  \n",
      "5386        52.5                     11.0            54.0          230.0     C  \n",
      "        age gender  height_cm  weight_kg  body fat_%  diastolic  systolic  \\\n",
      "8251   56.0      F      125.0      34.40        39.2       69.0     125.0   \n",
      "6882   56.0      F      139.5      44.80        32.3       81.0     133.0   \n",
      "2235   53.0      F      139.8      64.72        42.9       80.0     139.0   \n",
      "6057   28.0      F      139.9      52.20        44.8       79.0     132.0   \n",
      "11237  64.0      F      140.5      49.60        32.1       71.0     116.0   \n",
      "\n",
      "       gripForce  sit and bend forward_cm  sit-ups counts  broad jump_cm class  \n",
      "8251        12.6                     17.0            27.0          109.0     B  \n",
      "6882        20.8                     21.1             5.0          100.0     D  \n",
      "2235        23.6                      7.8             7.0          125.0     D  \n",
      "6057        14.1                     -5.2             0.0          113.0     D  \n",
      "11237       22.4                     25.3            19.0          152.0     A  \n",
      "        age gender  height_cm  weight_kg  body fat_%  diastolic  systolic  \\\n",
      "4995   23.0      M      175.9     119.80        41.7       98.0     152.0   \n",
      "12566  22.0      M      181.2     123.00        42.7       82.0     123.0   \n",
      "554    35.0      M      191.6     125.70        35.2       85.0     156.0   \n",
      "9444   22.0      M      186.2     135.78        35.2       69.0     141.0   \n",
      "11145  30.0      M      190.6     138.10        30.3       82.0     131.0   \n",
      "\n",
      "       gripForce  sit and bend forward_cm  sit-ups counts  broad jump_cm class  \n",
      "4995        48.4                     17.4            56.0          213.0     D  \n",
      "12566       41.6                      5.0            36.0          177.0     D  \n",
      "554         58.0                      9.2            52.0          228.0     D  \n",
      "9444        49.7                      0.1            26.0          216.0     D  \n",
      "11145       52.3                      4.3            30.0          181.0     D  \n",
      "        age gender  height_cm  weight_kg  body fat_%  diastolic  systolic  \\\n",
      "4370   63.0      F      153.9       26.3        37.0       73.0     120.0   \n",
      "7550   21.0      F      163.7       31.9        31.9       64.0     110.0   \n",
      "7944   45.0      F      153.4       33.7        16.1       81.0     124.0   \n",
      "8251   56.0      F      125.0       34.4        39.2       69.0     125.0   \n",
      "10295  26.0      F      164.8       34.5        34.5       85.0     137.0   \n",
      "\n",
      "       gripForce  sit and bend forward_cm  sit-ups counts  broad jump_cm class  \n",
      "4370        27.2                      7.8             0.0          105.0     D  \n",
      "7550        27.7                     24.8            42.0          149.0     B  \n",
      "7944         6.7                     11.5             8.0            0.0     D  \n",
      "8251        12.6                     17.0            27.0          109.0     B  \n",
      "10295        2.1                     31.0            38.0          175.0     A  \n",
      "        age gender  height_cm  weight_kg  body fat_%  diastolic  systolic  \\\n",
      "8599   60.0      F      160.0       76.9        50.3       82.0     141.0   \n",
      "9178   48.0      F      160.0      109.2        50.6       94.0     141.0   \n",
      "1400   30.0      F      162.5      113.3        53.5       82.0     135.0   \n",
      "11529  25.0      M      172.8       95.0        54.9       90.0     131.0   \n",
      "735    21.0      M      177.6       74.5        78.4       69.0     122.0   \n",
      "\n",
      "       gripForce  sit and bend forward_cm  sit-ups counts  broad jump_cm class  \n",
      "8599        20.1                     -8.1             0.0            0.0     D  \n",
      "9178        36.9                      8.2             0.0          159.0     D  \n",
      "1400        24.4                      3.0            12.0          100.0     D  \n",
      "11529       37.5                      5.6            28.0          203.0     D  \n",
      "735         44.9                     26.1            59.0          235.0     A  \n",
      "        age gender  height_cm  weight_kg  body fat_%  diastolic  systolic  \\\n",
      "939    28.0      M      178.3      76.80         3.0       73.0     145.0   \n",
      "460    24.0      M      170.6      69.90         3.0       75.0     123.0   \n",
      "7302   24.0      M      181.6      75.82         3.5       65.0     126.0   \n",
      "1637   58.0      F      146.2      51.70         3.5       48.0     152.0   \n",
      "12434  60.0      M      161.6      47.30         3.5       82.0     130.0   \n",
      "\n",
      "       gripForce  sit and bend forward_cm  sit-ups counts  broad jump_cm class  \n",
      "939        53.66                     29.5            68.0          259.0     A  \n",
      "460        52.40                     23.9            60.0          280.0     A  \n",
      "7302       45.10                      8.3            38.0          254.0     D  \n",
      "1637       25.10                     15.4            13.0          110.0     D  \n",
      "12434      32.00                     13.3            22.0          156.0     C  \n",
      "        age gender  height_cm  weight_kg  body fat_%  diastolic  systolic  \\\n",
      "10813  55.0      M      162.3      65.50        30.7      118.0     186.0   \n",
      "685    37.0      M      172.6      78.26        30.7      120.0     158.0   \n",
      "12693  60.0      M      171.6      71.80        17.8      121.0     160.0   \n",
      "8532   60.0      M      169.4      77.54        25.4      126.0     201.0   \n",
      "7495   30.0      F      156.2      52.80        28.2      156.2     104.0   \n",
      "\n",
      "       gripForce  sit and bend forward_cm  sit-ups counts  broad jump_cm class  \n",
      "10813       40.6                     11.9            23.0          162.0     C  \n",
      "685         40.1                      6.6            28.0          199.0     D  \n",
      "12693       42.9                     17.1            32.0          203.0     A  \n",
      "8532        48.7                     14.5            38.0          194.0     A  \n",
      "7495        21.7                     27.2            43.0          162.0     C  \n",
      "        age gender  height_cm  weight_kg  body fat_%  diastolic  systolic  \\\n",
      "10624  26.0      F      160.0      63.56        32.0        0.0       0.0   \n",
      "3524   44.0      M      177.0      78.28        22.1        6.0     145.0   \n",
      "336    35.0      M      173.1      77.60        22.8        8.0     122.0   \n",
      "6786   22.0      F      164.1      60.80        32.4       30.0     122.0   \n",
      "344    22.0      F      158.5      49.30        27.0       37.0      77.0   \n",
      "\n",
      "       gripForce  sit and bend forward_cm  sit-ups counts  broad jump_cm class  \n",
      "10624       23.7                     17.1            23.0          128.0     D  \n",
      "3524        47.4                     10.5            42.0          215.0     B  \n",
      "336         46.4                     16.7            47.0          216.0     B  \n",
      "6786        29.7                     -4.6            31.0          159.0     D  \n",
      "344         27.1                     21.0            59.0          178.0     B  \n",
      "        age gender  height_cm  weight_kg  body fat_%  diastolic  systolic  \\\n",
      "8369   58.0      M      161.8      54.76        18.2      107.0     191.0   \n",
      "13244  57.0      M      178.1      84.50        22.6      102.0     193.0   \n",
      "296    63.0      M      160.5      68.20        28.7       84.0     193.0   \n",
      "1220   63.0      M      166.9      56.30        24.6      101.0     195.0   \n",
      "8532   60.0      M      169.4      77.54        25.4      126.0     201.0   \n",
      "\n",
      "       gripForce  sit and bend forward_cm  sit-ups counts  broad jump_cm class  \n",
      "8369        30.1                     17.8            33.0          163.0     B  \n",
      "13244       47.8                     20.4            40.0          221.0     B  \n",
      "296         37.1                     14.3            31.0          174.0     A  \n",
      "1220        35.5                     15.8            23.0          161.0     C  \n",
      "8532        48.7                     14.5            38.0          194.0     A  \n",
      "        age gender  height_cm  weight_kg  body fat_%  diastolic  systolic  \\\n",
      "10624  26.0      F      160.0      63.56        32.0        0.0       0.0   \n",
      "7597   30.0      M      166.6      66.08        14.4       67.0      14.0   \n",
      "8217   31.0      M      176.7      80.32        20.8       46.2      43.9   \n",
      "344    22.0      F      158.5      49.30        27.0       37.0      77.0   \n",
      "7341   50.0      F      161.5      52.00        17.9       42.0      82.0   \n",
      "\n",
      "       gripForce  sit and bend forward_cm  sit-ups counts  broad jump_cm class  \n",
      "10624       23.7                     17.1            23.0          128.0     D  \n",
      "7597        53.8                     17.2            57.0          221.0     A  \n",
      "8217        43.9                     17.2            57.0          221.0     B  \n",
      "344         27.1                     21.0            59.0          178.0     B  \n",
      "7341        24.5                     30.2            25.0          163.0     A  \n",
      "        age gender  height_cm  weight_kg  body fat_%  diastolic  systolic  \\\n",
      "4913   35.0      M      184.5      109.9        27.6       67.0     121.0   \n",
      "11528  24.0      M      176.7       77.2         9.3       73.0     130.0   \n",
      "5959   29.0      M      180.0       75.4        11.6       83.0     142.0   \n",
      "5113   31.0      M      187.0       92.5        19.8       79.0     138.0   \n",
      "1736   29.0      M      176.4       95.4        21.1       85.0     142.0   \n",
      "\n",
      "       gripForce  sit and bend forward_cm  sit-ups counts  broad jump_cm class  \n",
      "4913        68.4                     12.8            47.0          200.0     D  \n",
      "11528       69.0                     17.0            60.0          288.0     A  \n",
      "5959        69.9                     14.6            60.0          259.0     B  \n",
      "5113        70.4                     -6.0            61.0          245.0     D  \n",
      "1736        70.5                     19.4            56.0          220.0     A  \n",
      "        age gender  height_cm  weight_kg  body fat_%  diastolic  systolic  \\\n",
      "9486   45.0      M      172.4       56.7         9.3       72.0     127.0   \n",
      "8562   22.0      F      160.4       52.3        34.2       79.0     111.0   \n",
      "9768   27.0      M      172.4       83.0        20.2       99.0     153.0   \n",
      "1852   24.0      F      159.3       72.4        42.1       88.0     131.0   \n",
      "10295  26.0      F      164.8       34.5        34.5       85.0     137.0   \n",
      "\n",
      "       gripForce  sit and bend forward_cm  sit-ups counts  broad jump_cm class  \n",
      "9486         0.0                      9.4            43.0          213.0     B  \n",
      "8562         0.0                     15.2            45.0          165.0     D  \n",
      "9768         0.0                     17.2            56.0          261.0     C  \n",
      "1852         1.6                     16.4            39.0          139.0     D  \n",
      "10295        2.1                     31.0            38.0          175.0     A  \n",
      "       age gender  height_cm  weight_kg  body fat_%  diastolic  systolic  \\\n",
      "4438  59.0      M      175.4       68.1        21.3       74.0     122.0   \n",
      "8905  52.0      M      166.3       74.3        26.0       79.0     131.0   \n",
      "4203  46.0      M      164.4       63.6        23.4       70.0     115.0   \n",
      "3355  45.0      M      164.4       64.4        24.3       96.0     142.0   \n",
      "2657  33.0      M      165.6       60.4        17.8       81.0     127.0   \n",
      "\n",
      "      gripForce  sit and bend forward_cm  sit-ups counts  broad jump_cm class  \n",
      "4438       36.2                     40.0            40.0          174.0     B  \n",
      "8905       47.1                     40.0            40.0          194.0     B  \n",
      "4203       36.0                     42.0            42.0          210.0     A  \n",
      "3355       38.5                    185.0            44.0          223.0     A  \n",
      "2657       38.6                    213.0            53.0          244.0     B  \n",
      "        age gender  height_cm  weight_kg  body fat_%  diastolic  systolic  \\\n",
      "737    26.0      M      172.0       76.7        29.2       88.0     141.0   \n",
      "9056   21.0      F      158.1       53.5        34.6       82.0     131.0   \n",
      "9656   56.0      M      162.0       72.0        28.6       77.0     133.0   \n",
      "6186   63.0      M      167.5       71.9        29.6       92.0     137.0   \n",
      "11008  60.0      M      167.9       72.2        28.6       91.0     153.0   \n",
      "\n",
      "       gripForce  sit and bend forward_cm  sit-ups counts  broad jump_cm class  \n",
      "737         39.1                    -25.0            22.0          197.0     D  \n",
      "9056        20.4                    -22.0             4.0          118.0     D  \n",
      "9656        48.3                    -20.0            30.0          183.0     D  \n",
      "6186        36.1                    -20.0            20.0          132.0     D  \n",
      "11008       31.6                    -20.0             5.0          134.0     D  \n",
      "        age gender  height_cm  weight_kg  body fat_%  diastolic  systolic  \\\n",
      "10848  29.0      M      179.3       82.6        13.8       67.0     127.0   \n",
      "2267   32.0      M      173.0       74.7        12.0       84.0     122.0   \n",
      "9287   34.0      M      169.9       74.7        15.1       83.0     138.0   \n",
      "1314   29.0      M      175.0       83.8        17.2       77.0     122.0   \n",
      "9377   25.0      M      171.0       69.2        18.1       77.0     132.0   \n",
      "\n",
      "       gripForce  sit and bend forward_cm  sit-ups counts  broad jump_cm class  \n",
      "10848       51.7                     16.6            76.0          283.0     A  \n",
      "2267        53.8                     23.0            76.0          274.0     A  \n",
      "9287        50.1                     19.0            78.0          250.0     B  \n",
      "1314        57.6                     14.7            78.0          254.0     D  \n",
      "9377        45.7                     28.3            80.0          267.0     A  \n",
      "        age gender  height_cm  weight_kg  body fat_%  diastolic  systolic  \\\n",
      "10395  60.0      F      155.6       58.8        33.0       98.0     157.0   \n",
      "6377   47.0      F      161.0       60.7        31.2       61.0     105.0   \n",
      "6380   37.0      M      170.3       78.6        30.2      102.0     143.0   \n",
      "10235  56.0      F      156.3       54.2        29.2       90.0     142.0   \n",
      "10133  60.0      F      151.3       51.0        31.5       87.0     148.0   \n",
      "\n",
      "       gripForce  sit and bend forward_cm  sit-ups counts  broad jump_cm class  \n",
      "10395       25.1                     20.1             0.0          108.0     D  \n",
      "6377        18.7                      4.1             0.0          106.0     D  \n",
      "6380        38.8                     -7.5             0.0          152.0     D  \n",
      "10235       20.7                     15.3             0.0          136.0     D  \n",
      "10133       23.1                     17.2             0.0          105.0     D  \n",
      "        age gender  height_cm  weight_kg  body fat_%  diastolic  systolic  \\\n",
      "8023   22.0      M      178.9      88.60        12.5       84.0     143.0   \n",
      "13024  21.0      M      168.7      61.20        14.1       80.0     142.0   \n",
      "3718   24.0      M      170.1      72.68        21.2       78.0     130.0   \n",
      "5520   26.0      M      180.2      70.96        15.4       86.0     140.0   \n",
      "4496   21.0      M      182.2      78.10        10.7       78.0     136.0   \n",
      "\n",
      "       gripForce  sit and bend forward_cm  sit-ups counts  broad jump_cm class  \n",
      "8023        63.7                     18.4            61.0          294.0     A  \n",
      "13024       48.7                     30.8            48.0          295.0     B  \n",
      "3718        39.9                     35.2            43.0          295.0     C  \n",
      "5520        49.1                     16.0            58.0          299.0     A  \n",
      "4496        52.0                      9.0            67.0          303.0     C  \n",
      "       age gender  height_cm  weight_kg  body fat_%  diastolic  systolic  \\\n",
      "8599  60.0      F      160.0       76.9        50.3       82.0     141.0   \n",
      "484   22.0      F      167.4       66.2        34.0       62.0     110.0   \n",
      "7721  56.0      F      156.0       51.1        28.4       73.0     113.0   \n",
      "712   58.0      M      168.7       76.1        27.5       84.0     139.0   \n",
      "7944  45.0      F      153.4       33.7        16.1       81.0     124.0   \n",
      "\n",
      "      gripForce  sit and bend forward_cm  sit-ups counts  broad jump_cm class  \n",
      "8599       20.1                     -8.1             0.0            0.0     D  \n",
      "484        28.5                     11.2            38.0            0.0     C  \n",
      "7721       20.7                     23.0            23.0            0.0     C  \n",
      "712        34.5                      2.0             0.0            0.0     D  \n",
      "7944        6.7                     11.5             8.0            0.0     D  \n"
     ]
    },
    {
     "data": {
      "text/html": [
       "<div>\n",
       "<style scoped>\n",
       "    .dataframe tbody tr th:only-of-type {\n",
       "        vertical-align: middle;\n",
       "    }\n",
       "\n",
       "    .dataframe tbody tr th {\n",
       "        vertical-align: top;\n",
       "    }\n",
       "\n",
       "    .dataframe thead th {\n",
       "        text-align: right;\n",
       "    }\n",
       "</style>\n",
       "<table border=\"1\" class=\"dataframe\">\n",
       "  <thead>\n",
       "    <tr style=\"text-align: right;\">\n",
       "      <th></th>\n",
       "      <th>age</th>\n",
       "      <th>gender</th>\n",
       "      <th>height_cm</th>\n",
       "      <th>weight_kg</th>\n",
       "      <th>body fat_%</th>\n",
       "      <th>diastolic</th>\n",
       "      <th>systolic</th>\n",
       "      <th>gripForce</th>\n",
       "      <th>sit and bend forward_cm</th>\n",
       "      <th>sit-ups counts</th>\n",
       "      <th>broad jump_cm</th>\n",
       "      <th>class</th>\n",
       "    </tr>\n",
       "  </thead>\n",
       "  <tbody>\n",
       "    <tr>\n",
       "      <th>7495</th>\n",
       "      <td>30.0</td>\n",
       "      <td>F</td>\n",
       "      <td>156.2</td>\n",
       "      <td>52.80</td>\n",
       "      <td>28.2</td>\n",
       "      <td>156.2</td>\n",
       "      <td>104.0</td>\n",
       "      <td>21.7</td>\n",
       "      <td>27.2</td>\n",
       "      <td>43.0</td>\n",
       "      <td>162.0</td>\n",
       "      <td>C</td>\n",
       "    </tr>\n",
       "    <tr>\n",
       "      <th>7597</th>\n",
       "      <td>30.0</td>\n",
       "      <td>M</td>\n",
       "      <td>166.6</td>\n",
       "      <td>66.08</td>\n",
       "      <td>14.4</td>\n",
       "      <td>67.0</td>\n",
       "      <td>14.0</td>\n",
       "      <td>53.8</td>\n",
       "      <td>17.2</td>\n",
       "      <td>57.0</td>\n",
       "      <td>221.0</td>\n",
       "      <td>A</td>\n",
       "    </tr>\n",
       "    <tr>\n",
       "      <th>8217</th>\n",
       "      <td>31.0</td>\n",
       "      <td>M</td>\n",
       "      <td>176.7</td>\n",
       "      <td>80.32</td>\n",
       "      <td>20.8</td>\n",
       "      <td>46.2</td>\n",
       "      <td>43.9</td>\n",
       "      <td>43.9</td>\n",
       "      <td>17.2</td>\n",
       "      <td>57.0</td>\n",
       "      <td>221.0</td>\n",
       "      <td>B</td>\n",
       "    </tr>\n",
       "    <tr>\n",
       "      <th>12949</th>\n",
       "      <td>24.0</td>\n",
       "      <td>M</td>\n",
       "      <td>171.0</td>\n",
       "      <td>78.70</td>\n",
       "      <td>20.0</td>\n",
       "      <td>99.0</td>\n",
       "      <td>95.0</td>\n",
       "      <td>46.5</td>\n",
       "      <td>12.8</td>\n",
       "      <td>50.0</td>\n",
       "      <td>197.0</td>\n",
       "      <td>D</td>\n",
       "    </tr>\n",
       "  </tbody>\n",
       "</table>\n",
       "</div>"
      ],
      "text/plain": [
       "        age gender  height_cm  weight_kg  body fat_%  diastolic  systolic  \\\n",
       "7495   30.0      F      156.2      52.80        28.2      156.2     104.0   \n",
       "7597   30.0      M      166.6      66.08        14.4       67.0      14.0   \n",
       "8217   31.0      M      176.7      80.32        20.8       46.2      43.9   \n",
       "12949  24.0      M      171.0      78.70        20.0       99.0      95.0   \n",
       "\n",
       "       gripForce  sit and bend forward_cm  sit-ups counts  broad jump_cm class  \n",
       "7495        21.7                     27.2            43.0          162.0     C  \n",
       "7597        53.8                     17.2            57.0          221.0     A  \n",
       "8217        43.9                     17.2            57.0          221.0     B  \n",
       "12949       46.5                     12.8            50.0          197.0     D  "
      ]
     },
     "execution_count": 9,
     "metadata": {},
     "output_type": "execute_result"
    }
   ],
   "source": [
    "# put your code here\n",
    "column_name = ['age', 'height_cm', 'weight_kg', 'body fat_%', 'diastolic', 'systolic', 'gripForce', 'sit and bend forward_cm', 'sit-ups counts', 'broad jump_cm']\n",
    "for col in column_name:\n",
    "    print(df.sort_values(col).tail())\n",
    "    print(df.sort_values(col).head())\n",
    "df[df.diastolic > df.systolic]"
   ]
  },
  {
   "cell_type": "markdown",
   "metadata": {},
   "source": [
    "From the above code, I find several places may be abnormal:\n",
    "* One of the patient is 125.0cm, which is not a normal case unless he has some disease.\n",
    "* One patient is only 26.3 kg with 153.9 cm and another one is only 31.9 kg with 163.7 cm.\n",
    "* One patient has the body fat of 78.4%, that is nearly impossible in terms of his height and weight which are 177.6 cm and 74.5 kg.\n",
    "* One patient has extremly high diastolic of 156.2, and one with extremely low, which is 0.\n",
    "* We also have four patients have higher diastolic than systolic."
   ]
  },
  {
   "cell_type": "markdown",
   "metadata": {},
   "source": [
    "### <span style=\"color:magenta\">Q4: 10 pt:</span>\n",
    "Generate histogram plots for the age, weight, and height for gender F participants. Describe the plots and point out any interesting aspects."
   ]
  },
  {
   "cell_type": "code",
   "execution_count": 10,
   "metadata": {},
   "outputs": [
    {
     "data": {
      "text/plain": [
       "<AxesSubplot:ylabel='Frequency'>"
      ]
     },
     "execution_count": 10,
     "metadata": {},
     "output_type": "execute_result"
    },
    {
     "data": {
      "image/png": "[encoded data removed]",
      "text/plain": [
       "<Figure size 432x288 with 1 Axes>"
      ]
     },
     "metadata": {
      "needs_background": "light"
     },
     "output_type": "display_data"
    }
   ],
   "source": [
    "# put your code here\n",
    "df[df.gender == 'F'].age.plot.hist()\n",
    "df[df.gender == 'F'].weight_kg.plot.hist()\n",
    "df[df.gender == 'F'].height_cm.hist()"
   ]
  },
  {
   "cell_type": "markdown",
   "metadata": {},
   "source": [
    "* As for the plot of the age, there are over 2000 patients in the age between 20 and 30. Especially for level of 20 to 24, there are over 1400 patients. For other age level, the number is pretty even, with an average around 300.\n",
    "* For the plot of the weight, it is almost like a normal distribution with the mean value around 55 kg, which means most of the patients have the weight around 55 to 60 kg. Other patient are mostly between 40 and 70 kg, and only a small part are out of this range.\n",
    "* The plot of the height are very like the plot of weight, which is almost a normal distribution with mean value around 160 cm. Most of the patients are in the range of 150 to 170."
   ]
  },
  {
   "cell_type": "markdown",
   "metadata": {
    "colab_type": "text",
    "id": "0u5VM5ksbCTm"
   },
   "source": [
    "### <span style=\"color:magenta\">Q5: 10 pt:</span>\n",
    "Blood pressure is reported as two numbers: diastolic (the lower number) and systolic (the higher number).  So, for example, if a person has a diastolic measurement of 80 and a systolic measurement of 120, the person's blood pressure would be reported as 120/80.\n",
    "\n",
    "Blood pressure measurements fall into several categories:\n",
    "\n",
    "Normal blood pressure. Your blood pressure is normal if it's below 120/80 mm Hg.\n",
    "\n",
    "Elevated blood pressure. Elevated blood pressure is a systolic pressure ranging from 120 to 129 mm Hg and a diastolic pressure below (not above) 80 mm Hg. Elevated blood pressure tends to get worse over time unless steps are taken to control blood pressure. Elevated blood pressure may also be called prehypertension.\n",
    "\n",
    "Stage 1 hypertension. Stage 1 hypertension is a systolic pressure ranging from 130 to 139 mm Hg or a diastolic pressure ranging from 80 to 89 mm Hg.\n",
    "\n",
    "Stage 2 hypertension. More-severe hypertension, stage 2 hypertension is a systolic pressure of 140 mm Hg or higher or a diastolic pressure of 90 mm Hg or higher.\n",
    "\n",
    "Hypertensive crisis. A blood pressure measurement higher than 180/120 mm Hg is an emergency situation that requires urgent medical care. If you get this result when you take your blood pressure at home, wait five minutes and retest. If your blood pressure is still this high, contact your doctor immediately. If you also have chest pain, vision problems, numbness or weakness, breathing difficulty, or any other signs and symptoms of a stroke or heart attack, call 911 or your local emergency medical number.\n",
    "\n",
    "Report the number of people in each of those categories."
   ]
  },
  {
   "cell_type": "code",
   "execution_count": 13,
   "metadata": {},
   "outputs": [
    {
     "name": "stdout",
     "output_type": "stream",
     "text": [
      "2898\n",
      "2090\n",
      "5712\n",
      "4418\n",
      "1\n"
     ]
    }
   ],
   "source": [
    "# put your code here\n",
    "df_normal_pressure = df[(df.diastolic<80)&(df.systolic<120)]\n",
    "print(len(df_normal_pressure))\n",
    "df_elevated_pressure = df[(df.diastolic<80)&(df.systolic>=120)&(df.systolic<130)]\n",
    "print(len(df_elevated_pressure))\n",
    "df_stage_1 = df[((df.diastolic>=80)&(df.diastolic<89))|((df.systolic>=130)&(df.systolic<140))]\n",
    "print(len(df_stage_1))\n",
    "df_stage_2 = df[(df.diastolic>=90)|(df.systolic>=140)]\n",
    "print(len(df_stage_2))\n",
    "df_hyper_crisis = df[(df.diastolic>=120)&(df.systolic>=180)]\n",
    "print(len(df_hyper_crisis))"
   ]
  },
  {
   "cell_type": "markdown",
   "metadata": {
    "colab_type": "text",
    "id": "CCuxztg3uYPQ"
   },
   "source": [
    "From the desvcription of the Hypertensive crisis, I think it is a exception of stage 2, so I include the number of Hypertensive crisis in stage 2.、\n",
    "* 2898 people with normal blood pressure\n",
    "* 2090 people with elevated blood pressure\n",
    "* 5712 people with Stage 1 hypertension\n",
    "* 4418 people with Stage 2 hypertension\n",
    "* 1 people with hypertensive crisis"
   ]
  },
  {
   "cell_type": "markdown",
   "metadata": {
    "colab_type": "text",
    "id": "2wH5ikUcbb16",
    "tags": []
   },
   "source": [
    "### <span style=\"color:magenta\">Q6: 10 pt:</span>\n",
    "Create a new variable \"age_class\" that is \"early\" if age < 40, \"middle\" if age is between 40 and 60 (inclusive) and \"late\" if age > 60.  Report the mean number of sit-ups counts for each of those categories.\n"
   ]
  },
  {
   "cell_type": "code",
   "execution_count": 6,
   "metadata": {
    "colab": {},
    "colab_type": "code",
    "id": "GneWWgFVt62N"
   },
   "outputs": [
    {
     "data": {
      "text/plain": [
       "age_class\n",
       "early     45.305217\n",
       "late      24.060166\n",
       "middle    31.815141\n",
       "Name: sit-ups counts, dtype: float64"
      ]
     },
     "execution_count": 6,
     "metadata": {},
     "output_type": "execute_result"
    }
   ],
   "source": [
    "# put your code here\n",
    "age_class = []\n",
    "for i in range(len(df)):\n",
    "    if df.iloc[i].age < 40:\n",
    "        age_class.append('early')\n",
    "    elif df.iloc[i].age <=60:\n",
    "        age_class.append('middle')\n",
    "    else:\n",
    "        age_class.append('late')\n",
    "df['age_class'] = age_class\n",
    "df.groupby('age_class')['sit-ups counts'].mean()"
   ]
  },
  {
   "cell_type": "markdown",
   "metadata": {
    "colab_type": "text",
    "id": "WlWYu2_5uY7K"
   },
   "source": [
    "* The average sit-ups for the early age is 45.305217\n",
    "* The average sit-ups for the middle age is 31.815141\n",
    "* The average sit-ups for the late age is 24.060166"
   ]
  },
  {
   "cell_type": "markdown",
   "metadata": {},
   "source": [
    "### <span style=\"color:magenta\">Q7: 10 pt: </span>\n",
    "Calculate each person's Body Mass Index (BMI).  With the metric system, the formula for BMI is weight in kilograms divided by height in meters squared. Since height is commonly measured in centimeters, an alternate calculation formula, dividing the weight in kilograms by the height in centimeters squared, and then multiplying the result by 10,000, can be used. (https://www.cdc.gov/nccdphp/dnpao/growthcharts/training/bmiage/page5_1.html)\n",
    "\n",
    "Create two histograms of BMI: one for gender F and one for gender M.  Describe similarites and differences of the two histograms."
   ]
  },
  {
   "cell_type": "code",
   "execution_count": 7,
   "metadata": {},
   "outputs": [
    {
     "data": {
      "text/plain": [
       "<AxesSubplot:ylabel='Frequency'>"
      ]
     },
     "execution_count": 7,
     "metadata": {},
     "output_type": "execute_result"
    },
    {
     "data": {
      "image/png": "[encoded data removed]",
      "text/plain": [
       "<Figure size 432x288 with 1 Axes>"
      ]
     },
     "metadata": {
      "needs_background": "light"
     },
     "output_type": "display_data"
    }
   ],
   "source": [
    "# put your code here\n",
    "df['BMI'] = df.weight_kg/(df.height_cm**2)*1000\n",
    "df[df.gender=='M'].BMI.plot.hist()\n",
    "df[df.gender=='F'].BMI.plot.hist()"
   ]
  },
  {
   "cell_type": "markdown",
   "metadata": {
    "colab_type": "text",
    "id": "CCuxztg3uYPQ"
   },
   "source": [
    "* Similarity: For both male and female, the shape of the plot is like the normal distribution.\n",
    "* Dissimilarity: The mean value of BMI of the male is around 2.3 which is around 0.15 higher than that of the female. Moreover, the overall BMI of male is a little bit higher than the female, and more concentrated in the range around the mean value."
   ]
  },
  {
   "cell_type": "markdown",
   "metadata": {
    "colab_type": "text",
    "id": "7n5ybXFQcR-g"
   },
   "source": [
    "### <span style=\"color:magenta\">Q8: 10 pt: </span>\n",
    "Compare the mean values of height, weight, body fat %, grip force, sit and bend forward, and sit-ups count for gender F vs. gender M.  You should use both quantitative and visual methods in your work.\n"
   ]
  },
  {
   "cell_type": "code",
   "execution_count": 14,
   "metadata": {
    "colab": {},
    "colab_type": "code",
    "id": "FoWTh2ekt8Wp"
   },
   "outputs": [
    {
     "name": "stdout",
     "output_type": "stream",
     "text": [
      "160.485403978887\n",
      "173.25739931498765\n",
      "56.90589930978483\n",
      "73.5801866068265\n",
      "28.48608522736498\n",
      "20.188150862997514\n",
      "25.81799431587492\n",
      "43.44841974725395\n",
      "18.839790905399934\n",
      "13.09707334356917\n",
      "30.88834754364596\n",
      "44.93917562300697\n"
     ]
    },
    {
     "data": {
      "text/plain": [
       "<AxesSubplot:ylabel='Frequency'>"
      ]
     },
     "execution_count": 14,
     "metadata": {},
     "output_type": "execute_result"
    },
    {
     "data": {
      "image/png": "[encoded data removed]",
      "text/plain": [
       "<Figure size 432x288 with 1 Axes>"
      ]
     },
     "metadata": {
      "needs_background": "light"
     },
     "output_type": "display_data"
    }
   ],
   "source": [
    "print(df[df.gender=='F'].height_cm.mean())\n",
    "print(df[df.gender=='M'].height_cm.mean())\n",
    "df[df.gender=='M'].height_cm.plot.hist()\n",
    "df[df.gender=='F'].height_cm.plot.hist()\n",
    "\n",
    "print(df[df.gender=='F'].weight_kg.mean())\n",
    "print(df[df.gender=='M'].weight_kg.mean())\n",
    "df[df.gender=='M'].weight_kg.plot.hist()\n",
    "df[df.gender=='F'].weight_kg.plot.hist()\n",
    "\n",
    "print(df[df.gender=='F']['body fat_%'].mean())\n",
    "print(df[df.gender=='M']['body fat_%'].mean())\n",
    "df[df.gender=='M']['body fat_%'].plot.hist()\n",
    "df[df.gender=='F']['body fat_%'].plot.hist()\n",
    "\n",
    "print(df[df.gender=='F']['gripForce'].mean())\n",
    "print(df[df.gender=='M']['gripForce'].mean())\n",
    "df[df.gender=='M']['gripForce'].plot.hist()\n",
    "df[df.gender=='F']['gripForce'].plot.hist()\n",
    "\n",
    "\n",
    "print(df[df.gender=='F']['sit and bend forward_cm'].mean())\n",
    "print(df[df.gender=='M']['sit and bend forward_cm'].mean())\n",
    "df[df.gender=='M']['sit and bend forward_cm'].plot.hist()\n",
    "df[df.gender=='F']['sit and bend forward_cm'].plot.hist()\n",
    "\n",
    "print(df[df.gender=='F']['sit-ups counts'].mean())\n",
    "print(df[df.gender=='M']['sit-ups counts'].mean())\n",
    "df[df.gender=='M']['sit-ups counts'].plot.hist()\n",
    "df[df.gender=='F']['sit-ups counts'].plot.hist()\n",
    "\n"
   ]
  },
  {
   "cell_type": "markdown",
   "metadata": {
    "colab_type": "text",
    "id": "yN5zlizIuZa8"
   },
   "source": [
    "* Height: From the describe data and the plot, we see that the average height of male is 13 cm higher than the female. The distribution of both male and female are like the normal distribution and have a similar variant.\n",
    "* Weight: Weight goes similarly as the height, weight of male are around 7 kg larger than the female, and both of them are like the normal distribution.\n",
    "* Body fat: Mean value of male's body fat are around 8 per cent lower than that of the female. From the plot, we can also see that most of the data of male's body fat are concentrated around the mean value.\n",
    "* Grip force: The grip force of male are around 18 larger than the female, but the data is less concentrated.\n",
    "* Sit and bend: Both of the male and female data are concentrated here, and the female has an average around 5 cm larger than the male.\n",
    "* Sit-ups: The sit-ups count of male are around 15 larger than the female, and the distribution is much concentrated than the female, which means the female has a large variance."
   ]
  },
  {
   "cell_type": "markdown",
   "metadata": {
    "colab_type": "text",
    "id": "wGoiQk8XbqHw"
   },
   "source": [
    "### <span style=\"color:magenta\">Q9: 15 pt: </span>\n",
    "Take a look at gripForce (a measure of strength), \"sit and bend forward\" (a measure of flexibility), and \"sit-ups count\" (a measures of strength and endurance of the abdominals and hip-flexor muscles).  For each of those measures, calculate their z-scores (i.e. subtract the mean of the variable from each observation, then divide by the standard deviation of that score).  Create an overall fitness score by adding the z-scores for each of those variables together, then use `pd.qcut()` (not `pd.cut()`) to assign them to five categories ranging from lowest score to highest score.  Report the number of individuals in each of the resulting categories."
   ]
  },
  {
   "cell_type": "code",
   "execution_count": 16,
   "metadata": {
    "colab": {},
    "colab_type": "code",
    "id": "FoWTh2ekt8Wp"
   },
   "outputs": [
    {
     "name": "stdout",
     "output_type": "stream",
     "text": [
      "(-8.549999999999999, -1.738]    2679\n",
      "(-0.388, 0.642]                 2679\n",
      "(1.773, 24.469]                 2679\n",
      "(-1.738, -0.388]                2678\n",
      "(0.642, 1.773]                  2678\n",
      "Name: fitness score, dtype: int64\n",
      "(-3.48, -1.032]     2698\n",
      "(-1.032, -0.288]    2692\n",
      "(-0.288, 0.38]      2682\n",
      "(0.907, 3.156]      2662\n",
      "(0.38, 0.907]       2659\n",
      "Name: gripForce_z, dtype: int64\n",
      "(-0.711, -0.0957]    2698\n",
      "(-4.756, -0.711]     2695\n",
      "(-0.0957, 0.33]      2674\n",
      "(0.768, 23.389]      2670\n",
      "(0.33, 0.768]        2656\n",
      "Name: sit and bend forward_cm_z, dtype: int64\n",
      "(-2.787, -0.825]    2874\n",
      "(-0.194, 0.366]     2847\n",
      "(0.857, 2.818]      2636\n",
      "(0.366, 0.857]      2532\n",
      "(-0.825, -0.194]    2504\n",
      "Name: sit-ups counts_z, dtype: int64\n"
     ]
    }
   ],
   "source": [
    "# put your code here\n",
    "df['gripForce_z'] = (df.gripForce-df.gripForce.mean())/df.gripForce.std()\n",
    "df['sit and bend forward_cm_z'] = (df['sit and bend forward_cm']-df['sit and bend forward_cm'].mean())/df['sit and bend forward_cm'].std()\n",
    "df['sit-ups counts_z'] = (df['sit-ups counts']-df['sit-ups counts'].mean())/df['sit-ups counts'].std()\n",
    "df['fitness score'] = df['gripForce_z'] + df['sit and bend forward_cm_z'] + df['sit-ups counts_z']\n",
    "print(pd.qcut(df['fitness score'], 5).value_counts())\n",
    "print(pd.qcut(df['gripForce_z'], 5).value_counts())\n",
    "print(pd.qcut(df['sit and bend forward_cm_z'], 5).value_counts())\n",
    "print(pd.qcut(df['sit-ups counts_z'], 5).value_counts())"
   ]
  },
  {
   "cell_type": "markdown",
   "metadata": {},
   "source": [
    "The number of result for each category are listed above. From the result of grip force and sit bend, we see each categories have similar counts. For the sit-ups, the first two categories have more counts.\n",
    "Also, by checking the overall finesscore, we can find that almost all the distribution with the same number of people, it suggests that the distribution might be uniform distribution."
   ]
  },
  {
   "cell_type": "markdown",
   "metadata": {
    "colab_type": "text",
    "id": "zKkwrNfbJ9zN"
   },
   "source": [
    "## Please submit your completed notebook in .IPYNB and .HTML formats via Canvas"
   ]
  }
 ],
 "metadata": {
  "colab": {
   "collapsed_sections": [],
   "name": "SI 618 FA 2018 Homework 1.ipynb",
   "provenance": [],
   "version": "0.3.2"
  },
  "kernelspec": {
   "display_name": "Python 3 (ipykernel)",
   "language": "python",
   "name": "python3"
  },
  "language_info": {
   "codemirror_mode": {
    "name": "ipython",
    "version": 3
   },
   "file_extension": ".py",
   "mimetype": "text/x-python",
   "name": "python",
   "nbconvert_exporter": "python",
   "pygments_lexer": "ipython3",
   "version": "3.9.7"
  }
 },
 "nbformat": 4,
 "nbformat_minor": 4
}
