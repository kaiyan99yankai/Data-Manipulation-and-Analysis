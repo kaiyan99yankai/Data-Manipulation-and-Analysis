{
 "cells": [
  {
   "cell_type": "markdown",
   "metadata": {
    "colab_type": "text",
    "id": "UGqk3SzXsMR3",
    "tags": []
   },
   "source": [
    "# SI 618 - Homework #3: Data Visualization\n",
    "\n",
    "Version 2022.01.30.1.CT"
   ]
  },
  {
   "cell_type": "markdown",
   "metadata": {
    "colab_type": "text",
    "id": "UiAKCrOR2gYt"
   },
   "source": [
    "## Background"
   ]
  },
  {
   "cell_type": "markdown",
   "metadata": {
    "colab_type": "text",
    "id": "5_xhHLHr2gYu"
   },
   "source": [
    "This homework assignment focuses on the visual analysis of the COVID-19 data avaiable here: https://covid19datahub.io/articles/api/python.html. A description of the dataset can be found at https://covid19datahub.io/articles/doc/data.html\n",
    "\n",
    "Your main task in this assignment is to explore the data *using the data manipulation, analysis, and visualization methods we covered in class* as well as those in the assigned readings.  You may need to consult pandas, matplotlib and seaborn documentation, as well as Stack Overflow, or other online resources.  "
   ]
  },
  {
   "cell_type": "markdown",
   "metadata": {
    "colab_type": "text",
    "id": "d5D_nveM2gYv"
   },
   "source": [
    "## Total Points and Rubric\n",
    "\n",
    "Each question is worth the same number of points.  Points will be allocated according to the following rubric:\n",
    "\n",
    "- 90-100%: Question is correctly and completely answered.  Answer consists of well-written code that conforms to [PEP 8](https://www.python.org/dev/peps/pep-0008/) guidelines and is \n",
    "accompanied by a written interpretation in a Markdown block.  Written interpretation does not contain spelling, grammar or stylistic errors (see https://faculty.washington.edu/heagerty/Courses/b572/public/StrunkWhite.pdf for a detailed specifications).  Minor problems, such as formatting, incorrect submissions, missing names, etc. will result in less than 100%.\n",
    "- 75-85% : Answer is mostly complete and correct; two or fewer noticeable omissions or errors.  Minor stylistic flaws, either in code or in \n",
    "written interpretation.\n",
    "- 50-70%: Answer has significant omissions or errors; Noticeable departure from PEP-8 guildelines and/or moderate spelling, grammar, or style issues\n",
    "in written interpretations.\n",
    "- 25-45%: Question is perfunctorily attempted.  Substantial parts are missing or incorrect.\n",
    "- 0 points: Question not attempted."
   ]
  },
  {
   "cell_type": "markdown",
   "metadata": {
    "colab_type": "text",
    "id": "mZBwJn1J2gYv",
    "tags": []
   },
   "source": [
    "## Getting the data\n",
    "\n",
    "\n",
    "The following cell should install the most up-to-date version of the \n",
    "COVID-19 datahub.  Alternatively, you can consult the datahub documentation to download the data files directly."
   ]
  },
  {
   "cell_type": "code",
   "execution_count": 1,
   "metadata": {
    "colab": {
     "base_uri": "https://localhost:8080/",
     "height": 272
    },
    "colab_type": "code",
    "id": "evStchCv2gYw",
    "outputId": "db9bb133-58be-481a-f12e-5077489bb275"
   },
   "outputs": [
    {
     "name": "stdout",
     "output_type": "stream",
     "text": [
      "Collecting covid19dh\n",
      "  Downloading covid19dh-2.3.0-py3-none-any.whl (9.4 kB)\n",
      "Requirement already satisfied: requests in c:\\users\\kaiya\\anaconda3\\lib\\site-packages (from covid19dh) (2.26.0)\n",
      "Requirement already satisfied: pandas in c:\\users\\kaiya\\anaconda3\\lib\\site-packages (from covid19dh) (1.3.4)\n",
      "Requirement already satisfied: pytz>=2017.3 in c:\\users\\kaiya\\anaconda3\\lib\\site-packages (from pandas->covid19dh) (2021.3)\n",
      "Requirement already satisfied: numpy>=1.17.3 in c:\\users\\kaiya\\anaconda3\\lib\\site-packages (from pandas->covid19dh) (1.20.3)\n",
      "Requirement already satisfied: python-dateutil>=2.7.3 in c:\\users\\kaiya\\anaconda3\\lib\\site-packages (from pandas->covid19dh) (2.8.2)\n",
      "Requirement already satisfied: six>=1.5 in c:\\users\\kaiya\\anaconda3\\lib\\site-packages (from python-dateutil>=2.7.3->pandas->covid19dh) (1.16.0)\n",
      "Requirement already satisfied: certifi>=2017.4.17 in c:\\users\\kaiya\\anaconda3\\lib\\site-packages (from requests->covid19dh) (2021.10.8)\n",
      "Requirement already satisfied: urllib3<1.27,>=1.21.1 in c:\\users\\kaiya\\anaconda3\\lib\\site-packages (from requests->covid19dh) (1.26.7)\n",
      "Requirement already satisfied: idna<4,>=2.5 in c:\\users\\kaiya\\anaconda3\\lib\\site-packages (from requests->covid19dh) (3.2)\n",
      "Requirement already satisfied: charset-normalizer~=2.0.0 in c:\\users\\kaiya\\anaconda3\\lib\\site-packages (from requests->covid19dh) (2.0.4)\n",
      "Installing collected packages: covid19dh\n",
      "Successfully installed covid19dh-2.3.0\n",
      "Note: you may need to restart the kernel to use updated packages.\n"
     ]
    }
   ],
   "source": [
    "pip install --upgrade covid19dh"
   ]
  },
  {
   "cell_type": "markdown",
   "metadata": {
    "colab_type": "text",
    "id": "NYWBjZGA2gY0"
   },
   "source": [
    "### Restart the kernel to import the module and access the data"
   ]
  },
  {
   "cell_type": "code",
   "execution_count": 2,
   "metadata": {
    "colab": {},
    "colab_type": "code",
    "id": "wDXh1Odt2gY1"
   },
   "outputs": [],
   "source": [
    "from covid19dh import covid19"
   ]
  },
  {
   "cell_type": "markdown",
   "metadata": {
    "colab_type": "text",
    "id": "8EV1PilWtl0Z"
   },
   "source": [
    "## Answer the questions below. \n",
    "For each question, you should\n",
    "1. Write code that can help you answer the following questions, and\n",
    "2. Explain your answers in plain English. You should use complete sentences that would be understood by an educated professional who is not necessarily a data scientist (like a product manager)."
   ]
  },
  {
   "cell_type": "code",
   "execution_count": 3,
   "metadata": {
    "colab": {
     "base_uri": "https://localhost:8080/",
     "height": 70
    },
    "colab_type": "code",
    "id": "vjY0Nbka2gY4",
    "outputId": "d208de70-5f05-4b13-8ed2-cce106469c84"
   },
   "outputs": [],
   "source": [
    "# Load all the modules\n",
    "import pandas as pd\n",
    "import numpy as np\n",
    "import matplotlib.pyplot as plt\n",
    "import seaborn as sns"
   ]
  },
  {
   "cell_type": "markdown",
   "metadata": {
    "colab_type": "text",
    "id": "PfjXDtHoabcS"
   },
   "source": [
    "### <font color='#8B0000'> Q1 How many different countries are represented in the country-level data set?</font>\n",
    "- Refer to the documentation to call the covid19() function with appropriate parameters (https://covid19datahub.io/articles/api/python.html)"
   ]
  },
  {
   "cell_type": "code",
   "execution_count": 25,
   "metadata": {
    "colab": {},
    "colab_type": "code",
    "id": "ttHwVC8ot5Ur"
   },
   "outputs": [
    {
     "name": "stdout",
     "output_type": "stream",
     "text": [
      "We have invested a lot of time and effort in creating COVID-19 Data Hub, please cite the following when using it:\n",
      "\n",
      "\t\u001b[1mGuidotti, E., Ardia, D., (2020), \"COVID-19 Data Hub\", Journal of Open Source Software 5(51):2376, doi: 10.21105/joss.02376.\u001b[0m\n",
      "\n",
      "A BibTeX entry for LaTeX users is\n",
      "\n",
      "\t@Article{,\n",
      "\t\ttitle = {COVID-19 Data Hub},\n",
      "\t\tyear = {2020},\n",
      "\t\tdoi = {10.21105/joss.02376},\n",
      "\t\tauthor = {Emanuele Guidotti and David Ardia},\n",
      "\t\tjournal = {Journal of Open Source Software},\n",
      "\t\tvolume = {5},\n",
      "\t\tnumber = {51},\n",
      "\t\tpages = {2376},\n",
      "\t}\n",
      "\n",
      "\u001b[33mTo hide this message use 'verbose = False'.\u001b[0m\n"
     ]
    }
   ],
   "source": [
    "# insert your code here\n",
    "covid, src = covid19()"
   ]
  },
  {
   "cell_type": "code",
   "execution_count": 122,
   "metadata": {},
   "outputs": [
    {
     "data": {
      "text/plain": [
       "236"
      ]
     },
     "execution_count": 122,
     "metadata": {},
     "output_type": "execute_result"
    }
   ],
   "source": [
    "covid.columns\n",
    "len(covid['administrative_area_level_1'].unique())"
   ]
  },
  {
   "cell_type": "markdown",
   "metadata": {},
   "source": [
    "This is the only thing I can find that might relate to countries. It shows there are altogether 236 administrative areas. I do not think these areas listed are all countries. For example Hongkong and Taiwan is listed in, but since I find that the document treat this like a country, I will do it so."
   ]
  },
  {
   "cell_type": "markdown",
   "metadata": {
    "colab_type": "text",
    "id": "tbmL9-kta0o4"
   },
   "source": [
    "### <font color='#8B0000'> Q2 Create a line chart that shows the total number of cases over time.</font>"
   ]
  },
  {
   "cell_type": "code",
   "execution_count": 66,
   "metadata": {},
   "outputs": [
    {
     "data": {
      "text/plain": [
       "date\n",
       "2020-01-01            0.0\n",
       "2020-01-02            1.0\n",
       "2020-01-03            0.0\n",
       "2020-01-04            1.0\n",
       "2020-01-05            1.0\n",
       "                 ...     \n",
       "2022-02-03    340971200.0\n",
       "2022-02-04    340351609.0\n",
       "2022-02-05    328677545.0\n",
       "2022-02-06    307074227.0\n",
       "2022-02-07      8767450.0\n",
       "Name: confirmed, Length: 769, dtype: float64"
      ]
     },
     "execution_count": 66,
     "metadata": {},
     "output_type": "execute_result"
    }
   ],
   "source": [
    "covid.groupby('date').confirmed.sum()"
   ]
  },
  {
   "cell_type": "code",
   "execution_count": 71,
   "metadata": {
    "colab": {},
    "colab_type": "code",
    "id": "33LcHThyt5_N"
   },
   "outputs": [
    {
     "data": {
      "image/png": "[encoded data removed]",
      "text/plain": [
       "<Figure size 432x288 with 1 Axes>"
      ]
     },
     "metadata": {
      "needs_background": "light"
     },
     "output_type": "display_data"
    }
   ],
   "source": [
    "# put your code here\n",
    "plt.plot(covid.groupby('date').confirmed.sum())\n",
    "plt.xticks(fontsize = 8)\n",
    "plt.show()"
   ]
  },
  {
   "cell_type": "markdown",
   "metadata": {},
   "source": [
    "I grounp the data with date and use sum function to check the total number of the confirmed cases.\\\n",
    "I did the homework on 2/7 at around 11 am, and it seems that the cases of that day have not been recorded completely. That's the reason that there is a large dive of the data."
   ]
  },
  {
   "cell_type": "markdown",
   "metadata": {
    "colab_type": "text",
    "id": "0u5VM5ksbCTm"
   },
   "source": [
    "### <font color='#8B0000'>Q3 Use the country-level data set to create a histogram to:</font>\n",
    "- Show the distribution of values for the number of hospitalizations per 1000 people.  \n",
    "- Draw a red vertical line that shows the median value on the histogram."
   ]
  },
  {
   "cell_type": "markdown",
   "metadata": {},
   "source": [
    "I would use the data of yesterday, and divide the hist with the administrative area."
   ]
  },
  {
   "cell_type": "code",
   "execution_count": 114,
   "metadata": {},
   "outputs": [
    {
     "name": "stdout",
     "output_type": "stream",
     "text": [
      "We have invested a lot of time and effort in creating COVID-19 Data Hub, please cite the following when using it:\n",
      "\n",
      "\t\u001b[1mGuidotti, E., Ardia, D., (2020), \"COVID-19 Data Hub\", Journal of Open Source Software 5(51):2376, doi: 10.21105/joss.02376.\u001b[0m\n",
      "\n",
      "A BibTeX entry for LaTeX users is\n",
      "\n",
      "\t@Article{,\n",
      "\t\ttitle = {COVID-19 Data Hub},\n",
      "\t\tyear = {2020},\n",
      "\t\tdoi = {10.21105/joss.02376},\n",
      "\t\tauthor = {Emanuele Guidotti and David Ardia},\n",
      "\t\tjournal = {Journal of Open Source Software},\n",
      "\t\tvolume = {5},\n",
      "\t\tnumber = {51},\n",
      "\t\tpages = {2376},\n",
      "\t}\n",
      "\n",
      "\u001b[33mTo hide this message use 'verbose = False'.\u001b[0m\n"
     ]
    }
   ],
   "source": [
    "from datetime import date\n",
    "covid_yes, src = covid19(start = date(2022,2,6), end = date(2022,2,6))"
   ]
  },
  {
   "cell_type": "code",
   "execution_count": 119,
   "metadata": {},
   "outputs": [
    {
     "data": {
      "image/png": "[encoded data removed]",
      "text/plain": [
       "<Figure size 432x288 with 1 Axes>"
      ]
     },
     "metadata": {
      "needs_background": "light"
     },
     "output_type": "display_data"
    }
   ],
   "source": [
    "covid_yes['hosp_1000'] = covid_yes['hosp']*1000/covid_yes['population']\n",
    "covid_yes_notna = covid_yes[~covid_yes['hosp_1000'].isna()]\n",
    "plt.hist(covid_yes_notna['hosp_1000'], bins=25)\n",
    "plt.axvline(x = covid_yes_notna['hosp_1000'].median(), color='red')\n",
    "plt.show()"
   ]
  },
  {
   "cell_type": "markdown",
   "metadata": {
    "colab_type": "text",
    "id": "CCuxztg3uYPQ"
   },
   "source": [
    "I use the data of yesterday, which is 2022-02-05. Then I divide the dateset according to the administrative area, and calculate the hospitalization per 1000 people as hosp\\*1000/population."
   ]
  },
  {
   "cell_type": "markdown",
   "metadata": {
    "colab_type": "text",
    "id": "2wH5ikUcbb16"
   },
   "source": [
    "### <font color='#8B0000'> Q4 Create a visualization that shows the  number of tests per day in the United States and indicate the median value on your visualization.</font>"
   ]
  },
  {
   "cell_type": "code",
   "execution_count": 139,
   "metadata": {
    "colab": {},
    "colab_type": "code",
    "id": "EFwU7diL2gZI"
   },
   "outputs": [
    {
     "name": "stdout",
     "output_type": "stream",
     "text": [
      "We have invested a lot of time and effort in creating COVID-19 Data Hub, please cite the following when using it:\n",
      "\n",
      "\t\u001b[1mGuidotti, E., Ardia, D., (2020), \"COVID-19 Data Hub\", Journal of Open Source Software 5(51):2376, doi: 10.21105/joss.02376.\u001b[0m\n",
      "\n",
      "A BibTeX entry for LaTeX users is\n",
      "\n",
      "\t@Article{,\n",
      "\t\ttitle = {COVID-19 Data Hub},\n",
      "\t\tyear = {2020},\n",
      "\t\tdoi = {10.21105/joss.02376},\n",
      "\t\tauthor = {Emanuele Guidotti and David Ardia},\n",
      "\t\tjournal = {Journal of Open Source Software},\n",
      "\t\tvolume = {5},\n",
      "\t\tnumber = {51},\n",
      "\t\tpages = {2376},\n",
      "\t}\n",
      "\n",
      "\u001b[33mTo hide this message use 'verbose = False'.\u001b[0m\n"
     ]
    },
    {
     "data": {
      "image/png": "[encoded data removed]",
      "text/plain": [
       "<Figure size 432x288 with 1 Axes>"
      ]
     },
     "metadata": {
      "needs_background": "light"
     },
     "output_type": "display_data"
    }
   ],
   "source": [
    "# put your code here\n",
    "covid_usa, src = covid19('USA')\n",
    "plt.plot(covid_usa['date'],covid_usa['tests'])\n",
    "plt.xticks(fontsize=8)\n",
    "plt.axhline(y=covid_usa['tests'].median(),color='red')\n",
    "plt.text(date(2021,5,1), covid_usa['tests'].median()-100000000, 'median = '+str(covid_usa['tests'].median()), color='red')\n",
    "plt.show()"
   ]
  },
  {
   "cell_type": "markdown",
   "metadata": {
    "colab_type": "text",
    "id": "WlWYu2_5uY7K"
   },
   "source": [
    "I plot the linear line of the test case in usa, and draw the horizontal line of the median with the text of number of the median of the test cases."
   ]
  },
  {
   "cell_type": "markdown",
   "metadata": {
    "colab_type": "text",
    "id": "CVnHVSV12gZL"
   },
   "source": [
    "## For questions below:\n",
    "- You will have to call the covid19() function again **with parameters specific to Canada**. \n",
    "- Set the parameter <code>level = 2</code> in the call to covid19()."
   ]
  },
  {
   "cell_type": "code",
   "execution_count": 140,
   "metadata": {},
   "outputs": [
    {
     "name": "stdout",
     "output_type": "stream",
     "text": [
      "We have invested a lot of time and effort in creating COVID-19 Data Hub, please cite the following when using it:\n",
      "\n",
      "\t\u001b[1mGuidotti, E., Ardia, D., (2020), \"COVID-19 Data Hub\", Journal of Open Source Software 5(51):2376, doi: 10.21105/joss.02376.\u001b[0m\n",
      "\n",
      "A BibTeX entry for LaTeX users is\n",
      "\n",
      "\t@Article{,\n",
      "\t\ttitle = {COVID-19 Data Hub},\n",
      "\t\tyear = {2020},\n",
      "\t\tdoi = {10.21105/joss.02376},\n",
      "\t\tauthor = {Emanuele Guidotti and David Ardia},\n",
      "\t\tjournal = {Journal of Open Source Software},\n",
      "\t\tvolume = {5},\n",
      "\t\tnumber = {51},\n",
      "\t\tpages = {2376},\n",
      "\t}\n",
      "\n",
      "\u001b[33mTo hide this message use 'verbose = False'.\u001b[0m\n"
     ]
    }
   ],
   "source": [
    "canada,src = covid19(\"CAN\",level = 2)"
   ]
  },
  {
   "cell_type": "code",
   "execution_count": 141,
   "metadata": {},
   "outputs": [
    {
     "data": {
      "text/html": [
       "<div>\n",
       "<style scoped>\n",
       "    .dataframe tbody tr th:only-of-type {\n",
       "        vertical-align: middle;\n",
       "    }\n",
       "\n",
       "    .dataframe tbody tr th {\n",
       "        vertical-align: top;\n",
       "    }\n",
       "\n",
       "    .dataframe thead th {\n",
       "        text-align: right;\n",
       "    }\n",
       "</style>\n",
       "<table border=\"1\" class=\"dataframe\">\n",
       "  <thead>\n",
       "    <tr style=\"text-align: right;\">\n",
       "      <th></th>\n",
       "      <th>id</th>\n",
       "      <th>date</th>\n",
       "      <th>confirmed</th>\n",
       "      <th>deaths</th>\n",
       "      <th>recovered</th>\n",
       "      <th>tests</th>\n",
       "      <th>vaccines</th>\n",
       "      <th>people_vaccinated</th>\n",
       "      <th>people_fully_vaccinated</th>\n",
       "      <th>hosp</th>\n",
       "      <th>...</th>\n",
       "      <th>iso_alpha_3</th>\n",
       "      <th>iso_alpha_2</th>\n",
       "      <th>iso_numeric</th>\n",
       "      <th>iso_currency</th>\n",
       "      <th>key_local</th>\n",
       "      <th>key_google_mobility</th>\n",
       "      <th>key_apple_mobility</th>\n",
       "      <th>key_jhu_csse</th>\n",
       "      <th>key_nuts</th>\n",
       "      <th>key_gadm</th>\n",
       "    </tr>\n",
       "  </thead>\n",
       "  <tbody>\n",
       "    <tr>\n",
       "      <th>495241</th>\n",
       "      <td>eef40c88</td>\n",
       "      <td>2022-02-02</td>\n",
       "      <td>6221.0</td>\n",
       "      <td>15.0</td>\n",
       "      <td>5261.0</td>\n",
       "      <td>39732.0</td>\n",
       "      <td>96926.0</td>\n",
       "      <td>NaN</td>\n",
       "      <td>NaN</td>\n",
       "      <td>NaN</td>\n",
       "      <td>...</td>\n",
       "      <td>CAN</td>\n",
       "      <td>CA</td>\n",
       "      <td>124.0</td>\n",
       "      <td>CAD</td>\n",
       "      <td>61</td>\n",
       "      <td>ChIJDcHTs_Q4EVERjVnGRNguMhk</td>\n",
       "      <td>Northwest Territories</td>\n",
       "      <td>CANT</td>\n",
       "      <td>NaN</td>\n",
       "      <td>CAN.6_1</td>\n",
       "    </tr>\n",
       "    <tr>\n",
       "      <th>495242</th>\n",
       "      <td>eef40c88</td>\n",
       "      <td>2022-02-03</td>\n",
       "      <td>6363.0</td>\n",
       "      <td>17.0</td>\n",
       "      <td>5379.0</td>\n",
       "      <td>39782.0</td>\n",
       "      <td>96926.0</td>\n",
       "      <td>NaN</td>\n",
       "      <td>NaN</td>\n",
       "      <td>NaN</td>\n",
       "      <td>...</td>\n",
       "      <td>CAN</td>\n",
       "      <td>CA</td>\n",
       "      <td>124.0</td>\n",
       "      <td>CAD</td>\n",
       "      <td>61</td>\n",
       "      <td>ChIJDcHTs_Q4EVERjVnGRNguMhk</td>\n",
       "      <td>Northwest Territories</td>\n",
       "      <td>CANT</td>\n",
       "      <td>NaN</td>\n",
       "      <td>CAN.6_1</td>\n",
       "    </tr>\n",
       "    <tr>\n",
       "      <th>495243</th>\n",
       "      <td>eef40c88</td>\n",
       "      <td>2022-02-04</td>\n",
       "      <td>6550.0</td>\n",
       "      <td>17.0</td>\n",
       "      <td>5581.0</td>\n",
       "      <td>39811.0</td>\n",
       "      <td>96926.0</td>\n",
       "      <td>NaN</td>\n",
       "      <td>NaN</td>\n",
       "      <td>NaN</td>\n",
       "      <td>...</td>\n",
       "      <td>CAN</td>\n",
       "      <td>CA</td>\n",
       "      <td>124.0</td>\n",
       "      <td>CAD</td>\n",
       "      <td>61</td>\n",
       "      <td>ChIJDcHTs_Q4EVERjVnGRNguMhk</td>\n",
       "      <td>Northwest Territories</td>\n",
       "      <td>CANT</td>\n",
       "      <td>NaN</td>\n",
       "      <td>CAN.6_1</td>\n",
       "    </tr>\n",
       "    <tr>\n",
       "      <th>495244</th>\n",
       "      <td>eef40c88</td>\n",
       "      <td>2022-02-05</td>\n",
       "      <td>6550.0</td>\n",
       "      <td>17.0</td>\n",
       "      <td>5581.0</td>\n",
       "      <td>39852.0</td>\n",
       "      <td>96926.0</td>\n",
       "      <td>NaN</td>\n",
       "      <td>NaN</td>\n",
       "      <td>NaN</td>\n",
       "      <td>...</td>\n",
       "      <td>CAN</td>\n",
       "      <td>CA</td>\n",
       "      <td>124.0</td>\n",
       "      <td>CAD</td>\n",
       "      <td>61</td>\n",
       "      <td>ChIJDcHTs_Q4EVERjVnGRNguMhk</td>\n",
       "      <td>Northwest Territories</td>\n",
       "      <td>CANT</td>\n",
       "      <td>NaN</td>\n",
       "      <td>CAN.6_1</td>\n",
       "    </tr>\n",
       "    <tr>\n",
       "      <th>495245</th>\n",
       "      <td>eef40c88</td>\n",
       "      <td>2022-02-06</td>\n",
       "      <td>6550.0</td>\n",
       "      <td>17.0</td>\n",
       "      <td>5581.0</td>\n",
       "      <td>39852.0</td>\n",
       "      <td>96926.0</td>\n",
       "      <td>NaN</td>\n",
       "      <td>NaN</td>\n",
       "      <td>NaN</td>\n",
       "      <td>...</td>\n",
       "      <td>CAN</td>\n",
       "      <td>CA</td>\n",
       "      <td>124.0</td>\n",
       "      <td>CAD</td>\n",
       "      <td>61</td>\n",
       "      <td>ChIJDcHTs_Q4EVERjVnGRNguMhk</td>\n",
       "      <td>Northwest Territories</td>\n",
       "      <td>CANT</td>\n",
       "      <td>NaN</td>\n",
       "      <td>CAN.6_1</td>\n",
       "    </tr>\n",
       "  </tbody>\n",
       "</table>\n",
       "<p>5 rows × 47 columns</p>\n",
       "</div>"
      ],
      "text/plain": [
       "              id       date  confirmed  deaths  recovered    tests  vaccines  \\\n",
       "495241  eef40c88 2022-02-02     6221.0    15.0     5261.0  39732.0   96926.0   \n",
       "495242  eef40c88 2022-02-03     6363.0    17.0     5379.0  39782.0   96926.0   \n",
       "495243  eef40c88 2022-02-04     6550.0    17.0     5581.0  39811.0   96926.0   \n",
       "495244  eef40c88 2022-02-05     6550.0    17.0     5581.0  39852.0   96926.0   \n",
       "495245  eef40c88 2022-02-06     6550.0    17.0     5581.0  39852.0   96926.0   \n",
       "\n",
       "        people_vaccinated  people_fully_vaccinated  hosp  ...  iso_alpha_3  \\\n",
       "495241                NaN                      NaN   NaN  ...          CAN   \n",
       "495242                NaN                      NaN   NaN  ...          CAN   \n",
       "495243                NaN                      NaN   NaN  ...          CAN   \n",
       "495244                NaN                      NaN   NaN  ...          CAN   \n",
       "495245                NaN                      NaN   NaN  ...          CAN   \n",
       "\n",
       "        iso_alpha_2  iso_numeric  iso_currency  key_local  \\\n",
       "495241           CA        124.0           CAD         61   \n",
       "495242           CA        124.0           CAD         61   \n",
       "495243           CA        124.0           CAD         61   \n",
       "495244           CA        124.0           CAD         61   \n",
       "495245           CA        124.0           CAD         61   \n",
       "\n",
       "                key_google_mobility     key_apple_mobility  key_jhu_csse  \\\n",
       "495241  ChIJDcHTs_Q4EVERjVnGRNguMhk  Northwest Territories          CANT   \n",
       "495242  ChIJDcHTs_Q4EVERjVnGRNguMhk  Northwest Territories          CANT   \n",
       "495243  ChIJDcHTs_Q4EVERjVnGRNguMhk  Northwest Territories          CANT   \n",
       "495244  ChIJDcHTs_Q4EVERjVnGRNguMhk  Northwest Territories          CANT   \n",
       "495245  ChIJDcHTs_Q4EVERjVnGRNguMhk  Northwest Territories          CANT   \n",
       "\n",
       "        key_nuts  key_gadm  \n",
       "495241       NaN   CAN.6_1  \n",
       "495242       NaN   CAN.6_1  \n",
       "495243       NaN   CAN.6_1  \n",
       "495244       NaN   CAN.6_1  \n",
       "495245       NaN   CAN.6_1  \n",
       "\n",
       "[5 rows x 47 columns]"
      ]
     },
     "execution_count": 141,
     "metadata": {},
     "output_type": "execute_result"
    }
   ],
   "source": [
    "canada.tail()"
   ]
  },
  {
   "cell_type": "markdown",
   "metadata": {
    "colab_type": "text",
    "id": "ggXQN25h2gZM"
   },
   "source": [
    "### <font color='#8B0000'> Q5 Create a bar plot to show the number of tests conducted in each province.  </font>\n",
    "Order the provinces from west to east (use your best judgement for cases where the order is unclear).  Which Canadian province that has conducted the most tests?"
   ]
  },
  {
   "cell_type": "code",
   "execution_count": 172,
   "metadata": {
    "colab": {},
    "colab_type": "code",
    "id": "AtRQgtZL2gZM"
   },
   "outputs": [
    {
     "data": {
      "image/png": "[encoded data removed]",
      "text/plain": [
       "<Figure size 432x288 with 1 Axes>"
      ]
     },
     "metadata": {
      "needs_background": "light"
     },
     "output_type": "display_data"
    }
   ],
   "source": [
    "pro_test = canada.groupby('administrative_area_level_2').sum().tests\n",
    "pro_test = pro_test.reindex(['British Columbia', 'Yukon', 'Alberta', 'Northwest Territories', 'Saskatchewan', 'Manitoba', 'Nunavut', 'Ontario', 'Quebec', 'New Brunswick', 'Prince Edward Island', 'Nova Scotia', 'Newfoundland and Labrador'])\n",
    "pro_test.plot(kind='bar', title='Number of test in each provinces of Canada')\n",
    "plt.show()"
   ]
  },
  {
   "cell_type": "markdown",
   "metadata": {
    "colab_type": "text",
    "id": "YEfyfQtu2gZQ"
   },
   "source": [
    "From the plot, we can find that Ontario is the province with the most test cases."
   ]
  },
  {
   "cell_type": "markdown",
   "metadata": {
    "colab_type": "text",
    "id": "Skkue0wv2gZQ"
   },
   "source": [
    "### <font color='#8B0000'> Q6 Create a bar plot that shows the number of tests conducted per 1000 people for each province in Canada.</font>\n",
    "How would you interpret the results of this bar plot given the results of bar plot in question 5. "
   ]
  },
  {
   "cell_type": "code",
   "execution_count": 186,
   "metadata": {
    "colab": {},
    "colab_type": "code",
    "id": "J3sgn95f2gZQ"
   },
   "outputs": [
    {
     "data": {
      "image/png": "[encoded data removed]",
      "text/plain": [
       "<Figure size 432x288 with 1 Axes>"
      ]
     },
     "metadata": {
      "needs_background": "light"
     },
     "output_type": "display_data"
    }
   ],
   "source": [
    "# put your code here\n",
    "pro_test = canada.groupby('administrative_area_level_2').sum().tests\n",
    "pro_pop = canada.groupby('administrative_area_level_2').mean().population\n",
    "pro_test_1000 = pro_test*1000/pro_pop\n",
    "pro_test_1000 = pro_test_1000.reindex(['British Columbia', 'Yukon', 'Alberta', 'Northwest Territories', 'Saskatchewan', 'Manitoba', 'Nunavut', 'Ontario', 'Quebec', 'New Brunswick', 'Prince Edward Island', 'Nova Scotia', 'Newfoundland and Labrador'])\n",
    "pro_test_1000.plot(kind='bar', title='Number of test in each provinces of Canada per 1000 people')\n",
    "plt.show()"
   ]
  },
  {
   "cell_type": "markdown",
   "metadata": {
    "colab_type": "text",
    "id": "OeTYYDMO2gZT"
   },
   "source": [
    "This plot shows a different result with the above one. The provinces with few overall tests tend to have similar number of tests per 1000 people compared with the provinces with large overall tests. Ontario seems to have large population since it tests per 1000 people is not as large as its overall tests. Some provinces in Canada seems to have a little population, but the tests per 1000 people is also large."
   ]
  },
  {
   "cell_type": "markdown",
   "metadata": {
    "colab_type": "text",
    "id": "kF2a-RsJ2gZU"
   },
   "source": [
    "### <font color='#8B0000'> Q7 Create a visualization that shows which Canadian province has the highest recovery rate. </font>\n",
    "Recovery rate is calculated as the number of recovered cases divided by the number of confirmed cases."
   ]
  },
  {
   "cell_type": "code",
   "execution_count": 194,
   "metadata": {
    "colab": {},
    "colab_type": "code",
    "id": "JpzjGH8S5gIy"
   },
   "outputs": [
    {
     "data": {
      "image/png": "[encoded data removed]",
      "text/plain": [
       "<Figure size 432x288 with 1 Axes>"
      ]
     },
     "metadata": {
      "needs_background": "light"
     },
     "output_type": "display_data"
    }
   ],
   "source": [
    "pro_con = canada.groupby('administrative_area_level_2').sum().confirmed\n",
    "pro_rec = canada.groupby('administrative_area_level_2').sum().recovered\n",
    "pro_rec_rate = pro_rec/pro_con\n",
    "pro_rec_rate_sort = pro_rec_rate.sort_values(ascending=False)\n",
    "pro_rec_rate_sort.plot(kind='bar', title='Recovery rate of each provinces')\n",
    "plt.show()"
   ]
  },
  {
   "cell_type": "markdown",
   "metadata": {
    "colab_type": "text",
    "id": "Au4YdEij2gZU"
   },
   "source": [
    "From the plot, we can find that Ontario has the highest recovery rate."
   ]
  },
  {
   "cell_type": "markdown",
   "metadata": {
    "colab_type": "text",
    "id": "1ypeZjWN2gZV"
   },
   "source": [
    "### <font color='#8B0000'> Q8 Create visualizations that show the impacts of _at least_ three policy measures on mortality or infection rates.</font>\n",
    "\n",
    "\n",
    "See https://covid19datahub.io/articles/doc/data.html for descriptions of the available policy measures.  You are not limited to histograms and bar charts.  Remember that you can use subplots!\n"
   ]
  },
  {
   "cell_type": "code",
   "execution_count": 267,
   "metadata": {
    "colab": {},
    "colab_type": "code",
    "id": "-7-V1pJ52gZW"
   },
   "outputs": [
    {
     "data": {
      "image/png": "[encoded data removed]",
      "text/plain": [
       "<Figure size 432x288 with 8 Axes>"
      ]
     },
     "metadata": {
      "needs_background": "light"
     },
     "output_type": "display_data"
    },
    {
     "data": {
      "text/plain": [
       "275192   -4.0\n",
       "275193   -4.0\n",
       "275194   -4.0\n",
       "275195   -4.0\n",
       "275196   -4.0\n",
       "         ... \n",
       "275447   -4.0\n",
       "275448   -4.0\n",
       "275449   -4.0\n",
       "275450   -4.0\n",
       "275451   -4.0\n",
       "Name: gatherings_restrictions, Length: 153, dtype: float64"
      ]
     },
     "execution_count": 267,
     "metadata": {},
     "output_type": "execute_result"
    }
   ],
   "source": [
    "ont = canada[canada['administrative_area_level_2']=='Ontario']\n",
    "alb = canada[canada['administrative_area_level_2']=='Alberta']\n",
    "f, axes = plt.subplots(4, 2,  sharex='col')\n",
    "axes[0,0].plot(ont.date, ont.confirmed)\n",
    "axes[1,0].plot(ont.date, ont.gatherings_restrictions)\n",
    "axes[2,0].plot(ont.date, ont.facial_coverings)\n",
    "axes[3,0].plot(ont.date, ont.vaccination_policy)\n",
    "plt.sca(axes[3,0])\n",
    "plt.xticks(fontsize=5)\n",
    "axes[0,1].plot(alb.date, alb.confirmed)\n",
    "axes[1,1].plot(alb.date, alb.gatherings_restrictions)\n",
    "axes[2,1].plot(alb.date, alb.facial_coverings)\n",
    "axes[3,1].plot(alb.date, alb.vaccination_policy)\n",
    "plt.sca(axes[3,1])\n",
    "plt.xticks(fontsize=5)\n",
    "plt.show()\n",
    "ont[ont.gatherings_restrictions<0].gatherings_restrictions"
   ]
  },
  {
   "cell_type": "markdown",
   "metadata": {
    "colab_type": "text",
    "id": "83mPoFFx2gZY"
   },
   "source": [
    "The three policy I would like to check the impact is the gathering restriction, facial coviering policy, and vaccination policy.\\\n",
    "Since the policy of each province may differ, I choose two provinces I think is the most represtative, which are Ontario and Alberta.\\\n",
    "I draw the subplots of two of them with the altogher confirmed case, rate of each of the policy.\\\n",
    "I find that some of the rate of the policy is negative. After I check the document, I find that it is impossible, so I think that might be the problem of the dataset. I would abs the data and draw the plot again."
   ]
  },
  {
   "cell_type": "code",
   "execution_count": 273,
   "metadata": {},
   "outputs": [
    {
     "data": {
      "image/png": "[encoded data removed]",
      "text/plain": [
       "<Figure size 432x288 with 8 Axes>"
      ]
     },
     "metadata": {
      "needs_background": "light"
     },
     "output_type": "display_data"
    },
    {
     "data": {
      "text/plain": [
       "Series([], Name: gatherings_restrictions, dtype: float64)"
      ]
     },
     "execution_count": 273,
     "metadata": {},
     "output_type": "execute_result"
    }
   ],
   "source": [
    "canada.gatherings_restrictions = canada.gatherings_restrictions.abs()\n",
    "canada.facial_coverings = canada.facial_coverings.abs()\n",
    "canada.vaccination_policy = canada.vaccination_policy.abs()\n",
    "ont = canada[canada['administrative_area_level_2']=='Ontario']\n",
    "alb = canada[canada['administrative_area_level_2']=='Alberta']\n",
    "f, axes = plt.subplots(4, 2,  sharex='col')\n",
    "axes[0,0].plot(ont.date, ont.confirmed)\n",
    "axes[1,0].plot(ont.date, ont.gatherings_restrictions)\n",
    "axes[2,0].plot(ont.date, ont.facial_coverings)\n",
    "axes[3,0].plot(ont.date, ont.vaccination_policy)\n",
    "plt.sca(axes[3,0])\n",
    "plt.xticks(fontsize=4)\n",
    "axes[0,1].plot(alb.date, alb.confirmed)\n",
    "axes[1,1].plot(alb.date, alb.gatherings_restrictions)\n",
    "axes[2,1].plot(alb.date, alb.facial_coverings)\n",
    "axes[3,1].plot(alb.date, alb.vaccination_policy)\n",
    "plt.sca(axes[3,1])\n",
    "plt.xticks(fontsize=4)\n",
    "plt.show()\n",
    "ont[ont.gatherings_restrictions<0].gatherings_restrictions"
   ]
  },
  {
   "cell_type": "markdown",
   "metadata": {},
   "source": [
    "* For Ontario, the gathering restriction policy and facing covering policy are always on a high level from the April of 2020, and it seems not have an great impact on the confirmed cases. For the vaccination policy, we can see a obvious impact on the comfirmed cases. When the vaccination rate arrives 5, we can see the slope of the comfirmed cases greatly decrease at the same time, which means that it has great impact on the infection rate. The later increasement should because of Omicorn, which is an unexpected case.\n",
    "* For Alberta, we can see the impact of the gatering restriction and facial covering policy. There are great decreasement of the rate of the gathering restriction and facial covering policy on Jan of 2021. At the same time, we see the slop of the comfirmed case has an increasement, which is before the arrive of Omicorn. For the vaccination policy, we can see a similar great impact on the comfirmed case as Ontario."
   ]
  },
  {
   "cell_type": "code",
   "execution_count": 317,
   "metadata": {},
   "outputs": [
    {
     "name": "stderr",
     "output_type": "stream",
     "text": [
      "C:\\Users\\kaiya\\AppData\\Local\\Temp/ipykernel_34492/3995699936.py:5: SettingWithCopyWarning: \n",
      "A value is trying to be set on a copy of a slice from a DataFrame.\n",
      "Try using .loc[row_indexer,col_indexer] = value instead\n",
      "\n",
      "See the caveats in the documentation: https://pandas.pydata.org/pandas-docs/stable/user_guide/indexing.html#returning-a-view-versus-a-copy\n",
      "  pro_con_yes['rates'] = pro_con_yes['confirmed']/pro_con_yes['population']\n"
     ]
    },
    {
     "data": {
      "text/plain": [
       "<BarContainer object of 13 artists>"
      ]
     },
     "execution_count": 317,
     "metadata": {},
     "output_type": "execute_result"
    },
    {
     "data": {
      "image/png": "[encoded data removed]",
      "text/plain": [
       "<Figure size 432x288 with 4 Axes>"
      ]
     },
     "metadata": {
      "needs_background": "light"
     },
     "output_type": "display_data"
    }
   ],
   "source": [
    "from datetime import datetime\n",
    "f, axes = plt.subplots(4,  sharex='col')\n",
    "canada.date\n",
    "pro_con_yes = canada[canada.date == datetime(2022, 2, 6)]\n",
    "pro_con_yes['rates'] = pro_con_yes['confirmed']/pro_con_yes['population']\n",
    "rate = pro_con_yes.groupby('administrative_area_level_2').mean().rates\n",
    "axes[0].bar(pro_con_yes.groupby('administrative_area_level_2').mean().index, rate)\n",
    "plt.xticks(rotation=90)\n",
    "pro_gat = canada.groupby('administrative_area_level_2').mean().gatherings_restrictions\n",
    "axes[1].bar(pro_con_yes.groupby('administrative_area_level_2').mean().index, pro_gat)\n",
    "pro_fac = canada.groupby('administrative_area_level_2').mean().facial_coverings\n",
    "axes[2].bar(pro_con_yes.groupby('administrative_area_level_2').mean().index, pro_fac)\n",
    "pro_vac = canada.groupby('administrative_area_level_2').mean().vaccination_policy\n",
    "axes[3].bar(pro_con_yes.groupby('administrative_area_level_2').mean().index, pro_vac)"
   ]
  },
  {
   "cell_type": "markdown",
   "metadata": {},
   "source": [
    "I check the infected rate of each provinces and the corresponding mean value of the three policy.\\\n",
    "We can see that provinces with a comparatively low infected rate generally have a high rate of all of the three policy, except Notherwest. I think this is also related to the population, so I think some other effect can make the data biased."
   ]
  },
  {
   "cell_type": "markdown",
   "metadata": {
    "colab_type": "text",
    "id": "ezPjmQTU2gZY"
   },
   "source": [
    "## <font color='green'> Please submit your completed notebook in .IPYNB and .HTML formats via Canvas </font>"
   ]
  }
 ],
 "metadata": {
  "colab": {
   "collapsed_sections": [],
   "name": "370_Homework_2.ipynb",
   "provenance": []
  },
  "kernelspec": {
   "display_name": "Python 3 (ipykernel)",
   "language": "python",
   "name": "python3"
  },
  "language_info": {
   "codemirror_mode": {
    "name": "ipython",
    "version": 3
   },
   "file_extension": ".py",
   "mimetype": "text/x-python",
   "name": "python",
   "nbconvert_exporter": "python",
   "pygments_lexer": "ipython3",
   "version": "3.9.7"
  }
 },
 "nbformat": 4,
 "nbformat_minor": 4
}
