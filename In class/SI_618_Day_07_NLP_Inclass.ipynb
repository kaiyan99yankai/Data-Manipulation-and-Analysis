{
 "cells": [
  {
   "cell_type": "markdown",
   "metadata": {
    "slideshow": {
     "slide_type": "slide"
    },
    "tags": []
   },
   "source": [
    "# SI 618: Data Manipulation and Analysis\n",
    "## 07 Beyond regex: Natural Language Processing \n",
    "### Dr. Chris Teplovs, School of Information, University of Michigan\n",
    "<small><a rel=\"license\" href=\"http://creativecommons.org/licenses/by-nc-sa/4.0/\"><img alt=\"Creative Commons License\" style=\"border-width:0\" src=\"https://i.creativecommons.org/l/by-nc-sa/4.0/88x31.png\" /></a> This work is licensed under a <a rel=\"license\" href=\"http://creativecommons.org/licenses/by-nc-sa/4.0/\">Creative Commons Attribution-NonCommercial-ShareAlike 4.0 International License</a>.</small>\n",
    "    \n",
    "### Please ensure you have this version:\n",
    "Version 2022.02.21.1.CT\n"
   ]
  },
  {
   "cell_type": "code",
   "execution_count": 1,
   "metadata": {
    "slideshow": {
     "slide_type": "slide"
    }
   },
   "outputs": [],
   "source": [
    "import pandas as pd\n",
    "import numpy as np\n",
    "import re\n",
    "import seaborn as sns\n",
    "import matplotlib.pyplot as plt"
   ]
  },
  {
   "cell_type": "markdown",
   "metadata": {
    "slideshow": {
     "slide_type": "slide"
    }
   },
   "source": [
    "# spaCy"
   ]
  },
  {
   "cell_type": "markdown",
   "metadata": {
    "slideshow": {
     "slide_type": "subslide"
    }
   },
   "source": [
    "- Fast, and extensible NLP package for Python\n",
    "- <https://spacy.io/>\n",
    "- NOTE: You will need to install this, and then (one time only as well) download the English corpus."
   ]
  },
  {
   "cell_type": "code",
   "execution_count": 2,
   "metadata": {
    "slideshow": {
     "slide_type": "subslide"
    }
   },
   "outputs": [],
   "source": [
    "# Uncomment *one* of the following lines and run this cell OR use Anaconda Navigator to install the package\n",
    "#!pip install spacy\n",
    "#pip install spacy\n",
    "#!conda install -y spacy"
   ]
  },
  {
   "cell_type": "code",
   "execution_count": 3,
   "metadata": {
    "slideshow": {
     "slide_type": "subslide"
    }
   },
   "outputs": [],
   "source": [
    "import spacy"
   ]
  },
  {
   "cell_type": "code",
   "execution_count": 4,
   "metadata": {
    "slideshow": {
     "slide_type": "subslide"
    }
   },
   "outputs": [
    {
     "name": "stdout",
     "output_type": "stream",
     "text": [
      "Collecting en-core-web-sm==3.2.0\n",
      "  Downloading https://github.com/explosion/spacy-models/releases/download/en_core_web_sm-3.2.0/en_core_web_sm-3.2.0-py3-none-any.whl (13.9 MB)\n",
      "Requirement already satisfied: spacy<3.3.0,>=3.2.0 in c:\\users\\kaiya\\anaconda3\\lib\\site-packages (from en-core-web-sm==3.2.0) (3.2.2)\n",
      "Requirement already satisfied: catalogue<2.1.0,>=2.0.6 in c:\\users\\kaiya\\anaconda3\\lib\\site-packages (from spacy<3.3.0,>=3.2.0->en-core-web-sm==3.2.0) (2.0.6)\n",
      "Requirement already satisfied: srsly<3.0.0,>=2.4.1 in c:\\users\\kaiya\\anaconda3\\lib\\site-packages (from spacy<3.3.0,>=3.2.0->en-core-web-sm==3.2.0) (2.4.2)\n",
      "Requirement already satisfied: requests<3.0.0,>=2.13.0 in c:\\users\\kaiya\\anaconda3\\lib\\site-packages (from spacy<3.3.0,>=3.2.0->en-core-web-sm==3.2.0) (2.26.0)\n",
      "Requirement already satisfied: pathy>=0.3.5 in c:\\users\\kaiya\\anaconda3\\lib\\site-packages (from spacy<3.3.0,>=3.2.0->en-core-web-sm==3.2.0) (0.6.1)\n",
      "Requirement already satisfied: wasabi<1.1.0,>=0.8.1 in c:\\users\\kaiya\\anaconda3\\lib\\site-packages (from spacy<3.3.0,>=3.2.0->en-core-web-sm==3.2.0) (0.9.0)\n",
      "Requirement already satisfied: tqdm<5.0.0,>=4.38.0 in c:\\users\\kaiya\\anaconda3\\lib\\site-packages (from spacy<3.3.0,>=3.2.0->en-core-web-sm==3.2.0) (4.62.3)\n",
      "Requirement already satisfied: spacy-legacy<3.1.0,>=3.0.8 in c:\\users\\kaiya\\anaconda3\\lib\\site-packages (from spacy<3.3.0,>=3.2.0->en-core-web-sm==3.2.0) (3.0.8)\n",
      "Requirement already satisfied: langcodes<4.0.0,>=3.2.0 in c:\\users\\kaiya\\anaconda3\\lib\\site-packages (from spacy<3.3.0,>=3.2.0->en-core-web-sm==3.2.0) (3.3.0)\n",
      "Requirement already satisfied: blis<0.8.0,>=0.4.0 in c:\\users\\kaiya\\anaconda3\\lib\\site-packages (from spacy<3.3.0,>=3.2.0->en-core-web-sm==3.2.0) (0.7.6)\n",
      "Requirement already satisfied: packaging>=20.0 in c:\\users\\kaiya\\anaconda3\\lib\\site-packages (from spacy<3.3.0,>=3.2.0->en-core-web-sm==3.2.0) (21.0)\n",
      "Requirement already satisfied: setuptools in c:\\users\\kaiya\\anaconda3\\lib\\site-packages (from spacy<3.3.0,>=3.2.0->en-core-web-sm==3.2.0) (58.0.4)\n",
      "Requirement already satisfied: numpy>=1.15.0 in c:\\users\\kaiya\\anaconda3\\lib\\site-packages (from spacy<3.3.0,>=3.2.0->en-core-web-sm==3.2.0) (1.20.3)\n",
      "Requirement already satisfied: preshed<3.1.0,>=3.0.2 in c:\\users\\kaiya\\anaconda3\\lib\\site-packages (from spacy<3.3.0,>=3.2.0->en-core-web-sm==3.2.0) (3.0.6)\n",
      "Requirement already satisfied: pydantic!=1.8,!=1.8.1,<1.9.0,>=1.7.4 in c:\\users\\kaiya\\anaconda3\\lib\\site-packages (from spacy<3.3.0,>=3.2.0->en-core-web-sm==3.2.0) (1.8.2)\n",
      "Requirement already satisfied: spacy-loggers<2.0.0,>=1.0.0 in c:\\users\\kaiya\\anaconda3\\lib\\site-packages (from spacy<3.3.0,>=3.2.0->en-core-web-sm==3.2.0) (1.0.1)\n",
      "Requirement already satisfied: thinc<8.1.0,>=8.0.12 in c:\\users\\kaiya\\anaconda3\\lib\\site-packages (from spacy<3.3.0,>=3.2.0->en-core-web-sm==3.2.0) (8.0.13)\n",
      "Requirement already satisfied: jinja2 in c:\\users\\kaiya\\anaconda3\\lib\\site-packages (from spacy<3.3.0,>=3.2.0->en-core-web-sm==3.2.0) (2.11.3)\n",
      "Requirement already satisfied: cymem<2.1.0,>=2.0.2 in c:\\users\\kaiya\\anaconda3\\lib\\site-packages (from spacy<3.3.0,>=3.2.0->en-core-web-sm==3.2.0) (2.0.6)\n",
      "Requirement already satisfied: typer<0.5.0,>=0.3.0 in c:\\users\\kaiya\\anaconda3\\lib\\site-packages (from spacy<3.3.0,>=3.2.0->en-core-web-sm==3.2.0) (0.4.0)\n",
      "Requirement already satisfied: murmurhash<1.1.0,>=0.28.0 in c:\\users\\kaiya\\anaconda3\\lib\\site-packages (from spacy<3.3.0,>=3.2.0->en-core-web-sm==3.2.0) (1.0.6)\n",
      "Requirement already satisfied: pyparsing>=2.0.2 in c:\\users\\kaiya\\anaconda3\\lib\\site-packages (from packaging>=20.0->spacy<3.3.0,>=3.2.0->en-core-web-sm==3.2.0) (3.0.4)\n",
      "Requirement already satisfied: smart-open<6.0.0,>=5.0.0 in c:\\users\\kaiya\\anaconda3\\lib\\site-packages (from pathy>=0.3.5->spacy<3.3.0,>=3.2.0->en-core-web-sm==3.2.0) (5.2.1)\n",
      "Requirement already satisfied: typing-extensions>=3.7.4.3 in c:\\users\\kaiya\\anaconda3\\lib\\site-packages (from pydantic!=1.8,!=1.8.1,<1.9.0,>=1.7.4->spacy<3.3.0,>=3.2.0->en-core-web-sm==3.2.0) (3.10.0.2)\n",
      "Requirement already satisfied: idna<4,>=2.5 in c:\\users\\kaiya\\anaconda3\\lib\\site-packages (from requests<3.0.0,>=2.13.0->spacy<3.3.0,>=3.2.0->en-core-web-sm==3.2.0) (3.2)\n",
      "Requirement already satisfied: urllib3<1.27,>=1.21.1 in c:\\users\\kaiya\\anaconda3\\lib\\site-packages (from requests<3.0.0,>=2.13.0->spacy<3.3.0,>=3.2.0->en-core-web-sm==3.2.0) (1.26.7)\n",
      "Requirement already satisfied: charset-normalizer~=2.0.0 in c:\\users\\kaiya\\anaconda3\\lib\\site-packages (from requests<3.0.0,>=2.13.0->spacy<3.3.0,>=3.2.0->en-core-web-sm==3.2.0) (2.0.4)\n",
      "Requirement already satisfied: certifi>=2017.4.17 in c:\\users\\kaiya\\anaconda3\\lib\\site-packages (from requests<3.0.0,>=2.13.0->spacy<3.3.0,>=3.2.0->en-core-web-sm==3.2.0) (2021.10.8)\n",
      "Requirement already satisfied: colorama in c:\\users\\kaiya\\anaconda3\\lib\\site-packages (from tqdm<5.0.0,>=4.38.0->spacy<3.3.0,>=3.2.0->en-core-web-sm==3.2.0) (0.4.4)\n",
      "Requirement already satisfied: click<9.0.0,>=7.1.1 in c:\\users\\kaiya\\anaconda3\\lib\\site-packages (from typer<0.5.0,>=0.3.0->spacy<3.3.0,>=3.2.0->en-core-web-sm==3.2.0) (8.0.3)\n",
      "Requirement already satisfied: MarkupSafe>=0.23 in c:\\users\\kaiya\\anaconda3\\lib\\site-packages (from jinja2->spacy<3.3.0,>=3.2.0->en-core-web-sm==3.2.0) (1.1.1)\n",
      "Installing collected packages: en-core-web-sm\n",
      "Successfully installed en-core-web-sm-3.2.0\n",
      "[+] Download and installation successful\n",
      "You can now load the package via spacy.load('en_core_web_sm')\n"
     ]
    }
   ],
   "source": [
    "# Comment out the next line when you've run this cell successfully\n",
    "!python -m spacy download en_core_web_sm"
   ]
  },
  {
   "cell_type": "code",
   "execution_count": 5,
   "metadata": {
    "slideshow": {
     "slide_type": "subslide"
    }
   },
   "outputs": [],
   "source": [
    "# loading up the language model: English\n",
    "# note that Windows users will probably need to figure out where\n",
    "# the previous cell installed the library and change the following line accordingly\n",
    "nlp = spacy.load('en_core_web_sm')"
   ]
  },
  {
   "cell_type": "markdown",
   "metadata": {
    "slideshow": {
     "slide_type": "slide"
    }
   },
   "source": [
    "# 0. Data cleaning"
   ]
  },
  {
   "cell_type": "code",
   "execution_count": 6,
   "metadata": {
    "slideshow": {
     "slide_type": "subslide"
    }
   },
   "outputs": [],
   "source": [
    "# from Project Gutenberg: Grimms' Fairy Tales\n",
    "sentences = \"\"\"\n",
    "As soon as the time came when he was to declare the secret, he was taken\n",
    "before the king with the three branches and the golden cup; and the\n",
    "twelve princesses stood listening behind the door to hear what he would\n",
    "say. And when the king asked him. ‘Where do my twelve daughters dance at\n",
    "night?’ he answered, ‘With twelve princes in a castle under ground.’ And\n",
    "then he told the king all that had happened, and showed him the three\n",
    "branches and the golden cup which he had brought with him. Then the king\n",
    "called for the princesses, and asked them whether what the soldier said\n",
    "was true: and when they saw that they were discovered, and that it was\n",
    "of no use to deny what had happened, they confessed it all. And the king\n",
    "asked the soldier which of them he would choose for his wife; and he\n",
    "answered, ‘I am not very young, so I will have the eldest.’--And they\n",
    "were married that very day, and the soldier was chosen to be the king’s\n",
    "heir.\n",
    "\n",
    "\"\"\""
   ]
  },
  {
   "cell_type": "code",
   "execution_count": 7,
   "metadata": {},
   "outputs": [
    {
     "data": {
      "text/plain": [
       "'\\nAs soon as the time came when he was to declare the secret, he was taken\\nbefore the king with the three branches and the golden cup; and the\\ntwelve princesses stood listening behind the door to hear what he would\\nsay. And when the king asked him. ‘Where do my twelve daughters dance at\\nnight?’ he answered, ‘With twelve princes in a castle under ground.’ And\\nthen he told the king all that had happened, and showed him the three\\nbranches and the golden cup which he had brought with him. Then the king\\ncalled for the princesses, and asked them whether what the soldier said\\nwas true: and when they saw that they were discovered, and that it was\\nof no use to deny what had happened, they confessed it all. And the king\\nasked the soldier which of them he would choose for his wife; and he\\nanswered, ‘I am not very young, so I will have the eldest.’--And they\\nwere married that very day, and the soldier was chosen to be the king’s\\nheir.\\n\\n'"
      ]
     },
     "execution_count": 7,
     "metadata": {},
     "output_type": "execute_result"
    }
   ],
   "source": [
    "sentences"
   ]
  },
  {
   "cell_type": "markdown",
   "metadata": {
    "slideshow": {
     "slide_type": "subslide"
    }
   },
   "source": [
    "### Section goal: calculate the frequency of each word\n",
    "- See which words are more frequent.\n",
    "- Generate more meaningful summary for the above paragraph."
   ]
  },
  {
   "cell_type": "markdown",
   "metadata": {
    "slideshow": {
     "slide_type": "subslide"
    }
   },
   "source": [
    "## 0-1. lowering the case"
   ]
  },
  {
   "cell_type": "code",
   "execution_count": 8,
   "metadata": {
    "slideshow": {
     "slide_type": "subslide"
    }
   },
   "outputs": [
    {
     "data": {
      "text/plain": [
       "str"
      ]
     },
     "execution_count": 8,
     "metadata": {},
     "output_type": "execute_result"
    }
   ],
   "source": [
    "type(sentences)"
   ]
  },
  {
   "cell_type": "code",
   "execution_count": 9,
   "metadata": {
    "scrolled": true,
    "slideshow": {
     "slide_type": "subslide"
    }
   },
   "outputs": [
    {
     "data": {
      "text/plain": [
       "'\\nAs soon as the time came when he was to declare the secret, he was taken\\nbefore the king with the three branches and the golden cup; and the\\ntwelve princesses stood listening behind the door to hear what he would\\nsay. And when the king asked him. ‘Where do my twelve daughters dance at\\nnight?’ he answered, ‘With twelve princes in a castle under ground.’ And\\nthen he told the king all that had happened, and showed him the three\\nbranches and the golden cup which he had brought with him. Then the king\\ncalled for the princesses, and asked them whether what the soldier said\\nwas true: and when they saw that they were discovered, and that it was\\nof no use to deny what had happened, they confessed it all. And the king\\nasked the soldier which of them he would choose for his wife; and he\\nanswered, ‘I am not very young, so I will have the eldest.’--And they\\nwere married that very day, and the soldier was chosen to be the king’s\\nheir.\\n\\n'"
      ]
     },
     "execution_count": 9,
     "metadata": {},
     "output_type": "execute_result"
    }
   ],
   "source": [
    "sentences"
   ]
  },
  {
   "cell_type": "code",
   "execution_count": 10,
   "metadata": {
    "slideshow": {
     "slide_type": "subslide"
    }
   },
   "outputs": [],
   "source": [
    "sent_low = sentences.lower()"
   ]
  },
  {
   "cell_type": "code",
   "execution_count": 11,
   "metadata": {
    "slideshow": {
     "slide_type": "subslide"
    }
   },
   "outputs": [
    {
     "data": {
      "text/plain": [
       "'\\nas soon as the time came when he was to declare the secret, he was taken\\nbefore the king with the three branches and the golden cup; and the\\ntwelve princesses stood listening behind the door to hear what he would\\nsay. and when the king asked him. ‘where do my twelve daughters dance at\\nnight?’ he answered, ‘with twelve princes in a castle under ground.’ and\\nthen he told the king all that had happened, and showed him the three\\nbranches and the golden cup which he had brought with him. then the king\\ncalled for the princesses, and asked them whether what the soldier said\\nwas true: and when they saw that they were discovered, and that it was\\nof no use to deny what had happened, they confessed it all. and the king\\nasked the soldier which of them he would choose for his wife; and he\\nanswered, ‘i am not very young, so i will have the eldest.’--and they\\nwere married that very day, and the soldier was chosen to be the king’s\\nheir.\\n\\n'"
      ]
     },
     "execution_count": 11,
     "metadata": {},
     "output_type": "execute_result"
    }
   ],
   "source": [
    "sent_low"
   ]
  },
  {
   "cell_type": "markdown",
   "metadata": {
    "slideshow": {
     "slide_type": "subslide"
    },
    "toc-hr-collapsed": false
   },
   "source": [
    "## 0-2. remove punctuation and special characters"
   ]
  },
  {
   "cell_type": "markdown",
   "metadata": {
    "slideshow": {
     "slide_type": "subslide"
    }
   },
   "source": [
    "#### Exclude special characters one by one"
   ]
  },
  {
   "cell_type": "code",
   "execution_count": 12,
   "metadata": {},
   "outputs": [
    {
     "data": {
      "text/plain": [
       "'\\nas soon as the time came when he was to declare the secret he was taken\\nbefore the king with the three branches and the golden cup and the\\ntwelve princesses stood listening behind the door to hear what he would\\nsay and when the king asked him where do my twelve daughters dance at\\nnight he answered with twelve princes in a castle under ground and\\nthen he told the king all that had happened and showed him the three\\nbranches and the golden cup which he had brought with him then the king\\ncalled for the princesses and asked them whether what the soldier said\\nwas true and when they saw that they were discovered and that it was\\nof no use to deny what had happened they confessed it all and the king\\nasked the soldier which of them he would choose for his wife and he\\nanswered i am not very young so i will have the eldestand they\\nwere married that very day and the soldier was chosen to be the kings\\nheir\\n\\n'"
      ]
     },
     "execution_count": 12,
     "metadata": {},
     "output_type": "execute_result"
    }
   ],
   "source": [
    "# from https://www.programiz.com/python-programming/examples/remove-punctuation\n",
    "punctuations = '''!()-[]{};:'\"\\,<>./?@#$%^&*_~‘’''' # list of special characters you want to exclude\n",
    "sent_low_pnct = \"\"\n",
    "for char in sent_low:\n",
    "    if char not in punctuations:\n",
    "        sent_low_pnct = sent_low_pnct + char\n",
    "\n",
    "sent_low_pnct"
   ]
  },
  {
   "cell_type": "code",
   "execution_count": 13,
   "metadata": {},
   "outputs": [],
   "source": [
    "sent_low_pnct2 = re.sub(r'[^\\w\\s]+', ' ', sent_low)"
   ]
  },
  {
   "cell_type": "markdown",
   "metadata": {
    "slideshow": {
     "slide_type": "subslide"
    }
   },
   "source": [
    "#### Alternatively, we can use regular expression to remove punctuations\n",
    "- So we don't have to list up all possible special characters that we want to remove\n",
    "- https://docs.python.org/3.4/library/re.html\n",
    "- https://en.wikipedia.org/wiki/Regular_expression"
   ]
  },
  {
   "cell_type": "code",
   "execution_count": 14,
   "metadata": {},
   "outputs": [
    {
     "data": {
      "text/plain": [
       "'\\nas soon as the time came when he was to declare the secret, he was taken\\nbefore the king with the three branches and the golden cup; and the\\ntwelve princesses stood listening behind the door to hear what he would\\nsay. and when the king asked him. ‘where do my twelve daughters dance at\\nnight?’ he answered, ‘with twelve princes in a castle under ground.’ and\\nthen he told the king all that had happened, and showed him the three\\nbranches and the golden cup which he had brought with him. then the king\\ncalled for the princesses, and asked them whether what the soldier said\\nwas true: and when they saw that they were discovered, and that it was\\nof no use to deny what had happened, they confessed it all. and the king\\nasked the soldier which of them he would choose for his wife; and he\\nanswered, ‘i am not very young, so i will have the eldest.’--and they\\nwere married that very day, and the soldier was chosen to be the king’s\\nheir.\\n\\n'"
      ]
     },
     "execution_count": 14,
     "metadata": {},
     "output_type": "execute_result"
    }
   ],
   "source": [
    "sent_low"
   ]
  },
  {
   "cell_type": "code",
   "execution_count": 15,
   "metadata": {
    "slideshow": {
     "slide_type": "subslide"
    }
   },
   "outputs": [],
   "source": [
    "import re\n",
    "sent_low_pnct2 = re.sub(r'[^\\w\\s]+', ' ', sent_low)"
   ]
  },
  {
   "cell_type": "code",
   "execution_count": 16,
   "metadata": {
    "slideshow": {
     "slide_type": "subslide"
    }
   },
   "outputs": [
    {
     "data": {
      "text/plain": [
       "'\\nas soon as the time came when he was to declare the secret  he was taken\\nbefore the king with the three branches and the golden cup  and the\\ntwelve princesses stood listening behind the door to hear what he would\\nsay  and when the king asked him   where do my twelve daughters dance at\\nnight  he answered   with twelve princes in a castle under ground  and\\nthen he told the king all that had happened  and showed him the three\\nbranches and the golden cup which he had brought with him  then the king\\ncalled for the princesses  and asked them whether what the soldier said\\nwas true  and when they saw that they were discovered  and that it was\\nof no use to deny what had happened  they confessed it all  and the king\\nasked the soldier which of them he would choose for his wife  and he\\nanswered   i am not very young  so i will have the eldest and they\\nwere married that very day  and the soldier was chosen to be the king s\\nheir \\n\\n'"
      ]
     },
     "execution_count": 16,
     "metadata": {},
     "output_type": "execute_result"
    }
   ],
   "source": [
    "sent_low_pnct2"
   ]
  },
  {
   "cell_type": "markdown",
   "metadata": {
    "slideshow": {
     "slide_type": "subslide"
    }
   },
   "source": [
    "- However, special character ```\\n``` (linebreak) still exists in both cases. Let's remove these additionally."
   ]
  },
  {
   "cell_type": "code",
   "execution_count": 17,
   "metadata": {
    "slideshow": {
     "slide_type": "-"
    }
   },
   "outputs": [
    {
     "data": {
      "text/plain": [
       "'\\r\\n'"
      ]
     },
     "execution_count": 17,
     "metadata": {},
     "output_type": "execute_result"
    }
   ],
   "source": [
    "import os\n",
    "os.linesep"
   ]
  },
  {
   "cell_type": "code",
   "execution_count": 18,
   "metadata": {
    "scrolled": true,
    "slideshow": {
     "slide_type": "subslide"
    }
   },
   "outputs": [
    {
     "data": {
      "text/plain": [
       "' as soon as the time came when he was to declare the secret he was taken before the king with the three branches and the golden cup and the twelve princesses stood listening behind the door to hear what he would say and when the king asked him where do my twelve daughters dance at night he answered with twelve princes in a castle under ground and then he told the king all that had happened and showed him the three branches and the golden cup which he had brought with him then the king called for the princesses and asked them whether what the soldier said was true and when they saw that they were discovered and that it was of no use to deny what had happened they confessed it all and the king asked the soldier which of them he would choose for his wife and he answered i am not very young so i will have the eldestand they were married that very day and the soldier was chosen to be the kings heir  '"
      ]
     },
     "execution_count": 18,
     "metadata": {},
     "output_type": "execute_result"
    }
   ],
   "source": [
    "sent_low_pnct = sent_low_pnct.replace('\\n', \" \")\n",
    "sent_low_pnct"
   ]
  },
  {
   "cell_type": "markdown",
   "metadata": {},
   "source": [
    "### And one more way..."
   ]
  },
  {
   "cell_type": "code",
   "execution_count": 19,
   "metadata": {},
   "outputs": [
    {
     "data": {
      "text/plain": [
       "'!\"#$%&\\'()*+,-./:;<=>?@[\\\\]^_`{|}~'"
      ]
     },
     "execution_count": 19,
     "metadata": {},
     "output_type": "execute_result"
    }
   ],
   "source": [
    "import string\n",
    "\n",
    "string.punctuation"
   ]
  },
  {
   "cell_type": "code",
   "execution_count": 20,
   "metadata": {
    "scrolled": true
   },
   "outputs": [
    {
     "name": "stdout",
     "output_type": "stream",
     "text": [
      " as soon as the time came when he was to declare the secret he was taken before the king with the three branches and the golden cup and the twelve princesses stood listening behind the door to hear what he would say and when the king asked him where do my twelve daughters dance at night he answered with twelve princes in a castle under ground and then he told the king all that had happened and showed him the three branches and the golden cup which he had brought with him then the king called for the princesses and asked them whether what the soldier said was true and when they saw that they were discovered and that it was of no use to deny what had happened they confessed it all and the king asked the soldier which of them he would choose for his wife and he answered i am not very young so i will have the eldestand they were married that very day and the soldier was chosen to be the kings heir  \n"
     ]
    }
   ],
   "source": [
    "table = str.maketrans(dict.fromkeys(string.punctuation))\n",
    "no_punctuation= sent_low_pnct.translate(table)\n",
    "\n",
    "print(no_punctuation)"
   ]
  },
  {
   "cell_type": "markdown",
   "metadata": {},
   "source": [
    "Regular expressions:\n",
    "\n",
    "^ means \"beginning of string\" \n",
    "UNLESS it's in [ ], in which case it means \"not\"\n",
    "\n",
    "r'^The' # means The at the beginning of a string\n",
    "r'^[The]' # means any one of T or h or e at the beginning of a string\n",
    "t'^[^The]' # means any character other than T,h,or e at the beginning"
   ]
  },
  {
   "cell_type": "markdown",
   "metadata": {
    "slideshow": {
     "slide_type": "subslide"
    }
   },
   "source": [
    "### So... at least 3 possible ways to replace characters!"
   ]
  },
  {
   "cell_type": "markdown",
   "metadata": {
    "slideshow": {
     "slide_type": "slide"
    }
   },
   "source": [
    "## 0-3. Remove stop words"
   ]
  },
  {
   "cell_type": "markdown",
   "metadata": {
    "slideshow": {
     "slide_type": "subslide"
    }
   },
   "source": [
    "- Stop words usually refers to the most common words in a language\n",
    "    - No single universal stopwords\n",
    "    - Often stopwords are removed to improve the performance of NLP models\n",
    "    - https://en.wikipedia.org/wiki/Stop_words\n",
    "    - https://en.wikipedia.org/wiki/Most_common_words_in_English"
   ]
  },
  {
   "cell_type": "markdown",
   "metadata": {
    "slideshow": {
     "slide_type": "slide"
    }
   },
   "source": [
    "#### Import the list of stop words from ```spaCy```"
   ]
  },
  {
   "cell_type": "code",
   "execution_count": 21,
   "metadata": {
    "slideshow": {
     "slide_type": "subslide"
    }
   },
   "outputs": [],
   "source": [
    "from spacy.lang.en.stop_words import STOP_WORDS"
   ]
  },
  {
   "cell_type": "code",
   "execution_count": 22,
   "metadata": {
    "slideshow": {
     "slide_type": "fragment"
    }
   },
   "outputs": [],
   "source": [
    "import numpy as np"
   ]
  },
  {
   "cell_type": "code",
   "execution_count": 23,
   "metadata": {
    "slideshow": {
     "slide_type": "subslide"
    }
   },
   "outputs": [
    {
     "data": {
      "text/plain": [
       "{\"'d\",\n",
       " \"'ll\",\n",
       " \"'m\",\n",
       " \"'re\",\n",
       " \"'s\",\n",
       " \"'ve\",\n",
       " 'a',\n",
       " 'about',\n",
       " 'above',\n",
       " 'across',\n",
       " 'after',\n",
       " 'afterwards',\n",
       " 'again',\n",
       " 'against',\n",
       " 'all',\n",
       " 'almost',\n",
       " 'alone',\n",
       " 'along',\n",
       " 'already',\n",
       " 'also',\n",
       " 'although',\n",
       " 'always',\n",
       " 'am',\n",
       " 'among',\n",
       " 'amongst',\n",
       " 'amount',\n",
       " 'an',\n",
       " 'and',\n",
       " 'another',\n",
       " 'any',\n",
       " 'anyhow',\n",
       " 'anyone',\n",
       " 'anything',\n",
       " 'anyway',\n",
       " 'anywhere',\n",
       " 'are',\n",
       " 'around',\n",
       " 'as',\n",
       " 'at',\n",
       " 'back',\n",
       " 'be',\n",
       " 'became',\n",
       " 'because',\n",
       " 'become',\n",
       " 'becomes',\n",
       " 'becoming',\n",
       " 'been',\n",
       " 'before',\n",
       " 'beforehand',\n",
       " 'behind',\n",
       " 'being',\n",
       " 'below',\n",
       " 'beside',\n",
       " 'besides',\n",
       " 'between',\n",
       " 'beyond',\n",
       " 'both',\n",
       " 'bottom',\n",
       " 'but',\n",
       " 'by',\n",
       " 'ca',\n",
       " 'call',\n",
       " 'can',\n",
       " 'cannot',\n",
       " 'could',\n",
       " 'did',\n",
       " 'do',\n",
       " 'does',\n",
       " 'doing',\n",
       " 'done',\n",
       " 'down',\n",
       " 'due',\n",
       " 'during',\n",
       " 'each',\n",
       " 'eight',\n",
       " 'either',\n",
       " 'eleven',\n",
       " 'else',\n",
       " 'elsewhere',\n",
       " 'empty',\n",
       " 'enough',\n",
       " 'even',\n",
       " 'ever',\n",
       " 'every',\n",
       " 'everyone',\n",
       " 'everything',\n",
       " 'everywhere',\n",
       " 'except',\n",
       " 'few',\n",
       " 'fifteen',\n",
       " 'fifty',\n",
       " 'first',\n",
       " 'five',\n",
       " 'for',\n",
       " 'former',\n",
       " 'formerly',\n",
       " 'forty',\n",
       " 'four',\n",
       " 'from',\n",
       " 'front',\n",
       " 'full',\n",
       " 'further',\n",
       " 'get',\n",
       " 'give',\n",
       " 'go',\n",
       " 'had',\n",
       " 'has',\n",
       " 'have',\n",
       " 'he',\n",
       " 'hence',\n",
       " 'her',\n",
       " 'here',\n",
       " 'hereafter',\n",
       " 'hereby',\n",
       " 'herein',\n",
       " 'hereupon',\n",
       " 'hers',\n",
       " 'herself',\n",
       " 'him',\n",
       " 'himself',\n",
       " 'his',\n",
       " 'how',\n",
       " 'however',\n",
       " 'hundred',\n",
       " 'i',\n",
       " 'if',\n",
       " 'in',\n",
       " 'indeed',\n",
       " 'into',\n",
       " 'is',\n",
       " 'it',\n",
       " 'its',\n",
       " 'itself',\n",
       " 'just',\n",
       " 'keep',\n",
       " 'last',\n",
       " 'latter',\n",
       " 'latterly',\n",
       " 'least',\n",
       " 'less',\n",
       " 'made',\n",
       " 'make',\n",
       " 'many',\n",
       " 'may',\n",
       " 'me',\n",
       " 'meanwhile',\n",
       " 'might',\n",
       " 'mine',\n",
       " 'more',\n",
       " 'moreover',\n",
       " 'most',\n",
       " 'mostly',\n",
       " 'move',\n",
       " 'much',\n",
       " 'must',\n",
       " 'my',\n",
       " 'myself',\n",
       " \"n't\",\n",
       " 'name',\n",
       " 'namely',\n",
       " 'neither',\n",
       " 'never',\n",
       " 'nevertheless',\n",
       " 'next',\n",
       " 'nine',\n",
       " 'no',\n",
       " 'nobody',\n",
       " 'none',\n",
       " 'noone',\n",
       " 'nor',\n",
       " 'not',\n",
       " 'nothing',\n",
       " 'now',\n",
       " 'nowhere',\n",
       " 'n‘t',\n",
       " 'n’t',\n",
       " 'of',\n",
       " 'off',\n",
       " 'often',\n",
       " 'on',\n",
       " 'once',\n",
       " 'one',\n",
       " 'only',\n",
       " 'onto',\n",
       " 'or',\n",
       " 'other',\n",
       " 'others',\n",
       " 'otherwise',\n",
       " 'our',\n",
       " 'ours',\n",
       " 'ourselves',\n",
       " 'out',\n",
       " 'over',\n",
       " 'own',\n",
       " 'part',\n",
       " 'per',\n",
       " 'perhaps',\n",
       " 'please',\n",
       " 'put',\n",
       " 'quite',\n",
       " 'rather',\n",
       " 're',\n",
       " 'really',\n",
       " 'regarding',\n",
       " 'same',\n",
       " 'say',\n",
       " 'see',\n",
       " 'seem',\n",
       " 'seemed',\n",
       " 'seeming',\n",
       " 'seems',\n",
       " 'serious',\n",
       " 'several',\n",
       " 'she',\n",
       " 'should',\n",
       " 'show',\n",
       " 'side',\n",
       " 'since',\n",
       " 'six',\n",
       " 'sixty',\n",
       " 'so',\n",
       " 'some',\n",
       " 'somehow',\n",
       " 'someone',\n",
       " 'something',\n",
       " 'sometime',\n",
       " 'sometimes',\n",
       " 'somewhere',\n",
       " 'still',\n",
       " 'such',\n",
       " 'take',\n",
       " 'ten',\n",
       " 'than',\n",
       " 'that',\n",
       " 'the',\n",
       " 'their',\n",
       " 'them',\n",
       " 'themselves',\n",
       " 'then',\n",
       " 'thence',\n",
       " 'there',\n",
       " 'thereafter',\n",
       " 'thereby',\n",
       " 'therefore',\n",
       " 'therein',\n",
       " 'thereupon',\n",
       " 'these',\n",
       " 'they',\n",
       " 'third',\n",
       " 'this',\n",
       " 'those',\n",
       " 'though',\n",
       " 'three',\n",
       " 'through',\n",
       " 'throughout',\n",
       " 'thru',\n",
       " 'thus',\n",
       " 'to',\n",
       " 'together',\n",
       " 'too',\n",
       " 'top',\n",
       " 'toward',\n",
       " 'towards',\n",
       " 'twelve',\n",
       " 'twenty',\n",
       " 'two',\n",
       " 'under',\n",
       " 'unless',\n",
       " 'until',\n",
       " 'up',\n",
       " 'upon',\n",
       " 'us',\n",
       " 'used',\n",
       " 'using',\n",
       " 'various',\n",
       " 'very',\n",
       " 'via',\n",
       " 'was',\n",
       " 'we',\n",
       " 'well',\n",
       " 'were',\n",
       " 'what',\n",
       " 'whatever',\n",
       " 'when',\n",
       " 'whence',\n",
       " 'whenever',\n",
       " 'where',\n",
       " 'whereafter',\n",
       " 'whereas',\n",
       " 'whereby',\n",
       " 'wherein',\n",
       " 'whereupon',\n",
       " 'wherever',\n",
       " 'whether',\n",
       " 'which',\n",
       " 'while',\n",
       " 'whither',\n",
       " 'who',\n",
       " 'whoever',\n",
       " 'whole',\n",
       " 'whom',\n",
       " 'whose',\n",
       " 'why',\n",
       " 'will',\n",
       " 'with',\n",
       " 'within',\n",
       " 'without',\n",
       " 'would',\n",
       " 'yet',\n",
       " 'you',\n",
       " 'your',\n",
       " 'yours',\n",
       " 'yourself',\n",
       " 'yourselves',\n",
       " '‘d',\n",
       " '‘ll',\n",
       " '‘m',\n",
       " '‘re',\n",
       " '‘s',\n",
       " '‘ve',\n",
       " '’d',\n",
       " '’ll',\n",
       " '’m',\n",
       " '’re',\n",
       " '’s',\n",
       " '’ve'}"
      ]
     },
     "execution_count": 23,
     "metadata": {},
     "output_type": "execute_result"
    }
   ],
   "source": [
    "STOP_WORDS"
   ]
  },
  {
   "cell_type": "markdown",
   "metadata": {
    "slideshow": {
     "slide_type": "slide"
    }
   },
   "source": [
    "#### Goal: We are going to count the frequency of each word from the paragraph, to see which words can be used to represent the paragraph's content. "
   ]
  },
  {
   "cell_type": "markdown",
   "metadata": {},
   "source": [
    "#### What if we do not remove stopwords?"
   ]
  },
  {
   "cell_type": "markdown",
   "metadata": {},
   "source": [
    "- Note that our paragraph is stored as a single string object..."
   ]
  },
  {
   "cell_type": "code",
   "execution_count": 24,
   "metadata": {},
   "outputs": [
    {
     "data": {
      "text/plain": [
       "' as soon as the time came when he was to declare the secret he was taken before the king with the three branches and the golden cup and the twelve princesses stood listening behind the door to hear what he would say and when the king asked him where do my twelve daughters dance at night he answered with twelve princes in a castle under ground and then he told the king all that had happened and showed him the three branches and the golden cup which he had brought with him then the king called for the princesses and asked them whether what the soldier said was true and when they saw that they were discovered and that it was of no use to deny what had happened they confessed it all and the king asked the soldier which of them he would choose for his wife and he answered i am not very young so i will have the eldestand they were married that very day and the soldier was chosen to be the kings heir  '"
      ]
     },
     "execution_count": 24,
     "metadata": {},
     "output_type": "execute_result"
    }
   ],
   "source": [
    "sent_low_pnct"
   ]
  },
  {
   "cell_type": "markdown",
   "metadata": {
    "slideshow": {
     "slide_type": "subslide"
    }
   },
   "source": [
    "- Split the paragraph into a list of words"
   ]
  },
  {
   "cell_type": "code",
   "execution_count": 25,
   "metadata": {},
   "outputs": [],
   "source": [
    "words = sent_low_pnct.split()"
   ]
  },
  {
   "cell_type": "code",
   "execution_count": 26,
   "metadata": {},
   "outputs": [
    {
     "data": {
      "text/plain": [
       "['as',\n",
       " 'soon',\n",
       " 'as',\n",
       " 'the',\n",
       " 'time',\n",
       " 'came',\n",
       " 'when',\n",
       " 'he',\n",
       " 'was',\n",
       " 'to',\n",
       " 'declare',\n",
       " 'the',\n",
       " 'secret',\n",
       " 'he',\n",
       " 'was',\n",
       " 'taken',\n",
       " 'before',\n",
       " 'the',\n",
       " 'king',\n",
       " 'with',\n",
       " 'the',\n",
       " 'three',\n",
       " 'branches',\n",
       " 'and',\n",
       " 'the',\n",
       " 'golden',\n",
       " 'cup',\n",
       " 'and',\n",
       " 'the',\n",
       " 'twelve',\n",
       " 'princesses',\n",
       " 'stood',\n",
       " 'listening',\n",
       " 'behind',\n",
       " 'the',\n",
       " 'door',\n",
       " 'to',\n",
       " 'hear',\n",
       " 'what',\n",
       " 'he',\n",
       " 'would',\n",
       " 'say',\n",
       " 'and',\n",
       " 'when',\n",
       " 'the',\n",
       " 'king',\n",
       " 'asked',\n",
       " 'him',\n",
       " 'where',\n",
       " 'do',\n",
       " 'my',\n",
       " 'twelve',\n",
       " 'daughters',\n",
       " 'dance',\n",
       " 'at',\n",
       " 'night',\n",
       " 'he',\n",
       " 'answered',\n",
       " 'with',\n",
       " 'twelve',\n",
       " 'princes',\n",
       " 'in',\n",
       " 'a',\n",
       " 'castle',\n",
       " 'under',\n",
       " 'ground',\n",
       " 'and',\n",
       " 'then',\n",
       " 'he',\n",
       " 'told',\n",
       " 'the',\n",
       " 'king',\n",
       " 'all',\n",
       " 'that',\n",
       " 'had',\n",
       " 'happened',\n",
       " 'and',\n",
       " 'showed',\n",
       " 'him',\n",
       " 'the',\n",
       " 'three',\n",
       " 'branches',\n",
       " 'and',\n",
       " 'the',\n",
       " 'golden',\n",
       " 'cup',\n",
       " 'which',\n",
       " 'he',\n",
       " 'had',\n",
       " 'brought',\n",
       " 'with',\n",
       " 'him',\n",
       " 'then',\n",
       " 'the',\n",
       " 'king',\n",
       " 'called',\n",
       " 'for',\n",
       " 'the',\n",
       " 'princesses',\n",
       " 'and',\n",
       " 'asked',\n",
       " 'them',\n",
       " 'whether',\n",
       " 'what',\n",
       " 'the',\n",
       " 'soldier',\n",
       " 'said',\n",
       " 'was',\n",
       " 'true',\n",
       " 'and',\n",
       " 'when',\n",
       " 'they',\n",
       " 'saw',\n",
       " 'that',\n",
       " 'they',\n",
       " 'were',\n",
       " 'discovered',\n",
       " 'and',\n",
       " 'that',\n",
       " 'it',\n",
       " 'was',\n",
       " 'of',\n",
       " 'no',\n",
       " 'use',\n",
       " 'to',\n",
       " 'deny',\n",
       " 'what',\n",
       " 'had',\n",
       " 'happened',\n",
       " 'they',\n",
       " 'confessed',\n",
       " 'it',\n",
       " 'all',\n",
       " 'and',\n",
       " 'the',\n",
       " 'king',\n",
       " 'asked',\n",
       " 'the',\n",
       " 'soldier',\n",
       " 'which',\n",
       " 'of',\n",
       " 'them',\n",
       " 'he',\n",
       " 'would',\n",
       " 'choose',\n",
       " 'for',\n",
       " 'his',\n",
       " 'wife',\n",
       " 'and',\n",
       " 'he',\n",
       " 'answered',\n",
       " 'i',\n",
       " 'am',\n",
       " 'not',\n",
       " 'very',\n",
       " 'young',\n",
       " 'so',\n",
       " 'i',\n",
       " 'will',\n",
       " 'have',\n",
       " 'the',\n",
       " 'eldestand',\n",
       " 'they',\n",
       " 'were',\n",
       " 'married',\n",
       " 'that',\n",
       " 'very',\n",
       " 'day',\n",
       " 'and',\n",
       " 'the',\n",
       " 'soldier',\n",
       " 'was',\n",
       " 'chosen',\n",
       " 'to',\n",
       " 'be',\n",
       " 'the',\n",
       " 'kings',\n",
       " 'heir']"
      ]
     },
     "execution_count": 26,
     "metadata": {},
     "output_type": "execute_result"
    }
   ],
   "source": [
    "words"
   ]
  },
  {
   "cell_type": "markdown",
   "metadata": {
    "slideshow": {
     "slide_type": "subslide"
    }
   },
   "source": [
    "- Count the words from the list\n",
    "- Words that can occur in any kind of paragraphs...?"
   ]
  },
  {
   "cell_type": "code",
   "execution_count": 27,
   "metadata": {},
   "outputs": [
    {
     "data": {
      "text/plain": [
       "{'as': 2,\n",
       " 'soon': 1,\n",
       " 'the': 19,\n",
       " 'time': 1,\n",
       " 'came': 1,\n",
       " 'when': 3,\n",
       " 'he': 8,\n",
       " 'was': 5,\n",
       " 'to': 4,\n",
       " 'declare': 1,\n",
       " 'secret': 1,\n",
       " 'taken': 1,\n",
       " 'before': 1,\n",
       " 'king': 5,\n",
       " 'with': 3,\n",
       " 'three': 2,\n",
       " 'branches': 2,\n",
       " 'and': 12,\n",
       " 'golden': 2,\n",
       " 'cup': 2,\n",
       " 'twelve': 3,\n",
       " 'princesses': 2,\n",
       " 'stood': 1,\n",
       " 'listening': 1,\n",
       " 'behind': 1,\n",
       " 'door': 1,\n",
       " 'hear': 1,\n",
       " 'what': 3,\n",
       " 'would': 2,\n",
       " 'say': 1,\n",
       " 'asked': 3,\n",
       " 'him': 3,\n",
       " 'where': 1,\n",
       " 'do': 1,\n",
       " 'my': 1,\n",
       " 'daughters': 1,\n",
       " 'dance': 1,\n",
       " 'at': 1,\n",
       " 'night': 1,\n",
       " 'answered': 2,\n",
       " 'princes': 1,\n",
       " 'in': 1,\n",
       " 'a': 1,\n",
       " 'castle': 1,\n",
       " 'under': 1,\n",
       " 'ground': 1,\n",
       " 'then': 2,\n",
       " 'told': 1,\n",
       " 'all': 2,\n",
       " 'that': 4,\n",
       " 'had': 3,\n",
       " 'happened': 2,\n",
       " 'showed': 1,\n",
       " 'which': 2,\n",
       " 'brought': 1,\n",
       " 'called': 1,\n",
       " 'for': 2,\n",
       " 'them': 2,\n",
       " 'whether': 1,\n",
       " 'soldier': 3,\n",
       " 'said': 1,\n",
       " 'true': 1,\n",
       " 'they': 4,\n",
       " 'saw': 1,\n",
       " 'were': 2,\n",
       " 'discovered': 1,\n",
       " 'it': 2,\n",
       " 'of': 2,\n",
       " 'no': 1,\n",
       " 'use': 1,\n",
       " 'deny': 1,\n",
       " 'confessed': 1,\n",
       " 'choose': 1,\n",
       " 'his': 1,\n",
       " 'wife': 1,\n",
       " 'i': 2,\n",
       " 'am': 1,\n",
       " 'not': 1,\n",
       " 'very': 2,\n",
       " 'young': 1,\n",
       " 'so': 1,\n",
       " 'will': 1,\n",
       " 'have': 1,\n",
       " 'eldestand': 1,\n",
       " 'married': 1,\n",
       " 'day': 1,\n",
       " 'chosen': 1,\n",
       " 'be': 1,\n",
       " 'kings': 1,\n",
       " 'heir': 1}"
      ]
     },
     "execution_count": 27,
     "metadata": {},
     "output_type": "execute_result"
    }
   ],
   "source": [
    "d = {}\n",
    "for word in words:\n",
    "    if word in d:\n",
    "        d[word] = d[word] + 1\n",
    "    else:\n",
    "        d[word] = 1\n",
    "d"
   ]
  },
  {
   "cell_type": "code",
   "execution_count": 28,
   "metadata": {
    "slideshow": {
     "slide_type": "subslide"
    }
   },
   "outputs": [],
   "source": [
    "from collections import Counter"
   ]
  },
  {
   "cell_type": "code",
   "execution_count": 29,
   "metadata": {},
   "outputs": [
    {
     "data": {
      "text/plain": [
       "[('the', 19),\n",
       " ('and', 12),\n",
       " ('he', 8),\n",
       " ('was', 5),\n",
       " ('king', 5),\n",
       " ('to', 4),\n",
       " ('that', 4),\n",
       " ('they', 4),\n",
       " ('when', 3),\n",
       " ('with', 3),\n",
       " ('twelve', 3),\n",
       " ('what', 3),\n",
       " ('asked', 3),\n",
       " ('him', 3),\n",
       " ('had', 3),\n",
       " ('soldier', 3),\n",
       " ('as', 2),\n",
       " ('three', 2),\n",
       " ('branches', 2),\n",
       " ('golden', 2)]"
      ]
     },
     "execution_count": 29,
     "metadata": {},
     "output_type": "execute_result"
    }
   ],
   "source": [
    "Counter(words).most_common(20)"
   ]
  },
  {
   "cell_type": "code",
   "execution_count": 30,
   "metadata": {
    "slideshow": {
     "slide_type": "subslide"
    }
   },
   "outputs": [],
   "source": [
    "import matplotlib.pyplot as plt\n",
    "import seaborn as sns\n",
    "import pandas as pd"
   ]
  },
  {
   "cell_type": "code",
   "execution_count": 31,
   "metadata": {
    "slideshow": {
     "slide_type": "subslide"
    }
   },
   "outputs": [
    {
     "data": {
      "image/png": "[encoded data removed]",
      "text/plain": [
       "<Figure size 3240x720 with 1 Axes>"
      ]
     },
     "metadata": {
      "needs_background": "light"
     },
     "output_type": "display_data"
    }
   ],
   "source": [
    "plt.figure(figsize=(45,10))\n",
    "sns.countplot(x=words, order=pd.Series(words).value_counts().index)\n",
    "# sns.countplot(words_nostop, order=[counted[0] for counted in Counter(words_nostop).most_common()])\n",
    "plt.xticks(rotation=90)\n",
    "plt.show()"
   ]
  },
  {
   "cell_type": "markdown",
   "metadata": {
    "slideshow": {
     "slide_type": "subslide"
    }
   },
   "source": [
    "#### When we removed stopwords:"
   ]
  },
  {
   "cell_type": "code",
   "execution_count": 32,
   "metadata": {
    "slideshow": {
     "slide_type": "subslide"
    }
   },
   "outputs": [],
   "source": [
    "# split sentence into words\n",
    "words_nostop = list()\n",
    "for word in words:\n",
    "    if word not in STOP_WORDS:\n",
    "        words_nostop.append(word)\n",
    "# words_nostop = [word for word in words if word not in STOP_WORDS]"
   ]
  },
  {
   "cell_type": "code",
   "execution_count": 33,
   "metadata": {},
   "outputs": [
    {
     "data": {
      "text/plain": [
       "['soon',\n",
       " 'time',\n",
       " 'came',\n",
       " 'declare',\n",
       " 'secret',\n",
       " 'taken',\n",
       " 'king',\n",
       " 'branches',\n",
       " 'golden',\n",
       " 'cup',\n",
       " 'princesses',\n",
       " 'stood',\n",
       " 'listening',\n",
       " 'door',\n",
       " 'hear',\n",
       " 'king',\n",
       " 'asked',\n",
       " 'daughters',\n",
       " 'dance',\n",
       " 'night',\n",
       " 'answered',\n",
       " 'princes',\n",
       " 'castle',\n",
       " 'ground',\n",
       " 'told',\n",
       " 'king',\n",
       " 'happened',\n",
       " 'showed',\n",
       " 'branches',\n",
       " 'golden',\n",
       " 'cup',\n",
       " 'brought',\n",
       " 'king',\n",
       " 'called',\n",
       " 'princesses',\n",
       " 'asked',\n",
       " 'soldier',\n",
       " 'said',\n",
       " 'true',\n",
       " 'saw',\n",
       " 'discovered',\n",
       " 'use',\n",
       " 'deny',\n",
       " 'happened',\n",
       " 'confessed',\n",
       " 'king',\n",
       " 'asked',\n",
       " 'soldier',\n",
       " 'choose',\n",
       " 'wife',\n",
       " 'answered',\n",
       " 'young',\n",
       " 'eldestand',\n",
       " 'married',\n",
       " 'day',\n",
       " 'soldier',\n",
       " 'chosen',\n",
       " 'kings',\n",
       " 'heir']"
      ]
     },
     "execution_count": 33,
     "metadata": {},
     "output_type": "execute_result"
    }
   ],
   "source": [
    "words_nostop"
   ]
  },
  {
   "cell_type": "markdown",
   "metadata": {
    "slideshow": {
     "slide_type": "subslide"
    }
   },
   "source": [
    "- More comprehensible, and unique list or words!"
   ]
  },
  {
   "cell_type": "code",
   "execution_count": 34,
   "metadata": {},
   "outputs": [
    {
     "data": {
      "text/plain": [
       "[('king', 5),\n",
       " ('asked', 3),\n",
       " ('soldier', 3),\n",
       " ('branches', 2),\n",
       " ('golden', 2),\n",
       " ('cup', 2),\n",
       " ('princesses', 2),\n",
       " ('answered', 2),\n",
       " ('happened', 2),\n",
       " ('soon', 1)]"
      ]
     },
     "execution_count": 34,
     "metadata": {},
     "output_type": "execute_result"
    }
   ],
   "source": [
    "Counter(words_nostop).most_common(10)"
   ]
  },
  {
   "cell_type": "code",
   "execution_count": 35,
   "metadata": {
    "slideshow": {
     "slide_type": "subslide"
    }
   },
   "outputs": [
    {
     "data": {
      "image/png": "[encoded data removed]",
      "text/plain": [
       "<Figure size 3240x720 with 1 Axes>"
      ]
     },
     "metadata": {
      "needs_background": "light"
     },
     "output_type": "display_data"
    }
   ],
   "source": [
    "plt.figure(figsize=(45,10))\n",
    "sns.countplot(x=words_nostop, order=pd.Series(words_nostop).value_counts().index)\n",
    "# sns.countplot(words_nostop, order=[counted[0] for counted in Counter(words_nostop).most_common()])\n",
    "plt.xticks(rotation=90)\n",
    "plt.show()"
   ]
  },
  {
   "cell_type": "markdown",
   "metadata": {
    "slideshow": {
     "slide_type": "slide"
    }
   },
   "source": [
    "# 1. Extracting linguistic features from spaCy"
   ]
  },
  {
   "cell_type": "markdown",
   "metadata": {
    "slideshow": {
     "slide_type": "subslide"
    }
   },
   "source": [
    "## 1-1. Tokenize\n",
    "- Token: a semantic unit for analysis\n",
    "    - (Loosely) equal term for word\n",
    "        - ```sent_low_pnct.split()```\n",
    "    - Tricky cases\n",
    "        - aren't $\\rightarrow$ ![](https://nlp.stanford.edu/IR-book/html/htmledition/img88.png) ![](https://nlp.stanford.edu/IR-book/html/htmledition/img89.png) ? ![](https://nlp.stanford.edu/IR-book/html/htmledition/img86.png) ?\n",
    "        - O'Neil $\\rightarrow$ ![](https://nlp.stanford.edu/IR-book/html/htmledition/img83.png) ? ![](https://nlp.stanford.edu/IR-book/html/htmledition/img84.png) ![](https://nlp.stanford.edu/IR-book/html/htmledition/img81.png) ?\n",
    "        - https://nlp.stanford.edu/IR-book/html/htmledition/tokenization-1.html\n",
    "- In ```spaCy```:\n",
    "    - Many token types, like word, puntuation symbol, whitespace, etc."
   ]
  },
  {
   "cell_type": "markdown",
   "metadata": {
    "slideshow": {
     "slide_type": "subslide"
    }
   },
   "source": [
    "### Let's dissect the sentence!\n",
    "\n",
    "- initiating the ```spaCy``` object "
   ]
  },
  {
   "cell_type": "code",
   "execution_count": 36,
   "metadata": {
    "slideshow": {
     "slide_type": "subslide"
    }
   },
   "outputs": [],
   "source": [
    "# examples partially taken from https://nlpforhackers.io/complete-guide-to-spacy/\n",
    "import spacy\n",
    "nlp = spacy.load('en_core_web_sm')"
   ]
  },
  {
   "cell_type": "code",
   "execution_count": 37,
   "metadata": {},
   "outputs": [
    {
     "data": {
      "text/plain": [
       "spacy.lang.en.English"
      ]
     },
     "execution_count": 37,
     "metadata": {},
     "output_type": "execute_result"
    }
   ],
   "source": [
    "type(nlp)"
   ]
  },
  {
   "cell_type": "markdown",
   "metadata": {
    "slideshow": {
     "slide_type": "subslide"
    }
   },
   "source": [
    "- Our sentence: \"Hello World!\"\n",
    "    - Pass the sentence string to the ```spaCy``` object ```nlp```"
   ]
  },
  {
   "cell_type": "code",
   "execution_count": 38,
   "metadata": {},
   "outputs": [],
   "source": [
    "doc = nlp(\"Hello World!\")"
   ]
  },
  {
   "cell_type": "markdown",
   "metadata": {
    "slideshow": {
     "slide_type": "subslide"
    }
   },
   "source": [
    "- The sentence is considered as a short document."
   ]
  },
  {
   "cell_type": "code",
   "execution_count": 39,
   "metadata": {},
   "outputs": [
    {
     "name": "stdout",
     "output_type": "stream",
     "text": [
      "<class 'spacy.tokens.doc.Doc'> Hello World!\n"
     ]
    }
   ],
   "source": [
    "print(type(doc), doc)"
   ]
  },
  {
   "cell_type": "markdown",
   "metadata": {
    "slideshow": {
     "slide_type": "subslide"
    }
   },
   "source": [
    "- As importing the sentence string above, ```spaCy``` split the sentence into tokens (tokenization!)"
   ]
  },
  {
   "cell_type": "code",
   "execution_count": 41,
   "metadata": {},
   "outputs": [
    {
     "name": "stdout",
     "output_type": "stream",
     "text": [
      "0 Hello\n",
      "1 World\n",
      "2 !\n"
     ]
    }
   ],
   "source": [
    "for i,token in enumerate(doc):\n",
    "    print(i, token)"
   ]
  },
  {
   "cell_type": "markdown",
   "metadata": {
    "slideshow": {
     "slide_type": "subslide"
    }
   },
   "source": [
    "- With index information (location from the sentence) of each token"
   ]
  },
  {
   "cell_type": "markdown",
   "metadata": {},
   "source": [
    "| 0 | 1 | 2 | 3 | 4 | 5 | 6 | 7 | 8 | 9 | 10| 11|\n",
    "|---|---|---|---|---|---|---|---|---|---|---|---|\n",
    "| H | e | l | l | o | _ | W | o | r | l | d | ! |"
   ]
  },
  {
   "cell_type": "code",
   "execution_count": 42,
   "metadata": {
    "slideshow": {
     "slide_type": "subslide"
    }
   },
   "outputs": [
    {
     "name": "stdout",
     "output_type": "stream",
     "text": [
      "0 Hello 0\n",
      "1 World 6\n",
      "2 ! 11\n"
     ]
    }
   ],
   "source": [
    "for i, token in enumerate(doc):\n",
    "    print(i, token.text, token.idx) \n"
   ]
  },
  {
   "cell_type": "markdown",
   "metadata": {
    "slideshow": {
     "slide_type": "subslide"
    }
   },
   "source": [
    "- And many more!\n",
    "    - https://spacy.io/api/token#attributes"
   ]
  },
  {
   "cell_type": "code",
   "execution_count": 43,
   "metadata": {
    "scrolled": true
   },
   "outputs": [
    {
     "data": {
      "text/plain": [
       "'\\nAs soon as the time came when he was to declare the secret, he was taken\\nbefore the king with the three branches and the golden cup; and the\\ntwelve princesses stood listening behind the door to hear what he would\\nsay. And when the king asked him. ‘Where do my twelve daughters dance at\\nnight?’ he answered, ‘With twelve princes in a castle under ground.’ And\\nthen he told the king all that had happened, and showed him the three\\nbranches and the golden cup which he had brought with him. Then the king\\ncalled for the princesses, and asked them whether what the soldier said\\nwas true: and when they saw that they were discovered, and that it was\\nof no use to deny what had happened, they confessed it all. And the king\\nasked the soldier which of them he would choose for his wife; and he\\nanswered, ‘I am not very young, so I will have the eldest.’--And they\\nwere married that very day, and the soldier was chosen to be the king’s\\nheir.\\n\\n'"
      ]
     },
     "execution_count": 43,
     "metadata": {},
     "output_type": "execute_result"
    }
   ],
   "source": [
    "sentences"
   ]
  },
  {
   "cell_type": "code",
   "execution_count": 44,
   "metadata": {
    "scrolled": true,
    "slideshow": {
     "slide_type": "subslide"
    }
   },
   "outputs": [
    {
     "name": "stdout",
     "output_type": "stream",
     "text": [
      "text\tidx\tlemma\tlower\tpunct\tspace\tshape\tPOS\n",
      "SPACE\n",
      "As\t1\tas\tas\tFalse\tFalse\tXx\tADV\n",
      "soon\t4\tsoon\tsoon\tFalse\tFalse\txxxx\tADV\n",
      "as\t9\tas\tas\tFalse\tFalse\txx\tSCONJ\n",
      "the\t12\tthe\tthe\tFalse\tFalse\txxx\tDET\n",
      "time\t16\ttime\ttime\tFalse\tFalse\txxxx\tNOUN\n",
      "came\t21\tcome\tcame\tFalse\tFalse\txxxx\tVERB\n",
      "when\t26\twhen\twhen\tFalse\tFalse\txxxx\tSCONJ\n",
      "he\t31\the\the\tFalse\tFalse\txx\tPRON\n",
      "was\t34\tbe\twas\tFalse\tFalse\txxx\tAUX\n",
      "to\t38\tto\tto\tFalse\tFalse\txx\tPART\n",
      "declare\t41\tdeclare\tdeclare\tFalse\tFalse\txxxx\tVERB\n",
      "the\t49\tthe\tthe\tFalse\tFalse\txxx\tDET\n",
      "secret\t53\tsecret\tsecret\tFalse\tFalse\txxxx\tNOUN\n",
      ",\t59\t,\t,\tTrue\tFalse\t,\tPUNCT\n",
      "he\t61\the\the\tFalse\tFalse\txx\tPRON\n",
      "was\t64\tbe\twas\tFalse\tFalse\txxx\tAUX\n",
      "taken\t68\ttake\ttaken\tFalse\tFalse\txxxx\tVERB\n",
      "SPACE\n",
      "before\t74\tbefore\tbefore\tFalse\tFalse\txxxx\tADP\n",
      "the\t81\tthe\tthe\tFalse\tFalse\txxx\tDET\n",
      "king\t85\tking\tking\tFalse\tFalse\txxxx\tNOUN\n",
      "with\t90\twith\twith\tFalse\tFalse\txxxx\tADP\n",
      "the\t95\tthe\tthe\tFalse\tFalse\txxx\tDET\n",
      "three\t99\tthree\tthree\tFalse\tFalse\txxxx\tNUM\n",
      "branches\t105\tbranch\tbranches\tFalse\tFalse\txxxx\tNOUN\n",
      "and\t114\tand\tand\tFalse\tFalse\txxx\tCCONJ\n",
      "the\t118\tthe\tthe\tFalse\tFalse\txxx\tDET\n",
      "golden\t122\tgolden\tgolden\tFalse\tFalse\txxxx\tADJ\n",
      "cup\t129\tcup\tcup\tFalse\tFalse\txxx\tNOUN\n",
      ";\t132\t;\t;\tTrue\tFalse\t;\tPUNCT\n",
      "and\t134\tand\tand\tFalse\tFalse\txxx\tCCONJ\n",
      "the\t138\tthe\tthe\tFalse\tFalse\txxx\tDET\n",
      "SPACE\n",
      "twelve\t142\ttwelve\ttwelve\tFalse\tFalse\txxxx\tNUM\n",
      "princesses\t149\tprincess\tprincesses\tFalse\tFalse\txxxx\tNOUN\n",
      "stood\t160\tstand\tstood\tFalse\tFalse\txxxx\tVERB\n",
      "listening\t166\tlisten\tlistening\tFalse\tFalse\txxxx\tVERB\n",
      "behind\t176\tbehind\tbehind\tFalse\tFalse\txxxx\tADP\n",
      "the\t183\tthe\tthe\tFalse\tFalse\txxx\tDET\n",
      "door\t187\tdoor\tdoor\tFalse\tFalse\txxxx\tNOUN\n",
      "to\t192\tto\tto\tFalse\tFalse\txx\tPART\n",
      "hear\t195\thear\thear\tFalse\tFalse\txxxx\tVERB\n",
      "what\t200\twhat\twhat\tFalse\tFalse\txxxx\tPRON\n",
      "he\t205\the\the\tFalse\tFalse\txx\tPRON\n",
      "would\t208\twould\twould\tFalse\tFalse\txxxx\tAUX\n",
      "SPACE\n",
      "say\t214\tsay\tsay\tFalse\tFalse\txxx\tVERB\n",
      ".\t217\t.\t.\tTrue\tFalse\t.\tPUNCT\n",
      "And\t219\tand\tand\tFalse\tFalse\tXxx\tCCONJ\n",
      "when\t223\twhen\twhen\tFalse\tFalse\txxxx\tSCONJ\n",
      "the\t228\tthe\tthe\tFalse\tFalse\txxx\tDET\n",
      "king\t232\tking\tking\tFalse\tFalse\txxxx\tNOUN\n",
      "asked\t237\task\tasked\tFalse\tFalse\txxxx\tVERB\n",
      "him\t243\the\thim\tFalse\tFalse\txxx\tPRON\n",
      ".\t246\t.\t.\tTrue\tFalse\t.\tPUNCT\n",
      "‘\t248\t'\t‘\tTrue\tFalse\t‘\tPUNCT\n",
      "Where\t249\twhere\twhere\tFalse\tFalse\tXxxxx\tSCONJ\n",
      "do\t255\tdo\tdo\tFalse\tFalse\txx\tAUX\n",
      "my\t258\tmy\tmy\tFalse\tFalse\txx\tPRON\n",
      "twelve\t261\ttwelve\ttwelve\tFalse\tFalse\txxxx\tNUM\n",
      "daughters\t268\tdaughter\tdaughters\tFalse\tFalse\txxxx\tNOUN\n",
      "dance\t278\tdance\tdance\tFalse\tFalse\txxxx\tVERB\n",
      "at\t284\tat\tat\tFalse\tFalse\txx\tADP\n",
      "SPACE\n",
      "night\t287\tnight\tnight\tFalse\tFalse\txxxx\tNOUN\n",
      "?\t292\t?\t?\tTrue\tFalse\t?\tPUNCT\n",
      "’\t293\t'\t’\tTrue\tFalse\t’\tPUNCT\n",
      "he\t295\the\the\tFalse\tFalse\txx\tPRON\n",
      "answered\t298\tanswer\tanswered\tFalse\tFalse\txxxx\tVERB\n",
      ",\t306\t,\t,\tTrue\tFalse\t,\tPUNCT\n",
      "‘\t308\t'\t‘\tTrue\tFalse\t‘\tPUNCT\n",
      "With\t309\twith\twith\tFalse\tFalse\tXxxx\tADP\n",
      "twelve\t314\ttwelve\ttwelve\tFalse\tFalse\txxxx\tNUM\n",
      "princes\t321\tprince\tprinces\tFalse\tFalse\txxxx\tNOUN\n",
      "in\t329\tin\tin\tFalse\tFalse\txx\tADP\n",
      "a\t332\ta\ta\tFalse\tFalse\tx\tDET\n",
      "castle\t334\tcastle\tcastle\tFalse\tFalse\txxxx\tNOUN\n",
      "under\t341\tunder\tunder\tFalse\tFalse\txxxx\tADP\n",
      "ground\t347\tground\tground\tFalse\tFalse\txxxx\tNOUN\n",
      ".\t353\t.\t.\tTrue\tFalse\t.\tPUNCT\n",
      "’\t354\t'\t’\tTrue\tFalse\t’\tPUNCT\n",
      "And\t356\tand\tand\tFalse\tFalse\tXxx\tCCONJ\n",
      "SPACE\n",
      "then\t360\tthen\tthen\tFalse\tFalse\txxxx\tADV\n",
      "he\t365\the\the\tFalse\tFalse\txx\tPRON\n",
      "told\t368\ttell\ttold\tFalse\tFalse\txxxx\tVERB\n",
      "the\t373\tthe\tthe\tFalse\tFalse\txxx\tDET\n",
      "king\t377\tking\tking\tFalse\tFalse\txxxx\tNOUN\n",
      "all\t382\tall\tall\tFalse\tFalse\txxx\tPRON\n",
      "that\t386\tthat\tthat\tFalse\tFalse\txxxx\tPRON\n",
      "had\t391\thave\thad\tFalse\tFalse\txxx\tAUX\n",
      "happened\t395\thappen\thappened\tFalse\tFalse\txxxx\tVERB\n",
      ",\t403\t,\t,\tTrue\tFalse\t,\tPUNCT\n",
      "and\t405\tand\tand\tFalse\tFalse\txxx\tCCONJ\n",
      "showed\t409\tshow\tshowed\tFalse\tFalse\txxxx\tVERB\n",
      "him\t416\the\thim\tFalse\tFalse\txxx\tPRON\n",
      "the\t420\tthe\tthe\tFalse\tFalse\txxx\tDET\n",
      "three\t424\tthree\tthree\tFalse\tFalse\txxxx\tNUM\n",
      "SPACE\n",
      "branches\t430\tbranch\tbranches\tFalse\tFalse\txxxx\tNOUN\n",
      "and\t439\tand\tand\tFalse\tFalse\txxx\tCCONJ\n",
      "the\t443\tthe\tthe\tFalse\tFalse\txxx\tDET\n",
      "golden\t447\tgolden\tgolden\tFalse\tFalse\txxxx\tADJ\n",
      "cup\t454\tcup\tcup\tFalse\tFalse\txxx\tNOUN\n",
      "which\t458\twhich\twhich\tFalse\tFalse\txxxx\tPRON\n",
      "he\t464\the\the\tFalse\tFalse\txx\tPRON\n",
      "had\t467\thave\thad\tFalse\tFalse\txxx\tAUX\n",
      "brought\t471\tbring\tbrought\tFalse\tFalse\txxxx\tVERB\n",
      "with\t479\twith\twith\tFalse\tFalse\txxxx\tADP\n",
      "him\t484\the\thim\tFalse\tFalse\txxx\tPRON\n",
      ".\t487\t.\t.\tTrue\tFalse\t.\tPUNCT\n",
      "Then\t489\tthen\tthen\tFalse\tFalse\tXxxx\tADV\n",
      "the\t494\tthe\tthe\tFalse\tFalse\txxx\tDET\n",
      "king\t498\tking\tking\tFalse\tFalse\txxxx\tNOUN\n",
      "SPACE\n",
      "called\t503\tcall\tcalled\tFalse\tFalse\txxxx\tVERB\n",
      "for\t510\tfor\tfor\tFalse\tFalse\txxx\tADP\n",
      "the\t514\tthe\tthe\tFalse\tFalse\txxx\tDET\n",
      "princesses\t518\tprincess\tprincesses\tFalse\tFalse\txxxx\tNOUN\n",
      ",\t528\t,\t,\tTrue\tFalse\t,\tPUNCT\n",
      "and\t530\tand\tand\tFalse\tFalse\txxx\tCCONJ\n",
      "asked\t534\task\tasked\tFalse\tFalse\txxxx\tVERB\n",
      "them\t540\tthey\tthem\tFalse\tFalse\txxxx\tPRON\n",
      "whether\t545\twhether\twhether\tFalse\tFalse\txxxx\tSCONJ\n",
      "what\t553\twhat\twhat\tFalse\tFalse\txxxx\tPRON\n",
      "the\t558\tthe\tthe\tFalse\tFalse\txxx\tDET\n",
      "soldier\t562\tsoldier\tsoldier\tFalse\tFalse\txxxx\tNOUN\n",
      "said\t570\tsay\tsaid\tFalse\tFalse\txxxx\tVERB\n",
      "SPACE\n",
      "was\t575\tbe\twas\tFalse\tFalse\txxx\tAUX\n",
      "true\t579\ttrue\ttrue\tFalse\tFalse\txxxx\tADJ\n",
      ":\t583\t:\t:\tTrue\tFalse\t:\tPUNCT\n",
      "and\t585\tand\tand\tFalse\tFalse\txxx\tCCONJ\n",
      "when\t589\twhen\twhen\tFalse\tFalse\txxxx\tSCONJ\n",
      "they\t594\tthey\tthey\tFalse\tFalse\txxxx\tPRON\n",
      "saw\t599\tsee\tsaw\tFalse\tFalse\txxx\tVERB\n",
      "that\t603\tthat\tthat\tFalse\tFalse\txxxx\tSCONJ\n",
      "they\t608\tthey\tthey\tFalse\tFalse\txxxx\tPRON\n",
      "were\t613\tbe\twere\tFalse\tFalse\txxxx\tAUX\n",
      "discovered\t618\tdiscover\tdiscovered\tFalse\tFalse\txxxx\tVERB\n",
      ",\t628\t,\t,\tTrue\tFalse\t,\tPUNCT\n",
      "and\t630\tand\tand\tFalse\tFalse\txxx\tCCONJ\n",
      "that\t634\tthat\tthat\tFalse\tFalse\txxxx\tSCONJ\n",
      "it\t639\tit\tit\tFalse\tFalse\txx\tPRON\n",
      "was\t642\tbe\twas\tFalse\tFalse\txxx\tAUX\n",
      "SPACE\n",
      "of\t646\tof\tof\tFalse\tFalse\txx\tNOUN\n",
      "no\t649\tno\tno\tFalse\tFalse\txx\tDET\n",
      "use\t652\tuse\tuse\tFalse\tFalse\txxx\tNOUN\n",
      "to\t656\tto\tto\tFalse\tFalse\txx\tPART\n",
      "deny\t659\tdeny\tdeny\tFalse\tFalse\txxxx\tVERB\n",
      "what\t664\twhat\twhat\tFalse\tFalse\txxxx\tPRON\n",
      "had\t669\thave\thad\tFalse\tFalse\txxx\tAUX\n",
      "happened\t673\thappen\thappened\tFalse\tFalse\txxxx\tVERB\n",
      ",\t681\t,\t,\tTrue\tFalse\t,\tPUNCT\n",
      "they\t683\tthey\tthey\tFalse\tFalse\txxxx\tPRON\n",
      "confessed\t688\tconfess\tconfessed\tFalse\tFalse\txxxx\tVERB\n",
      "it\t698\tit\tit\tFalse\tFalse\txx\tPRON\n",
      "all\t701\tall\tall\tFalse\tFalse\txxx\tPRON\n",
      ".\t704\t.\t.\tTrue\tFalse\t.\tPUNCT\n",
      "And\t706\tand\tand\tFalse\tFalse\tXxx\tCCONJ\n",
      "the\t710\tthe\tthe\tFalse\tFalse\txxx\tDET\n",
      "king\t714\tking\tking\tFalse\tFalse\txxxx\tNOUN\n",
      "SPACE\n",
      "asked\t719\task\tasked\tFalse\tFalse\txxxx\tVERB\n",
      "the\t725\tthe\tthe\tFalse\tFalse\txxx\tDET\n",
      "soldier\t729\tsoldier\tsoldier\tFalse\tFalse\txxxx\tNOUN\n",
      "which\t737\twhich\twhich\tFalse\tFalse\txxxx\tPRON\n",
      "of\t743\tof\tof\tFalse\tFalse\txx\tADP\n",
      "them\t746\tthey\tthem\tFalse\tFalse\txxxx\tPRON\n",
      "he\t751\the\the\tFalse\tFalse\txx\tPRON\n",
      "would\t754\twould\twould\tFalse\tFalse\txxxx\tAUX\n",
      "choose\t760\tchoose\tchoose\tFalse\tFalse\txxxx\tVERB\n",
      "for\t767\tfor\tfor\tFalse\tFalse\txxx\tADP\n",
      "his\t771\this\this\tFalse\tFalse\txxx\tPRON\n",
      "wife\t775\twife\twife\tFalse\tFalse\txxxx\tNOUN\n",
      ";\t779\t;\t;\tTrue\tFalse\t;\tPUNCT\n",
      "and\t781\tand\tand\tFalse\tFalse\txxx\tCCONJ\n",
      "he\t785\the\the\tFalse\tFalse\txx\tPRON\n",
      "SPACE\n",
      "answered\t788\tanswer\tanswered\tFalse\tFalse\txxxx\tVERB\n",
      ",\t796\t,\t,\tTrue\tFalse\t,\tPUNCT\n",
      "‘\t798\t'\t‘\tTrue\tFalse\t‘\tPUNCT\n",
      "I\t799\tI\ti\tFalse\tFalse\tX\tPRON\n",
      "am\t801\tbe\tam\tFalse\tFalse\txx\tAUX\n",
      "not\t804\tnot\tnot\tFalse\tFalse\txxx\tPART\n",
      "very\t808\tvery\tvery\tFalse\tFalse\txxxx\tADV\n",
      "young\t813\tyoung\tyoung\tFalse\tFalse\txxxx\tADJ\n",
      ",\t818\t,\t,\tTrue\tFalse\t,\tPUNCT\n",
      "so\t820\tso\tso\tFalse\tFalse\txx\tADV\n",
      "I\t823\tI\ti\tFalse\tFalse\tX\tPRON\n",
      "will\t825\twill\twill\tFalse\tFalse\txxxx\tAUX\n",
      "have\t830\thave\thave\tFalse\tFalse\txxxx\tVERB\n",
      "the\t835\tthe\tthe\tFalse\tFalse\txxx\tDET\n",
      "eldest\t839\teld\teldest\tFalse\tFalse\txxxx\tADJ\n",
      ".\t845\t.\t.\tTrue\tFalse\t.\tPUNCT\n",
      "’--And\t846\t’--And\t’--and\tFalse\tFalse\t’--Xxx\tPROPN\n",
      "they\t853\tthey\tthey\tFalse\tFalse\txxxx\tPRON\n",
      "SPACE\n",
      "were\t858\tbe\twere\tFalse\tFalse\txxxx\tAUX\n",
      "married\t863\tmarry\tmarried\tFalse\tFalse\txxxx\tVERB\n",
      "that\t871\tthat\tthat\tFalse\tFalse\txxxx\tDET\n",
      "very\t876\tvery\tvery\tFalse\tFalse\txxxx\tADJ\n",
      "day\t881\tday\tday\tFalse\tFalse\txxx\tNOUN\n",
      ",\t884\t,\t,\tTrue\tFalse\t,\tPUNCT\n",
      "and\t886\tand\tand\tFalse\tFalse\txxx\tCCONJ\n",
      "the\t890\tthe\tthe\tFalse\tFalse\txxx\tDET\n",
      "soldier\t894\tsoldier\tsoldier\tFalse\tFalse\txxxx\tNOUN\n",
      "was\t902\tbe\twas\tFalse\tFalse\txxx\tAUX\n",
      "chosen\t906\tchoose\tchosen\tFalse\tFalse\txxxx\tVERB\n",
      "to\t913\tto\tto\tFalse\tFalse\txx\tPART\n",
      "be\t916\tbe\tbe\tFalse\tFalse\txx\tAUX\n",
      "the\t919\tthe\tthe\tFalse\tFalse\txxx\tDET\n",
      "king\t923\tking\tking\tFalse\tFalse\txxxx\tNOUN\n",
      "’s\t927\t’s\t’s\tFalse\tFalse\t’x\tPART\n",
      "SPACE\n",
      "heir\t930\their\their\tFalse\tFalse\txxxx\tNOUN\n",
      ".\t934\t.\t.\tTrue\tFalse\t.\tPUNCT\n",
      "SPACE\n"
     ]
    }
   ],
   "source": [
    "doc = nlp(sentences)\n",
    "\n",
    "print(\"text\\tidx\\tlemma\\tlower\\tpunct\\tspace\\tshape\\tPOS\")\n",
    "for token in doc:\n",
    "    if token.is_space:\n",
    "        print(\"SPACE\")\n",
    "    else:\n",
    "        print(\"{0}\\t{1}\\t{2}\\t{3}\\t{4}\\t{5}\\t{6}\\t{7}\".format(\n",
    "            token.text,\n",
    "            token.idx,\n",
    "            token.lemma_,\n",
    "            token.lower_,\n",
    "            token.is_punct,\n",
    "            token.is_space,\n",
    "            token.shape_,\n",
    "            token.pos_\n",
    "    ))\n"
   ]
  },
  {
   "cell_type": "markdown",
   "metadata": {
    "slideshow": {
     "slide_type": "slide"
    }
   },
   "source": [
    "## 1-2. Sentence detection"
   ]
  },
  {
   "cell_type": "markdown",
   "metadata": {
    "slideshow": {
     "slide_type": "-"
    }
   },
   "source": [
    "- For the document with multiple sentences, we would need to separate  each sentence.\n",
    "- In ```spaCy```, the job is more convenient (and would cause less mistakes) than using regular expression"
   ]
  },
  {
   "cell_type": "code",
   "execution_count": 45,
   "metadata": {},
   "outputs": [
    {
     "data": {
      "text/plain": [
       "'\\nAs soon as the time came when he was to declare the secret, he was taken\\nbefore the king with the three branches and the golden cup; and the\\ntwelve princesses stood listening behind the door to hear what he would\\nsay. And when the king asked him. ‘Where do my twelve daughters dance at\\nnight?’ he answered, ‘With twelve princes in a castle under ground.’ And\\nthen he told the king all that had happened, and showed him the three\\nbranches and the golden cup which he had brought with him. Then the king\\ncalled for the princesses, and asked them whether what the soldier said\\nwas true: and when they saw that they were discovered, and that it was\\nof no use to deny what had happened, they confessed it all. And the king\\nasked the soldier which of them he would choose for his wife; and he\\nanswered, ‘I am not very young, so I will have the eldest.’--And they\\nwere married that very day, and the soldier was chosen to be the king’s\\nheir.\\n\\n'"
      ]
     },
     "execution_count": 45,
     "metadata": {},
     "output_type": "execute_result"
    }
   ],
   "source": [
    "sentences"
   ]
  },
  {
   "cell_type": "code",
   "execution_count": 46,
   "metadata": {
    "slideshow": {
     "slide_type": "subslide"
    }
   },
   "outputs": [],
   "source": [
    "# same document, but initiate as the spaCy object...\n",
    "doc = nlp(sentences)"
   ]
  },
  {
   "cell_type": "markdown",
   "metadata": {
    "slideshow": {
     "slide_type": "subslide"
    }
   },
   "source": [
    "- Sentences are stored as a generator object\n",
    "    - Instead of storing sentences as a list, each sentence is stored as a item in the generator object \n",
    "    - Iteratable (i.e., can be used in a for loop)\n",
    "    - More efficient memory use\n",
    "    - https://wiki.python.org/moin/Generators"
   ]
  },
  {
   "cell_type": "code",
   "execution_count": 47,
   "metadata": {
    "slideshow": {
     "slide_type": "subslide"
    }
   },
   "outputs": [
    {
     "data": {
      "text/plain": [
       "<generator at 0x1aa281e60e0>"
      ]
     },
     "execution_count": 47,
     "metadata": {},
     "output_type": "execute_result"
    }
   ],
   "source": [
    "doc.sents"
   ]
  },
  {
   "cell_type": "markdown",
   "metadata": {
    "slideshow": {
     "slide_type": "subslide"
    }
   },
   "source": [
    "- Printing sentences with the index number"
   ]
  },
  {
   "cell_type": "code",
   "execution_count": 48,
   "metadata": {
    "scrolled": true
   },
   "outputs": [
    {
     "name": "stdout",
     "output_type": "stream",
     "text": [
      "0 \n",
      "As soon as the time came when he was to declare the secret, he was taken\n",
      "before the king with the three branches and the golden cup; and the\n",
      "twelve princesses stood listening behind the door to hear what he would\n",
      "say.\n",
      "1 And when the king asked him.\n",
      "2 ‘Where do my twelve daughters dance at\n",
      "night?’\n",
      "3 he answered, ‘With twelve princes in a castle under ground.’\n",
      "4 And\n",
      "then he told the king all that had happened, and showed him the three\n",
      "branches and the golden cup which he had brought with him.\n",
      "5 Then the king\n",
      "called for the princesses, and asked them whether what the soldier said\n",
      "was true: and when they saw that they were discovered, and that it was\n",
      "of no use to deny what had happened, they confessed it all.\n",
      "6 And the king\n",
      "asked the soldier which of them he would choose for his wife; and he\n",
      "answered, ‘I am not very young, so I will have the eldest.\n",
      "7 ’--And they\n",
      "were married that very day, and the soldier was chosen to be the king’s\n",
      "heir.\n",
      "8 \n",
      "\n",
      "\n"
     ]
    }
   ],
   "source": [
    "for i, sent in enumerate(doc.sents):\n",
    "    print(i, sent)"
   ]
  },
  {
   "cell_type": "markdown",
   "metadata": {
    "slideshow": {
     "slide_type": "slide"
    }
   },
   "source": [
    "## 1-3. POS tagging"
   ]
  },
  {
   "cell_type": "markdown",
   "metadata": {},
   "source": [
    "- I want to find words with particular part-of-speech!\n",
    "- Different part-of-speech words carry different information\n",
    "    - e.g., noun (subject), verb (action term), adjective (quality of the object) \n",
    "- https://spacy.io/api/annotation#pos-tagging"
   ]
  },
  {
   "cell_type": "markdown",
   "metadata": {
    "slideshow": {
     "slide_type": "subslide"
    }
   },
   "source": [
    "- Yelp review!"
   ]
  },
  {
   "cell_type": "code",
   "execution_count": 49,
   "metadata": {},
   "outputs": [],
   "source": [
    "# from https://www.yelp.com/biz/ajishin-novi?hrid=juA4Zn2TX7845vNFn4syBQ&utm_campaign=www_review_share_popup&utm_medium=copy_link&utm_source=(direct)\n",
    "doc = nlp(\"\"\"One of the best Japanese restaurants in Novi. Simple food, great taste, amazingly price. I visit this place a least twice month.\"\"\")"
   ]
  },
  {
   "cell_type": "markdown",
   "metadata": {
    "slideshow": {
     "slide_type": "subslide"
    }
   },
   "source": [
    "- multiple sentences exist in a document"
   ]
  },
  {
   "cell_type": "code",
   "execution_count": 50,
   "metadata": {},
   "outputs": [
    {
     "name": "stdout",
     "output_type": "stream",
     "text": [
      "0 One of the best Japanese restaurants in Novi.\n",
      "1 Simple food, great taste, amazingly price.\n",
      "2 I visit this place a least twice month.\n"
     ]
    }
   ],
   "source": [
    "for i, sent in enumerate(doc.sents):\n",
    "    print(i, sent)"
   ]
  },
  {
   "cell_type": "markdown",
   "metadata": {
    "slideshow": {
     "slide_type": "subslide"
    }
   },
   "source": [
    "- Question: which words are adjective (ADJ)?"
   ]
  },
  {
   "cell_type": "code",
   "execution_count": 51,
   "metadata": {
    "slideshow": {
     "slide_type": "subslide"
    }
   },
   "outputs": [
    {
     "name": "stdout",
     "output_type": "stream",
     "text": [
      "visit \t VERB\n"
     ]
    }
   ],
   "source": [
    "for i, sent in enumerate(doc.sents):\n",
    "    #print(\"__sentence__:\", i)\n",
    "    #print(\"_token_ \\t _POS_\")\n",
    "    for token in sent:\n",
    "        if token.pos_ == 'VERB':\n",
    "            print(token.text, \"\\t\", token.pos_)"
   ]
  },
  {
   "cell_type": "markdown",
   "metadata": {
    "slideshow": {
     "slide_type": "slide"
    }
   },
   "source": [
    "## Named Entity Recognition"
   ]
  },
  {
   "cell_type": "code",
   "execution_count": 52,
   "metadata": {
    "scrolled": true,
    "slideshow": {
     "slide_type": "subslide"
    }
   },
   "outputs": [
    {
     "name": "stdout",
     "output_type": "stream",
     "text": [
      "[('Democrat', 'NORP'), ('Stacey Abrams', 'PERSON'), ('first', 'ORDINAL'), ('African-American', 'NORP')]\n",
      "__sentence__: 0\n",
      "_token_ \t _POS_\n",
      "Democrat \t PROPN\n",
      "Stacey \t PROPN\n",
      "Abrams \t PROPN\n",
      "was \t AUX\n",
      "trailing \t VERB\n",
      "in \t ADP\n",
      "her \t PRON\n",
      "bid \t NOUN\n",
      "to \t PART\n",
      "become \t VERB\n",
      "the \t DET\n",
      "nation \t NOUN\n",
      "’s \t PART\n",
      "first \t ADJ\n",
      "female \t ADJ\n",
      "African \t ADJ\n",
      "- \t PUNCT\n",
      "American \t ADJ\n",
      "governor \t NOUN\n",
      ", \t PUNCT\n",
      "but \t CCONJ\n",
      "her \t PRON\n",
      "campaign \t NOUN\n",
      "said \t VERB\n",
      "voting \t NOUN\n",
      "problems \t NOUN\n",
      "as \t ADV\n",
      "well \t ADV\n",
      "as \t ADP\n",
      "uncounted \t ADJ\n",
      "absentee \t NOUN\n",
      "and \t CCONJ\n",
      "provisional \t ADJ\n",
      "ballots \t NOUN\n",
      "could \t AUX\n",
      "force \t VERB\n",
      "a \t DET\n",
      "runoff \t NOUN\n",
      ". \t PUNCT\n"
     ]
    }
   ],
   "source": [
    "doc = nlp(\"\"\"Democrat Stacey Abrams was trailing in her bid to become the nation’s first female African-American governor, but her campaign said voting problems as well as uncounted absentee and provisional ballots could force a runoff.\"\"\")\n",
    "#doc = nlp(sentences)\n",
    "print([(X.text, X.label_) for X in doc.ents])\n",
    "\n",
    "for i, sent in enumerate(doc.sents):\n",
    "    print(\"__sentence__:\", i)\n",
    "    print(\"_token_ \\t _POS_\")\n",
    "    for token in sent:\n",
    "        print(token.text, \"\\t\", token.pos_)\n",
    "\n"
   ]
  },
  {
   "cell_type": "code",
   "execution_count": 53,
   "metadata": {
    "slideshow": {
     "slide_type": "subslide"
    }
   },
   "outputs": [],
   "source": [
    "url='https://www.nytimes.com/2018/11/07/us/politics/democrats-republicans-house.html'"
   ]
  },
  {
   "cell_type": "code",
   "execution_count": 54,
   "metadata": {},
   "outputs": [],
   "source": [
    "url = 'https://fivethirtyeight.com/features/remembering-alex-trebek-the-man-with-all-the-answers/'"
   ]
  },
  {
   "cell_type": "code",
   "execution_count": 55,
   "metadata": {},
   "outputs": [
    {
     "name": "stdout",
     "output_type": "stream",
     "text": [
      "Requirement already satisfied: html5lib in c:\\users\\kaiya\\anaconda3\\lib\\site-packages (1.1)\n",
      "Collecting bs4\n",
      "  Downloading bs4-0.0.1.tar.gz (1.1 kB)\n",
      "Requirement already satisfied: webencodings in c:\\users\\kaiya\\anaconda3\\lib\\site-packages (from html5lib) (0.5.1)\n",
      "Requirement already satisfied: six>=1.9 in c:\\users\\kaiya\\anaconda3\\lib\\site-packages (from html5lib) (1.16.0)\n",
      "Requirement already satisfied: beautifulsoup4 in c:\\users\\kaiya\\anaconda3\\lib\\site-packages (from bs4) (4.10.0)\n",
      "Requirement already satisfied: soupsieve>1.2 in c:\\users\\kaiya\\anaconda3\\lib\\site-packages (from beautifulsoup4->bs4) (2.2.1)\n",
      "Building wheels for collected packages: bs4\n",
      "  Building wheel for bs4 (setup.py): started\n",
      "  Building wheel for bs4 (setup.py): finished with status 'done'\n",
      "  Created wheel for bs4: filename=bs4-0.0.1-py3-none-any.whl size=1271 sha256=01f42294ebe195e9a8c071a1e89cfc6fe1e20f87e377dea8bf61a19f52e009d1\n",
      "  Stored in directory: c:\\users\\kaiya\\appdata\\local\\pip\\cache\\wheels\\73\\2b\\cb\\099980278a0c9a3e57ff1a89875ec07bfa0b6fcbebb9a8cad3\n",
      "Successfully built bs4\n",
      "Installing collected packages: bs4\n",
      "Successfully installed bs4-0.0.1\n"
     ]
    }
   ],
   "source": [
    "!pip install html5lib bs4"
   ]
  },
  {
   "cell_type": "code",
   "execution_count": 56,
   "metadata": {
    "slideshow": {
     "slide_type": "subslide"
    }
   },
   "outputs": [
    {
     "data": {
      "text/plain": [
       "100"
      ]
     },
     "execution_count": 56,
     "metadata": {},
     "output_type": "execute_result"
    }
   ],
   "source": [
    "from bs4 import BeautifulSoup\n",
    "import requests\n",
    "import re\n",
    "def url_to_string(url):\n",
    "    res = requests.get(url)\n",
    "    html = res.text\n",
    "    soup = BeautifulSoup(html, 'html5lib')\n",
    "    for script in soup([\"script\", \"style\", 'aside']):\n",
    "        script.extract()\n",
    "    return \" \".join(re.split(r'[\\n\\t]+', soup.get_text()))\n",
    "ny_bb = url_to_string(url)\n",
    "article = nlp(ny_bb)\n",
    "len(article.ents)"
   ]
  },
  {
   "cell_type": "code",
   "execution_count": 57,
   "metadata": {},
   "outputs": [
    {
     "data": {
      "text/plain": [
       " Remembering Alex Trebek, The Man With All The Answers | FiveThirtyEight                     Skip to main content FiveThirtyEight Search Search Menu Remembering Alex Trebek, The Man With All The Answers Share on Facebook Share on Twitter Politics Sports Science Podcasts Video ABC News Nov. 9, 2020, at 4:09 PM Remembering Alex Trebek, The Man With All The Answers By Oliver Roeder Filed under Jeopardy! FacebookTwitterEmail   PHOTO ILLUSTRATION BY FIVETHIRTYEIGHT / GETTY IMAGES For decades, I’ve tuned into the trivia game show “Jeopardy!” for the facts. On Sunday, the show lost its judicious leader, Alex Trebek, who died at age 80 after a battle with cancer. Trebek had hosted “Jeopardy!” for my entire life. He began in 1984 and hosted every episode since — save for April Fool’s Day in 1997 when he and Pat Sajak of “Wheel of Fortune” swapped places — more than 8,000 half-hour shows in all. For many, watching Trebek was ritualistic — the way a day ends and a night begins. It was also a way to get real facts, a brief respite from the “alternative facts” so prevalent over the past few years. Trebek and the show — the two difficult now to divorce — were a beacon of democratic ideals, flattening the world for all to consume. High and low, popular and obscure, new and old, holy and profane, Trebek put all of them on equal terms. Look no further than the episode of “Jeopardy!” that aired this past Friday, for example. It featured clues about Rihanna, Madonna and Katy Perry, and clues about the city of Vaduz, the Russian navy and the German chancellor. All were on the same game board — though Gene Wilder and the Cook Strait were worth more money than any of them. “Jeopardy!” and Trebek have been a haven for facts as monuments of truth have crumbled in the public sphere. The holder of the country’s highest office now baselessly disputes legitimate election results, espousers of baseless and dangerous conspiracy theories are elected to Congress, and fact-checking is a booming industry. Trebek’s performance hasn’t changed to combat the untruths of the last few years, in part because it already was a kind of totem to the value of fact. Since 1984, he has stood each weekday in a suit behind a podium with a sheet of notes and delivered more than 400,000 clues, each a minor daily inoculation against the creep of lies — or whatever you want to call them. “Alex was so much more than a host,” tweeted James Holzhauer, who set a series of unreal records on “Jeopardy!” last spring. “He was an impartial arbiter of truth and facts in a world that needs exactly that.” The show’s eclectic and unpredictable subject matter is the result of an unassuming, wide-angle lens cast upon a large and complicated world. We call the material Trebek delivered “trivia,” but few things are less trivial than turning a generous eye toward the world — in all its strange and diverse splendor — and calling things by their right name. The headline on a great 2014 profile of Trebek in the New Republic declared him the “Last King of the American Middlebrow.” This is true not in a pejorative sense but in a statistical one, as in the average between high and low. Trebek’s essential demeanor — and therefore “Jeopardy!” itself — is stripped of pretension and pretext. The show’s archive showcases its diverse interests, each of which was presented on the show’s giant board simply and equally in the iconic all-caps white text on a blue square. Knowledge of the former British Prime Minister Benjamin Disraeli is worth the same as that of “The Office” actor Steve Carrell, as that of the toy Mr. Potato Head. The playwright Shakespeare is equal to the running back Walter Payton. The element helium is as valuable as the airport Heathrow. Trebek’s performance as host emphasized this egalitarianism. His affect was steady and his pronunciation — of French, most famously — was impeccable, and he took pre-show notes with diacritical marks to ensure that he’d get it right. And at the same time he was, among other things, an underrated rapper, as Holzhauer joked, enthusiastically engaging with the repertoires of Lil Wayne, Drake and Kendrick Lamar. “I’m not too good at it, but I was getting into it,” Trebek said after delivering the verses, and I believed him. Moreover, Trebek’s performance didn’t just lack pretension, it was anti-pretentious. He once famously lightly chastised three contestants, who had correctly answered clues about Molière and Thor Heyerdahl, for not knowing enough about football. “I have to talk to them,” Trebek said disapprovingly before going to commercial. The democratic nature of trivia had been thrown off-kilter, and Trebek had to correct it. By all accounts, Trebek embodied these trivia ideals while also being a genuine and gracious human. “Alex wasn’t just the best ever at what he did,” tweeted Ken Jennings, the show’s most famous contestant, who won a record 74 consecutive times. “He was also a lovely and deeply decent man, and I’m grateful for every minute I got to spend with him.” It was with this same ethos of decency and calm that Trebek announced, in March 2019, that he had been diagnosed with stage 4 pancreatic cancer. He said he “wanted to prevent you from reading or hearing some overblown or inaccurate reports regarding my health.” The rest of the short statement was filled with facts, and he vowed to fight the cancer and continue working. “Truth told, I have to,” he said, with a characteristic pinch of humor. “Because under the terms of my contract, I have to host ‘Jeopardy!’ for three more years.” I wish he were able to do so. The show may go on, but it’s hard to imagine anyone personifying its ideals as well as Alex Trebek did. Of course, the contestants on “Jeopardy!” just ask the questions. It was Trebek who had all the answers. Oliver Roeder was a senior writer for FiveThirtyEight. He holds a Ph.D. in economics from the University of Texas at Austin, where he studied game theory and political competition.  @ollie Comments Filed under Games (47 posts) Jeopardy! (7) Doo-Doo-Doo-Doo-Doo-Doo-Doo (4) Alex Trebek (2) Get more FiveThirtyEight Store Newsletter Twitter Facebook Data RSS Follow @FiveThirtyEight About Us Jobs Masthead Pitch FiveThirtyEight Advertise With Us About Nielsen Measurement Powered by WordPress VIP Terms of Use Privacy Policy Do Not Sell My Personal Information Your California Privacy Rights Children's Online Privacy Policy Interest-Based Ads © 2022 ABC News Internet Ventures. All rights reserved. Close Additional Information Terms of Use and Privacy Policy and Safety Information/Your California Privacy Rights/Children's Online Privacy Policy are applicable to you. © 2022 ABC News Internet Ventures. All rights reserved. Interest-Based Ads. Cookie Policy. Send to Email Address Your Name Your Email Address Cancel Post was not sent - check your email addresses! Email check failed, please try again Sorry, your blog cannot share posts by email. "
      ]
     },
     "execution_count": 57,
     "metadata": {},
     "output_type": "execute_result"
    }
   ],
   "source": [
    "article"
   ]
  },
  {
   "cell_type": "code",
   "execution_count": 58,
   "metadata": {
    "slideshow": {
     "slide_type": "subslide"
    }
   },
   "outputs": [
    {
     "data": {
      "text/plain": [
       "Counter({('PERSON', 'Alex Trebek'): 6,\n",
       "         ('WORK_OF_ART', 'The Man With All The Answers'): 1,\n",
       "         ('WORK_OF_ART',\n",
       "          'The Man With All The Answers Share on Facebook Share on Twitter Politics Sports Science Podcasts Video ABC News'): 1,\n",
       "         ('DATE', 'Nov. 9, 2020,'): 1,\n",
       "         ('TIME', '4:09 PM'): 1,\n",
       "         ('WORK_OF_ART', 'The Man With All The Answers By'): 1,\n",
       "         ('PERSON', 'Oliver Roeder'): 2,\n",
       "         ('ORG', 'Jeopardy'): 1,\n",
       "         ('PERSON', 'FIVETHIRTYEIGHT'): 1,\n",
       "         ('DATE', 'decades'): 1,\n",
       "         ('WORK_OF_ART', 'Jeopardy'): 7,\n",
       "         ('DATE', 'Sunday'): 1,\n",
       "         ('DATE', 'age 80'): 1,\n",
       "         ('DATE', '1984'): 2,\n",
       "         ('DATE', 'April Fool’s Day'): 1,\n",
       "         ('DATE', '1997'): 1,\n",
       "         ('PERSON', 'Pat Sajak'): 1,\n",
       "         ('WORK_OF_ART', 'Wheel of Fortune'): 1,\n",
       "         ('CARDINAL', 'more than 8,000'): 1,\n",
       "         ('PERSON', 'Trebek'): 5,\n",
       "         ('DATE', 'the past few years'): 1,\n",
       "         ('CARDINAL', 'two'): 1,\n",
       "         ('DATE', 'this past Friday'): 1,\n",
       "         ('PERSON', 'Rihanna'): 1,\n",
       "         ('PERSON', 'Madonna'): 1,\n",
       "         ('PERSON', 'Katy Perry'): 1,\n",
       "         ('ORG', 'Vaduz'): 1,\n",
       "         ('NORP', 'Russian'): 1,\n",
       "         ('NORP', 'German'): 1,\n",
       "         ('PERSON', 'Gene Wilder'): 1,\n",
       "         ('LOC', 'the Cook Strait'): 1,\n",
       "         ('ORG', 'Congress'): 1,\n",
       "         ('DATE', 'the last few years'): 1,\n",
       "         ('DATE', 'weekday'): 1,\n",
       "         ('CARDINAL', 'more than 400,000'): 1,\n",
       "         ('DATE', 'daily'): 1,\n",
       "         ('PERSON', 'James Holzhauer'): 1,\n",
       "         ('DATE', 'last spring'): 1,\n",
       "         ('NORP', 'Trebek'): 2,\n",
       "         ('DATE', '2014'): 1,\n",
       "         ('GPE', 'Trebek'): 1,\n",
       "         ('GPE', 'the New Republic'): 1,\n",
       "         ('WORK_OF_ART', 'Last King of the American Middlebrow'): 1,\n",
       "         ('NORP', 'British'): 1,\n",
       "         ('PERSON', 'Benjamin Disraeli'): 1,\n",
       "         ('PERSON', 'Steve Carrell'): 1,\n",
       "         ('PERSON', 'Potato'): 1,\n",
       "         ('PERSON', 'Shakespeare'): 1,\n",
       "         ('PERSON', 'Walter Payton'): 1,\n",
       "         ('EVENT', 'Heathrow'): 1,\n",
       "         ('ORG', 'Trebek'): 2,\n",
       "         ('NORP', 'French'): 1,\n",
       "         ('ORG', 'Holzhauer'): 1,\n",
       "         ('PERSON', 'Lil Wayne'): 1,\n",
       "         ('PERSON', 'Drake'): 1,\n",
       "         ('PERSON', 'Kendrick Lamar'): 1,\n",
       "         ('CARDINAL', 'three'): 1,\n",
       "         ('ORG', 'Molière'): 1,\n",
       "         ('PERSON', 'Thor Heyerdahl'): 1,\n",
       "         ('PERSON', 'Ken Jennings'): 1,\n",
       "         ('CARDINAL', '74'): 1,\n",
       "         ('DATE', 'March 2019'): 1,\n",
       "         ('CARDINAL', '4'): 2,\n",
       "         ('DATE', 'three more years'): 1,\n",
       "         ('WORK_OF_ART', 'Ph.D.'): 1,\n",
       "         ('ORG', 'the University of Texas'): 1,\n",
       "         ('GPE', 'Austin'): 1,\n",
       "         ('CARDINAL', '47'): 1,\n",
       "         ('ORG', 'Jeopardy!'): 1,\n",
       "         ('CARDINAL', '7'): 1,\n",
       "         ('CARDINAL', '2'): 1,\n",
       "         ('PERSON', 'Masthead Pitch'): 1,\n",
       "         ('PERSON', 'Measurement Powered'): 1,\n",
       "         ('ORG', 'WordPress'): 1,\n",
       "         ('DATE', '2022'): 2,\n",
       "         ('ORG', 'ABC News'): 2,\n",
       "         ('ORG', 'Close Additional Information Terms of Use'): 1,\n",
       "         ('PERSON', 'Cookie Policy'): 1})"
      ]
     },
     "execution_count": 58,
     "metadata": {},
     "output_type": "execute_result"
    }
   ],
   "source": [
    "labels = [(x.label_,x.text) for x in article.ents]\n",
    "#labels\n",
    "Counter(labels)"
   ]
  },
  {
   "cell_type": "code",
   "execution_count": 59,
   "metadata": {},
   "outputs": [
    {
     "data": {
      "text/plain": [
       "Counter({'PERSON': 33,\n",
       "         'WORK_OF_ART': 13,\n",
       "         'DATE': 19,\n",
       "         'TIME': 1,\n",
       "         'ORG': 13,\n",
       "         'CARDINAL': 10,\n",
       "         'NORP': 6,\n",
       "         'LOC': 1,\n",
       "         'GPE': 3,\n",
       "         'EVENT': 1})"
      ]
     },
     "execution_count": 59,
     "metadata": {},
     "output_type": "execute_result"
    }
   ],
   "source": [
    "labels = [x.label_ for x in article.ents]\n",
    "Counter(labels)"
   ]
  },
  {
   "cell_type": "code",
   "execution_count": 60,
   "metadata": {},
   "outputs": [
    {
     "data": {
      "text/plain": [
       "['PERSON',\n",
       " 'WORK_OF_ART',\n",
       " 'PERSON',\n",
       " 'WORK_OF_ART',\n",
       " 'DATE',\n",
       " 'TIME',\n",
       " 'PERSON',\n",
       " 'WORK_OF_ART',\n",
       " 'PERSON',\n",
       " 'ORG',\n",
       " 'PERSON',\n",
       " 'DATE',\n",
       " 'WORK_OF_ART',\n",
       " 'DATE',\n",
       " 'PERSON',\n",
       " 'DATE',\n",
       " 'WORK_OF_ART',\n",
       " 'DATE',\n",
       " 'DATE',\n",
       " 'DATE',\n",
       " 'PERSON',\n",
       " 'WORK_OF_ART',\n",
       " 'CARDINAL',\n",
       " 'PERSON',\n",
       " 'DATE',\n",
       " 'CARDINAL',\n",
       " 'WORK_OF_ART',\n",
       " 'DATE',\n",
       " 'PERSON',\n",
       " 'PERSON',\n",
       " 'PERSON',\n",
       " 'ORG',\n",
       " 'NORP',\n",
       " 'NORP',\n",
       " 'PERSON',\n",
       " 'LOC',\n",
       " 'WORK_OF_ART',\n",
       " 'PERSON',\n",
       " 'ORG',\n",
       " 'DATE',\n",
       " 'DATE',\n",
       " 'DATE',\n",
       " 'CARDINAL',\n",
       " 'DATE',\n",
       " 'PERSON',\n",
       " 'WORK_OF_ART',\n",
       " 'DATE',\n",
       " 'NORP',\n",
       " 'DATE',\n",
       " 'GPE',\n",
       " 'GPE',\n",
       " 'WORK_OF_ART',\n",
       " 'WORK_OF_ART',\n",
       " 'NORP',\n",
       " 'PERSON',\n",
       " 'PERSON',\n",
       " 'PERSON',\n",
       " 'PERSON',\n",
       " 'PERSON',\n",
       " 'EVENT',\n",
       " 'ORG',\n",
       " 'NORP',\n",
       " 'ORG',\n",
       " 'PERSON',\n",
       " 'PERSON',\n",
       " 'PERSON',\n",
       " 'ORG',\n",
       " 'CARDINAL',\n",
       " 'ORG',\n",
       " 'PERSON',\n",
       " 'PERSON',\n",
       " 'PERSON',\n",
       " 'PERSON',\n",
       " 'CARDINAL',\n",
       " 'NORP',\n",
       " 'DATE',\n",
       " 'CARDINAL',\n",
       " 'DATE',\n",
       " 'PERSON',\n",
       " 'WORK_OF_ART',\n",
       " 'PERSON',\n",
       " 'PERSON',\n",
       " 'WORK_OF_ART',\n",
       " 'ORG',\n",
       " 'GPE',\n",
       " 'CARDINAL',\n",
       " 'ORG',\n",
       " 'CARDINAL',\n",
       " 'CARDINAL',\n",
       " 'PERSON',\n",
       " 'CARDINAL',\n",
       " 'PERSON',\n",
       " 'PERSON',\n",
       " 'ORG',\n",
       " 'DATE',\n",
       " 'ORG',\n",
       " 'ORG',\n",
       " 'DATE',\n",
       " 'ORG',\n",
       " 'PERSON']"
      ]
     },
     "execution_count": 60,
     "metadata": {},
     "output_type": "execute_result"
    }
   ],
   "source": [
    "labels"
   ]
  },
  {
   "cell_type": "code",
   "execution_count": 61,
   "metadata": {
    "slideshow": {
     "slide_type": "subslide"
    }
   },
   "outputs": [
    {
     "data": {
      "image/png": "[encoded data removed]",
      "text/plain": [
       "<Figure size 3240x720 with 1 Axes>"
      ]
     },
     "metadata": {
      "needs_background": "light"
     },
     "output_type": "display_data"
    }
   ],
   "source": [
    "plt.figure(figsize=(45,10))\n",
    "sns.countplot(x=labels, order=pd.Series(labels).value_counts().index)\n",
    "# sns.countplot(words_nostop, order=[counted[0] for counted in Counter(words_nostop).most_common()])\n",
    "plt.xticks(rotation=90)\n",
    "plt.show()"
   ]
  },
  {
   "cell_type": "markdown",
   "metadata": {},
   "source": [
    "# NLP Part II"
   ]
  },
  {
   "cell_type": "code",
   "execution_count": 62,
   "metadata": {
    "slideshow": {
     "slide_type": "slide"
    }
   },
   "outputs": [],
   "source": [
    "import pandas as pd\n",
    "import numpy as np\n",
    "import seaborn as sns\n",
    "import matplotlib.pyplot as plt"
   ]
  },
  {
   "cell_type": "markdown",
   "metadata": {
    "slideshow": {
     "slide_type": "slide"
    }
   },
   "source": [
    "# 1. Word embedding"
   ]
  },
  {
   "cell_type": "markdown",
   "metadata": {
    "slideshow": {
     "slide_type": "subslide"
    }
   },
   "source": [
    "#### Word2Vec\n",
    "- Developed by [Mikolov et al., 2013](https://papers.nips.cc/paper/5021-distributed-representations-of-words-and-phrases-and-their-compositionality.pdf)\n",
    "- Represent the meaning of the words as a vector\n",
    "    - Vector: numeric array\n",
    "    - Output of a neural network model that predicts the next word\n",
    "- Surprisingly, many different semantic informations can be represented from word vectors of ```Word2Vec```\n",
    "- (More explanation in here: https://www.tensorflow.org/tutorials/representation/word2vec)"
   ]
  },
  {
   "cell_type": "code",
   "execution_count": 63,
   "metadata": {
    "slideshow": {
     "slide_type": "subslide"
    }
   },
   "outputs": [
    {
     "name": "stdout",
     "output_type": "stream",
     "text": [
      "Collecting gensim\n",
      "  Downloading gensim-4.1.2-cp39-cp39-win_amd64.whl (24.0 MB)\n",
      "Requirement already satisfied: smart-open>=1.8.1 in c:\\users\\kaiya\\anaconda3\\lib\\site-packages (from gensim) (5.2.1)\n",
      "Collecting Cython==0.29.23\n",
      "  Downloading Cython-0.29.23-cp39-cp39-win_amd64.whl (1.7 MB)\n",
      "Requirement already satisfied: numpy>=1.17.0 in c:\\users\\kaiya\\anaconda3\\lib\\site-packages (from gensim) (1.20.3)\n",
      "Requirement already satisfied: scipy>=0.18.1 in c:\\users\\kaiya\\anaconda3\\lib\\site-packages (from gensim) (1.7.1)\n",
      "Installing collected packages: Cython, gensim\n",
      "  Attempting uninstall: Cython\n",
      "    Found existing installation: Cython 0.29.24\n",
      "    Uninstalling Cython-0.29.24:\n",
      "      Successfully uninstalled Cython-0.29.24\n",
      "Successfully installed Cython-0.29.23 gensim-4.1.2\n"
     ]
    }
   ],
   "source": [
    "! pip install gensim"
   ]
  },
  {
   "cell_type": "markdown",
   "metadata": {},
   "source": [
    "You will also need to download a pretrained language model: https://github.com/eyaler/word2vec-slim/raw/master/GoogleNews-vectors-negative300-SLIM.bin.gz"
   ]
  },
  {
   "cell_type": "code",
   "execution_count": 64,
   "metadata": {},
   "outputs": [],
   "source": [
    "import gensim"
   ]
  },
  {
   "cell_type": "markdown",
   "metadata": {},
   "source": [
    "Change the filepath in the next cell to correspond to the location of the pretrained model file you downloaded above."
   ]
  },
  {
   "cell_type": "code",
   "execution_count": 67,
   "metadata": {},
   "outputs": [],
   "source": [
    "w2v_mod = gensim.models.KeyedVectors.load_word2vec_format(\"~\\Downloads\\GoogleNews-vectors-negative300-SLIM.bin.gz\", binary=True)"
   ]
  },
  {
   "cell_type": "markdown",
   "metadata": {
    "slideshow": {
     "slide_type": "slide"
    }
   },
   "source": [
    "## 1-1. Calculating similarity between words"
   ]
  },
  {
   "cell_type": "markdown",
   "metadata": {
    "slideshow": {
     "slide_type": "subslide"
    }
   },
   "source": [
    "- Q: What's similarity between *school* and *student*?"
   ]
  },
  {
   "cell_type": "markdown",
   "metadata": {},
   "source": [
    "- the word vector for *school* looks like this:"
   ]
  },
  {
   "cell_type": "code",
   "execution_count": 68,
   "metadata": {
    "slideshow": {
     "slide_type": "subslide"
    }
   },
   "outputs": [
    {
     "data": {
      "text/plain": [
       "array([ 3.70471478e-02,  1.14410305e-02,  1.49575379e-02,  8.87546614e-02,\n",
       "        3.96226160e-02, -2.67452672e-02,  6.33961856e-02, -1.90188568e-02,\n",
       "       -1.89445645e-03, -3.68490331e-02,  1.01037674e-01,  1.85235739e-02,\n",
       "        2.69433800e-02, -4.00188453e-02, -4.29905392e-02,  4.31886539e-02,\n",
       "       -8.12263638e-02,  5.72051527e-03,  5.54716662e-02, -3.56603563e-02,\n",
       "        8.32074955e-02,  6.93395808e-02,  4.72994987e-03,  6.97358102e-02,\n",
       "        1.96874887e-03, -1.41848966e-01,  9.22464067e-04,  7.48867467e-02,\n",
       "        4.85377051e-02, -1.02028241e-02,  4.14056368e-02, -4.33867648e-02,\n",
       "        1.62452739e-02,  3.04598873e-03, -6.61697686e-02, -6.06226064e-02,\n",
       "        9.27169248e-02, -2.04056483e-02,  1.88207440e-02,  5.07169515e-02,\n",
       "        5.29952534e-03,  5.19056283e-02,  4.47735563e-02, -2.05047056e-02,\n",
       "        1.39669729e-02,  5.86414747e-02,  6.97358102e-02, -1.12924464e-02,\n",
       "       -4.49716710e-02,  9.31131542e-02, -4.75471430e-02, -4.95282710e-02,\n",
       "       -1.44251098e-03, -4.61603515e-02,  8.59810784e-02, -8.47924054e-02,\n",
       "       -4.23962027e-02,  1.78301781e-02, -5.00235567e-03, -6.45848662e-02,\n",
       "       -3.58584709e-02, -1.62452739e-02,  4.31886539e-02, -2.06037611e-02,\n",
       "        3.14999819e-02,  5.94339259e-02, -7.01320320e-02,  8.39999467e-02,\n",
       "        8.96461774e-03,  1.64433867e-02, -7.44905248e-02,  4.91320454e-02,\n",
       "        3.52641307e-02,  1.49575379e-02, -4.51697856e-02,  1.44226328e-01,\n",
       "        1.16490498e-01,  1.29392615e-03,  7.01320320e-02,  6.41886443e-02,\n",
       "        2.02075355e-02, -6.77546784e-02, -6.10188320e-02,  8.43961760e-02,\n",
       "        2.23867781e-02,  1.60471611e-02,  1.50565952e-02,  9.62829590e-02,\n",
       "        6.73584491e-02, -1.14905592e-02, -7.37971254e-03, -7.68678784e-02,\n",
       "       -5.54716634e-03, -6.22075088e-02, -7.23112794e-03,  3.82358246e-02,\n",
       "        6.45848662e-02,  2.57547013e-02, -2.53584757e-02,  2.91226245e-02,\n",
       "       -1.94150824e-02, -5.42334560e-03, -5.62641174e-02,  2.48631928e-02,\n",
       "       -8.83584395e-02, -3.38773392e-02,  5.24999667e-03,  2.25848928e-02,\n",
       "       -8.81603267e-03, -8.43961760e-02, -9.35093760e-02,  6.89433515e-02,\n",
       "       -1.36698028e-02, -1.83254611e-02,  6.69622272e-02, -1.02152058e-04,\n",
       "        2.71414928e-02, -2.02075355e-02, -5.74527942e-02, -6.57735467e-02,\n",
       "       -4.55660112e-02, -6.16627000e-03,  1.00542391e-02, -8.81603267e-03,\n",
       "       -2.41697971e-02, -1.83254611e-02, -3.34811136e-02, -5.50754406e-02,\n",
       "        1.24439783e-03,  3.32829989e-02,  3.68490331e-02, -1.44226328e-01,\n",
       "       -7.88490102e-02, -4.14056368e-02, -5.38867600e-02, -1.21344263e-02,\n",
       "        1.10448049e-02, -4.23215215e-06, -1.12924464e-02,  2.85282843e-02,\n",
       "       -1.44226328e-01, -1.44226328e-01,  5.26980832e-02,  1.85731018e-03,\n",
       "       -1.05990507e-02,  8.71697590e-02, -3.92263904e-02, -3.86320539e-02,\n",
       "       -9.01414547e-03,  1.92695938e-04,  1.64037645e-01, -7.21131638e-02,\n",
       "       -3.66509221e-02,  6.06226064e-02, -8.36037248e-02, -5.23018539e-02,\n",
       "        1.03811257e-01, -9.70754102e-02,  4.35848795e-02, -2.95188501e-02,\n",
       "       -9.23207030e-02,  4.61603515e-02,  8.28112736e-02,  7.92452320e-02,\n",
       "       -3.14999819e-02,  4.68042167e-03, -1.24811241e-02, -8.51886272e-02,\n",
       "        2.48631928e-02,  2.13962141e-02, -8.83584395e-02,  1.59481037e-02,\n",
       "        6.43867534e-03, -1.06981069e-01,  6.83490140e-03,  2.65471544e-02,\n",
       "        6.98348647e-03,  4.97263856e-02,  4.23466740e-03,  1.00245222e-01,\n",
       "       -1.28773507e-03,  2.35754568e-02,  6.93395827e-03,  1.98113080e-02,\n",
       "        3.44716758e-02,  5.20046847e-03, -3.48679051e-02, -2.55565885e-02,\n",
       "        9.15282443e-02,  3.74433734e-02,  2.95188501e-02, -3.66509221e-02,\n",
       "       -8.81603267e-03,  7.25093931e-02, -1.08565971e-01, -3.32829989e-02,\n",
       "        4.67546880e-02, -7.60754272e-02, -2.98407837e-03, -7.92452320e-03,\n",
       "       -4.29905392e-02, -8.91508907e-03,  8.67735296e-02, -1.14905588e-01,\n",
       "       -2.73396056e-02, -1.18867852e-01,  7.08254287e-03, -1.03018805e-01,\n",
       "       -2.03065909e-02, -5.78861684e-04,  3.62546965e-02, -6.14150576e-02,\n",
       "        7.21131638e-02, -1.45018786e-01, -1.32339537e-01,  1.31547093e-01,\n",
       "       -4.12075222e-02,  2.41697971e-02, -5.50754406e-02, -5.82452491e-02,\n",
       "       -5.05188368e-02, -3.74433734e-02,  1.01532955e-02,  5.94339259e-02,\n",
       "        4.99244966e-02,  1.10943327e-02, -1.04603708e-01,  4.59622368e-02,\n",
       "        3.11037544e-02, -1.49575379e-02,  8.43961760e-02,  3.20943221e-02,\n",
       "        2.02075355e-02,  6.53773174e-02,  8.61791894e-03,  3.40754502e-02,\n",
       "        3.68985627e-03, -7.84527808e-02,  6.58726040e-03, -1.19858421e-02,\n",
       "        2.85282843e-02, -2.14952696e-02,  9.35093760e-02, -3.54622416e-02,\n",
       "       -1.10943332e-01, -4.71509136e-02, -6.65659979e-02, -2.67452672e-02,\n",
       "        6.63678860e-03, -2.48879567e-03,  1.29764071e-02,  3.96226160e-02,\n",
       "        5.62641174e-02,  5.78490235e-02, -3.54622416e-02, -1.08565971e-01,\n",
       "        4.69528027e-02, -1.05495220e-02,  7.82546680e-03,  1.02226354e-01,\n",
       "        1.86226312e-02,  5.66603430e-02, -1.00245222e-01, -3.74433734e-02,\n",
       "        3.88301648e-02, -2.27830056e-02,  1.47594251e-02,  2.69433800e-02,\n",
       "       -1.89197995e-02,  2.42688525e-02,  4.12075222e-02, -1.90188568e-02,\n",
       "        3.68490331e-02,  8.47924054e-02, -3.16980928e-02, -1.02226354e-01,\n",
       "        1.24415018e-01, -1.27584830e-01, -2.46650800e-02, -1.25999928e-01,\n",
       "       -4.75471430e-02, -2.05047056e-02, -5.54716662e-02,  1.02226354e-01,\n",
       "       -7.76603296e-02, -1.98113092e-04, -3.78395990e-02,  7.96414614e-02,\n",
       "        6.14150576e-02,  1.21245213e-01, -4.37829942e-02, -9.70754120e-03,\n",
       "       -5.98301515e-02, -2.71414928e-02,  4.25943136e-02, -2.32782885e-02,\n",
       "       -4.29905392e-02, -5.07664774e-03,  3.68490331e-02,  4.87358198e-02],\n",
       "      dtype=float32)"
      ]
     },
     "execution_count": 68,
     "metadata": {},
     "output_type": "execute_result"
    }
   ],
   "source": [
    "w2v_mod['school']"
   ]
  },
  {
   "cell_type": "code",
   "execution_count": 69,
   "metadata": {
    "slideshow": {
     "slide_type": "subslide"
    }
   },
   "outputs": [
    {
     "data": {
      "text/plain": [
       "300"
      ]
     },
     "execution_count": 69,
     "metadata": {},
     "output_type": "execute_result"
    }
   ],
   "source": [
    "len(w2v_mod['school'])"
   ]
  },
  {
   "cell_type": "markdown",
   "metadata": {
    "slideshow": {
     "slide_type": "subslide"
    }
   },
   "source": [
    "- and the word vector for *student* looks like this:"
   ]
  },
  {
   "cell_type": "code",
   "execution_count": 70,
   "metadata": {
    "slideshow": {
     "slide_type": "subslide"
    }
   },
   "outputs": [
    {
     "data": {
      "text/plain": [
       "array([ 0.01336551,  0.00730235,  0.08037006,  0.05629445,  0.06479172,\n",
       "        0.01141821,  0.11400511, -0.01221483,  0.0559404 , -0.1359564 ,\n",
       "        0.01849928, -0.04779717, -0.04337151, -0.05027555, -0.0073466 ,\n",
       "        0.00477972, -0.02442967, -0.02389859, -0.00907261, -0.05098365,\n",
       "        0.00783343,  0.06302146, -0.00064449, -0.03328099, -0.03540531,\n",
       "       -0.17844278, -0.04956744, -0.002069  ,  0.06160524,  0.0366445 ,\n",
       "        0.03416613, -0.03983098, -0.03080262,  0.01964995, -0.02372156,\n",
       "       -0.00610742,  0.04071611,  0.0506296 , -0.03009452,  0.08072411,\n",
       "       -0.08638897,  0.0426634 , -0.01672901,  0.03115668,  0.0619593 ,\n",
       "       -0.02496075,  0.01451618, -0.03752963,  0.05771066,  0.0179682 ,\n",
       "       -0.03947692, -0.05452418,  0.0054657 , -0.01964995,  0.0906376 ,\n",
       "       -0.03452018, -0.04284043,  0.04036206,  0.07435116, -0.03629045,\n",
       "        0.00610742, -0.03452018, -0.00111748, -0.00489036,  0.03363505,\n",
       "       -0.0306256 ,  0.03080262, -0.02009252,  0.05735661,  0.03823774,\n",
       "       -0.08391059,  0.02991749,  0.00533293, -0.07718358, -0.06479172,\n",
       "        0.1586158 ,  0.05275392, -0.00624019,  0.03115668, -0.00068874,\n",
       "        0.00982497, -0.04921339, -0.00654998,  0.07470521, -0.06160524,\n",
       "        0.00986923, -0.04567285,  0.11117268, -0.01106416,  0.09028355,\n",
       "       -0.04089314, -0.13454019, -0.0559404 , -0.06018903, -0.04301745,\n",
       "        0.02673101,  0.06514578,  0.09559435, -0.0089841 , -0.073289  ,\n",
       "        0.01301145, -0.03823774, -0.03274991, -0.13949694, -0.03469721,\n",
       "       -0.02044657, -0.05239986, -0.06018903,  0.08674302, -0.08497275,\n",
       "       -0.13808072, -0.05912687,  0.03611342,  0.00385033,  0.02991749,\n",
       "       -0.04071611, -0.02903236, -0.01079862,  0.05417013,  0.06337551,\n",
       "        0.02478372,  0.02708506, -0.01787968, -0.05098365,  0.0007247 ,\n",
       "        0.02903236,  0.03770666,  0.00924964,  0.0279702 ,  0.09205382,\n",
       "       -0.01885333, -0.10834026, -0.04744312, -0.03646747, -0.07541332,\n",
       "       -0.04160124,  0.04779717,  0.01761414, -0.12533481,  0.01363105,\n",
       "       -0.12958345, -0.07647548, -0.03310397,  0.02407561, -0.00893984,\n",
       "        0.08568086, -0.0179682 ,  0.10904837,  0.05417013,  0.01646347,\n",
       "        0.14870232,  0.01110842, -0.02071211,  0.01637496, -0.01318848,\n",
       "       -0.07576737,  0.03876882, -0.07116468,  0.05558634,  0.01513577,\n",
       "       -0.10550784,  0.00508951,  0.04372556,  0.08497275, -0.01708306,\n",
       "        0.06727009,  0.06443767, -0.05841877,  0.04708907, -0.01141821,\n",
       "       -0.01708306, -0.01088713,  0.02584588, -0.05771066,  0.0366445 ,\n",
       "        0.01699455,  0.06372956, -0.00042044, -0.01203781,  0.05523229,\n",
       "        0.04390259, -0.05239986,  0.05523229, -0.05983498,  0.0619593 ,\n",
       "        0.02088914,  0.02195129,  0.00564272,  0.00955943, -0.04638096,\n",
       "        0.05275392, -0.01283443, -0.02478372,  0.16074012, -0.15932392,\n",
       "       -0.03292694,  0.06089714, -0.07505926,  0.01128544, -0.01363105,\n",
       "       -0.0619593 ,  0.07718358,  0.03575937, -0.08072411, -0.0846187 ,\n",
       "       -0.12958345, -0.01128544, -0.06125119, -0.03292694, -0.05487823,\n",
       "        0.07789169, -0.04390259,  0.08886734, -0.1352483 , -0.09488624,\n",
       "        0.04372556, -0.03505126,  0.00955943, -0.02832425, -0.01947292,\n",
       "       -0.00482397, -0.10338352,  0.01726009, -0.01602091,  0.02885533,\n",
       "        0.08638897,  0.00840876, -0.02159724,  0.06727009, -0.01504726,\n",
       "        0.07647548,  0.04815122, -0.00242305,  0.06018903, -0.02903236,\n",
       "       -0.04390259,  0.01079862, -0.02460669, -0.00241199,  0.11046458,\n",
       "        0.14162125, -0.05523229, -0.02920938,  0.01469321, -0.04815122,\n",
       "       -0.02637696, -0.11683753,  0.00588613, -0.06833225,  0.06408362,\n",
       "       -0.01557834,  0.00435928,  0.01858779,  0.06018903, -0.03983098,\n",
       "       -0.07789169,  0.01593239,  0.04407962, -0.01911887,  0.05912687,\n",
       "        0.0226594 ,  0.00832025, -0.06762415, -0.11400511, -0.00433715,\n",
       "        0.00840876, -0.0066385 ,  0.06939442, -0.07435116, -0.00272178,\n",
       "        0.03593639, -0.03416613,  0.02257089,  0.08001601, -0.05700256,\n",
       "       -0.0619593 ,  0.00615167, -0.10621594, -0.02655398, -0.06833225,\n",
       "        0.00294307, -0.01787968, -0.04089314,  0.06974847, -0.04779717,\n",
       "        0.03788368, -0.06549983,  0.04301745,  0.1246267 ,  0.08851328,\n",
       "       -0.05487823, -0.04602691, -0.073289  , -0.03328099,  0.02097765,\n",
       "        0.06231335,  0.01389659,  0.04160124,  0.03558234,  0.0313337 ],\n",
       "      dtype=float32)"
      ]
     },
     "execution_count": 70,
     "metadata": {},
     "output_type": "execute_result"
    }
   ],
   "source": [
    "w2v_mod['student']"
   ]
  },
  {
   "cell_type": "markdown",
   "metadata": {
    "slideshow": {
     "slide_type": "subslide"
    }
   },
   "source": [
    "- the similarity between two word vectors is:"
   ]
  },
  {
   "cell_type": "code",
   "execution_count": 71,
   "metadata": {},
   "outputs": [
    {
     "data": {
      "text/plain": [
       "0.6055628"
      ]
     },
     "execution_count": 71,
     "metadata": {},
     "output_type": "execute_result"
    }
   ],
   "source": [
    "w2v_mod.similarity('school', 'student')"
   ]
  },
  {
   "cell_type": "markdown",
   "metadata": {
    "slideshow": {
     "slide_type": "skip"
    }
   },
   "source": [
    "### <font color='red'> Q1: Find a word that is more similar to school using this model </font>"
   ]
  },
  {
   "cell_type": "code",
   "execution_count": 80,
   "metadata": {
    "slideshow": {
     "slide_type": "skip"
    }
   },
   "outputs": [
    {
     "data": {
      "text/plain": [
       "0.6382406"
      ]
     },
     "execution_count": 80,
     "metadata": {},
     "output_type": "execute_result"
    }
   ],
   "source": [
    "# insert your code here\n",
    "w2v_mod.similarity('school', 'teacher')"
   ]
  },
  {
   "cell_type": "markdown",
   "metadata": {
    "slideshow": {
     "slide_type": "skip"
    }
   },
   "source": [
    "### <font color='red'> Q2 Find two words that have a cosine similarity less than .1 </font>\n",
    "- How would you interprete the results?"
   ]
  },
  {
   "cell_type": "code",
   "execution_count": 83,
   "metadata": {
    "slideshow": {
     "slide_type": "skip"
    }
   },
   "outputs": [
    {
     "data": {
      "text/plain": [
       "0.08331583"
      ]
     },
     "execution_count": 83,
     "metadata": {},
     "output_type": "execute_result"
    }
   ],
   "source": [
    "# Insert your code here\n",
    "w2v_mod.similarity('school', 'pig')"
   ]
  },
  {
   "cell_type": "markdown",
   "metadata": {},
   "source": [
    "This means based on the Google News corpus, the two words have little relation with each other."
   ]
  },
  {
   "cell_type": "markdown",
   "metadata": {
    "slideshow": {
     "slide_type": "skip"
    }
   },
   "source": [
    "### <font color='red'> Q3 Try some other words. Any other interesting findings? </font>\n",
    "- Give 2 more examples.\n",
    "- How would you interprete the results?"
   ]
  },
  {
   "cell_type": "code",
   "execution_count": 91,
   "metadata": {
    "slideshow": {
     "slide_type": "skip"
    }
   },
   "outputs": [
    {
     "name": "stdout",
     "output_type": "stream",
     "text": [
      "0.1597335\n",
      "0.81064284\n"
     ]
    }
   ],
   "source": [
    "print(w2v_mod.similarity('school','scholar'))\n",
    "print(w2v_mod.similarity('dog', 'puppy'))"
   ]
  },
  {
   "cell_type": "markdown",
   "metadata": {},
   "source": [
    "* The first example shows that words look each other do not necessairly have a higher similarity. \n",
    "* The second example shows that words with similar meanings have higher similarity."
   ]
  },
  {
   "cell_type": "markdown",
   "metadata": {
    "slideshow": {
     "slide_type": "skip"
    }
   },
   "source": [
    "### Let's try with some example: words in a semantic space\n",
    "$\\rightarrow$ https://projector.tensorflow.org"
   ]
  },
  {
   "cell_type": "markdown",
   "metadata": {
    "slideshow": {
     "slide_type": "skip"
    }
   },
   "source": [
    "### <font color='red'> Q4 Any interesting findings from TensorFlow Projector page? </font>"
   ]
  },
  {
   "cell_type": "markdown",
   "metadata": {
    "slideshow": {
     "slide_type": "skip"
    }
   },
   "source": [
    "I am interesting in boxing, so I search the word. The 10 wrods that are nearest to the words, which means they have the most cosine similarity with the word \"boxing\", are wrestling, match, sports. champion, competition, boxer, basketball, karate, matches, football. These words including sports that are similar to boxing, or words that are usually used along with boxing. I think this may indicate that words with similar meaning, similar category, and used together have higher similarity."
   ]
  },
  {
   "cell_type": "markdown",
   "metadata": {
    "slideshow": {
     "slide_type": "slide"
    }
   },
   "source": [
    "## 1-2. Analogy from word vectors"
   ]
  },
  {
   "cell_type": "markdown",
   "metadata": {
    "slideshow": {
     "slide_type": "subslide"
    }
   },
   "source": [
    "<img src=\"https://www.tensorflow.org/images/linear-relationships.png\" width=\"800\">"
   ]
  },
  {
   "cell_type": "markdown",
   "metadata": {
    "slideshow": {
     "slide_type": "subslide"
    }
   },
   "source": [
    "#### Can we approximate the relationship between words by doing - and + operations?"
   ]
  },
  {
   "cell_type": "markdown",
   "metadata": {},
   "source": [
    "- $woman - man + king \\approx ?$\n",
    "- How this works?\n",
    "    - $woman:man \\approx x:king $\n",
    "    - $\\rightarrow woman - man \\approx x - king $\n",
    "    - $\\rightarrow woman - man + king \\approx x$\n",
    "    - List top-10 words ($x$) that can solve the equation!"
   ]
  },
  {
   "cell_type": "code",
   "execution_count": 92,
   "metadata": {
    "slideshow": {
     "slide_type": "subslide"
    }
   },
   "outputs": [
    {
     "data": {
      "text/plain": [
       "[('queen', 0.7118192911148071),\n",
       " ('monarch', 0.6189675331115723),\n",
       " ('princess', 0.5902431607246399),\n",
       " ('prince', 0.5377321839332581),\n",
       " ('kings', 0.5236844420433044),\n",
       " ('queens', 0.5181134343147278),\n",
       " ('sultan', 0.5098593235015869),\n",
       " ('monarchy', 0.5087411403656006),\n",
       " ('throne', 0.5005807280540466),\n",
       " ('royal', 0.4938204288482666)]"
      ]
     },
     "execution_count": 92,
     "metadata": {},
     "output_type": "execute_result"
    }
   ],
   "source": [
    "w2v_mod.most_similar(positive=['woman', 'king'], negative=['man'])"
   ]
  },
  {
   "cell_type": "markdown",
   "metadata": {
    "slideshow": {
     "slide_type": "subslide"
    }
   },
   "source": [
    "- $Spain - Germany + Berlin \\approx ?$\n",
    "    - $\\rightarrow Spain - Germany \\approx x -  Berlin $"
   ]
  },
  {
   "cell_type": "code",
   "execution_count": 93,
   "metadata": {
    "slideshow": {
     "slide_type": "subslide"
    }
   },
   "outputs": [
    {
     "data": {
      "text/plain": [
       "[('Madrid', 0.7173480987548828),\n",
       " ('Barcelona', 0.5742595195770264),\n",
       " ('Malaga', 0.5547429919242859),\n",
       " ('Bilbao', 0.5404423475265503),\n",
       " ('Lisbon', 0.5366039276123047),\n",
       " ('Seville', 0.5312415361404419),\n",
       " ('Paris', 0.5251092314720154),\n",
       " ('Catalan', 0.5213974118232727),\n",
       " ('Rome', 0.5174577832221985),\n",
       " ('Bogota', 0.5146558880805969)]"
      ]
     },
     "execution_count": 93,
     "metadata": {},
     "output_type": "execute_result"
    }
   ],
   "source": [
    "w2v_mod.most_similar(positive=['Spain', 'Berlin'], negative=['Germany'])"
   ]
  },
  {
   "cell_type": "markdown",
   "metadata": {
    "slideshow": {
     "slide_type": "skip"
    }
   },
   "source": [
    "### <font color='red'> Q5 Any other interesting examples? </font>\n",
    "- Give 3 more examples.\n",
    "- How would you interprete the results?"
   ]
  },
  {
   "cell_type": "code",
   "execution_count": 102,
   "metadata": {
    "slideshow": {
     "slide_type": "skip"
    }
   },
   "outputs": [
    {
     "name": "stdout",
     "output_type": "stream",
     "text": [
      "[('angels', 0.46707388758659363), ('heaven', 0.4389277696609497), ('heck', 0.41806215047836304), ('Gosh', 0.3777737319469452), ('Oh', 0.3665370047092438), ('Whoa', 0.362134724855423), ('Wow', 0.35790374875068665), ('gosh', 0.35444962978363037), ('Whaddaya', 0.3541586697101593), ('jeepers', 0.35397079586982727)]\n",
      "[('trees', 0.46936118602752686), ('evergreens', 0.461358904838562), ('dogwood', 0.4420737326145172), ('ornament', 0.4291953444480896), ('rosebush', 0.4258562922477722), ('cottonwood', 0.4216707944869995), ('canopy', 0.41099026799201965), ('vase', 0.40993133187294006), ('Amelanchier', 0.40519315004348755), ('conifer', 0.4031800925731659)]\n",
      "[('puppy', 0.7699726223945618), ('pup', 0.6861710548400879), ('dogs', 0.6770987510681152), ('Rottweiler', 0.6646621823310852), ('Pomeranian', 0.6553813219070435), ('puppies', 0.6450917720794678), ('pooch', 0.6447545289993286), ('Sheltie', 0.624342679977417), ('schnauzer', 0.6071556806564331), ('chihuahua', 0.6056430339813232)]\n"
     ]
    }
   ],
   "source": [
    "print(w2v_mod.most_similar(positive=['angel', 'hell'], negative=['demon']))\n",
    "print(w2v_mod.most_similar(positive=['blue', 'tree'], negative=['green']))\n",
    "print(w2v_mod.most_similar(positive=['dog', 'kitten'], negative=['cat']))"
   ]
  },
  {
   "cell_type": "markdown",
   "metadata": {},
   "source": [
    "* The first one is an interesting example, the word heaven is what I want. However, it seems also interpret hell as somekind slang in English.\n",
    "* For the second example, I want something like the water, or sea. However, it seems that it cannot find the analogy between them with similarity.\n",
    "* The last example is what I want. The analogy shows the simialiry between those words."
   ]
  },
  {
   "cell_type": "markdown",
   "metadata": {
    "slideshow": {
     "slide_type": "slide"
    }
   },
   "source": [
    "## 1-3. Constructing interpretable semantic scales "
   ]
  },
  {
   "cell_type": "markdown",
   "metadata": {
    "slideshow": {
     "slide_type": "subslide"
    }
   },
   "source": [
    "- So far, we saw that word vectors effectively carries (although not perfect) the semantic information.\n",
    "- Can we design something more interpretable results from using the semantic space?"
   ]
  },
  {
   "cell_type": "markdown",
   "metadata": {},
   "source": [
    "- Let's re-try with real datapoints in [here](https://projector.tensorflow.org): *politics* words in a *bad-good* PCA space"
   ]
  },
  {
   "cell_type": "code",
   "execution_count": 103,
   "metadata": {
    "slideshow": {
     "slide_type": "subslide"
    }
   },
   "outputs": [],
   "source": [
    "from scipy import spatial\n",
    " \n",
    "def cosine_similarity(x, y):\n",
    "    return(1 - spatial.distance.cosine(x, y))"
   ]
  },
  {
   "cell_type": "markdown",
   "metadata": {
    "slideshow": {
     "slide_type": "fragment"
    }
   },
   "source": [
    "- Can we regenerate this results with our embedding model?"
   ]
  },
  {
   "cell_type": "markdown",
   "metadata": {
    "slideshow": {
     "slide_type": "subslide"
    }
   },
   "source": [
    "### Let's plot words in the 2D space\n",
    "- Using Bad & Good axes\n",
    "- Calculate cosine similarity between an evaluating word (violence, discussion, and issues) with each scale's end (bad, and good)"
   ]
  },
  {
   "cell_type": "code",
   "execution_count": 105,
   "metadata": {
    "slideshow": {
     "slide_type": "subslide"
    }
   },
   "outputs": [],
   "source": [
    "pol_words_sim_2d = pd.DataFrame([[cosine_similarity(w2v_mod['violence'], w2v_mod['good']), cosine_similarity(w2v_mod['violence'], w2v_mod['bad'])],\n",
    "                                 [cosine_similarity(w2v_mod['discussion'], w2v_mod['good']), cosine_similarity(w2v_mod['discussion'], w2v_mod['bad'])],\n",
    "                                 [cosine_similarity(w2v_mod['issues'], w2v_mod['good']), cosine_similarity(w2v_mod['issues'], w2v_mod['bad'])]],\n",
    "                                index=['violence', 'discussion', 'issues'], columns=['good', 'bad'])"
   ]
  },
  {
   "cell_type": "code",
   "execution_count": 106,
   "metadata": {
    "slideshow": {
     "slide_type": "subslide"
    }
   },
   "outputs": [
    {
     "data": {
      "text/html": [
       "<div>\n",
       "<style scoped>\n",
       "    .dataframe tbody tr th:only-of-type {\n",
       "        vertical-align: middle;\n",
       "    }\n",
       "\n",
       "    .dataframe tbody tr th {\n",
       "        vertical-align: top;\n",
       "    }\n",
       "\n",
       "    .dataframe thead th {\n",
       "        text-align: right;\n",
       "    }\n",
       "</style>\n",
       "<table border=\"1\" class=\"dataframe\">\n",
       "  <thead>\n",
       "    <tr style=\"text-align: right;\">\n",
       "      <th></th>\n",
       "      <th>good</th>\n",
       "      <th>bad</th>\n",
       "    </tr>\n",
       "  </thead>\n",
       "  <tbody>\n",
       "    <tr>\n",
       "      <th>violence</th>\n",
       "      <td>-0.016942</td>\n",
       "      <td>0.091223</td>\n",
       "    </tr>\n",
       "    <tr>\n",
       "      <th>discussion</th>\n",
       "      <td>0.045935</td>\n",
       "      <td>-0.007224</td>\n",
       "    </tr>\n",
       "    <tr>\n",
       "      <th>issues</th>\n",
       "      <td>0.139897</td>\n",
       "      <td>0.118816</td>\n",
       "    </tr>\n",
       "  </tbody>\n",
       "</table>\n",
       "</div>"
      ],
      "text/plain": [
       "                good       bad\n",
       "violence   -0.016942  0.091223\n",
       "discussion  0.045935 -0.007224\n",
       "issues      0.139897  0.118816"
      ]
     },
     "execution_count": 106,
     "metadata": {},
     "output_type": "execute_result"
    }
   ],
   "source": [
    "pol_words_sim_2d"
   ]
  },
  {
   "cell_type": "markdown",
   "metadata": {
    "slideshow": {
     "slide_type": "subslide"
    }
   },
   "source": [
    "- If we plot this:"
   ]
  },
  {
   "cell_type": "code",
   "execution_count": 107,
   "metadata": {},
   "outputs": [
    {
     "data": {
      "text/plain": [
       "<AxesSubplot:xlabel='good', ylabel='bad'>"
      ]
     },
     "execution_count": 107,
     "metadata": {},
     "output_type": "execute_result"
    },
    {
     "data": {
      "image/png": "[encoded data removed]",
      "text/plain": [
       "<Figure size 432x288 with 1 Axes>"
      ]
     },
     "metadata": {
      "needs_background": "light"
     },
     "output_type": "display_data"
    }
   ],
   "source": [
    "sns.scatterplot(x='good', y='bad', data=pol_words_sim_2d, hue=pol_words_sim_2d.index)"
   ]
  },
  {
   "cell_type": "markdown",
   "metadata": {},
   "source": [
    "- violence: less good, more bad\n",
    "- discussion: less bad, more good\n",
    "- issues: both bad and good"
   ]
  },
  {
   "cell_type": "markdown",
   "metadata": {
    "slideshow": {
     "slide_type": "subslide"
    }
   },
   "source": [
    "### Can we do this in an 1D scale?\n",
    "(bad) --------------------?---- (good)"
   ]
  },
  {
   "cell_type": "markdown",
   "metadata": {},
   "source": [
    "- First, let's create the vector for *bad-good* scale"
   ]
  },
  {
   "cell_type": "code",
   "execution_count": 108,
   "metadata": {},
   "outputs": [],
   "source": [
    "scale_bad_good = w2v_mod['good'] - w2v_mod['bad']"
   ]
  },
  {
   "cell_type": "code",
   "execution_count": 109,
   "metadata": {},
   "outputs": [
    {
     "data": {
      "text/plain": [
       "300"
      ]
     },
     "execution_count": 109,
     "metadata": {},
     "output_type": "execute_result"
    }
   ],
   "source": [
    "len(scale_bad_good)"
   ]
  },
  {
   "cell_type": "markdown",
   "metadata": {
    "slideshow": {
     "slide_type": "subslide"
    }
   },
   "source": [
    "- Calculate the cosine similarity score of the word *violence* in the *bad-good* scale \n",
    "    - $sim(V(violence), V(bad) - V(good))$"
   ]
  },
  {
   "cell_type": "code",
   "execution_count": 110,
   "metadata": {},
   "outputs": [
    {
     "data": {
      "text/plain": [
       "-0.14428630471229553"
      ]
     },
     "execution_count": 110,
     "metadata": {},
     "output_type": "execute_result"
    }
   ],
   "source": [
    "violence_score = cosine_similarity(w2v_mod['violence'], scale_bad_good)\n",
    "violence_score"
   ]
  },
  {
   "cell_type": "code",
   "execution_count": 111,
   "metadata": {},
   "outputs": [
    {
     "data": {
      "text/plain": [
       "-0.010209699161350727"
      ]
     },
     "execution_count": 111,
     "metadata": {},
     "output_type": "execute_result"
    }
   ],
   "source": [
    "discussion_score = cosine_similarity(w2v_mod['school'], scale_bad_good)\n",
    "discussion_score"
   ]
  },
  {
   "cell_type": "markdown",
   "metadata": {
    "slideshow": {
     "slide_type": "slide"
    }
   },
   "source": [
    "# 2. Sentiment Analysis with NLTK"
   ]
  },
  {
   "cell_type": "markdown",
   "metadata": {
    "slideshow": {
     "slide_type": "subslide"
    }
   },
   "source": [
    "\"The Natural Language Toolkit (NLTK) is a suite of libraries and programs for symbolic and statistical natural language processing for English written in the Python programming language.\"\n",
    "for more information see: https://www.nltk.org/"
   ]
  },
  {
   "cell_type": "markdown",
   "metadata": {},
   "source": [
    "We are going to use NLTK and Spacy to determine if text expresses positive sentiment, negative sentiment, or if it's neutral."
   ]
  },
  {
   "cell_type": "code",
   "execution_count": 112,
   "metadata": {
    "slideshow": {
     "slide_type": "skip"
    }
   },
   "outputs": [],
   "source": [
    "# adapted from https://github.com/Jcharis/Natural-Language-Processing-Tutorials/blob/master/NLP%20with%20SpaCy-%20Adding%20Extensions%20Attributes%20in%20SpaCy(How%20to%20use%20sentiment%20analysis%20in%20SpaCy).ipynb"
   ]
  },
  {
   "cell_type": "code",
   "execution_count": 113,
   "metadata": {},
   "outputs": [],
   "source": [
    "import nltk"
   ]
  },
  {
   "cell_type": "code",
   "execution_count": 114,
   "metadata": {
    "slideshow": {
     "slide_type": "subslide"
    }
   },
   "outputs": [],
   "source": [
    "#!pip install nltk\n",
    "#!python -m nltk.downloader book"
   ]
  },
  {
   "cell_type": "code",
   "execution_count": 115,
   "metadata": {
    "slideshow": {
     "slide_type": "-"
    }
   },
   "outputs": [],
   "source": [
    "import nltk"
   ]
  },
  {
   "cell_type": "markdown",
   "metadata": {
    "slideshow": {
     "slide_type": "subslide"
    }
   },
   "source": [
    "\"VADER (Valence Aware Dictionary and sEntiment Reasoner) is a lexicon and rule-based sentiment analysis tool that is specifically attuned to sentiments expressed in social media.\"\n",
    "\n",
    "for more see: https://github.com/cjhutto/vaderSentiment"
   ]
  },
  {
   "cell_type": "code",
   "execution_count": 118,
   "metadata": {
    "slideshow": {
     "slide_type": "subslide"
    }
   },
   "outputs": [
    {
     "name": "stderr",
     "output_type": "stream",
     "text": [
      "[nltk_data] Downloading package vader_lexicon to\n",
      "[nltk_data]     C:\\Users\\kaiya\\AppData\\Roaming\\nltk_data...\n"
     ]
    },
    {
     "data": {
      "text/plain": [
       "True"
      ]
     },
     "execution_count": 118,
     "metadata": {},
     "output_type": "execute_result"
    }
   ],
   "source": [
    "nltk.download('vader_lexicon')"
   ]
  },
  {
   "cell_type": "markdown",
   "metadata": {
    "slideshow": {
     "slide_type": "subslide"
    }
   },
   "source": [
    "We are going to extend the spacy functionality with the SentimentIntensityAnalyzer function from NLTK."
   ]
  },
  {
   "cell_type": "code",
   "execution_count": 119,
   "metadata": {
    "slideshow": {
     "slide_type": "subslide"
    }
   },
   "outputs": [],
   "source": [
    "from nltk.sentiment.vader import SentimentIntensityAnalyzer\n",
    "sent_analyzer = SentimentIntensityAnalyzer()\n",
    "def sentiment_scores(docx):\n",
    "    return sent_analyzer.polarity_scores(docx.text)"
   ]
  },
  {
   "cell_type": "code",
   "execution_count": 120,
   "metadata": {
    "slideshow": {
     "slide_type": "subslide"
    }
   },
   "outputs": [],
   "source": [
    "import spacy"
   ]
  },
  {
   "cell_type": "code",
   "execution_count": 121,
   "metadata": {
    "slideshow": {
     "slide_type": "subslide"
    }
   },
   "outputs": [],
   "source": [
    "# loading up the language model: English\n",
    "nlp = spacy.load('en_core_web_sm')"
   ]
  },
  {
   "cell_type": "code",
   "execution_count": 122,
   "metadata": {
    "slideshow": {
     "slide_type": "subslide"
    }
   },
   "outputs": [],
   "source": [
    "from spacy.tokens import Doc\n",
    "Doc.set_extension(\"sentimenter\",getter=sentiment_scores)"
   ]
  },
  {
   "cell_type": "code",
   "execution_count": 123,
   "metadata": {
    "slideshow": {
     "slide_type": "subslide"
    }
   },
   "outputs": [
    {
     "data": {
      "text/plain": [
       "{'neg': 0.0, 'neu': 0.564, 'pos': 0.436, 'compound': 0.4754}"
      ]
     },
     "execution_count": 123,
     "metadata": {},
     "output_type": "execute_result"
    }
   ],
   "source": [
    "nlp(\"This movie was very nice\")._.sentimenter"
   ]
  },
  {
   "cell_type": "markdown",
   "metadata": {
    "slideshow": {
     "slide_type": "subslide"
    }
   },
   "source": [
    "Let's apply this sentiment analysis to product reviews on Amazon"
   ]
  },
  {
   "cell_type": "code",
   "execution_count": 124,
   "metadata": {},
   "outputs": [],
   "source": [
    "r = pd.read_csv('https://raw.githubusercontent.com/umsi-data-science/data/main/small_reviews.csv')\n",
    "#random sample of original dataset at https://www.kaggle.com/snap/amazon-fine-food-reviews"
   ]
  },
  {
   "cell_type": "code",
   "execution_count": 125,
   "metadata": {
    "slideshow": {
     "slide_type": "subslide"
    }
   },
   "outputs": [
    {
     "data": {
      "text/html": [
       "<div>\n",
       "<style scoped>\n",
       "    .dataframe tbody tr th:only-of-type {\n",
       "        vertical-align: middle;\n",
       "    }\n",
       "\n",
       "    .dataframe tbody tr th {\n",
       "        vertical-align: top;\n",
       "    }\n",
       "\n",
       "    .dataframe thead th {\n",
       "        text-align: right;\n",
       "    }\n",
       "</style>\n",
       "<table border=\"1\" class=\"dataframe\">\n",
       "  <thead>\n",
       "    <tr style=\"text-align: right;\">\n",
       "      <th></th>\n",
       "      <th>Unnamed: 0</th>\n",
       "      <th>Score</th>\n",
       "      <th>Summary</th>\n",
       "      <th>Text</th>\n",
       "    </tr>\n",
       "  </thead>\n",
       "  <tbody>\n",
       "    <tr>\n",
       "      <th>0</th>\n",
       "      <td>244509</td>\n",
       "      <td>4</td>\n",
       "      <td>Love Happy Tot</td>\n",
       "      <td>I just love the happy tot baby food line. It s...</td>\n",
       "    </tr>\n",
       "    <tr>\n",
       "      <th>1</th>\n",
       "      <td>87295</td>\n",
       "      <td>4</td>\n",
       "      <td>Feelin Hot Hot Hot</td>\n",
       "      <td>Curry has become one of my favorite foods over...</td>\n",
       "    </tr>\n",
       "    <tr>\n",
       "      <th>2</th>\n",
       "      <td>377094</td>\n",
       "      <td>5</td>\n",
       "      <td>Wow. Very Maple-y</td>\n",
       "      <td>Just tried this for the first time, and I'm qu...</td>\n",
       "    </tr>\n",
       "    <tr>\n",
       "      <th>3</th>\n",
       "      <td>44261</td>\n",
       "      <td>4</td>\n",
       "      <td>Good dark, rich coffee for breakfast time</td>\n",
       "      <td>After trying lots of different blends in K-Cup...</td>\n",
       "    </tr>\n",
       "    <tr>\n",
       "      <th>4</th>\n",
       "      <td>398439</td>\n",
       "      <td>5</td>\n",
       "      <td>Fantastic coffee!</td>\n",
       "      <td>Exceptional coffee all around - rich, full, wi...</td>\n",
       "    </tr>\n",
       "  </tbody>\n",
       "</table>\n",
       "</div>"
      ],
      "text/plain": [
       "   Unnamed: 0  Score                                    Summary  \\\n",
       "0      244509      4                             Love Happy Tot   \n",
       "1       87295      4                         Feelin Hot Hot Hot   \n",
       "2      377094      5                          Wow. Very Maple-y   \n",
       "3       44261      4  Good dark, rich coffee for breakfast time   \n",
       "4      398439      5                          Fantastic coffee!   \n",
       "\n",
       "                                                Text  \n",
       "0  I just love the happy tot baby food line. It s...  \n",
       "1  Curry has become one of my favorite foods over...  \n",
       "2  Just tried this for the first time, and I'm qu...  \n",
       "3  After trying lots of different blends in K-Cup...  \n",
       "4  Exceptional coffee all around - rich, full, wi...  "
      ]
     },
     "execution_count": 125,
     "metadata": {},
     "output_type": "execute_result"
    }
   ],
   "source": [
    "r.head()"
   ]
  },
  {
   "cell_type": "markdown",
   "metadata": {
    "slideshow": {
     "slide_type": "subslide"
    }
   },
   "source": [
    "We'll use the apply function to transform text with spacy's nlp function."
   ]
  },
  {
   "cell_type": "code",
   "execution_count": 126,
   "metadata": {
    "slideshow": {
     "slide_type": "subslide"
    }
   },
   "outputs": [],
   "source": [
    "r['rating'] = r['Text'].apply(lambda x: nlp(x)._.sentimenter['compound'])"
   ]
  },
  {
   "cell_type": "code",
   "execution_count": 127,
   "metadata": {
    "slideshow": {
     "slide_type": "subslide"
    }
   },
   "outputs": [
    {
     "data": {
      "text/html": [
       "<div>\n",
       "<style scoped>\n",
       "    .dataframe tbody tr th:only-of-type {\n",
       "        vertical-align: middle;\n",
       "    }\n",
       "\n",
       "    .dataframe tbody tr th {\n",
       "        vertical-align: top;\n",
       "    }\n",
       "\n",
       "    .dataframe thead th {\n",
       "        text-align: right;\n",
       "    }\n",
       "</style>\n",
       "<table border=\"1\" class=\"dataframe\">\n",
       "  <thead>\n",
       "    <tr style=\"text-align: right;\">\n",
       "      <th></th>\n",
       "      <th>Score</th>\n",
       "      <th>rating</th>\n",
       "      <th>Text</th>\n",
       "    </tr>\n",
       "  </thead>\n",
       "  <tbody>\n",
       "    <tr>\n",
       "      <th>0</th>\n",
       "      <td>4</td>\n",
       "      <td>0.9558</td>\n",
       "      <td>I just love the happy tot baby food line. It s...</td>\n",
       "    </tr>\n",
       "    <tr>\n",
       "      <th>1</th>\n",
       "      <td>4</td>\n",
       "      <td>0.9742</td>\n",
       "      <td>Curry has become one of my favorite foods over...</td>\n",
       "    </tr>\n",
       "    <tr>\n",
       "      <th>2</th>\n",
       "      <td>5</td>\n",
       "      <td>0.9383</td>\n",
       "      <td>Just tried this for the first time, and I'm qu...</td>\n",
       "    </tr>\n",
       "    <tr>\n",
       "      <th>3</th>\n",
       "      <td>4</td>\n",
       "      <td>0.8476</td>\n",
       "      <td>After trying lots of different blends in K-Cup...</td>\n",
       "    </tr>\n",
       "    <tr>\n",
       "      <th>4</th>\n",
       "      <td>5</td>\n",
       "      <td>0.5983</td>\n",
       "      <td>Exceptional coffee all around - rich, full, wi...</td>\n",
       "    </tr>\n",
       "    <tr>\n",
       "      <th>5</th>\n",
       "      <td>5</td>\n",
       "      <td>0.9652</td>\n",
       "      <td>These are a delicious vegan alternative to reg...</td>\n",
       "    </tr>\n",
       "    <tr>\n",
       "      <th>6</th>\n",
       "      <td>1</td>\n",
       "      <td>-0.6048</td>\n",
       "      <td>I have never cared for sweetened cereal as I w...</td>\n",
       "    </tr>\n",
       "    <tr>\n",
       "      <th>7</th>\n",
       "      <td>3</td>\n",
       "      <td>0.8029</td>\n",
       "      <td>I've been looking for dried organic mango that...</td>\n",
       "    </tr>\n",
       "    <tr>\n",
       "      <th>8</th>\n",
       "      <td>3</td>\n",
       "      <td>-0.1971</td>\n",
       "      <td>This meal-in-a-box was alright, but not amazin...</td>\n",
       "    </tr>\n",
       "    <tr>\n",
       "      <th>9</th>\n",
       "      <td>4</td>\n",
       "      <td>0.2732</td>\n",
       "      <td>This product works well with most kinds of mea...</td>\n",
       "    </tr>\n",
       "  </tbody>\n",
       "</table>\n",
       "</div>"
      ],
      "text/plain": [
       "   Score  rating                                               Text\n",
       "0      4  0.9558  I just love the happy tot baby food line. It s...\n",
       "1      4  0.9742  Curry has become one of my favorite foods over...\n",
       "2      5  0.9383  Just tried this for the first time, and I'm qu...\n",
       "3      4  0.8476  After trying lots of different blends in K-Cup...\n",
       "4      5  0.5983  Exceptional coffee all around - rich, full, wi...\n",
       "5      5  0.9652  These are a delicious vegan alternative to reg...\n",
       "6      1 -0.6048  I have never cared for sweetened cereal as I w...\n",
       "7      3  0.8029  I've been looking for dried organic mango that...\n",
       "8      3 -0.1971  This meal-in-a-box was alright, but not amazin...\n",
       "9      4  0.2732  This product works well with most kinds of mea..."
      ]
     },
     "execution_count": 127,
     "metadata": {},
     "output_type": "execute_result"
    }
   ],
   "source": [
    "r[['Score','rating','Text']].head(10)"
   ]
  },
  {
   "cell_type": "code",
   "execution_count": 128,
   "metadata": {
    "slideshow": {
     "slide_type": "subslide"
    }
   },
   "outputs": [
    {
     "data": {
      "text/plain": [
       "<AxesSubplot:xlabel='Score', ylabel='rating'>"
      ]
     },
     "execution_count": 128,
     "metadata": {},
     "output_type": "execute_result"
    },
    {
     "data": {
      "image/png": "[encoded data removed]",
      "text/plain": [
       "<Figure size 432x288 with 1 Axes>"
      ]
     },
     "metadata": {
      "needs_background": "light"
     },
     "output_type": "display_data"
    }
   ],
   "source": [
    "sns.scatterplot(x='Score',y='rating',data=r)"
   ]
  },
  {
   "cell_type": "code",
   "execution_count": 129,
   "metadata": {
    "slideshow": {
     "slide_type": "subslide"
    }
   },
   "outputs": [],
   "source": [
    "import statsmodels.api as sm\n",
    "import statsmodels.formula.api as smf"
   ]
  },
  {
   "cell_type": "code",
   "execution_count": 130,
   "metadata": {
    "slideshow": {
     "slide_type": "subslide"
    }
   },
   "outputs": [
    {
     "data": {
      "text/html": [
       "<table class=\"simpletable\">\n",
       "<caption>OLS Regression Results</caption>\n",
       "<tr>\n",
       "  <th>Dep. Variable:</th>         <td>rating</td>      <th>  R-squared:         </th> <td>   0.430</td>\n",
       "</tr>\n",
       "<tr>\n",
       "  <th>Model:</th>                   <td>OLS</td>       <th>  Adj. R-squared:    </th> <td>   0.424</td>\n",
       "</tr>\n",
       "<tr>\n",
       "  <th>Method:</th>             <td>Least Squares</td>  <th>  F-statistic:       </th> <td>   73.92</td>\n",
       "</tr>\n",
       "<tr>\n",
       "  <th>Date:</th>             <td>Wed, 23 Feb 2022</td> <th>  Prob (F-statistic):</th> <td>1.32e-13</td>\n",
       "</tr>\n",
       "<tr>\n",
       "  <th>Time:</th>                 <td>17:21:06</td>     <th>  Log-Likelihood:    </th> <td> -38.820</td>\n",
       "</tr>\n",
       "<tr>\n",
       "  <th>No. Observations:</th>      <td>   100</td>      <th>  AIC:               </th> <td>   81.64</td>\n",
       "</tr>\n",
       "<tr>\n",
       "  <th>Df Residuals:</th>          <td>    98</td>      <th>  BIC:               </th> <td>   86.85</td>\n",
       "</tr>\n",
       "<tr>\n",
       "  <th>Df Model:</th>              <td>     1</td>      <th>                     </th>     <td> </td>   \n",
       "</tr>\n",
       "<tr>\n",
       "  <th>Covariance Type:</th>      <td>nonrobust</td>    <th>                     </th>     <td> </td>   \n",
       "</tr>\n",
       "</table>\n",
       "<table class=\"simpletable\">\n",
       "<tr>\n",
       "      <td></td>         <th>coef</th>     <th>std err</th>      <th>t</th>      <th>P>|t|</th>  <th>[0.025</th>    <th>0.975]</th>  \n",
       "</tr>\n",
       "<tr>\n",
       "  <th>Intercept</th> <td>   -0.3960</td> <td>    0.128</td> <td>   -3.094</td> <td> 0.003</td> <td>   -0.650</td> <td>   -0.142</td>\n",
       "</tr>\n",
       "<tr>\n",
       "  <th>Score</th>     <td>    0.2508</td> <td>    0.029</td> <td>    8.598</td> <td> 0.000</td> <td>    0.193</td> <td>    0.309</td>\n",
       "</tr>\n",
       "</table>\n",
       "<table class=\"simpletable\">\n",
       "<tr>\n",
       "  <th>Omnibus:</th>       <td>11.481</td> <th>  Durbin-Watson:     </th> <td>   1.670</td>\n",
       "</tr>\n",
       "<tr>\n",
       "  <th>Prob(Omnibus):</th> <td> 0.003</td> <th>  Jarque-Bera (JB):  </th> <td>  15.888</td>\n",
       "</tr>\n",
       "<tr>\n",
       "  <th>Skew:</th>          <td>-0.548</td> <th>  Prob(JB):          </th> <td>0.000355</td>\n",
       "</tr>\n",
       "<tr>\n",
       "  <th>Kurtosis:</th>      <td> 4.617</td> <th>  Cond. No.          </th> <td>    16.3</td>\n",
       "</tr>\n",
       "</table><br/><br/>Notes:<br/>[1] Standard Errors assume that the covariance matrix of the errors is correctly specified."
      ],
      "text/plain": [
       "<class 'statsmodels.iolib.summary.Summary'>\n",
       "\"\"\"\n",
       "                            OLS Regression Results                            \n",
       "==============================================================================\n",
       "Dep. Variable:                 rating   R-squared:                       0.430\n",
       "Model:                            OLS   Adj. R-squared:                  0.424\n",
       "Method:                 Least Squares   F-statistic:                     73.92\n",
       "Date:                Wed, 23 Feb 2022   Prob (F-statistic):           1.32e-13\n",
       "Time:                        17:21:06   Log-Likelihood:                -38.820\n",
       "No. Observations:                 100   AIC:                             81.64\n",
       "Df Residuals:                      98   BIC:                             86.85\n",
       "Df Model:                           1                                         \n",
       "Covariance Type:            nonrobust                                         \n",
       "==============================================================================\n",
       "                 coef    std err          t      P>|t|      [0.025      0.975]\n",
       "------------------------------------------------------------------------------\n",
       "Intercept     -0.3960      0.128     -3.094      0.003      -0.650      -0.142\n",
       "Score          0.2508      0.029      8.598      0.000       0.193       0.309\n",
       "==============================================================================\n",
       "Omnibus:                       11.481   Durbin-Watson:                   1.670\n",
       "Prob(Omnibus):                  0.003   Jarque-Bera (JB):               15.888\n",
       "Skew:                          -0.548   Prob(JB):                     0.000355\n",
       "Kurtosis:                       4.617   Cond. No.                         16.3\n",
       "==============================================================================\n",
       "\n",
       "Notes:\n",
       "[1] Standard Errors assume that the covariance matrix of the errors is correctly specified.\n",
       "\"\"\""
      ]
     },
     "execution_count": 130,
     "metadata": {},
     "output_type": "execute_result"
    }
   ],
   "source": [
    "model0 = smf.ols(\"rating ~ Score \", data=r)\n",
    "model0.fit().summary()"
   ]
  },
  {
   "cell_type": "code",
   "execution_count": null,
   "metadata": {},
   "outputs": [],
   "source": []
  },
  {
   "cell_type": "code",
   "execution_count": null,
   "metadata": {},
   "outputs": [],
   "source": []
  }
 ],
 "metadata": {
  "kernelspec": {
   "display_name": "Python 3 (ipykernel)",
   "language": "python",
   "name": "python3"
  },
  "language_info": {
   "codemirror_mode": {
    "name": "ipython",
    "version": 3
   },
   "file_extension": ".py",
   "mimetype": "text/x-python",
   "name": "python",
   "nbconvert_exporter": "python",
   "pygments_lexer": "ipython3",
   "version": "3.9.7"
  },
  "toc-autonumbering": false,
  "toc-showcode": false,
  "toc-showmarkdowntxt": false,
  "toc-showtags": false
 },
 "nbformat": 4,
 "nbformat_minor": 4
}
