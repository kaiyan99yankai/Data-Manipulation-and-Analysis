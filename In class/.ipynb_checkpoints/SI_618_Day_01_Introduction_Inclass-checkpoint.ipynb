{
 "cells": [
  {
   "cell_type": "markdown",
   "metadata": {
    "id": "jh_-5OA0GU7O",
    "tags": []
   },
   "source": [
    "# SI 618: Data Manipulation and Analysis\n",
    "## 01 - Introduction\n",
    "### Dr. Chris Teplovs, School of Information, University of Michigan\n",
    "<small><a rel=\"license\" href=\"http://creativecommons.org/licenses/by-nc-sa/4.0/\"><img alt=\"Creative Commons License\" style=\"border-width:0\" src=\"https://i.creativecommons.org/l/by-nc-sa/4.0/88x31.png\" /></a><p/>This work is licensed under a <a rel=\"license\" href=\"http://creativecommons.org/licenses/by-nc-sa/4.0/\">Creative Commons Attribution-NonCommercial-ShareAlike 4.0 International License</a>.\n",
    "\n",
    "Version 2022.01.09.1.CT"
   ]
  },
  {
   "cell_type": "code",
   "execution_count": 3,
   "metadata": {},
   "outputs": [
    {
     "name": "stdout",
     "output_type": "stream",
     "text": [
      "Hello, world.\n"
     ]
    }
   ],
   "source": [
    "print(\"Hello, world.\")"
   ]
  },
  {
   "cell_type": "markdown",
   "metadata": {
    "slideshow": {
     "slide_type": "slide"
    },
    "tags": []
   },
   "source": [
    "## Learning Objectives\n",
    "By the end of today's class, you should be able to:\n",
    "* run code in a Jupyter notebook\n",
    "* use markdown effectively in a Jupyter notebook\n",
    "* use Deepnote to share python code\n",
    "* explain when to use scalars, lists, sets, tuples, dicts, and more complex data structures"
   ]
  },
  {
   "cell_type": "markdown",
   "metadata": {},
   "source": [
    "## Introduction to Jupyter Notebooks"
   ]
  },
  {
   "cell_type": "markdown",
   "metadata": {
    "id": "OHZzcJl-GU7T",
    "jp-MarkdownHeadingCollapsed": true,
    "tags": []
   },
   "source": [
    "## What's wrong with Jupyter notebooks?\n",
    "* not great for software engineering (see Joel Grus' [\"I don't like notebooks\"](https://docs.google.com/presentation/d/1n2RlMdmv1p25Xy5thJUhkKGvjtV-dkAIsUXP-AL4ffI/edit#slide=id.g362da58057_0_1) presentation)\n"
   ]
  },
  {
   "cell_type": "markdown",
   "metadata": {},
   "source": [
    "Let's go over some Juptyer basics:  there are two main types of \"blocks\" or \"cells\": Markdown and Code.  \n",
    "\n",
    "This is a markdown cell.  It's easy to create things like bulleted lists:\n",
    "* apple\n",
    "* banana\n",
    "* cherry\n",
    "\n",
    "Or you can create numbered lists:\n",
    "\n",
    "1. one\n",
    "2. two\n",
    "3. three\n",
    "\n",
    "Note that you can use the same number over and over and markdown will number them correctly (this is handy in case you want to insert something in the middle of the list and not have to renumber everything:\n",
    "\n",
    "1. somewhere\n",
    "2. over\n",
    "2. the\n",
    "3. rainbow\n",
    "\n",
    "Double-clicking on a cell allows you to edit it:  try it with this cell.\n",
    "\n",
    "You can use _italics_ by surrounding the text you want to italicize with underscores.  You can also **bold** text by surrounding it with double-*.\n",
    "\n",
    "You can do fancy things like tables (which take a bit more effort) or math, which looks scary but isn't really: $ e = mc^2 $ or $ H' = -\\sum{p_i log(p_i)} $.\n",
    "\n",
    "You can, in fact, use any HTML that you'd like, although its behaviour might not be what you expect."
   ]
  },
  {
   "cell_type": "code",
   "execution_count": 4,
   "metadata": {},
   "outputs": [],
   "source": [
    "# This is a code cell\n",
    "a = 10"
   ]
  },
  {
   "cell_type": "markdown",
   "metadata": {},
   "source": [
    "You can run a code cell by clicking the run icon.  I usually prefer to avoid that, preferring instead to use Shift-Return.  Go ahead and run the above cell."
   ]
  },
  {
   "cell_type": "markdown",
   "metadata": {},
   "source": [
    "Each cell can be thought of as a [REPL](https://codewith.mu/en/tutorials/1.0/repl).  Each line is evaluated and the last one to emit something is shown below the cell.  Here's what I mean:"
   ]
  },
  {
   "cell_type": "code",
   "execution_count": 5,
   "metadata": {},
   "outputs": [
    {
     "data": {
      "text/plain": [
       "15"
      ]
     },
     "execution_count": 5,
     "metadata": {},
     "output_type": "execute_result"
    }
   ],
   "source": [
    "a = 15\n",
    "a"
   ]
  },
  {
   "cell_type": "code",
   "execution_count": 6,
   "metadata": {},
   "outputs": [
    {
     "data": {
      "text/plain": [
       "20"
      ]
     },
     "execution_count": 6,
     "metadata": {},
     "output_type": "execute_result"
    }
   ],
   "source": [
    "b = 20\n",
    "b"
   ]
  },
  {
   "cell_type": "code",
   "execution_count": 7,
   "metadata": {},
   "outputs": [
    {
     "data": {
      "text/plain": [
       "40"
      ]
     },
     "execution_count": 7,
     "metadata": {},
     "output_type": "execute_result"
    }
   ],
   "source": [
    "c = 30\n",
    "d = 40\n",
    "c\n",
    "d"
   ]
  },
  {
   "cell_type": "markdown",
   "metadata": {},
   "source": [
    "Knowing that allows you to just evaluate an expression without having to use a print() statement.  Note that you also have a display() statement that pretty-prints your output.  It doesn't do much with simple data structures, but can be really handy when you are trying to inspect more complex ones:"
   ]
  },
  {
   "cell_type": "code",
   "execution_count": 8,
   "metadata": {},
   "outputs": [
    {
     "data": {
      "text/plain": [
       "30"
      ]
     },
     "metadata": {},
     "output_type": "display_data"
    },
    {
     "data": {
      "text/plain": [
       "40"
      ]
     },
     "metadata": {},
     "output_type": "display_data"
    }
   ],
   "source": [
    "c = 30\n",
    "d = 40\n",
    "display(c)\n",
    "display(d)"
   ]
  },
  {
   "cell_type": "markdown",
   "metadata": {},
   "source": [
    "Let's try some python exercises:"
   ]
  },
  {
   "cell_type": "markdown",
   "metadata": {},
   "source": [
    "### <font color=\"magenta\"> Q1: (1 point) </font>\n",
    "Run the following code cell, then add new code in the cell below it to print or otherwise display the length of the list that's stored in `ell`"
   ]
  },
  {
   "cell_type": "code",
   "execution_count": 10,
   "metadata": {},
   "outputs": [],
   "source": [
    "ell = [1,2,2,3,3,3,4,4,4,4]"
   ]
  },
  {
   "cell_type": "code",
   "execution_count": 12,
   "metadata": {},
   "outputs": [
    {
     "data": {
      "text/plain": [
       "10"
      ]
     },
     "metadata": {},
     "output_type": "display_data"
    }
   ],
   "source": [
    "display(len(ell))"
   ]
  },
  {
   "cell_type": "markdown",
   "metadata": {},
   "source": [
    "### <font color=\"magenta\"> Q2: (2 points) </font>\n",
    "Add a new code cell below this markdown cell that prints/displays/shows the number of **unique** values in `ell`"
   ]
  },
  {
   "cell_type": "code",
   "execution_count": 16,
   "metadata": {},
   "outputs": [
    {
     "name": "stdout",
     "output_type": "stream",
     "text": [
      "4\n"
     ]
    }
   ],
   "source": [
    "print(len(set(ell)))"
   ]
  },
  {
   "cell_type": "markdown",
   "metadata": {
    "tags": []
   },
   "source": [
    "### <font color=\"magenta\"> Q3: (5 points) </font>\n",
    "Create a function called `get_letter_grade` that takes as its single numerical argument the number of points earned in this course and prints out the corresponding letter grade.  You will need to consult the [course syllabus](https://docs.google.com/document/d/1Icfg2WtM5z0rA4CZh8YeTy2gbu5MXu76T_sL7-C-6Mk/edit) for the mapping table.  We'll spend about 10 minutes working on this before sharing out some solutions in Deepnote."
   ]
  },
  {
   "cell_type": "code",
   "execution_count": 33,
   "metadata": {},
   "outputs": [],
   "source": [
    "# Insert your code here\n",
    "def get_letter_grade(score):\n",
    "    if (1050 <= score <= 1099):\n",
    "        return \"D-\"\n",
    "    if (score <= 1149):\n",
    "        return \"D\"\n",
    "    if (score <= 1199):\n",
    "        return \"D+\"\n",
    "    if (score <= 1249):\n",
    "        return \"C-\"\n",
    "    if (score <= 1299):\n",
    "        return \"C\"\n",
    "    if (score <= 1349):\n",
    "        return \"C+\"\n",
    "    if (score <= 1399):\n",
    "        return \"B-\"\n",
    "    if (score <= 1449):\n",
    "        return \"B\"\n",
    "    if (score <= 1499):\n",
    "        return \"B+\"\n",
    "    if (score <= 1549):\n",
    "        return \"A-\"\n",
    "    if (1550 <= score):\n",
    "        return \"A\""
   ]
  },
  {
   "cell_type": "code",
   "execution_count": 34,
   "metadata": {},
   "outputs": [],
   "source": [
    "# This code tests your implmentation\n",
    "assert get_letter_grade(1551) == 'A', \"1551 points should give you an A+\"\n",
    "assert get_letter_grade(1350) == 'B-', \"1350 points is a B-\"\n",
    "assert get_letter_grade(1251.5) == 'C', \"Fractional grades are legit\""
   ]
  },
  {
   "cell_type": "markdown",
   "metadata": {},
   "source": [
    "### The `collections` library"
   ]
  },
  {
   "cell_type": "markdown",
   "metadata": {},
   "source": [
    "The `collections` library (full docs available from https://docs.python.org/3.10/library/collections.html) contains a lot of useful functionality.  We will focus on the functionality provided by `defaultdict` and `Counter` objects. "
   ]
  },
  {
   "cell_type": "code",
   "execution_count": 35,
   "metadata": {},
   "outputs": [],
   "source": [
    "from collections import defaultdict, Counter"
   ]
  },
  {
   "cell_type": "markdown",
   "metadata": {},
   "source": [
    "#### defaultdict\n",
    "Let's say that I gave you a list (name,score) tuples and asked you to total the scores for each name and store the results in a dictionary.\n",
    "In other words, given the following list:"
   ]
  },
  {
   "cell_type": "code",
   "execution_count": 37,
   "metadata": {},
   "outputs": [],
   "source": [
    "names_and_scores = [('Chris', 62), ('Chris', 71), ('Alex', 65), ('Alex', 70)]"
   ]
  },
  {
   "cell_type": "markdown",
   "metadata": {
    "tags": []
   },
   "source": [
    "I would want a dictionary that looks like `{'Chris': 133, 'Alex': 135}`.\n",
    "\n",
    "### <font color=\"magenta\"> Q4: (5 points) </font>\n",
    "\n",
    "*Without* using a defaultdict (i.e. just use a plain old python dict), write code that would produce the above dictionary based on the content of `names_and_scores`"
   ]
  },
  {
   "cell_type": "code",
   "execution_count": 45,
   "metadata": {},
   "outputs": [
    {
     "name": "stdout",
     "output_type": "stream",
     "text": [
      "{'Chris': 133, 'Alex': 135}\n"
     ]
    }
   ],
   "source": [
    "# Insert your code here\n",
    "score = {}\n",
    "for ele in names_and_scores:\n",
    "    if ele[0] not in score:\n",
    "        score[ele[0]] = ele[1]\n",
    "    else:\n",
    "        score[ele[0]] += ele[1]\n",
    "print(score)"
   ]
  },
  {
   "cell_type": "markdown",
   "metadata": {},
   "source": [
    "Now let's do the same thing with a `defaultdict` (Chris will demo this):"
   ]
  },
  {
   "cell_type": "code",
   "execution_count": 46,
   "metadata": {},
   "outputs": [
    {
     "data": {
      "text/plain": [
       "defaultdict(int, {'Chris': 133, 'Alex': 135})"
      ]
     },
     "execution_count": 46,
     "metadata": {},
     "output_type": "execute_result"
    }
   ],
   "source": [
    "# Placeholder\n",
    "d = defaultdict(int)\n",
    "for name, score in names_and_scores:\n",
    "    d[name] += score\n",
    "d"
   ]
  },
  {
   "cell_type": "markdown",
   "metadata": {},
   "source": [
    "#### Counter\n",
    "Sometimes it's nice to be able to just tally up (i.e. count) values from a list.  The `Counter` object from the `collections` module can help with this.\n",
    "\n",
    "Consider the following list of baby names from New York City in the 1800s:"
   ]
  },
  {
   "cell_type": "code",
   "execution_count": 47,
   "metadata": {},
   "outputs": [],
   "source": [
    "names = ['Simeon', 'Raoul', 'Lou', 'Myra', 'Alois', 'Hosea', 'Arthur', 'Vena',\n",
    "    'Electa', 'Tessie', 'William', 'Inez', 'Alla', 'Sylvester', 'Norma', 'Elise',\n",
    "    'Morris', 'Worth', 'Malcom', 'Myra', 'Alois', 'Hosea', 'Arthur', 'Vena', 'Electa',\n",
    "    'Tessie', 'Ludwig', 'Mena', 'Emmet', 'Alverta', 'Effa', 'Henry', 'Abbie', 'Isabell',\n",
    "    'Eloise', 'Sidney', 'Sumner', 'Titus', 'Nevada', 'Louie', 'Rebecca', 'Linna']"
   ]
  },
  {
   "cell_type": "markdown",
   "metadata": {},
   "source": [
    "How many times does each name occur?  It's remarkably easy to do this with a `Counter`:\n"
   ]
  },
  {
   "cell_type": "code",
   "execution_count": 48,
   "metadata": {},
   "outputs": [
    {
     "data": {
      "text/plain": [
       "Counter({'Simeon': 1,\n",
       "         'Raoul': 1,\n",
       "         'Lou': 1,\n",
       "         'Myra': 2,\n",
       "         'Alois': 2,\n",
       "         'Hosea': 2,\n",
       "         'Arthur': 2,\n",
       "         'Vena': 2,\n",
       "         'Electa': 2,\n",
       "         'Tessie': 2,\n",
       "         'William': 1,\n",
       "         'Inez': 1,\n",
       "         'Alla': 1,\n",
       "         'Sylvester': 1,\n",
       "         'Norma': 1,\n",
       "         'Elise': 1,\n",
       "         'Morris': 1,\n",
       "         'Worth': 1,\n",
       "         'Malcom': 1,\n",
       "         'Ludwig': 1,\n",
       "         'Mena': 1,\n",
       "         'Emmet': 1,\n",
       "         'Alverta': 1,\n",
       "         'Effa': 1,\n",
       "         'Henry': 1,\n",
       "         'Abbie': 1,\n",
       "         'Isabell': 1,\n",
       "         'Eloise': 1,\n",
       "         'Sidney': 1,\n",
       "         'Sumner': 1,\n",
       "         'Titus': 1,\n",
       "         'Nevada': 1,\n",
       "         'Louie': 1,\n",
       "         'Rebecca': 1,\n",
       "         'Linna': 1})"
      ]
     },
     "execution_count": 48,
     "metadata": {},
     "output_type": "execute_result"
    }
   ],
   "source": [
    "Counter(names)"
   ]
  },
  {
   "cell_type": "markdown",
   "metadata": {},
   "source": [
    "Beyond just counting, though, `Counter` objects also have some handy methods:"
   ]
  },
  {
   "cell_type": "code",
   "execution_count": 49,
   "metadata": {},
   "outputs": [],
   "source": [
    "name_counter = Counter(names)"
   ]
  },
  {
   "cell_type": "code",
   "execution_count": 50,
   "metadata": {},
   "outputs": [
    {
     "data": {
      "text/plain": [
       "[('Myra', 2),\n",
       " ('Alois', 2),\n",
       " ('Hosea', 2),\n",
       " ('Arthur', 2),\n",
       " ('Vena', 2),\n",
       " ('Electa', 2),\n",
       " ('Tessie', 2),\n",
       " ('Simeon', 1),\n",
       " ('Raoul', 1),\n",
       " ('Lou', 1)]"
      ]
     },
     "execution_count": 50,
     "metadata": {},
     "output_type": "execute_result"
    }
   ],
   "source": [
    "name_counter.most_common(10)"
   ]
  },
  {
   "cell_type": "markdown",
   "metadata": {},
   "source": [
    "### <font color=\"magenta\"> Q5: (12 points) </font>\n",
    "_In your own words_, explain when you would use a list, a set, a tuple, a dict(ionary), a defaultdict, and a Counter.  Provide examples as well as a description.  Use one or more code and/or markdown blocks below. Be prepared to share your answers."
   ]
  },
  {
   "cell_type": "markdown",
   "metadata": {},
   "source": [
    "* List: list are similar to array, so I think one should use list when he is dealing with unstructural and data of the same types.\n",
    "* Set: Set only has unique data, so it can work well when you want to find all the unqiue elements in a list, or you want to make sure all the elements are unique.\\\n",
    "For example, we can revisit the example before:"
   ]
  },
  {
   "cell_type": "code",
   "execution_count": 63,
   "metadata": {},
   "outputs": [
    {
     "name": "stdout",
     "output_type": "stream",
     "text": [
      "9\n",
      "6\n"
     ]
    }
   ],
   "source": [
    "list = [1, 1, 2, 2, 3, 4, 5, 6, 6]\n",
    "print(len(list))\n",
    "print(len(set(list)))"
   ]
  },
  {
   "cell_type": "markdown",
   "metadata": {},
   "source": [
    "* Tuple: Tuple is the nested data, so one should use it when he is dealing with structured and data of different types.\\\n",
    "For example, we can nest string, int together"
   ]
  },
  {
   "cell_type": "code",
   "execution_count": 68,
   "metadata": {},
   "outputs": [
    {
     "name": "stdout",
     "output_type": "stream",
     "text": [
      "Peter\n",
      "Male\n",
      "22\n"
     ]
    }
   ],
   "source": [
    "nested_tuple = ('Peter',('Male', 22))\n",
    "print(nested_tuple[0], nested_tuple[1][0], nested_tuple[1][1], sep = '\\n')"
   ]
  },
  {
   "cell_type": "markdown",
   "metadata": {
    "tags": []
   },
   "source": [
    "* Dict: Dict is the unorderd map for a key and a value, should be useful for the data with the structure of key value pair.\n",
    "* Defaultdict: Dict with a default value for the key that is not assigned with a value, I think it is basically the same as dict but with a extra function. Can use it whenever you want to use a dict.\n",
    "* Counter: Counter will counte the time of element and list them in a tuple. Can use it when one want to analyse the times some elements occur in a struct."
   ]
  },
  {
   "cell_type": "markdown",
   "metadata": {},
   "source": [
    "### <font color=\"magenta\"> Q6: (5 points)</font>\n",
    "Re-write the following code, in a new code block below, as a list comprehension:"
   ]
  },
  {
   "cell_type": "code",
   "execution_count": 52,
   "metadata": {},
   "outputs": [
    {
     "data": {
      "text/plain": [
       "[1, 3, 5, 7, 9]"
      ]
     },
     "metadata": {},
     "output_type": "display_data"
    }
   ],
   "source": [
    "output = []\n",
    "for i in range(10):\n",
    "    if i % 2: output.append(i)\n",
    "display(output)"
   ]
  },
  {
   "cell_type": "code",
   "execution_count": 57,
   "metadata": {},
   "outputs": [
    {
     "data": {
      "text/plain": [
       "[1, 3, 5, 7, 9]"
      ]
     },
     "execution_count": 57,
     "metadata": {},
     "output_type": "execute_result"
    }
   ],
   "source": [
    "output = [i for i in range(1, 10, 2)]\n",
    "output"
   ]
  },
  {
   "cell_type": "markdown",
   "metadata": {},
   "source": [
    "### <font color=\"magenta\"> Q7: (5 points) </font>\n",
    "How long does the following code block take to run? (Hint: add `%%timeit` to the beginning of the cell.)"
   ]
  },
  {
   "cell_type": "code",
   "execution_count": 60,
   "metadata": {},
   "outputs": [
    {
     "name": "stdout",
     "output_type": "stream",
     "text": [
      "519 µs ± 3.74 µs per loop (mean ± std. dev. of 7 runs, 1000 loops each)\n"
     ]
    }
   ],
   "source": [
    "%%timeit\n",
    "ell = []\n",
    "for i in range(100):\n",
    "    for j in range(100):\n",
    "        ell.append(i*j)     "
   ]
  },
  {
   "cell_type": "markdown",
   "metadata": {},
   "source": [
    "Now, how long does the following take (notice that we're using `insert(0...` to insert elements at the beginning of the list)?"
   ]
  },
  {
   "cell_type": "code",
   "execution_count": 74,
   "metadata": {},
   "outputs": [
    {
     "name": "stdout",
     "output_type": "stream",
     "text": [
      "23.2 ms ± 226 µs per loop (mean ± std. dev. of 7 runs, 10 loops each)\n"
     ]
    }
   ],
   "source": [
    "%%timeit\n",
    "ell = []\n",
    "for i in range(100):\n",
    "    for j in range(100):\n",
    "        ell.insert(0,i*j)"
   ]
  },
  {
   "cell_type": "markdown",
   "metadata": {},
   "source": [
    "Which one is more efficient?  How do you know that?\\\n",
    "Append is more efficient. I know it from the time given. In which append takes around 519 us and insert takes 23.2 ms for each run.\\\n",
    "I think the reason may because the list is single direcition, so if you want to insert an element to the begining of the list, you should trace back to the very beginning, which would take O(n) time."
   ]
  },
  {
   "cell_type": "markdown",
   "metadata": {
    "tags": []
   },
   "source": [
    "### <font color=\"magenta\"> Q8: (5 points)</font>\n",
    "We talked about `defaultdict` and `Counter` from the collections library.  There's also something called a `deque` (`d`ouble-`e`nded `que`ue, pronounced \"deck\").  [Read the documentation on deques](https://docs.python.org/3/library/collections.html#collections.deque) and implement the `insert` version of the code from the previous question using a deque.  Time it (we recommend using `%%timeit`), and comment on how it compares to a list's insert() method.  Use code and markdown blocks below for your work."
   ]
  },
  {
   "cell_type": "code",
   "execution_count": 58,
   "metadata": {},
   "outputs": [
    {
     "name": "stdout",
     "output_type": "stream",
     "text": [
      "848 µs ± 23.2 µs per loop (mean ± std. dev. of 7 runs, 1000 loops each)\n"
     ]
    }
   ],
   "source": [
    "%%timeit\n",
    "from collections import deque\n",
    "ell = deque()\n",
    "for i in range(100):\n",
    "    for j in range(100):\n",
    "        ell.insert(0,i*j)"
   ]
  },
  {
   "cell_type": "markdown",
   "metadata": {},
   "source": [
    "Now, insert to the beginning is much quicker. I think it is because for the double end queue, the data is lined in both direction, so if you want to insert element to the beginning, it would just take O(1) time like append."
   ]
  },
  {
   "cell_type": "markdown",
   "metadata": {
    "jp-MarkdownHeadingCollapsed": true,
    "slideshow": {
     "slide_type": "slide"
    },
    "tags": []
   },
   "source": [
    "## End of notebook\n",
    "## Remember to submit this notebook to Canvas in both HTML and ipynb formats."
   ]
  },
  {
   "cell_type": "markdown",
   "metadata": {
    "id": "2mmodqWjGU7b"
   },
   "source": [
    "# <font color=\"magenta\">END OF NOTEBOOK</font>\n",
    "## Remember to submit this file in IPYNB and HTML versions via Canvas."
   ]
  },
  {
   "cell_type": "markdown",
   "metadata": {
    "id": "NyeiaJeTGU7b"
   },
   "source": [
    "# Preparing for next class\n",
    "\n",
    "See Syllabus\n",
    "\n",
    "1. Review python basics: McKinney Chapters 1, 2, and 3\n",
    "2. Study McKinney Chapters 4, 5, and 6; consider reading Chen chapters indicated in syllabus"
   ]
  },
  {
   "cell_type": "code",
   "execution_count": null,
   "metadata": {
    "id": "kNaYfgx3GU7b"
   },
   "outputs": [],
   "source": []
  }
 ],
 "metadata": {
  "celltoolbar": "Slideshow",
  "colab": {
   "name": "618_01_Introduction.ipynb",
   "provenance": []
  },
  "kernelspec": {
   "display_name": "Python 3 (ipykernel)",
   "language": "python",
   "name": "python3"
  },
  "language_info": {
   "codemirror_mode": {
    "name": "ipython",
    "version": 3
   },
   "file_extension": ".py",
   "mimetype": "text/x-python",
   "name": "python",
   "nbconvert_exporter": "python",
   "pygments_lexer": "ipython3",
   "version": "3.9.7"
  },
  "livereveal": {
   "theme": "sky"
  },
  "nteract": {
   "version": "nteract-on-jupyter@1.9.6"
  }
 },
 "nbformat": 4,
 "nbformat_minor": 4
}
