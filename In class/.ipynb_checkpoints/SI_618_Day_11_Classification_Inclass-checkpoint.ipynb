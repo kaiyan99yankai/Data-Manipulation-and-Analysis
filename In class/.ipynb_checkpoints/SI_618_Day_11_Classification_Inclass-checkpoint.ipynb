{
 "cells": [
  {
   "cell_type": "markdown",
   "metadata": {
    "slideshow": {
     "slide_type": "slide"
    }
   },
   "source": [
    "# SI 618 Day 11: Classification\n",
    "\n",
    "Version 2021.04.04.1.CT"
   ]
  },
  {
   "cell_type": "markdown",
   "metadata": {
    "slideshow": {
     "slide_type": "slide"
    }
   },
   "source": [
    "Today we're going to focus on classification and model evaluation. "
   ]
  },
  {
   "cell_type": "code",
   "execution_count": 2,
   "metadata": {},
   "outputs": [],
   "source": [
    "import seaborn as sns\n",
    "import pandas as pd"
   ]
  },
  {
   "cell_type": "code",
   "execution_count": 3,
   "metadata": {},
   "outputs": [
    {
     "data": {
      "text/html": [
       "<div>\n",
       "<style scoped>\n",
       "    .dataframe tbody tr th:only-of-type {\n",
       "        vertical-align: middle;\n",
       "    }\n",
       "\n",
       "    .dataframe tbody tr th {\n",
       "        vertical-align: top;\n",
       "    }\n",
       "\n",
       "    .dataframe thead th {\n",
       "        text-align: right;\n",
       "    }\n",
       "</style>\n",
       "<table border=\"1\" class=\"dataframe\">\n",
       "  <thead>\n",
       "    <tr style=\"text-align: right;\">\n",
       "      <th></th>\n",
       "      <th>sepal_length</th>\n",
       "      <th>sepal_width</th>\n",
       "      <th>petal_length</th>\n",
       "      <th>petal_width</th>\n",
       "    </tr>\n",
       "    <tr>\n",
       "      <th>species</th>\n",
       "      <th></th>\n",
       "      <th></th>\n",
       "      <th></th>\n",
       "      <th></th>\n",
       "    </tr>\n",
       "  </thead>\n",
       "  <tbody>\n",
       "    <tr>\n",
       "      <th>setosa</th>\n",
       "      <td>50</td>\n",
       "      <td>50</td>\n",
       "      <td>50</td>\n",
       "      <td>50</td>\n",
       "    </tr>\n",
       "    <tr>\n",
       "      <th>versicolor</th>\n",
       "      <td>50</td>\n",
       "      <td>50</td>\n",
       "      <td>50</td>\n",
       "      <td>50</td>\n",
       "    </tr>\n",
       "    <tr>\n",
       "      <th>virginica</th>\n",
       "      <td>50</td>\n",
       "      <td>50</td>\n",
       "      <td>50</td>\n",
       "      <td>50</td>\n",
       "    </tr>\n",
       "  </tbody>\n",
       "</table>\n",
       "</div>"
      ],
      "text/plain": [
       "            sepal_length  sepal_width  petal_length  petal_width\n",
       "species                                                         \n",
       "setosa                50           50            50           50\n",
       "versicolor            50           50            50           50\n",
       "virginica             50           50            50           50"
      ]
     },
     "execution_count": 3,
     "metadata": {},
     "output_type": "execute_result"
    }
   ],
   "source": [
    "data = sns.load_dataset('iris')\n",
    "data.groupby('species').count()"
   ]
  },
  {
   "cell_type": "markdown",
   "metadata": {},
   "source": [
    "Since for the classfication we need to assess how good our classification number is, we should split our dataset and measure how good our data is with metrics (accuracy). Now we have a balance label size, we can split our data directly, however, if we do not have a balanced one, we should split it by some certain percentage that maintains the original ratio."
   ]
  },
  {
   "cell_type": "code",
   "execution_count": 4,
   "metadata": {
    "slideshow": {
     "slide_type": "slide"
    }
   },
   "outputs": [
    {
     "name": "stderr",
     "output_type": "stream",
     "text": [
      "C:\\Users\\kaiya\\AppData\\Local\\Temp/ipykernel_35372/2049760504.py:5: FutureWarning: In a future version of pandas all arguments of DataFrame.drop except for the argument 'labels' will be keyword-only\n",
      "  X = data.drop(target,1)\n"
     ]
    }
   ],
   "source": [
    "from sklearn.model_selection import train_test_split\n",
    "# \"target\" contains the column name of the classification labels\n",
    "target = \"species\"\n",
    "\n",
    "X = data.drop(target,1)\n",
    "y = data[target]\n",
    "\n",
    "seed = 7\n",
    "test_size = 0.33\n",
    "X_train, X_test, y_train, y_test = train_test_split(X, y, test_size=test_size, random_state=seed)\n"
   ]
  },
  {
   "cell_type": "code",
   "execution_count": 5,
   "metadata": {},
   "outputs": [],
   "source": [
    "from sklearn.metrics import accuracy_score\n",
    "from sklearn.metrics import classification_report, confusion_matrix"
   ]
  },
  {
   "cell_type": "markdown",
   "metadata": {
    "slideshow": {
     "slide_type": "slide"
    }
   },
   "source": [
    "## Naive Bayes"
   ]
  },
  {
   "cell_type": "code",
   "execution_count": 6,
   "metadata": {},
   "outputs": [],
   "source": [
    "from sklearn.naive_bayes import GaussianNB\n",
    "\n",
    "model = GaussianNB()\n",
    "model.fit(X_train, y_train)\n",
    "# make predictions for test data\n",
    "y_pred = model.predict(X_test)\n",
    "predictions = y_pred \n"
   ]
  },
  {
   "cell_type": "markdown",
   "metadata": {
    "slideshow": {
     "slide_type": "slide"
    }
   },
   "source": [
    "$accuracy = \\frac{True Positives + True Negatives}{All Samples}$\n",
    "\n",
    "$precision = \\frac{True Positives}{True Positives + False Positives}$\n",
    "\n",
    "$recall = \\frac{True Positives}{True Positives + False Negatives}$\n",
    "\n",
    "$F1 = \\frac{2 \\times (Precision \\times Recall)}{Precision + Recall}$"
   ]
  },
  {
   "cell_type": "markdown",
   "metadata": {},
   "source": [
    "confusion_matarix give the ideas which of the data are missed with each other. By checking the confusion report, we can try to figure a way to improve our model.\n",
    "sns.pairplot can be approximately used to see the difference between the data."
   ]
  },
  {
   "cell_type": "code",
   "execution_count": 8,
   "metadata": {
    "slideshow": {
     "slide_type": "slide"
    }
   },
   "outputs": [
    {
     "name": "stdout",
     "output_type": "stream",
     "text": [
      "Accuracy: 90.00%\n",
      "[[14  0  0]\n",
      " [ 0 15  3]\n",
      " [ 0  2 16]]\n",
      "              precision    recall  f1-score   support\n",
      "\n",
      "      setosa       1.00      1.00      1.00        14\n",
      "  versicolor       0.88      0.83      0.86        18\n",
      "   virginica       0.84      0.89      0.86        18\n",
      "\n",
      "    accuracy                           0.90        50\n",
      "   macro avg       0.91      0.91      0.91        50\n",
      "weighted avg       0.90      0.90      0.90        50\n",
      "\n"
     ]
    }
   ],
   "source": [
    "# evaluate predictions\n",
    "accuracy = accuracy_score(y_test, predictions)\n",
    "print(\"Accuracy: %.2f%%\" % (accuracy * 100.0))\n",
    "\n",
    "from sklearn.metrics import classification_report, confusion_matrix\n",
    "print(confusion_matrix(y_test, y_pred))\n",
    "print(classification_report(y_test, y_pred))\n"
   ]
  },
  {
   "cell_type": "markdown",
   "metadata": {
    "slideshow": {
     "slide_type": "slide"
    }
   },
   "source": [
    "## Logistic Regression"
   ]
  },
  {
   "cell_type": "code",
   "execution_count": 7,
   "metadata": {
    "slideshow": {
     "slide_type": "-"
    }
   },
   "outputs": [
    {
     "name": "stdout",
     "output_type": "stream",
     "text": [
      "0.9\n",
      "[[14  0  0]\n",
      " [ 0 14  4]\n",
      " [ 0  1 17]]\n",
      "              precision    recall  f1-score   support\n",
      "\n",
      "      setosa       1.00      1.00      1.00        14\n",
      "  versicolor       0.93      0.78      0.85        18\n",
      "   virginica       0.81      0.94      0.87        18\n",
      "\n",
      "    accuracy                           0.90        50\n",
      "   macro avg       0.91      0.91      0.91        50\n",
      "weighted avg       0.91      0.90      0.90        50\n",
      "\n"
     ]
    }
   ],
   "source": [
    "from sklearn.linear_model import LogisticRegression\n",
    "model = LogisticRegression(solver='liblinear',multi_class=\"auto\")\n",
    "model.fit(X_train, y_train)\n",
    "y_pred = model.predict(X_test)\n",
    "\n",
    "print(accuracy_score(y_test, y_pred))\n",
    "print(confusion_matrix(y_test, y_pred))\n",
    "print(classification_report(y_test, y_pred))"
   ]
  },
  {
   "cell_type": "markdown",
   "metadata": {
    "slideshow": {
     "slide_type": "slide"
    }
   },
   "source": [
    "## Support Vector Machines"
   ]
  },
  {
   "cell_type": "code",
   "execution_count": 9,
   "metadata": {},
   "outputs": [
    {
     "name": "stdout",
     "output_type": "stream",
     "text": [
      "0.9\n",
      "[[14  0  0]\n",
      " [ 0 17  1]\n",
      " [ 0  4 14]]\n",
      "              precision    recall  f1-score   support\n",
      "\n",
      "      setosa       1.00      1.00      1.00        14\n",
      "  versicolor       0.81      0.94      0.87        18\n",
      "   virginica       0.93      0.78      0.85        18\n",
      "\n",
      "    accuracy                           0.90        50\n",
      "   macro avg       0.91      0.91      0.91        50\n",
      "weighted avg       0.91      0.90      0.90        50\n",
      "\n"
     ]
    }
   ],
   "source": [
    "from sklearn import svm\n",
    "model = svm.SVC(gamma=\"scale\",kernel=\"rbf\")\n",
    "model.fit(X_train, y_train)\n",
    "y_pred = model.predict(X_test)\n",
    "\n",
    "print(accuracy_score(y_test, y_pred))\n",
    "print(confusion_matrix(y_test, y_pred))\n",
    "print(classification_report(y_test, y_pred))\n"
   ]
  },
  {
   "cell_type": "markdown",
   "metadata": {
    "slideshow": {
     "slide_type": "slide"
    }
   },
   "source": [
    "## Decision Trees"
   ]
  },
  {
   "cell_type": "markdown",
   "metadata": {},
   "source": [
    "For decision tree, the aim is to make the entropy close to 0."
   ]
  },
  {
   "cell_type": "code",
   "execution_count": 14,
   "metadata": {
    "slideshow": {
     "slide_type": "subslide"
    }
   },
   "outputs": [],
   "source": [
    "from sklearn.tree import DecisionTreeClassifier\n",
    "from sklearn.model_selection import train_test_split\n",
    "from sklearn.metrics import accuracy_score\n",
    "from IPython.display import Image"
   ]
  },
  {
   "cell_type": "code",
   "execution_count": 15,
   "metadata": {
    "scrolled": true,
    "slideshow": {
     "slide_type": "subslide"
    }
   },
   "outputs": [
    {
     "name": "stdout",
     "output_type": "stream",
     "text": [
      "Accuracy: 92.00%\n"
     ]
    }
   ],
   "source": [
    "model = DecisionTreeClassifier(\n",
    "    random_state=3, \n",
    "    criterion='entropy',\n",
    "    splitter='best', \n",
    "    max_depth=5, \n",
    "    min_samples_split=2)\n",
    "\n",
    "model.fit(X_train,y_train)\n",
    "\n",
    "y_pred = model.predict(X_test)\n",
    "\n",
    "# evaluate predictions\n",
    "accuracy = model.score(X_test, y_test)\n",
    "print(\"Accuracy: %.2f%%\" % (accuracy * 100.0))"
   ]
  },
  {
   "cell_type": "code",
   "execution_count": 16,
   "metadata": {
    "slideshow": {
     "slide_type": "subslide"
    }
   },
   "outputs": [],
   "source": [
    "import matplotlib.pyplot as plt\n",
    "from sklearn.tree import plot_tree"
   ]
  },
  {
   "cell_type": "code",
   "execution_count": 17,
   "metadata": {
    "slideshow": {
     "slide_type": "subslide"
    }
   },
   "outputs": [
    {
     "data": {
      "image/png": "[encoded data removed]",
      "text/plain": [
       "<Figure size 1800x1440 with 1 Axes>"
      ]
     },
     "metadata": {
      "needs_background": "light"
     },
     "output_type": "display_data"
    }
   ],
   "source": [
    "# based on https://mljar.com/blog/visualize-decision-tree/\n",
    "fig = plt.figure(figsize=(25,20))\n",
    "# we use '_' to capture the return from plot_tree(...) and never do anything with it\n",
    "_ = plot_tree(model, \n",
    "                   feature_names=X.columns,  # ordered list of features\n",
    "                   class_names=y.unique(), # unique() is handy here due to numerical sorting of classes\n",
    "                   filled=True)"
   ]
  },
  {
   "cell_type": "code",
   "execution_count": 18,
   "metadata": {
    "scrolled": true,
    "slideshow": {
     "slide_type": "subslide"
    }
   },
   "outputs": [
    {
     "name": "stdout",
     "output_type": "stream",
     "text": [
      "0.92\n",
      "[[14  0  0]\n",
      " [ 0 16  2]\n",
      " [ 0  2 16]]\n",
      "              precision    recall  f1-score   support\n",
      "\n",
      "      setosa       1.00      1.00      1.00        14\n",
      "  versicolor       0.89      0.89      0.89        18\n",
      "   virginica       0.89      0.89      0.89        18\n",
      "\n",
      "    accuracy                           0.92        50\n",
      "   macro avg       0.93      0.93      0.93        50\n",
      "weighted avg       0.92      0.92      0.92        50\n",
      "\n"
     ]
    }
   ],
   "source": [
    "from sklearn.metrics import accuracy_score\n",
    "accuracy = accuracy_score(y_test, y_pred)\n",
    "print(accuracy)\n",
    "\n",
    "from sklearn.metrics import classification_report, confusion_matrix\n",
    "print(confusion_matrix(y_test, y_pred))\n",
    "print(classification_report(y_test, y_pred))"
   ]
  },
  {
   "cell_type": "markdown",
   "metadata": {
    "slideshow": {
     "slide_type": "slide"
    }
   },
   "source": [
    "## Random Forests"
   ]
  },
  {
   "cell_type": "markdown",
   "metadata": {},
   "source": [
    "random forest would random select from the dataset and do the decision tree and use the decision tree with the highest accuracy."
   ]
  },
  {
   "cell_type": "code",
   "execution_count": 14,
   "metadata": {
    "slideshow": {
     "slide_type": "subslide"
    }
   },
   "outputs": [
    {
     "name": "stdout",
     "output_type": "stream",
     "text": [
      "Accuracy: 92.00%\n"
     ]
    }
   ],
   "source": [
    "seed = 42\n",
    "\n",
    "from sklearn.ensemble import RandomForestClassifier\n",
    "from sklearn.model_selection import train_test_split\n",
    "from sklearn.metrics import accuracy_score\n",
    "\n",
    "model = RandomForestClassifier(\n",
    "    n_estimators=100,\n",
    "    random_state=seed, \n",
    "    criterion='entropy',\n",
    "    max_depth=None, \n",
    "    min_samples_split=2)\n",
    "\n",
    "model.fit(X_train,y_train)\n",
    "\n",
    "y_pred = model.predict(X_test)\n",
    "\n",
    "# evaluate predictions\n",
    "accuracy = model.score(X_test, y_test)\n",
    "print(\"Accuracy: %.2f%%\" % (accuracy * 100.0))"
   ]
  },
  {
   "cell_type": "code",
   "execution_count": 15,
   "metadata": {
    "scrolled": true,
    "slideshow": {
     "slide_type": "subslide"
    }
   },
   "outputs": [
    {
     "name": "stdout",
     "output_type": "stream",
     "text": [
      "[[14  0  0]\n",
      " [ 0 16  2]\n",
      " [ 0  2 16]]\n",
      "              precision    recall  f1-score   support\n",
      "\n",
      "      setosa       1.00      1.00      1.00        14\n",
      "  versicolor       0.89      0.89      0.89        18\n",
      "   virginica       0.89      0.89      0.89        18\n",
      "\n",
      "    accuracy                           0.92        50\n",
      "   macro avg       0.93      0.93      0.93        50\n",
      "weighted avg       0.92      0.92      0.92        50\n",
      "\n"
     ]
    }
   ],
   "source": [
    "from sklearn.metrics import classification_report, confusion_matrix\n",
    "print(confusion_matrix(y_test, y_pred))\n",
    "print(classification_report(y_test, y_pred))"
   ]
  },
  {
   "cell_type": "code",
   "execution_count": 16,
   "metadata": {
    "scrolled": true,
    "slideshow": {
     "slide_type": "subslide"
    }
   },
   "outputs": [
    {
     "data": {
      "text/plain": [
       "<AxesSubplot:>"
      ]
     },
     "execution_count": 16,
     "metadata": {},
     "output_type": "execute_result"
    },
    {
     "data": {
      "image/png": "[encoded data removed]",
      "text/plain": [
       "<Figure size 432x288 with 1 Axes>"
      ]
     },
     "metadata": {
      "needs_background": "light"
     },
     "output_type": "display_data"
    }
   ],
   "source": [
    "# Check feature importance\n",
    "feat_importance = model.feature_importances_\n",
    "pd.DataFrame({'Feature Importance':feat_importance},\n",
    "            index=list(X)).plot(kind='barh')"
   ]
  },
  {
   "cell_type": "markdown",
   "metadata": {
    "slideshow": {
     "slide_type": "slide"
    }
   },
   "source": [
    "##  Cross-validation\n",
    "\n"
   ]
  },
  {
   "cell_type": "markdown",
   "metadata": {
    "slideshow": {
     "slide_type": "skip"
    }
   },
   "source": [
    "\n",
    "### Tuning the model\n",
    "The model paramters are called _hyperparameters_.  Setting them to appropriate values and running the model experiment again can be tedious, so we have a technique called cross-validation to help with this.\n",
    "\n",
    "From http://scikit-learn.org/stable/modules/cross_validation.html:\n",
    "\n",
    "> When evaluating different settings (“hyperparameters”) for estimators, such as the C setting that must be manually set for an SVM, there is still a risk of overfitting on the test set because the parameters can be tweaked until the estimator performs optimally. This way, knowledge about the test set can “leak” into the model and evaluation metrics no longer report on generalization performance. To solve this problem, yet another part of the dataset can be held out as a so-called “validation set”: training proceeds on the training set, after which evaluation is done on the validation set, and when the experiment seems to be successful, final evaluation can be done on the test set.\n",
    "\n",
    "> However, by partitioning the available data into three sets, we drastically reduce the number of samples which can be used for learning the model, and the results can depend on a particular random choice for the pair of (train, validation) sets.\n",
    "\n",
    "> A solution to this problem is a procedure called cross-validation (CV for short). A test set should still be held out for final evaluation, but the validation set is no longer needed when doing CV. In the basic approach, called k-fold CV, the training set is split into k smaller sets (other approaches are described below, but generally follow the same principles). The following procedure is followed for each of the k “folds”:\n",
    "\n",
    "> A model is trained using  of the folds as training data;\n",
    "the resulting model is validated on the remaining part of the data (i.e., it is used as a test set to compute a performance measure such as accuracy).\n",
    "The performance measure reported by k-fold cross-validation is then the average of the values computed in the loop. This approach can be computationally expensive, but does not waste too much data (as is the case when fixing an arbitrary validation set), which is a major advantage in problems such as inverse inference where the number of samples is very small."
   ]
  },
  {
   "cell_type": "markdown",
   "metadata": {
    "slideshow": {
     "slide_type": "skip"
    }
   },
   "source": [
    "The mean score and the 95% confidence interval (2 x the standard deviation) of the score estimate are hence given by:\n"
   ]
  },
  {
   "cell_type": "code",
   "execution_count": 17,
   "metadata": {
    "scrolled": true,
    "slideshow": {
     "slide_type": "subslide"
    }
   },
   "outputs": [
    {
     "name": "stdout",
     "output_type": "stream",
     "text": [
      "Accuracy: 96.00% (+/- 4.99)\n"
     ]
    }
   ],
   "source": [
    "from sklearn.model_selection import cross_val_score\n",
    "scores = cross_val_score(model,X,y, cv=5, n_jobs=-1)\n",
    "print(\"Accuracy: %0.2f%% (+/- %0.2f)\" % (scores.mean()*100, scores.std() * 2*100))"
   ]
  },
  {
   "cell_type": "markdown",
   "metadata": {
    "slideshow": {
     "slide_type": "subslide"
    }
   },
   "source": [
    "But let's say we want to fiddle with the hyperparameters.\n",
    "\n",
    "To do this, we first set up a parameter grid with the lists of paramters we want to try:"
   ]
  },
  {
   "cell_type": "code",
   "execution_count": 18,
   "metadata": {},
   "outputs": [],
   "source": [
    "param_grid = {\n",
    "                 'n_estimators': [5, 10, 15, 20, 25, 30, 35, 40, 50],\n",
    "                 'max_depth': [2, 5, 7, 9],\n",
    "             }"
   ]
  },
  {
   "cell_type": "markdown",
   "metadata": {
    "slideshow": {
     "slide_type": "subslide"
    }
   },
   "source": [
    "We now run the cross-validation on the classifier. Note: this will take a while (why?)."
   ]
  },
  {
   "cell_type": "code",
   "execution_count": 19,
   "metadata": {
    "slideshow": {
     "slide_type": "subslide"
    }
   },
   "outputs": [
    {
     "data": {
      "text/plain": [
       "GridSearchCV(cv=10,\n",
       "             estimator=RandomForestClassifier(criterion='entropy',\n",
       "                                              random_state=42),\n",
       "             n_jobs=-1,\n",
       "             param_grid={'max_depth': [2, 5, 7, 9],\n",
       "                         'n_estimators': [5, 10, 15, 20, 25, 30, 35, 40, 50]})"
      ]
     },
     "execution_count": 19,
     "metadata": {},
     "output_type": "execute_result"
    }
   ],
   "source": [
    "from sklearn.model_selection import GridSearchCV\n",
    "\n",
    "grid_clf = GridSearchCV(model, param_grid, cv=10, n_jobs=-1)\n",
    "grid_clf.fit(X,y)"
   ]
  },
  {
   "cell_type": "code",
   "execution_count": 20,
   "metadata": {
    "scrolled": true,
    "slideshow": {
     "slide_type": "subslide"
    }
   },
   "outputs": [
    {
     "data": {
      "text/plain": [
       "RandomForestClassifier(criterion='entropy', max_depth=5, n_estimators=40,\n",
       "                       random_state=42)"
      ]
     },
     "execution_count": 20,
     "metadata": {},
     "output_type": "execute_result"
    }
   ],
   "source": [
    "grid_clf.best_estimator_"
   ]
  },
  {
   "cell_type": "code",
   "execution_count": 21,
   "metadata": {},
   "outputs": [
    {
     "data": {
      "text/plain": [
       "{'max_depth': 5, 'n_estimators': 40}"
      ]
     },
     "execution_count": 21,
     "metadata": {},
     "output_type": "execute_result"
    }
   ],
   "source": [
    "grid_clf.best_params_"
   ]
  },
  {
   "cell_type": "code",
   "execution_count": 22,
   "metadata": {
    "slideshow": {
     "slide_type": "subslide"
    }
   },
   "outputs": [
    {
     "data": {
      "text/html": [
       "<div>\n",
       "<style scoped>\n",
       "    .dataframe tbody tr th:only-of-type {\n",
       "        vertical-align: middle;\n",
       "    }\n",
       "\n",
       "    .dataframe tbody tr th {\n",
       "        vertical-align: top;\n",
       "    }\n",
       "\n",
       "    .dataframe thead th {\n",
       "        text-align: right;\n",
       "    }\n",
       "</style>\n",
       "<table border=\"1\" class=\"dataframe\">\n",
       "  <thead>\n",
       "    <tr style=\"text-align: right;\">\n",
       "      <th></th>\n",
       "      <th>mean_fit_time</th>\n",
       "      <th>std_fit_time</th>\n",
       "      <th>mean_score_time</th>\n",
       "      <th>std_score_time</th>\n",
       "      <th>param_max_depth</th>\n",
       "      <th>param_n_estimators</th>\n",
       "      <th>params</th>\n",
       "      <th>split0_test_score</th>\n",
       "      <th>split1_test_score</th>\n",
       "      <th>split2_test_score</th>\n",
       "      <th>split3_test_score</th>\n",
       "      <th>split4_test_score</th>\n",
       "      <th>split5_test_score</th>\n",
       "      <th>split6_test_score</th>\n",
       "      <th>split7_test_score</th>\n",
       "      <th>split8_test_score</th>\n",
       "      <th>split9_test_score</th>\n",
       "      <th>mean_test_score</th>\n",
       "      <th>std_test_score</th>\n",
       "      <th>rank_test_score</th>\n",
       "    </tr>\n",
       "  </thead>\n",
       "  <tbody>\n",
       "    <tr>\n",
       "      <th>0</th>\n",
       "      <td>0.010565</td>\n",
       "      <td>0.000662</td>\n",
       "      <td>0.002737</td>\n",
       "      <td>0.000339</td>\n",
       "      <td>2</td>\n",
       "      <td>5</td>\n",
       "      <td>{'max_depth': 2, 'n_estimators': 5}</td>\n",
       "      <td>1.000000</td>\n",
       "      <td>0.933333</td>\n",
       "      <td>1.0</td>\n",
       "      <td>0.933333</td>\n",
       "      <td>0.933333</td>\n",
       "      <td>0.866667</td>\n",
       "      <td>0.866667</td>\n",
       "      <td>1.0</td>\n",
       "      <td>1.0</td>\n",
       "      <td>1.0</td>\n",
       "      <td>0.953333</td>\n",
       "      <td>0.052068</td>\n",
       "      <td>16</td>\n",
       "    </tr>\n",
       "    <tr>\n",
       "      <th>1</th>\n",
       "      <td>0.015190</td>\n",
       "      <td>0.000863</td>\n",
       "      <td>0.002944</td>\n",
       "      <td>0.000307</td>\n",
       "      <td>2</td>\n",
       "      <td>10</td>\n",
       "      <td>{'max_depth': 2, 'n_estimators': 10}</td>\n",
       "      <td>1.000000</td>\n",
       "      <td>0.933333</td>\n",
       "      <td>1.0</td>\n",
       "      <td>0.933333</td>\n",
       "      <td>0.933333</td>\n",
       "      <td>0.866667</td>\n",
       "      <td>0.866667</td>\n",
       "      <td>1.0</td>\n",
       "      <td>1.0</td>\n",
       "      <td>1.0</td>\n",
       "      <td>0.953333</td>\n",
       "      <td>0.052068</td>\n",
       "      <td>16</td>\n",
       "    </tr>\n",
       "    <tr>\n",
       "      <th>2</th>\n",
       "      <td>0.023395</td>\n",
       "      <td>0.001807</td>\n",
       "      <td>0.003754</td>\n",
       "      <td>0.000461</td>\n",
       "      <td>2</td>\n",
       "      <td>15</td>\n",
       "      <td>{'max_depth': 2, 'n_estimators': 15}</td>\n",
       "      <td>0.933333</td>\n",
       "      <td>0.933333</td>\n",
       "      <td>1.0</td>\n",
       "      <td>0.933333</td>\n",
       "      <td>0.933333</td>\n",
       "      <td>0.933333</td>\n",
       "      <td>0.866667</td>\n",
       "      <td>1.0</td>\n",
       "      <td>1.0</td>\n",
       "      <td>1.0</td>\n",
       "      <td>0.953333</td>\n",
       "      <td>0.042687</td>\n",
       "      <td>16</td>\n",
       "    </tr>\n",
       "    <tr>\n",
       "      <th>3</th>\n",
       "      <td>0.030023</td>\n",
       "      <td>0.001865</td>\n",
       "      <td>0.004318</td>\n",
       "      <td>0.000941</td>\n",
       "      <td>2</td>\n",
       "      <td>20</td>\n",
       "      <td>{'max_depth': 2, 'n_estimators': 20}</td>\n",
       "      <td>0.933333</td>\n",
       "      <td>0.933333</td>\n",
       "      <td>1.0</td>\n",
       "      <td>0.933333</td>\n",
       "      <td>0.933333</td>\n",
       "      <td>0.933333</td>\n",
       "      <td>0.866667</td>\n",
       "      <td>1.0</td>\n",
       "      <td>1.0</td>\n",
       "      <td>1.0</td>\n",
       "      <td>0.953333</td>\n",
       "      <td>0.042687</td>\n",
       "      <td>16</td>\n",
       "    </tr>\n",
       "    <tr>\n",
       "      <th>4</th>\n",
       "      <td>0.038378</td>\n",
       "      <td>0.003817</td>\n",
       "      <td>0.004318</td>\n",
       "      <td>0.000257</td>\n",
       "      <td>2</td>\n",
       "      <td>25</td>\n",
       "      <td>{'max_depth': 2, 'n_estimators': 25}</td>\n",
       "      <td>0.933333</td>\n",
       "      <td>0.933333</td>\n",
       "      <td>1.0</td>\n",
       "      <td>0.933333</td>\n",
       "      <td>0.933333</td>\n",
       "      <td>0.933333</td>\n",
       "      <td>0.866667</td>\n",
       "      <td>1.0</td>\n",
       "      <td>1.0</td>\n",
       "      <td>1.0</td>\n",
       "      <td>0.953333</td>\n",
       "      <td>0.042687</td>\n",
       "      <td>16</td>\n",
       "    </tr>\n",
       "  </tbody>\n",
       "</table>\n",
       "</div>"
      ],
      "text/plain": [
       "   mean_fit_time  std_fit_time  mean_score_time  std_score_time  \\\n",
       "0       0.010565      0.000662         0.002737        0.000339   \n",
       "1       0.015190      0.000863         0.002944        0.000307   \n",
       "2       0.023395      0.001807         0.003754        0.000461   \n",
       "3       0.030023      0.001865         0.004318        0.000941   \n",
       "4       0.038378      0.003817         0.004318        0.000257   \n",
       "\n",
       "  param_max_depth param_n_estimators                                params  \\\n",
       "0               2                  5   {'max_depth': 2, 'n_estimators': 5}   \n",
       "1               2                 10  {'max_depth': 2, 'n_estimators': 10}   \n",
       "2               2                 15  {'max_depth': 2, 'n_estimators': 15}   \n",
       "3               2                 20  {'max_depth': 2, 'n_estimators': 20}   \n",
       "4               2                 25  {'max_depth': 2, 'n_estimators': 25}   \n",
       "\n",
       "   split0_test_score  split1_test_score  split2_test_score  split3_test_score  \\\n",
       "0           1.000000           0.933333                1.0           0.933333   \n",
       "1           1.000000           0.933333                1.0           0.933333   \n",
       "2           0.933333           0.933333                1.0           0.933333   \n",
       "3           0.933333           0.933333                1.0           0.933333   \n",
       "4           0.933333           0.933333                1.0           0.933333   \n",
       "\n",
       "   split4_test_score  split5_test_score  split6_test_score  split7_test_score  \\\n",
       "0           0.933333           0.866667           0.866667                1.0   \n",
       "1           0.933333           0.866667           0.866667                1.0   \n",
       "2           0.933333           0.933333           0.866667                1.0   \n",
       "3           0.933333           0.933333           0.866667                1.0   \n",
       "4           0.933333           0.933333           0.866667                1.0   \n",
       "\n",
       "   split8_test_score  split9_test_score  mean_test_score  std_test_score  \\\n",
       "0                1.0                1.0         0.953333        0.052068   \n",
       "1                1.0                1.0         0.953333        0.052068   \n",
       "2                1.0                1.0         0.953333        0.042687   \n",
       "3                1.0                1.0         0.953333        0.042687   \n",
       "4                1.0                1.0         0.953333        0.042687   \n",
       "\n",
       "   rank_test_score  \n",
       "0               16  \n",
       "1               16  \n",
       "2               16  \n",
       "3               16  \n",
       "4               16  "
      ]
     },
     "execution_count": 22,
     "metadata": {},
     "output_type": "execute_result"
    }
   ],
   "source": [
    "# Details, which can be imported into a pandas dataframe:\n",
    "results = pd.DataFrame(grid_clf.cv_results_)\n",
    "results.head()"
   ]
  },
  {
   "cell_type": "code",
   "execution_count": 23,
   "metadata": {
    "scrolled": true,
    "slideshow": {
     "slide_type": "subslide"
    }
   },
   "outputs": [
    {
     "name": "stdout",
     "output_type": "stream",
     "text": [
      "Accuracy: 96.67% (+/- 6.67)\n"
     ]
    }
   ],
   "source": [
    "from sklearn.model_selection import cross_val_score\n",
    "scores = cross_val_score(model,X,y, cv=10)\n",
    "print(\"Accuracy: %0.2f%% (+/- %0.2f)\" % (scores.mean()*100, scores.std() * 2*100))"
   ]
  },
  {
   "cell_type": "markdown",
   "metadata": {
    "slideshow": {
     "slide_type": "slide"
    }
   },
   "source": [
    "## Task\n",
    "Recall the `penguins` dataset from earlier in the coourse.  Choosing from Naive Bayes, Logistic Regression, Support Vector Machines, Decision Trees and Random Forests, find the \"best\" classifier to classify penguin species.  Note that you can set up your code to run one classifier, and then change only the classified specification and keep the rest of the code the same."
   ]
  },
  {
   "cell_type": "code",
   "execution_count": 24,
   "metadata": {
    "slideshow": {
     "slide_type": "subslide"
    }
   },
   "outputs": [],
   "source": [
    "penguins = sns.load_dataset('penguins')\n",
    "penguins.dropna(inplace=True)"
   ]
  },
  {
   "cell_type": "code",
   "execution_count": 25,
   "metadata": {
    "slideshow": {
     "slide_type": "subslide"
    }
   },
   "outputs": [
    {
     "data": {
      "text/plain": [
       "array(['Adelie', 'Chinstrap', 'Gentoo'], dtype=object)"
      ]
     },
     "execution_count": 25,
     "metadata": {},
     "output_type": "execute_result"
    }
   ],
   "source": [
    "penguins.species.unique()"
   ]
  },
  {
   "cell_type": "code",
   "execution_count": 26,
   "metadata": {
    "slideshow": {
     "slide_type": "subslide"
    }
   },
   "outputs": [
    {
     "data": {
      "text/plain": [
       "Adelie       146\n",
       "Gentoo       119\n",
       "Chinstrap     68\n",
       "Name: species, dtype: int64"
      ]
     },
     "execution_count": 26,
     "metadata": {},
     "output_type": "execute_result"
    }
   ],
   "source": [
    "penguins['species'].value_counts()"
   ]
  },
  {
   "cell_type": "code",
   "execution_count": 27,
   "metadata": {
    "scrolled": true,
    "slideshow": {
     "slide_type": "subslide"
    }
   },
   "outputs": [],
   "source": [
    "from sklearn.model_selection import StratifiedShuffleSplit\n",
    "\n",
    "sss = StratifiedShuffleSplit(n_splits=1, test_size=0.2, random_state=42)\n",
    "for train_index, test_index in sss.split(penguins, penguins['species']):\n",
    "    penguins_train_set = penguins.loc[penguins.index.intersection(train_index)]\n",
    "    penguins_test_set = penguins.loc[penguins.index.intersection(test_index)]"
   ]
  },
  {
   "cell_type": "code",
   "execution_count": 28,
   "metadata": {},
   "outputs": [
    {
     "data": {
      "text/plain": [
       "((257, 7), (67, 7))"
      ]
     },
     "execution_count": 28,
     "metadata": {},
     "output_type": "execute_result"
    }
   ],
   "source": [
    "penguins_train_set.shape,penguins_test_set.shape"
   ]
  },
  {
   "cell_type": "code",
   "execution_count": 29,
   "metadata": {
    "slideshow": {
     "slide_type": "subslide"
    }
   },
   "outputs": [],
   "source": [
    "penguins_train_X = penguins_train_set.drop('species',axis=1)\n",
    "penguins_train_y = penguins_train_set['species'].copy()\n",
    "penguins_test_X = penguins_test_set.drop('species',axis=1)\n",
    "penguins_test_y = penguins_test_set[['species']].copy()"
   ]
  },
  {
   "cell_type": "code",
   "execution_count": 30,
   "metadata": {
    "slideshow": {
     "slide_type": "subslide"
    }
   },
   "outputs": [],
   "source": [
    "\n",
    "import numpy as np\n",
    "from sklearn.compose import ColumnTransformer\n",
    "from sklearn.preprocessing import StandardScaler\n",
    "from sklearn.preprocessing import OneHotEncoder\n",
    "\n",
    "num_attribs = list(penguins_train_X.select_dtypes(include=[np.number]))\n",
    "cat_attribs = list(penguins_train_X.select_dtypes(exclude=[np.number]))\n",
    "\n",
    "full_pipeline = ColumnTransformer([\n",
    "        (\"num\", StandardScaler(), num_attribs),\n",
    "        (\"cat\", OneHotEncoder(), cat_attribs),\n",
    "    ])\n",
    "\n",
    "penguins_train_X_prepared = full_pipeline.fit_transform(penguins_train_X)\n",
    "penguins_test_X_prepared = full_pipeline.transform(penguins_test_X)"
   ]
  },
  {
   "cell_type": "code",
   "execution_count": 31,
   "metadata": {
    "slideshow": {
     "slide_type": "slide"
    }
   },
   "outputs": [],
   "source": [
    "import numpy as np\n",
    "import matplotlib.pyplot as plt\n",
    "from matplotlib.colors import ListedColormap\n",
    "from sklearn.model_selection import train_test_split\n",
    "from sklearn.preprocessing import StandardScaler\n",
    "#from sklearn.datasets import make_moons, make_circles, make_classification\n",
    "from sklearn.neural_network import MLPClassifier\n",
    "from sklearn.neighbors import KNeighborsClassifier\n",
    "from sklearn.svm import SVC\n",
    "from sklearn.gaussian_process import GaussianProcessClassifier\n",
    "from sklearn.gaussian_process.kernels import RBF\n",
    "from sklearn.tree import DecisionTreeClassifier\n",
    "from sklearn.ensemble import RandomForestClassifier, AdaBoostClassifier\n",
    "from sklearn.naive_bayes import GaussianNB\n",
    "from sklearn.discriminant_analysis import QuadraticDiscriminantAnalysis"
   ]
  },
  {
   "cell_type": "code",
   "execution_count": 32,
   "metadata": {
    "slideshow": {
     "slide_type": "subslide"
    }
   },
   "outputs": [],
   "source": [
    "# from https://scikit-learn.org/stable/auto_examples/classification/plot_classifier_comparison.html\n",
    "names = [\"Nearest Neighbors\", \"Linear SVM\", \"RBF SVM\", \"Gaussian Process\",\n",
    "         \"Decision Tree\", \"Random Forest\", \"Neural Net\", \"AdaBoost\",\n",
    "         \"Naive Bayes\"]\n",
    "\n",
    "classifiers = [\n",
    "    KNeighborsClassifier(3),\n",
    "    SVC(kernel=\"linear\", C=0.025),\n",
    "    SVC(gamma=2, C=1),\n",
    "    GaussianProcessClassifier(1.0 * RBF(1.0)),\n",
    "    DecisionTreeClassifier(max_depth=5),\n",
    "    RandomForestClassifier(max_depth=5, n_estimators=10, max_features=1),\n",
    "    MLPClassifier(alpha=1, max_iter=1000),\n",
    "    AdaBoostClassifier(),\n",
    "    GaussianNB(),\n",
    "    ]"
   ]
  },
  {
   "cell_type": "code",
   "execution_count": 33,
   "metadata": {
    "slideshow": {
     "slide_type": "subslide"
    }
   },
   "outputs": [
    {
     "name": "stdout",
     "output_type": "stream",
     "text": [
      "Nearest Neighbors Accuracy: 97.01%\n",
      "Linear SVM Accuracy: 95.52%\n",
      "RBF SVM Accuracy: 94.03%\n",
      "Gaussian Process Accuracy: 98.51%\n",
      "Decision Tree Accuracy: 98.51%\n",
      "Random Forest Accuracy: 94.03%\n",
      "Neural Net Accuracy: 98.51%\n",
      "AdaBoost Accuracy: 79.10%\n",
      "Naive Bayes Accuracy: 70.15%\n"
     ]
    }
   ],
   "source": [
    "X_train = penguins_train_X_prepared\n",
    "y_train = penguins_train_y\n",
    "X_test = penguins_test_X_prepared\n",
    "y_test = penguins_test_y\n",
    "\n",
    "for name, clf in zip(names, classifiers):\n",
    "    clf.fit(X_train, y_train)\n",
    "    y_pred = clf.predict(X_test)\n",
    "    \n",
    "    # evaluate predictions\n",
    "    accuracy = clf.score(X_test, y_test)\n",
    "    print(\"%s Accuracy: %.2f%%\" % (name,accuracy * 100.0))"
   ]
  },
  {
   "cell_type": "markdown",
   "metadata": {
    "slideshow": {
     "slide_type": "slide"
    }
   },
   "source": [
    " \n",
    " "
   ]
  },
  {
   "cell_type": "markdown",
   "metadata": {
    "slideshow": {
     "slide_type": "slide"
    }
   },
   "source": [
    "Let's define a classifier that always classifies a species as \"not Chinstrap\":"
   ]
  },
  {
   "cell_type": "code",
   "execution_count": 34,
   "metadata": {
    "slideshow": {
     "slide_type": "-"
    }
   },
   "outputs": [],
   "source": [
    "from sklearn.base import BaseEstimator\n",
    "\n",
    "class NeverChinstrapClassifier(BaseEstimator):\n",
    "    def fit(self, X, y=None):\n",
    "        return self\n",
    "    def predict(self, X):\n",
    "        return np.zeros((len(X), 1), dtype=bool)"
   ]
  },
  {
   "cell_type": "code",
   "execution_count": 35,
   "metadata": {
    "slideshow": {
     "slide_type": "subslide"
    }
   },
   "outputs": [],
   "source": [
    "y_train_chinstrap = penguins_train_y == 'Chinstrap'"
   ]
  },
  {
   "cell_type": "code",
   "execution_count": 36,
   "metadata": {
    "slideshow": {
     "slide_type": "-"
    }
   },
   "outputs": [
    {
     "data": {
      "text/plain": [
       "53"
      ]
     },
     "execution_count": 36,
     "metadata": {},
     "output_type": "execute_result"
    }
   ],
   "source": [
    "y_train_chinstrap.sum()"
   ]
  },
  {
   "cell_type": "code",
   "execution_count": 37,
   "metadata": {
    "slideshow": {
     "slide_type": "subslide"
    }
   },
   "outputs": [
    {
     "data": {
      "text/plain": [
       "array([1.        , 0.38372093, 1.        ])"
      ]
     },
     "execution_count": 37,
     "metadata": {},
     "output_type": "execute_result"
    }
   ],
   "source": [
    "from sklearn.model_selection import cross_val_score\n",
    "never_chinstrap_clf = NeverChinstrapClassifier()\n",
    "cvs = cross_val_score(never_chinstrap_clf,penguins_train_X_prepared,y_train_chinstrap,cv=3,scoring='accuracy')\n",
    "cvs"
   ]
  },
  {
   "cell_type": "code",
   "execution_count": 38,
   "metadata": {},
   "outputs": [
    {
     "data": {
      "text/plain": [
       "0.7945736434108527"
      ]
     },
     "execution_count": 38,
     "metadata": {},
     "output_type": "execute_result"
    }
   ],
   "source": [
    "np.mean(cvs)"
   ]
  },
  {
   "cell_type": "markdown",
   "metadata": {
    "slideshow": {
     "slide_type": "slide"
    }
   },
   "source": [
    "Let's take a look at some additional ways to assess how good a model (classifier) is:"
   ]
  },
  {
   "cell_type": "code",
   "execution_count": 39,
   "metadata": {
    "slideshow": {
     "slide_type": "subslide"
    }
   },
   "outputs": [],
   "source": [
    "from sklearn.tree import DecisionTreeClassifier\n",
    "from sklearn.model_selection import train_test_split\n",
    "from sklearn.metrics import accuracy_score"
   ]
  },
  {
   "cell_type": "code",
   "execution_count": 40,
   "metadata": {},
   "outputs": [],
   "source": [
    "#hasattr(forest_clf, \"predict_proba\")"
   ]
  },
  {
   "cell_type": "code",
   "execution_count": 41,
   "metadata": {},
   "outputs": [],
   "source": [
    "#hasattr(forest_clf, \"decision_function\")"
   ]
  },
  {
   "cell_type": "code",
   "execution_count": 42,
   "metadata": {
    "slideshow": {
     "slide_type": "subslide"
    }
   },
   "outputs": [],
   "source": [
    "from sklearn.ensemble import RandomForestClassifier\n",
    "from sklearn.model_selection import cross_val_predict\n",
    "forest_clf = RandomForestClassifier(n_estimators=100,max_depth=3,random_state=42)\n",
    "\n",
    "y_probas_forest = cross_val_predict(forest_clf, penguins_train_X_prepared, y_train_chinstrap, cv=3,\n",
    "                                    method=\"predict_proba\")"
   ]
  },
  {
   "cell_type": "code",
   "execution_count": 43,
   "metadata": {
    "slideshow": {
     "slide_type": "subslide"
    }
   },
   "outputs": [],
   "source": [
    "y_train_pred = cross_val_predict(forest_clf, penguins_train_X_prepared, y_train_chinstrap, cv=3)"
   ]
  },
  {
   "cell_type": "code",
   "execution_count": 44,
   "metadata": {
    "slideshow": {
     "slide_type": "-"
    }
   },
   "outputs": [
    {
     "data": {
      "text/plain": [
       "array([[203,   3],\n",
       "       [  1,  50]], dtype=int64)"
      ]
     },
     "execution_count": 44,
     "metadata": {},
     "output_type": "execute_result"
    }
   ],
   "source": [
    "confusion_matrix(y_train_pred,y_train_chinstrap)"
   ]
  },
  {
   "cell_type": "code",
   "execution_count": 45,
   "metadata": {
    "slideshow": {
     "slide_type": "subslide"
    }
   },
   "outputs": [
    {
     "data": {
      "text/plain": [
       "array([[9.62015881e-01, 3.79841185e-02],\n",
       "       [9.55855841e-01, 4.41441586e-02],\n",
       "       [9.57848582e-01, 4.21514181e-02],\n",
       "       [9.47780014e-01, 5.22199860e-02],\n",
       "       [9.35622119e-01, 6.43778807e-02],\n",
       "       [9.67874303e-01, 3.21256966e-02],\n",
       "       [9.59991491e-01, 4.00085090e-02],\n",
       "       [9.65261496e-01, 3.47385045e-02],\n",
       "       [9.62770267e-01, 3.72297325e-02],\n",
       "       [9.53939491e-01, 4.60605090e-02],\n",
       "       [8.97921922e-01, 1.02078078e-01],\n",
       "       [9.63903772e-01, 3.60962283e-02],\n",
       "       [7.72334677e-01, 2.27665323e-01],\n",
       "       [9.56394146e-01, 4.36058536e-02],\n",
       "       [9.75461835e-01, 2.45381653e-02],\n",
       "       [9.84701754e-01, 1.52982456e-02],\n",
       "       [9.56394146e-01, 4.36058536e-02],\n",
       "       [9.56394146e-01, 4.36058536e-02],\n",
       "       [9.58647020e-01, 4.13529801e-02],\n",
       "       [9.61980353e-01, 3.80196467e-02],\n",
       "       [9.65647020e-01, 3.43529801e-02],\n",
       "       [8.29765599e-01, 1.70234401e-01],\n",
       "       [8.26341722e-01, 1.73658278e-01],\n",
       "       [7.42385107e-01, 2.57614893e-01],\n",
       "       [7.83423252e-01, 2.16576748e-01],\n",
       "       [6.99345310e-01, 3.00654690e-01],\n",
       "       [7.37890483e-01, 2.62109517e-01],\n",
       "       [7.21953016e-01, 2.78046984e-01],\n",
       "       [7.60612588e-01, 2.39387412e-01],\n",
       "       [7.84734759e-01, 2.15265241e-01],\n",
       "       [7.79260366e-01, 2.20739634e-01],\n",
       "       [7.98924346e-01, 2.01075654e-01],\n",
       "       [3.85259092e-01, 6.14740908e-01],\n",
       "       [8.45383757e-01, 1.54616243e-01],\n",
       "       [7.60612588e-01, 2.39387412e-01],\n",
       "       [7.20548664e-01, 2.79451336e-01],\n",
       "       [5.34719993e-01, 4.65280007e-01],\n",
       "       [9.49481866e-01, 5.05181343e-02],\n",
       "       [9.78932734e-01, 2.10672658e-02],\n",
       "       [9.55858853e-01, 4.41411475e-02],\n",
       "       [9.58647020e-01, 4.13529801e-02],\n",
       "       [9.62875628e-01, 3.71243722e-02],\n",
       "       [9.49815199e-01, 5.01848010e-02],\n",
       "       [9.62575102e-01, 3.74248977e-02],\n",
       "       [9.81895487e-01, 1.81045134e-02],\n",
       "       [9.75260007e-01, 2.47399931e-02],\n",
       "       [9.68895487e-01, 3.11045134e-02],\n",
       "       [9.58170340e-01, 4.18296596e-02],\n",
       "       [9.75461835e-01, 2.45381653e-02],\n",
       "       [9.66638392e-01, 3.33616082e-02],\n",
       "       [9.74932734e-01, 2.50672658e-02],\n",
       "       [9.66499100e-01, 3.35009002e-02],\n",
       "       [9.73219131e-01, 2.67808690e-02],\n",
       "       [9.44446681e-01, 5.55533193e-02],\n",
       "       [9.61927239e-01, 3.80727615e-02],\n",
       "       [7.82334677e-01, 2.17665323e-01],\n",
       "       [9.74763543e-01, 2.52364566e-02],\n",
       "       [9.71847702e-01, 2.81522976e-02],\n",
       "       [9.75486396e-01, 2.45136043e-02],\n",
       "       [9.24627500e-01, 7.53724996e-02],\n",
       "       [9.72999100e-01, 2.70009002e-02],\n",
       "       [8.87009642e-01, 1.12990358e-01],\n",
       "       [9.60928162e-01, 3.90718378e-02],\n",
       "       [9.74847702e-01, 2.51522976e-02],\n",
       "       [7.74089299e-01, 2.25910701e-01],\n",
       "       [6.80228084e-01, 3.19771916e-01],\n",
       "       [7.30304276e-01, 2.69695724e-01],\n",
       "       [7.07850923e-01, 2.92149077e-01],\n",
       "       [6.44361283e-01, 3.55638717e-01],\n",
       "       [6.86854809e-01, 3.13145191e-01],\n",
       "       [8.67944979e-01, 1.32055021e-01],\n",
       "       [8.31422234e-01, 1.68577766e-01],\n",
       "       [6.61179133e-01, 3.38820867e-01],\n",
       "       [8.13478027e-01, 1.86521973e-01],\n",
       "       [8.14336164e-01, 1.85663836e-01],\n",
       "       [8.38788034e-01, 1.61211966e-01],\n",
       "       [9.73503084e-01, 2.64969156e-02],\n",
       "       [9.71448250e-01, 2.85517496e-02],\n",
       "       [9.79445113e-01, 2.05548866e-02],\n",
       "       [9.81258125e-01, 1.87418748e-02],\n",
       "       [9.90991660e-01, 9.00834006e-03],\n",
       "       [9.50701497e-01, 4.92985029e-02],\n",
       "       [9.65039279e-01, 3.49607210e-02],\n",
       "       [9.05258008e-01, 9.47419925e-02],\n",
       "       [9.79445113e-01, 2.05548866e-02],\n",
       "       [9.70178409e-01, 2.98215909e-02],\n",
       "       [9.82586288e-01, 1.74137122e-02],\n",
       "       [9.71715066e-01, 2.82849340e-02],\n",
       "       [9.19676402e-01, 8.03235980e-02],\n",
       "       [9.77466219e-01, 2.25337808e-02],\n",
       "       [9.84570466e-01, 1.54295337e-02],\n",
       "       [9.93600673e-01, 6.39932703e-03],\n",
       "       [9.77466219e-01, 2.25337808e-02],\n",
       "       [9.17858220e-01, 8.21417798e-02],\n",
       "       [9.92172102e-01, 7.82789845e-03],\n",
       "       [9.17858220e-01, 8.21417798e-02],\n",
       "       [9.87458167e-01, 1.25418332e-02],\n",
       "       [9.78790559e-01, 2.12094410e-02],\n",
       "       [9.93600673e-01, 6.39932703e-03],\n",
       "       [7.63240022e-01, 2.36759978e-01],\n",
       "       [9.06818837e-01, 9.31811628e-02],\n",
       "       [7.67347556e-01, 2.32652444e-01],\n",
       "       [8.21183018e-01, 1.78816982e-01],\n",
       "       [8.34064230e-01, 1.65935770e-01],\n",
       "       [6.64441228e-01, 3.35558772e-01],\n",
       "       [8.04099666e-01, 1.95900334e-01],\n",
       "       [8.21350515e-01, 1.78649485e-01],\n",
       "       [8.26038120e-01, 1.73961880e-01],\n",
       "       [8.38788034e-01, 1.61211966e-01],\n",
       "       [8.27912104e-01, 1.72087896e-01],\n",
       "       [8.24512566e-01, 1.75487434e-01],\n",
       "       [8.59848043e-01, 1.40151957e-01],\n",
       "       [8.15501200e-01, 1.84498800e-01],\n",
       "       [7.68170593e-01, 2.31829407e-01],\n",
       "       [8.05592755e-01, 1.94407245e-01],\n",
       "       [6.56337332e-01, 3.43662668e-01],\n",
       "       [2.13903212e-01, 7.86096788e-01],\n",
       "       [1.25999078e-01, 8.74000922e-01],\n",
       "       [1.35076452e-01, 8.64923548e-01],\n",
       "       [2.07033356e-01, 7.92966644e-01],\n",
       "       [1.20720564e-01, 8.79279436e-01],\n",
       "       [2.43615810e-01, 7.56384190e-01],\n",
       "       [2.42413506e-01, 7.57586494e-01],\n",
       "       [1.83446312e-01, 8.16553688e-01],\n",
       "       [1.20720564e-01, 8.79279436e-01],\n",
       "       [2.25385492e-01, 7.74614508e-01],\n",
       "       [1.35701070e-01, 8.64298930e-01],\n",
       "       [2.51814063e-01, 7.48185937e-01],\n",
       "       [1.98561945e-01, 8.01438055e-01],\n",
       "       [2.78615908e-01, 7.21384092e-01],\n",
       "       [1.10097735e-01, 8.89902265e-01],\n",
       "       [2.10836041e-01, 7.89163959e-01],\n",
       "       [2.30759014e-01, 7.69240986e-01],\n",
       "       [3.13735903e-01, 6.86264097e-01],\n",
       "       [7.54144694e-01, 2.45855306e-01],\n",
       "       [2.16083900e-01, 7.83916100e-01],\n",
       "       [6.34642142e-01, 3.65357858e-01],\n",
       "       [1.69786618e-01, 8.30213382e-01],\n",
       "       [7.02551323e-02, 9.29744868e-01],\n",
       "       [7.72160303e-02, 9.22783970e-01],\n",
       "       [1.86471869e-01, 8.13528131e-01],\n",
       "       [2.13264439e-01, 7.86735561e-01],\n",
       "       [1.81812054e-01, 8.18187946e-01],\n",
       "       [1.07837499e-01, 8.92162501e-01],\n",
       "       [1.60054453e-01, 8.39945547e-01],\n",
       "       [2.48809904e-01, 7.51190096e-01],\n",
       "       [2.03264439e-01, 7.96735561e-01],\n",
       "       [8.32381684e-02, 9.16761832e-01],\n",
       "       [1.86471869e-01, 8.13528131e-01],\n",
       "       [1.22852738e-01, 8.77147262e-01],\n",
       "       [2.29581915e-01, 7.70418085e-01],\n",
       "       [1.78958307e-01, 8.21041693e-01],\n",
       "       [2.50424104e-01, 7.49575896e-01],\n",
       "       [1.94620950e-01, 8.05379050e-01],\n",
       "       [1.29234688e-01, 8.70765312e-01],\n",
       "       [3.18796553e-01, 6.81203447e-01],\n",
       "       [1.23505840e-01, 8.76494160e-01],\n",
       "       [3.09766560e-01, 6.90233440e-01],\n",
       "       [1.21839173e-01, 8.78160827e-01],\n",
       "       [1.19091882e-01, 8.80908118e-01],\n",
       "       [1.73900572e-01, 8.26099428e-01],\n",
       "       [1.46576424e-01, 8.53423576e-01],\n",
       "       [2.95345490e-01, 7.04654510e-01],\n",
       "       [1.21839173e-01, 8.78160827e-01],\n",
       "       [3.13309601e-01, 6.86690399e-01],\n",
       "       [5.58466396e-01, 4.41533604e-01],\n",
       "       [1.55865541e-01, 8.44134459e-01],\n",
       "       [1.35689868e-01, 8.64310132e-01],\n",
       "       [1.30226144e-01, 8.69773856e-01],\n",
       "       [9.96431274e-01, 3.56872636e-03],\n",
       "       [9.99508197e-01, 4.91803279e-04],\n",
       "       [9.96431274e-01, 3.56872636e-03],\n",
       "       [9.99508197e-01, 4.91803279e-04],\n",
       "       [9.99508197e-01, 4.91803279e-04],\n",
       "       [9.96431274e-01, 3.56872636e-03],\n",
       "       [9.99508197e-01, 4.91803279e-04],\n",
       "       [9.99508197e-01, 4.91803279e-04],\n",
       "       [1.00000000e+00, 0.00000000e+00],\n",
       "       [9.99508197e-01, 4.91803279e-04],\n",
       "       [9.99508197e-01, 4.91803279e-04],\n",
       "       [9.99508197e-01, 4.91803279e-04],\n",
       "       [9.79508197e-01, 2.04918033e-02],\n",
       "       [9.99508197e-01, 4.91803279e-04],\n",
       "       [9.90000000e-01, 1.00000000e-02],\n",
       "       [9.96431274e-01, 3.56872636e-03],\n",
       "       [9.99508197e-01, 4.91803279e-04],\n",
       "       [9.99508197e-01, 4.91803279e-04],\n",
       "       [9.99090909e-01, 9.09090909e-04],\n",
       "       [9.86431274e-01, 1.35687264e-02],\n",
       "       [9.86042550e-01, 1.39574497e-02],\n",
       "       [9.83497212e-01, 1.65027881e-02],\n",
       "       [9.92709217e-01, 7.29078305e-03],\n",
       "       [9.75945689e-01, 2.40543112e-02],\n",
       "       [9.92709217e-01, 7.29078305e-03],\n",
       "       [9.92709217e-01, 7.29078305e-03],\n",
       "       [9.75572969e-01, 2.44270306e-02],\n",
       "       [8.61339286e-01, 1.38660714e-01],\n",
       "       [9.85231403e-01, 1.47685969e-02],\n",
       "       [9.92709217e-01, 7.29078305e-03],\n",
       "       [9.83497212e-01, 1.65027881e-02],\n",
       "       [9.87739636e-01, 1.22603639e-02],\n",
       "       [9.92709217e-01, 7.29078305e-03],\n",
       "       [9.51679950e-01, 4.83200498e-02],\n",
       "       [9.92709217e-01, 7.29078305e-03],\n",
       "       [9.68153778e-01, 3.18462225e-02],\n",
       "       [9.83423503e-01, 1.65764973e-02],\n",
       "       [9.34806287e-01, 6.51937135e-02],\n",
       "       [9.87739636e-01, 1.22603639e-02],\n",
       "       [9.75945689e-01, 2.40543112e-02],\n",
       "       [9.92709217e-01, 7.29078305e-03],\n",
       "       [9.75017414e-01, 2.49825861e-02],\n",
       "       [9.82709217e-01, 1.72907830e-02],\n",
       "       [9.75945689e-01, 2.40543112e-02],\n",
       "       [9.75133459e-01, 2.48665406e-02],\n",
       "       [9.87739636e-01, 1.22603639e-02],\n",
       "       [9.82947312e-01, 1.70526878e-02],\n",
       "       [9.87739636e-01, 1.22603639e-02],\n",
       "       [9.34806287e-01, 6.51937135e-02],\n",
       "       [9.68153778e-01, 3.18462225e-02],\n",
       "       [9.75058539e-01, 2.49414606e-02],\n",
       "       [9.42709217e-01, 5.72907830e-02],\n",
       "       [9.92709217e-01, 7.29078305e-03],\n",
       "       [9.34806287e-01, 6.51937135e-02],\n",
       "       [9.75945689e-01, 2.40543112e-02],\n",
       "       [9.92709217e-01, 7.29078305e-03],\n",
       "       [9.92709217e-01, 7.29078305e-03],\n",
       "       [9.85231403e-01, 1.47685969e-02],\n",
       "       [9.75945689e-01, 2.40543112e-02],\n",
       "       [9.92709217e-01, 7.29078305e-03],\n",
       "       [9.75945689e-01, 2.40543112e-02],\n",
       "       [9.25361842e-01, 7.46381579e-02],\n",
       "       [9.68153778e-01, 3.18462225e-02],\n",
       "       [9.15625000e-01, 8.43750000e-02],\n",
       "       [9.75945689e-01, 2.40543112e-02],\n",
       "       [9.75017414e-01, 2.49825861e-02],\n",
       "       [8.26664363e-01, 1.73335637e-01],\n",
       "       [9.87739636e-01, 1.22603639e-02],\n",
       "       [9.25361842e-01, 7.46381579e-02],\n",
       "       [9.75945689e-01, 2.40543112e-02],\n",
       "       [8.36339286e-01, 1.63660714e-01],\n",
       "       [9.75058539e-01, 2.49414606e-02],\n",
       "       [9.92709217e-01, 7.29078305e-03],\n",
       "       [9.34806287e-01, 6.51937135e-02],\n",
       "       [9.83423503e-01, 1.65764973e-02],\n",
       "       [9.75945689e-01, 2.40543112e-02],\n",
       "       [9.66501244e-01, 3.34987556e-02],\n",
       "       [9.25361842e-01, 7.46381579e-02],\n",
       "       [9.75945689e-01, 2.40543112e-02],\n",
       "       [9.92709217e-01, 7.29078305e-03],\n",
       "       [9.92709217e-01, 7.29078305e-03],\n",
       "       [9.97927036e-01, 2.07296357e-03],\n",
       "       [9.15625000e-01, 8.43750000e-02],\n",
       "       [9.87739636e-01, 1.22603639e-02],\n",
       "       [9.92709217e-01, 7.29078305e-03],\n",
       "       [9.21181287e-01, 7.88187135e-02],\n",
       "       [9.92709217e-01, 7.29078305e-03],\n",
       "       [9.87739636e-01, 1.22603639e-02]])"
      ]
     },
     "execution_count": 45,
     "metadata": {},
     "output_type": "execute_result"
    }
   ],
   "source": [
    "y_probas_forest"
   ]
  },
  {
   "cell_type": "code",
   "execution_count": 46,
   "metadata": {
    "slideshow": {
     "slide_type": "subslide"
    }
   },
   "outputs": [],
   "source": [
    "from sklearn.metrics import roc_curve\n",
    "y_scores_forest = y_probas_forest[:, 1]   # score = proba of positive class\n",
    "fpr_forest, tpr_forest, thresholds_forest = roc_curve(y_train_chinstrap,y_scores_forest)#,pos_label='Male')"
   ]
  },
  {
   "cell_type": "code",
   "execution_count": 47,
   "metadata": {
    "slideshow": {
     "slide_type": "subslide"
    }
   },
   "outputs": [],
   "source": [
    "from sklearn.metrics import precision_recall_curve\n",
    "\n",
    "precisions, recalls, thresholds = precision_recall_curve(y_train_chinstrap,y_scores_forest)"
   ]
  },
  {
   "cell_type": "code",
   "execution_count": 48,
   "metadata": {
    "scrolled": true,
    "slideshow": {
     "slide_type": "subslide"
    }
   },
   "outputs": [
    {
     "data": {
      "image/png": "[encoded data removed]",
      "text/plain": [
       "<Figure size 576x288 with 1 Axes>"
      ]
     },
     "metadata": {
      "needs_background": "light"
     },
     "output_type": "display_data"
    }
   ],
   "source": [
    "def plot_precision_recall_vs_threshold(precisions, recalls, thresholds):\n",
    "    plt.plot(thresholds, precisions[:-1], \"b--\", label=\"Precision\", linewidth=2)\n",
    "    plt.plot(thresholds, recalls[:-1], \"g-\", label=\"Recall\", linewidth=2)\n",
    "    plt.legend(loc=\"center right\", fontsize=16) # Not shown in the book\n",
    "    plt.xlabel(\"Threshold\", fontsize=16)        # Not shown\n",
    "    plt.grid(True)                              # Not shown\n",
    "#    plt.axis([0, 3, 0, 1]) \n",
    "#recall_90_precision = recalls[np.argmax(precisions >= 0.90)]\n",
    "#threshold_90_precision = thresholds[np.argmax(precisions >= 0.90)]\n",
    "\n",
    "plt.figure(figsize=(8, 4))                                                                  # Not shown\n",
    "plot_precision_recall_vs_threshold(precisions, recalls, thresholds)\n",
    "plt.show()"
   ]
  },
  {
   "cell_type": "code",
   "execution_count": 49,
   "metadata": {
    "scrolled": true,
    "slideshow": {
     "slide_type": "subslide"
    }
   },
   "outputs": [
    {
     "data": {
      "image/png": "[encoded data removed]",
      "text/plain": [
       "<Figure size 576x432 with 1 Axes>"
      ]
     },
     "metadata": {
      "needs_background": "light"
     },
     "output_type": "display_data"
    }
   ],
   "source": [
    "def plot_precision_vs_recall(precisions, recalls):\n",
    "    plt.plot(recalls, precisions, \"b-\", linewidth=2)\n",
    "    plt.xlabel(\"Recall\", fontsize=16)\n",
    "    plt.ylabel(\"Precision\", fontsize=16)\n",
    "    plt.axis([0, 1, 0, 1])\n",
    "    plt.grid(True)\n",
    "\n",
    "plt.figure(figsize=(8, 6))\n",
    "plot_precision_vs_recall(precisions, recalls)"
   ]
  },
  {
   "cell_type": "code",
   "execution_count": 50,
   "metadata": {
    "slideshow": {
     "slide_type": "subslide"
    }
   },
   "outputs": [],
   "source": [
    "threshold_90_precision = thresholds[np.argmax(precisions >= 0.90)] "
   ]
  },
  {
   "cell_type": "code",
   "execution_count": 51,
   "metadata": {},
   "outputs": [
    {
     "data": {
      "text/plain": [
       "0.33882086671724276"
      ]
     },
     "execution_count": 51,
     "metadata": {},
     "output_type": "execute_result"
    }
   ],
   "source": [
    "threshold_90_precision"
   ]
  },
  {
   "cell_type": "code",
   "execution_count": 52,
   "metadata": {},
   "outputs": [],
   "source": [
    "y_train_pred_90 = (y_scores_forest >= threshold_90_precision)"
   ]
  },
  {
   "cell_type": "code",
   "execution_count": 53,
   "metadata": {
    "scrolled": true
   },
   "outputs": [
    {
     "name": "stdout",
     "output_type": "stream",
     "text": [
      "0.9122807017543859\n",
      "0.9811320754716981\n"
     ]
    }
   ],
   "source": [
    "from sklearn.metrics import precision_score, recall_score\n",
    "print(precision_score(y_train_chinstrap, y_train_pred_90))\n",
    "print(recall_score(y_train_chinstrap, y_train_pred_90))"
   ]
  },
  {
   "cell_type": "code",
   "execution_count": 54,
   "metadata": {
    "slideshow": {
     "slide_type": "subslide"
    }
   },
   "outputs": [
    {
     "data": {
      "image/png": "[encoded data removed]",
      "text/plain": [
       "<Figure size 432x288 with 1 Axes>"
      ]
     },
     "metadata": {
      "needs_background": "light"
     },
     "output_type": "display_data"
    }
   ],
   "source": [
    "def plot_roc_curve(fpr, tpr, label=None):\n",
    "    plt.plot(fpr, tpr, linewidth=2, label=label)\n",
    "    plt.plot([0, 1], [0, 1], 'k--') # dashed diagonal\n",
    "    plt.axis([0, 1, 0, 1])                                    # Not shown in the book\n",
    "    plt.xlabel('False Positive Rate (Fall-Out)', fontsize=14) # Not shown\n",
    "    plt.ylabel('True Positive Rate (Recall)', fontsize=14)    # Not shown\n",
    "    plt.grid(True)                                            # Not shown\n",
    "\n",
    "plot_roc_curve(fpr_forest, tpr_forest)\n",
    "plt.show()"
   ]
  },
  {
   "cell_type": "code",
   "execution_count": 55,
   "metadata": {
    "slideshow": {
     "slide_type": "subslide"
    }
   },
   "outputs": [
    {
     "data": {
      "text/plain": [
       "0.9982426933037366"
      ]
     },
     "execution_count": 55,
     "metadata": {},
     "output_type": "execute_result"
    }
   ],
   "source": [
    "from sklearn.metrics import roc_auc_score\n",
    "roc_auc_score(y_train_chinstrap, y_scores_forest)"
   ]
  },
  {
   "cell_type": "code",
   "execution_count": null,
   "metadata": {},
   "outputs": [],
   "source": []
  }
 ],
 "metadata": {
  "celltoolbar": "Slideshow",
  "kernelspec": {
   "display_name": "Python 3 (ipykernel)",
   "language": "python",
   "name": "python3"
  },
  "language_info": {
   "codemirror_mode": {
    "name": "ipython",
    "version": 3
   },
   "file_extension": ".py",
   "mimetype": "text/x-python",
   "name": "python",
   "nbconvert_exporter": "python",
   "pygments_lexer": "ipython3",
   "version": "3.9.7"
  }
 },
 "nbformat": 4,
 "nbformat_minor": 4
}
