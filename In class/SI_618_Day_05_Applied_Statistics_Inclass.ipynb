{
 "cells": [
  {
   "cell_type": "markdown",
   "metadata": {
    "slideshow": {
     "slide_type": "slide"
    }
   },
   "source": [
    "# SI 618: Data Manipulation and Analysis\n",
    "## 05 - Applied Statistics I\n",
    "\n",
    "### Dr. Chris Teplovs, School of Information, University of Michigan\n",
    "<small><a rel=\"license\" href=\"http://creativecommons.org/licenses/by-nc-sa/4.0/\"><img alt=\"Creative Commons License\" style=\"border-width:0\" src=\"https://i.creativecommons.org/l/by-nc-sa/4.0/88x31.png\" /></a> This work is licensed under a <a rel=\"license\" href=\"http://creativecommons.org/licenses/by-nc-sa/4.0/\">Creative Commons Attribution-NonCommercial-ShareAlike 4.0 International License</a>.\n",
    "\n",
    "Version 2022.02.07.1.CT"
   ]
  },
  {
   "cell_type": "markdown",
   "metadata": {
    "slideshow": {
     "slide_type": "slide"
    }
   },
   "source": [
    "## Correlation and Regression\n",
    "### Wine quality\n",
    "\n",
    "https://www.kaggle.com/uciml/red-wine-quality-cortez-et-al-2009/home"
   ]
  },
  {
   "cell_type": "markdown",
   "metadata": {
    "slideshow": {
     "slide_type": "subslide"
    }
   },
   "source": [
    "Warnings usually just cause us unnessary stress. The next code block silences warnings. \n",
    " "
   ]
  },
  {
   "cell_type": "code",
   "execution_count": 1,
   "metadata": {},
   "outputs": [],
   "source": [
    "import warnings\n",
    "warnings.filterwarnings('ignore')"
   ]
  },
  {
   "cell_type": "code",
   "execution_count": 2,
   "metadata": {
    "slideshow": {
     "slide_type": "subslide"
    }
   },
   "outputs": [],
   "source": [
    "import pandas as pd\n",
    "import seaborn as sns\n",
    "import numpy as np\n",
    "import matplotlib.pyplot as plt"
   ]
  },
  {
   "cell_type": "code",
   "execution_count": 3,
   "metadata": {
    "slideshow": {
     "slide_type": "subslide"
    }
   },
   "outputs": [
    {
     "data": {
      "text/html": [
       "<div>\n",
       "<style scoped>\n",
       "    .dataframe tbody tr th:only-of-type {\n",
       "        vertical-align: middle;\n",
       "    }\n",
       "\n",
       "    .dataframe tbody tr th {\n",
       "        vertical-align: top;\n",
       "    }\n",
       "\n",
       "    .dataframe thead th {\n",
       "        text-align: right;\n",
       "    }\n",
       "</style>\n",
       "<table border=\"1\" class=\"dataframe\">\n",
       "  <thead>\n",
       "    <tr style=\"text-align: right;\">\n",
       "      <th></th>\n",
       "      <th>fixed acidity</th>\n",
       "      <th>volatile acidity</th>\n",
       "      <th>citric acid</th>\n",
       "      <th>residual sugar</th>\n",
       "      <th>chlorides</th>\n",
       "      <th>free sulfur dioxide</th>\n",
       "      <th>total sulfur dioxide</th>\n",
       "      <th>density</th>\n",
       "      <th>pH</th>\n",
       "      <th>sulphates</th>\n",
       "      <th>alcohol</th>\n",
       "      <th>quality</th>\n",
       "    </tr>\n",
       "  </thead>\n",
       "  <tbody>\n",
       "    <tr>\n",
       "      <th>0</th>\n",
       "      <td>7.4</td>\n",
       "      <td>0.70</td>\n",
       "      <td>0.00</td>\n",
       "      <td>1.9</td>\n",
       "      <td>0.076</td>\n",
       "      <td>11.0</td>\n",
       "      <td>34.0</td>\n",
       "      <td>0.9978</td>\n",
       "      <td>3.51</td>\n",
       "      <td>0.56</td>\n",
       "      <td>9.4</td>\n",
       "      <td>5</td>\n",
       "    </tr>\n",
       "    <tr>\n",
       "      <th>1</th>\n",
       "      <td>7.8</td>\n",
       "      <td>0.88</td>\n",
       "      <td>0.00</td>\n",
       "      <td>2.6</td>\n",
       "      <td>0.098</td>\n",
       "      <td>25.0</td>\n",
       "      <td>67.0</td>\n",
       "      <td>0.9968</td>\n",
       "      <td>3.20</td>\n",
       "      <td>0.68</td>\n",
       "      <td>9.8</td>\n",
       "      <td>5</td>\n",
       "    </tr>\n",
       "    <tr>\n",
       "      <th>2</th>\n",
       "      <td>7.8</td>\n",
       "      <td>0.76</td>\n",
       "      <td>0.04</td>\n",
       "      <td>2.3</td>\n",
       "      <td>0.092</td>\n",
       "      <td>15.0</td>\n",
       "      <td>54.0</td>\n",
       "      <td>0.9970</td>\n",
       "      <td>3.26</td>\n",
       "      <td>0.65</td>\n",
       "      <td>9.8</td>\n",
       "      <td>5</td>\n",
       "    </tr>\n",
       "    <tr>\n",
       "      <th>3</th>\n",
       "      <td>11.2</td>\n",
       "      <td>0.28</td>\n",
       "      <td>0.56</td>\n",
       "      <td>1.9</td>\n",
       "      <td>0.075</td>\n",
       "      <td>17.0</td>\n",
       "      <td>60.0</td>\n",
       "      <td>0.9980</td>\n",
       "      <td>3.16</td>\n",
       "      <td>0.58</td>\n",
       "      <td>9.8</td>\n",
       "      <td>6</td>\n",
       "    </tr>\n",
       "    <tr>\n",
       "      <th>4</th>\n",
       "      <td>7.4</td>\n",
       "      <td>0.70</td>\n",
       "      <td>0.00</td>\n",
       "      <td>1.9</td>\n",
       "      <td>0.076</td>\n",
       "      <td>11.0</td>\n",
       "      <td>34.0</td>\n",
       "      <td>0.9978</td>\n",
       "      <td>3.51</td>\n",
       "      <td>0.56</td>\n",
       "      <td>9.4</td>\n",
       "      <td>5</td>\n",
       "    </tr>\n",
       "  </tbody>\n",
       "</table>\n",
       "</div>"
      ],
      "text/plain": [
       "   fixed acidity  volatile acidity  citric acid  residual sugar  chlorides  \\\n",
       "0            7.4              0.70         0.00             1.9      0.076   \n",
       "1            7.8              0.88         0.00             2.6      0.098   \n",
       "2            7.8              0.76         0.04             2.3      0.092   \n",
       "3           11.2              0.28         0.56             1.9      0.075   \n",
       "4            7.4              0.70         0.00             1.9      0.076   \n",
       "\n",
       "   free sulfur dioxide  total sulfur dioxide  density    pH  sulphates  \\\n",
       "0                 11.0                  34.0   0.9978  3.51       0.56   \n",
       "1                 25.0                  67.0   0.9968  3.20       0.68   \n",
       "2                 15.0                  54.0   0.9970  3.26       0.65   \n",
       "3                 17.0                  60.0   0.9980  3.16       0.58   \n",
       "4                 11.0                  34.0   0.9978  3.51       0.56   \n",
       "\n",
       "   alcohol  quality  \n",
       "0      9.4        5  \n",
       "1      9.8        5  \n",
       "2      9.8        5  \n",
       "3      9.8        6  \n",
       "4      9.4        5  "
      ]
     },
     "execution_count": 3,
     "metadata": {},
     "output_type": "execute_result"
    }
   ],
   "source": [
    "wine = pd.read_csv('https://raw.githubusercontent.com/umsi-data-science/data/main/winequality-red.csv')\n",
    "wine.head()"
   ]
  },
  {
   "cell_type": "markdown",
   "metadata": {
    "slideshow": {
     "slide_type": "-"
    }
   },
   "source": [
    "### Q1: List the 5 largest correlations in the wine quality dataset\n",
    "\n",
    "Feeling ambitious?  Try to get the following output:"
   ]
  },
  {
   "cell_type": "markdown",
   "metadata": {},
   "source": [
    "<table border=\"1\" class=\"dataframe\">\n",
    "  <thead>\n",
    "    <tr style=\"text-align: right;\">\n",
    "      <th></th>\n",
    "      <th>var1</th>\n",
    "      <th>var2</th>\n",
    "      <th>corr</th>\n",
    "    </tr>\n",
    "  </thead>\n",
    "  <tbody>\n",
    "    <tr>\n",
    "      <th>12</th>\n",
    "      <td>fixed acidity</td>\n",
    "      <td>pH</td>\n",
    "      <td>-0.682978</td>\n",
    "    </tr>\n",
    "    <tr>\n",
    "      <th>14</th>\n",
    "      <td>citric acid</td>\n",
    "      <td>fixed acidity</td>\n",
    "      <td>0.671703</td>\n",
    "    </tr>\n",
    "    <tr>\n",
    "      <th>16</th>\n",
    "      <td>density</td>\n",
    "      <td>fixed acidity</td>\n",
    "      <td>0.668047</td>\n",
    "    </tr>\n",
    "    <tr>\n",
    "      <th>18</th>\n",
    "      <td>free sulfur dioxide</td>\n",
    "      <td>total sulfur dioxide</td>\n",
    "      <td>0.667666</td>\n",
    "    </tr>\n",
    "    <tr>\n",
    "      <th>20</th>\n",
    "      <td>citric acid</td>\n",
    "      <td>volatile acidity</td>\n",
    "      <td>-0.552496</td>\n",
    "    </tr>\n",
    "  </tbody>\n",
    "</table>"
   ]
  },
  {
   "cell_type": "code",
   "execution_count": 4,
   "metadata": {
    "slideshow": {
     "slide_type": "skip"
    }
   },
   "outputs": [
    {
     "data": {
      "text/html": [
       "<div>\n",
       "<style scoped>\n",
       "    .dataframe tbody tr th:only-of-type {\n",
       "        vertical-align: middle;\n",
       "    }\n",
       "\n",
       "    .dataframe tbody tr th {\n",
       "        vertical-align: top;\n",
       "    }\n",
       "\n",
       "    .dataframe thead th {\n",
       "        text-align: right;\n",
       "    }\n",
       "</style>\n",
       "<table border=\"1\" class=\"dataframe\">\n",
       "  <thead>\n",
       "    <tr style=\"text-align: right;\">\n",
       "      <th></th>\n",
       "      <th>fixed acidity</th>\n",
       "      <th>volatile acidity</th>\n",
       "      <th>citric acid</th>\n",
       "      <th>residual sugar</th>\n",
       "      <th>chlorides</th>\n",
       "      <th>free sulfur dioxide</th>\n",
       "      <th>total sulfur dioxide</th>\n",
       "      <th>density</th>\n",
       "      <th>pH</th>\n",
       "      <th>sulphates</th>\n",
       "      <th>alcohol</th>\n",
       "      <th>quality</th>\n",
       "    </tr>\n",
       "  </thead>\n",
       "  <tbody>\n",
       "    <tr>\n",
       "      <th>fixed acidity</th>\n",
       "      <td>1.000000</td>\n",
       "      <td>-0.256131</td>\n",
       "      <td>0.671703</td>\n",
       "      <td>0.114777</td>\n",
       "      <td>0.093705</td>\n",
       "      <td>-0.153794</td>\n",
       "      <td>-0.113181</td>\n",
       "      <td>0.668047</td>\n",
       "      <td>-0.682978</td>\n",
       "      <td>0.183006</td>\n",
       "      <td>-0.061668</td>\n",
       "      <td>0.124052</td>\n",
       "    </tr>\n",
       "    <tr>\n",
       "      <th>volatile acidity</th>\n",
       "      <td>-0.256131</td>\n",
       "      <td>1.000000</td>\n",
       "      <td>-0.552496</td>\n",
       "      <td>0.001918</td>\n",
       "      <td>0.061298</td>\n",
       "      <td>-0.010504</td>\n",
       "      <td>0.076470</td>\n",
       "      <td>0.022026</td>\n",
       "      <td>0.234937</td>\n",
       "      <td>-0.260987</td>\n",
       "      <td>-0.202288</td>\n",
       "      <td>-0.390558</td>\n",
       "    </tr>\n",
       "    <tr>\n",
       "      <th>citric acid</th>\n",
       "      <td>0.671703</td>\n",
       "      <td>-0.552496</td>\n",
       "      <td>1.000000</td>\n",
       "      <td>0.143577</td>\n",
       "      <td>0.203823</td>\n",
       "      <td>-0.060978</td>\n",
       "      <td>0.035533</td>\n",
       "      <td>0.364947</td>\n",
       "      <td>-0.541904</td>\n",
       "      <td>0.312770</td>\n",
       "      <td>0.109903</td>\n",
       "      <td>0.226373</td>\n",
       "    </tr>\n",
       "    <tr>\n",
       "      <th>residual sugar</th>\n",
       "      <td>0.114777</td>\n",
       "      <td>0.001918</td>\n",
       "      <td>0.143577</td>\n",
       "      <td>1.000000</td>\n",
       "      <td>0.055610</td>\n",
       "      <td>0.187049</td>\n",
       "      <td>0.203028</td>\n",
       "      <td>0.355283</td>\n",
       "      <td>-0.085652</td>\n",
       "      <td>0.005527</td>\n",
       "      <td>0.042075</td>\n",
       "      <td>0.013732</td>\n",
       "    </tr>\n",
       "    <tr>\n",
       "      <th>chlorides</th>\n",
       "      <td>0.093705</td>\n",
       "      <td>0.061298</td>\n",
       "      <td>0.203823</td>\n",
       "      <td>0.055610</td>\n",
       "      <td>1.000000</td>\n",
       "      <td>0.005562</td>\n",
       "      <td>0.047400</td>\n",
       "      <td>0.200632</td>\n",
       "      <td>-0.265026</td>\n",
       "      <td>0.371260</td>\n",
       "      <td>-0.221141</td>\n",
       "      <td>-0.128907</td>\n",
       "    </tr>\n",
       "    <tr>\n",
       "      <th>free sulfur dioxide</th>\n",
       "      <td>-0.153794</td>\n",
       "      <td>-0.010504</td>\n",
       "      <td>-0.060978</td>\n",
       "      <td>0.187049</td>\n",
       "      <td>0.005562</td>\n",
       "      <td>1.000000</td>\n",
       "      <td>0.667666</td>\n",
       "      <td>-0.021946</td>\n",
       "      <td>0.070377</td>\n",
       "      <td>0.051658</td>\n",
       "      <td>-0.069408</td>\n",
       "      <td>-0.050656</td>\n",
       "    </tr>\n",
       "    <tr>\n",
       "      <th>total sulfur dioxide</th>\n",
       "      <td>-0.113181</td>\n",
       "      <td>0.076470</td>\n",
       "      <td>0.035533</td>\n",
       "      <td>0.203028</td>\n",
       "      <td>0.047400</td>\n",
       "      <td>0.667666</td>\n",
       "      <td>1.000000</td>\n",
       "      <td>0.071269</td>\n",
       "      <td>-0.066495</td>\n",
       "      <td>0.042947</td>\n",
       "      <td>-0.205654</td>\n",
       "      <td>-0.185100</td>\n",
       "    </tr>\n",
       "    <tr>\n",
       "      <th>density</th>\n",
       "      <td>0.668047</td>\n",
       "      <td>0.022026</td>\n",
       "      <td>0.364947</td>\n",
       "      <td>0.355283</td>\n",
       "      <td>0.200632</td>\n",
       "      <td>-0.021946</td>\n",
       "      <td>0.071269</td>\n",
       "      <td>1.000000</td>\n",
       "      <td>-0.341699</td>\n",
       "      <td>0.148506</td>\n",
       "      <td>-0.496180</td>\n",
       "      <td>-0.174919</td>\n",
       "    </tr>\n",
       "    <tr>\n",
       "      <th>pH</th>\n",
       "      <td>-0.682978</td>\n",
       "      <td>0.234937</td>\n",
       "      <td>-0.541904</td>\n",
       "      <td>-0.085652</td>\n",
       "      <td>-0.265026</td>\n",
       "      <td>0.070377</td>\n",
       "      <td>-0.066495</td>\n",
       "      <td>-0.341699</td>\n",
       "      <td>1.000000</td>\n",
       "      <td>-0.196648</td>\n",
       "      <td>0.205633</td>\n",
       "      <td>-0.057731</td>\n",
       "    </tr>\n",
       "    <tr>\n",
       "      <th>sulphates</th>\n",
       "      <td>0.183006</td>\n",
       "      <td>-0.260987</td>\n",
       "      <td>0.312770</td>\n",
       "      <td>0.005527</td>\n",
       "      <td>0.371260</td>\n",
       "      <td>0.051658</td>\n",
       "      <td>0.042947</td>\n",
       "      <td>0.148506</td>\n",
       "      <td>-0.196648</td>\n",
       "      <td>1.000000</td>\n",
       "      <td>0.093595</td>\n",
       "      <td>0.251397</td>\n",
       "    </tr>\n",
       "    <tr>\n",
       "      <th>alcohol</th>\n",
       "      <td>-0.061668</td>\n",
       "      <td>-0.202288</td>\n",
       "      <td>0.109903</td>\n",
       "      <td>0.042075</td>\n",
       "      <td>-0.221141</td>\n",
       "      <td>-0.069408</td>\n",
       "      <td>-0.205654</td>\n",
       "      <td>-0.496180</td>\n",
       "      <td>0.205633</td>\n",
       "      <td>0.093595</td>\n",
       "      <td>1.000000</td>\n",
       "      <td>0.476166</td>\n",
       "    </tr>\n",
       "    <tr>\n",
       "      <th>quality</th>\n",
       "      <td>0.124052</td>\n",
       "      <td>-0.390558</td>\n",
       "      <td>0.226373</td>\n",
       "      <td>0.013732</td>\n",
       "      <td>-0.128907</td>\n",
       "      <td>-0.050656</td>\n",
       "      <td>-0.185100</td>\n",
       "      <td>-0.174919</td>\n",
       "      <td>-0.057731</td>\n",
       "      <td>0.251397</td>\n",
       "      <td>0.476166</td>\n",
       "      <td>1.000000</td>\n",
       "    </tr>\n",
       "  </tbody>\n",
       "</table>\n",
       "</div>"
      ],
      "text/plain": [
       "                      fixed acidity  volatile acidity  citric acid  \\\n",
       "fixed acidity              1.000000         -0.256131     0.671703   \n",
       "volatile acidity          -0.256131          1.000000    -0.552496   \n",
       "citric acid                0.671703         -0.552496     1.000000   \n",
       "residual sugar             0.114777          0.001918     0.143577   \n",
       "chlorides                  0.093705          0.061298     0.203823   \n",
       "free sulfur dioxide       -0.153794         -0.010504    -0.060978   \n",
       "total sulfur dioxide      -0.113181          0.076470     0.035533   \n",
       "density                    0.668047          0.022026     0.364947   \n",
       "pH                        -0.682978          0.234937    -0.541904   \n",
       "sulphates                  0.183006         -0.260987     0.312770   \n",
       "alcohol                   -0.061668         -0.202288     0.109903   \n",
       "quality                    0.124052         -0.390558     0.226373   \n",
       "\n",
       "                      residual sugar  chlorides  free sulfur dioxide  \\\n",
       "fixed acidity               0.114777   0.093705            -0.153794   \n",
       "volatile acidity            0.001918   0.061298            -0.010504   \n",
       "citric acid                 0.143577   0.203823            -0.060978   \n",
       "residual sugar              1.000000   0.055610             0.187049   \n",
       "chlorides                   0.055610   1.000000             0.005562   \n",
       "free sulfur dioxide         0.187049   0.005562             1.000000   \n",
       "total sulfur dioxide        0.203028   0.047400             0.667666   \n",
       "density                     0.355283   0.200632            -0.021946   \n",
       "pH                         -0.085652  -0.265026             0.070377   \n",
       "sulphates                   0.005527   0.371260             0.051658   \n",
       "alcohol                     0.042075  -0.221141            -0.069408   \n",
       "quality                     0.013732  -0.128907            -0.050656   \n",
       "\n",
       "                      total sulfur dioxide   density        pH  sulphates  \\\n",
       "fixed acidity                    -0.113181  0.668047 -0.682978   0.183006   \n",
       "volatile acidity                  0.076470  0.022026  0.234937  -0.260987   \n",
       "citric acid                       0.035533  0.364947 -0.541904   0.312770   \n",
       "residual sugar                    0.203028  0.355283 -0.085652   0.005527   \n",
       "chlorides                         0.047400  0.200632 -0.265026   0.371260   \n",
       "free sulfur dioxide               0.667666 -0.021946  0.070377   0.051658   \n",
       "total sulfur dioxide              1.000000  0.071269 -0.066495   0.042947   \n",
       "density                           0.071269  1.000000 -0.341699   0.148506   \n",
       "pH                               -0.066495 -0.341699  1.000000  -0.196648   \n",
       "sulphates                         0.042947  0.148506 -0.196648   1.000000   \n",
       "alcohol                          -0.205654 -0.496180  0.205633   0.093595   \n",
       "quality                          -0.185100 -0.174919 -0.057731   0.251397   \n",
       "\n",
       "                       alcohol   quality  \n",
       "fixed acidity        -0.061668  0.124052  \n",
       "volatile acidity     -0.202288 -0.390558  \n",
       "citric acid           0.109903  0.226373  \n",
       "residual sugar        0.042075  0.013732  \n",
       "chlorides            -0.221141 -0.128907  \n",
       "free sulfur dioxide  -0.069408 -0.050656  \n",
       "total sulfur dioxide -0.205654 -0.185100  \n",
       "density              -0.496180 -0.174919  \n",
       "pH                    0.205633 -0.057731  \n",
       "sulphates             0.093595  0.251397  \n",
       "alcohol               1.000000  0.476166  \n",
       "quality               0.476166  1.000000  "
      ]
     },
     "execution_count": 4,
     "metadata": {},
     "output_type": "execute_result"
    }
   ],
   "source": [
    "wine.corr()"
   ]
  },
  {
   "cell_type": "code",
   "execution_count": 25,
   "metadata": {},
   "outputs": [
    {
     "data": {
      "text/html": [
       "<div>\n",
       "<style scoped>\n",
       "    .dataframe tbody tr th:only-of-type {\n",
       "        vertical-align: middle;\n",
       "    }\n",
       "\n",
       "    .dataframe tbody tr th {\n",
       "        vertical-align: top;\n",
       "    }\n",
       "\n",
       "    .dataframe thead th {\n",
       "        text-align: right;\n",
       "    }\n",
       "</style>\n",
       "<table border=\"1\" class=\"dataframe\">\n",
       "  <thead>\n",
       "    <tr style=\"text-align: right;\">\n",
       "      <th></th>\n",
       "      <th>level_0</th>\n",
       "      <th>var2</th>\n",
       "      <th>corr</th>\n",
       "    </tr>\n",
       "  </thead>\n",
       "  <tbody>\n",
       "    <tr>\n",
       "      <th>96</th>\n",
       "      <td>pH</td>\n",
       "      <td>fixed acidity</td>\n",
       "      <td>-0.682978</td>\n",
       "    </tr>\n",
       "    <tr>\n",
       "      <th>8</th>\n",
       "      <td>fixed acidity</td>\n",
       "      <td>pH</td>\n",
       "      <td>-0.682978</td>\n",
       "    </tr>\n",
       "    <tr>\n",
       "      <th>14</th>\n",
       "      <td>volatile acidity</td>\n",
       "      <td>citric acid</td>\n",
       "      <td>-0.552496</td>\n",
       "    </tr>\n",
       "    <tr>\n",
       "      <th>25</th>\n",
       "      <td>citric acid</td>\n",
       "      <td>volatile acidity</td>\n",
       "      <td>-0.552496</td>\n",
       "    </tr>\n",
       "    <tr>\n",
       "      <th>98</th>\n",
       "      <td>pH</td>\n",
       "      <td>citric acid</td>\n",
       "      <td>-0.541904</td>\n",
       "    </tr>\n",
       "  </tbody>\n",
       "</table>\n",
       "</div>"
      ],
      "text/plain": [
       "             level_0              var2      corr\n",
       "96                pH     fixed acidity -0.682978\n",
       "8      fixed acidity                pH -0.682978\n",
       "14  volatile acidity       citric acid -0.552496\n",
       "25       citric acid  volatile acidity -0.552496\n",
       "98                pH       citric acid -0.541904"
      ]
     },
     "execution_count": 25,
     "metadata": {},
     "output_type": "execute_result"
    }
   ],
   "source": [
    "wine.corr().stack().reset_index().rename(columns = {'index':'var1', 'level_1':'var2', 0:'corr'}).sort_values('corr').head(5)"
   ]
  },
  {
   "cell_type": "markdown",
   "metadata": {
    "slideshow": {
     "slide_type": "skip"
    }
   },
   "source": [
    "Insert your answer here."
   ]
  },
  {
   "cell_type": "markdown",
   "metadata": {
    "slideshow": {
     "slide_type": "skip"
    }
   },
   "source": [
    "### Q2: Create a JointGrid-based plot that contains a regplot and a histplot for \"free sulphur dioxide\" vs. \"total sulphur dioxide\"."
   ]
  },
  {
   "cell_type": "code",
   "execution_count": 27,
   "metadata": {
    "slideshow": {
     "slide_type": "skip"
    }
   },
   "outputs": [
    {
     "data": {
      "text/plain": [
       "<seaborn.axisgrid.JointGrid at 0x292172eeeb0>"
      ]
     },
     "execution_count": 27,
     "metadata": {},
     "output_type": "execute_result"
    },
    {
     "data": {
      "image/png": "[encoded data removed]",
      "text/plain": [
       "<Figure size 432x432 with 3 Axes>"
      ]
     },
     "metadata": {
      "needs_background": "light"
     },
     "output_type": "display_data"
    }
   ],
   "source": [
    "sns.JointGrid(data=wine,y='free sulfur dioxide',x='total sulfur dioxide').plot(sns.regplot, sns.histplot)"
   ]
  },
  {
   "cell_type": "markdown",
   "metadata": {
    "colab_type": "text",
    "id": "6FyOXTsgU2ui",
    "slideshow": {
     "slide_type": "slide"
    }
   },
   "source": [
    "## Ordinary Least Squares (OLS) Regression"
   ]
  },
  {
   "cell_type": "code",
   "execution_count": 28,
   "metadata": {
    "colab": {},
    "colab_type": "code",
    "id": "1JuuPtlTU2ui",
    "slideshow": {
     "slide_type": "subslide"
    }
   },
   "outputs": [],
   "source": [
    "import statsmodels.api as sm\n",
    "import statsmodels.formula.api as smf"
   ]
  },
  {
   "cell_type": "markdown",
   "metadata": {
    "colab_type": "text",
    "id": "ATYDr80MU2uk",
    "slideshow": {
     "slide_type": "subslide"
    }
   },
   "source": [
    "Remember that statsmodels uses R-Style formulas: y ~ x1 + x2 + x3 + ...\n",
    "\n",
    "1. y represents the outcome/dependent variable\n",
    "2. x1, x2, x3, etc represent explanatory/independent variables "
   ]
  },
  {
   "cell_type": "markdown",
   "metadata": {
    "slideshow": {
     "slide_type": "skip"
    }
   },
   "source": [
    "### Q3: Create a regression model with \"total sulfur dioxide\" as the dependent variable and \"free sulfur dioxide\" as the predictor variable.\n",
    "Report the following:\n",
    "1. Coefficient of determination (i.e. $r^2$)\n",
    "2. Whether the regression is statistically significant\n",
    "3. An estimate for the value of \"total sulfur dioxide\" when the value of \"free sulfur dioxide\" is 60."
   ]
  },
  {
   "cell_type": "code",
   "execution_count": 29,
   "metadata": {},
   "outputs": [
    {
     "data": {
      "text/html": [
       "<table class=\"simpletable\">\n",
       "<caption>OLS Regression Results</caption>\n",
       "<tr>\n",
       "  <th>Dep. Variable:</th>    <td>Q('total sulfur dioxide')</td> <th>  R-squared:         </th> <td>   0.446</td> \n",
       "</tr>\n",
       "<tr>\n",
       "  <th>Model:</th>                       <td>OLS</td>            <th>  Adj. R-squared:    </th> <td>   0.445</td> \n",
       "</tr>\n",
       "<tr>\n",
       "  <th>Method:</th>                 <td>Least Squares</td>       <th>  F-statistic:       </th> <td>   1285.</td> \n",
       "</tr>\n",
       "<tr>\n",
       "  <th>Date:</th>                 <td>Wed, 09 Feb 2022</td>      <th>  Prob (F-statistic):</th> <td>6.40e-207</td>\n",
       "</tr>\n",
       "<tr>\n",
       "  <th>Time:</th>                     <td>14:56:25</td>          <th>  Log-Likelihood:    </th> <td> -7382.4</td> \n",
       "</tr>\n",
       "<tr>\n",
       "  <th>No. Observations:</th>          <td>  1599</td>           <th>  AIC:               </th> <td>1.477e+04</td>\n",
       "</tr>\n",
       "<tr>\n",
       "  <th>Df Residuals:</th>              <td>  1597</td>           <th>  BIC:               </th> <td>1.478e+04</td>\n",
       "</tr>\n",
       "<tr>\n",
       "  <th>Df Model:</th>                  <td>     1</td>           <th>                     </th>     <td> </td>    \n",
       "</tr>\n",
       "<tr>\n",
       "  <th>Covariance Type:</th>          <td>nonrobust</td>         <th>                     </th>     <td> </td>    \n",
       "</tr>\n",
       "</table>\n",
       "<table class=\"simpletable\">\n",
       "<tr>\n",
       "              <td></td>                <th>coef</th>     <th>std err</th>      <th>t</th>      <th>P>|t|</th>  <th>[0.025</th>    <th>0.975]</th>  \n",
       "</tr>\n",
       "<tr>\n",
       "  <th>Intercept</th>                <td>   13.1354</td> <td>    1.114</td> <td>   11.795</td> <td> 0.000</td> <td>   10.951</td> <td>   15.320</td>\n",
       "</tr>\n",
       "<tr>\n",
       "  <th>Q('free sulfur dioxide')</th> <td>    2.0997</td> <td>    0.059</td> <td>   35.840</td> <td> 0.000</td> <td>    1.985</td> <td>    2.215</td>\n",
       "</tr>\n",
       "</table>\n",
       "<table class=\"simpletable\">\n",
       "<tr>\n",
       "  <th>Omnibus:</th>       <td>621.223</td> <th>  Durbin-Watson:     </th> <td>   1.553</td>\n",
       "</tr>\n",
       "<tr>\n",
       "  <th>Prob(Omnibus):</th> <td> 0.000</td>  <th>  Jarque-Bera (JB):  </th> <td>3163.294</td>\n",
       "</tr>\n",
       "<tr>\n",
       "  <th>Skew:</th>          <td> 1.767</td>  <th>  Prob(JB):          </th> <td>    0.00</td>\n",
       "</tr>\n",
       "<tr>\n",
       "  <th>Kurtosis:</th>      <td> 8.915</td>  <th>  Cond. No.          </th> <td>    34.6</td>\n",
       "</tr>\n",
       "</table><br/><br/>Notes:<br/>[1] Standard Errors assume that the covariance matrix of the errors is correctly specified."
      ],
      "text/plain": [
       "<class 'statsmodels.iolib.summary.Summary'>\n",
       "\"\"\"\n",
       "                                OLS Regression Results                               \n",
       "=====================================================================================\n",
       "Dep. Variable:     Q('total sulfur dioxide')   R-squared:                       0.446\n",
       "Model:                                   OLS   Adj. R-squared:                  0.445\n",
       "Method:                        Least Squares   F-statistic:                     1285.\n",
       "Date:                       Wed, 09 Feb 2022   Prob (F-statistic):          6.40e-207\n",
       "Time:                               14:56:25   Log-Likelihood:                -7382.4\n",
       "No. Observations:                       1599   AIC:                         1.477e+04\n",
       "Df Residuals:                           1597   BIC:                         1.478e+04\n",
       "Df Model:                                  1                                         \n",
       "Covariance Type:                   nonrobust                                         \n",
       "============================================================================================\n",
       "                               coef    std err          t      P>|t|      [0.025      0.975]\n",
       "--------------------------------------------------------------------------------------------\n",
       "Intercept                   13.1354      1.114     11.795      0.000      10.951      15.320\n",
       "Q('free sulfur dioxide')     2.0997      0.059     35.840      0.000       1.985       2.215\n",
       "==============================================================================\n",
       "Omnibus:                      621.223   Durbin-Watson:                   1.553\n",
       "Prob(Omnibus):                  0.000   Jarque-Bera (JB):             3163.294\n",
       "Skew:                           1.767   Prob(JB):                         0.00\n",
       "Kurtosis:                       8.915   Cond. No.                         34.6\n",
       "==============================================================================\n",
       "\n",
       "Notes:\n",
       "[1] Standard Errors assume that the covariance matrix of the errors is correctly specified.\n",
       "\"\"\""
      ]
     },
     "execution_count": 29,
     "metadata": {},
     "output_type": "execute_result"
    }
   ],
   "source": [
    "model = smf.ols(\"Q('total sulfur dioxide')  ~ Q('free sulfur dioxide')\", data=wine).fit()\n",
    "model.summary()"
   ]
  },
  {
   "cell_type": "markdown",
   "metadata": {
    "slideshow": {
     "slide_type": "skip"
    }
   },
   "source": [
    "* The coefficient of determination is 0.446.\n",
    "* From the p-value, we can say that the regression is statistically significant.\n",
    "* total sulfur dicxide would be around 139.1174."
   ]
  },
  {
   "cell_type": "markdown",
   "metadata": {
    "slideshow": {
     "slide_type": "skip"
    }
   },
   "source": [
    "### Q4: Create an influence plot for the regression of \"total sulfur dioxide\" vs. \"free sulfur dioxide\".  \n",
    "\n",
    "Visually identify outliers.\n",
    "\n"
   ]
  },
  {
   "cell_type": "code",
   "execution_count": 31,
   "metadata": {
    "scrolled": true
   },
   "outputs": [
    {
     "data": {
      "image/png": "[encoded data removed]",
      "text/plain": [
       "<Figure size 864x576 with 1 Axes>"
      ]
     },
     "metadata": {
      "needs_background": "light"
     },
     "output_type": "display_data"
    }
   ],
   "source": [
    "fig, ax = plt.subplots(figsize=(12,8))\n",
    "fig = sm.graphics.influence_plot(model, ax=ax, criterion=\"Cooks\",alpha=0.0000005)"
   ]
  },
  {
   "cell_type": "markdown",
   "metadata": {
    "slideshow": {
     "slide_type": "skip"
    }
   },
   "source": [
    "### Q5: How many influence points are there, according to statistically significant Cook's distances?\n"
   ]
  },
  {
   "cell_type": "code",
   "execution_count": 42,
   "metadata": {},
   "outputs": [
    {
     "data": {
      "text/plain": [
       "125"
      ]
     },
     "execution_count": 42,
     "metadata": {},
     "output_type": "execute_result"
    }
   ],
   "source": [
    "summary = model.get_influence().summary_frame()\n",
    "len(summary[summary.cooks_d>3*summary.cooks_d.mean()])"
   ]
  },
  {
   "cell_type": "markdown",
   "metadata": {
    "slideshow": {
     "slide_type": "skip"
    }
   },
   "source": [
    "I use 3 times of the mean value of the cook's distance as the threshold, and find that there are 125 influence points there according to the the cook's distance."
   ]
  },
  {
   "cell_type": "markdown",
   "metadata": {
    "slideshow": {
     "slide_type": "slide"
    }
   },
   "source": [
    "## Hypothesis testing (t-test and ANOVA)"
   ]
  },
  {
   "cell_type": "code",
   "execution_count": 51,
   "metadata": {
    "slideshow": {
     "slide_type": "slide"
    }
   },
   "outputs": [],
   "source": [
    "import numpy as np\n",
    "import pandas as pd\n",
    "import seaborn as sns\n",
    "import scipy"
   ]
  },
  {
   "cell_type": "code",
   "execution_count": 52,
   "metadata": {
    "slideshow": {
     "slide_type": "subslide"
    }
   },
   "outputs": [],
   "source": [
    "import statsmodels\n",
    "import statsmodels.api as sm\n",
    "from statsmodels.formula.api import ols"
   ]
  },
  {
   "cell_type": "markdown",
   "metadata": {
    "slideshow": {
     "slide_type": "slide"
    }
   },
   "source": [
    "For this section, we draw our inspiration from the FiveThirtyEight article \"‘Straight Outta Compton’ Is The Rare Biopic Not About White Dudes\" (https://fivethirtyeight.com/features/straight-outta-compton-is-the-rare-biopic-not-about-white-dudes/).  FiveThiryEight has a great habit of publishing the data\n",
    "that underpin their stories and those data are available via GitHub so it's easy to \n",
    "load them into a DataFrame:"
   ]
  },
  {
   "cell_type": "code",
   "execution_count": 53,
   "metadata": {},
   "outputs": [],
   "source": [
    "biopics = pd.read_csv(\"https://raw.githubusercontent.com/fivethirtyeight/data/master/biopics/biopics.csv\", encoding=\"latin1\")"
   ]
  },
  {
   "cell_type": "code",
   "execution_count": 54,
   "metadata": {},
   "outputs": [
    {
     "data": {
      "text/html": [
       "<div>\n",
       "<style scoped>\n",
       "    .dataframe tbody tr th:only-of-type {\n",
       "        vertical-align: middle;\n",
       "    }\n",
       "\n",
       "    .dataframe tbody tr th {\n",
       "        vertical-align: top;\n",
       "    }\n",
       "\n",
       "    .dataframe thead th {\n",
       "        text-align: right;\n",
       "    }\n",
       "</style>\n",
       "<table border=\"1\" class=\"dataframe\">\n",
       "  <thead>\n",
       "    <tr style=\"text-align: right;\">\n",
       "      <th></th>\n",
       "      <th>title</th>\n",
       "      <th>site</th>\n",
       "      <th>country</th>\n",
       "      <th>year_release</th>\n",
       "      <th>box_office</th>\n",
       "      <th>director</th>\n",
       "      <th>number_of_subjects</th>\n",
       "      <th>subject</th>\n",
       "      <th>type_of_subject</th>\n",
       "      <th>race_known</th>\n",
       "      <th>subject_race</th>\n",
       "      <th>person_of_color</th>\n",
       "      <th>subject_sex</th>\n",
       "      <th>lead_actor_actress</th>\n",
       "    </tr>\n",
       "  </thead>\n",
       "  <tbody>\n",
       "    <tr>\n",
       "      <th>0</th>\n",
       "      <td>10 Rillington Place</td>\n",
       "      <td>http://www.imdb.com/title/tt0066730/</td>\n",
       "      <td>UK</td>\n",
       "      <td>1971</td>\n",
       "      <td>-</td>\n",
       "      <td>Richard Fleischer</td>\n",
       "      <td>1</td>\n",
       "      <td>John Christie</td>\n",
       "      <td>Criminal</td>\n",
       "      <td>Unknown</td>\n",
       "      <td>NaN</td>\n",
       "      <td>0</td>\n",
       "      <td>Male</td>\n",
       "      <td>Richard Attenborough</td>\n",
       "    </tr>\n",
       "    <tr>\n",
       "      <th>1</th>\n",
       "      <td>12 Years a Slave</td>\n",
       "      <td>http://www.imdb.com/title/tt2024544/</td>\n",
       "      <td>US/UK</td>\n",
       "      <td>2013</td>\n",
       "      <td>$56.7M</td>\n",
       "      <td>Steve McQueen</td>\n",
       "      <td>1</td>\n",
       "      <td>Solomon Northup</td>\n",
       "      <td>Other</td>\n",
       "      <td>Known</td>\n",
       "      <td>African American</td>\n",
       "      <td>1</td>\n",
       "      <td>Male</td>\n",
       "      <td>Chiwetel Ejiofor</td>\n",
       "    </tr>\n",
       "    <tr>\n",
       "      <th>2</th>\n",
       "      <td>127 Hours</td>\n",
       "      <td>http://www.imdb.com/title/tt1542344/</td>\n",
       "      <td>US/UK</td>\n",
       "      <td>2010</td>\n",
       "      <td>$18.3M</td>\n",
       "      <td>Danny Boyle</td>\n",
       "      <td>1</td>\n",
       "      <td>Aron Ralston</td>\n",
       "      <td>Athlete</td>\n",
       "      <td>Unknown</td>\n",
       "      <td>NaN</td>\n",
       "      <td>0</td>\n",
       "      <td>Male</td>\n",
       "      <td>James Franco</td>\n",
       "    </tr>\n",
       "    <tr>\n",
       "      <th>3</th>\n",
       "      <td>1987</td>\n",
       "      <td>http://www.imdb.com/title/tt2833074/</td>\n",
       "      <td>Canada</td>\n",
       "      <td>2014</td>\n",
       "      <td>-</td>\n",
       "      <td>Ricardo Trogi</td>\n",
       "      <td>1</td>\n",
       "      <td>Ricardo Trogi</td>\n",
       "      <td>Other</td>\n",
       "      <td>Known</td>\n",
       "      <td>White</td>\n",
       "      <td>0</td>\n",
       "      <td>Male</td>\n",
       "      <td>Jean-Carl Boucher</td>\n",
       "    </tr>\n",
       "    <tr>\n",
       "      <th>4</th>\n",
       "      <td>20 Dates</td>\n",
       "      <td>http://www.imdb.com/title/tt0138987/</td>\n",
       "      <td>US</td>\n",
       "      <td>1998</td>\n",
       "      <td>$537K</td>\n",
       "      <td>Myles Berkowitz</td>\n",
       "      <td>1</td>\n",
       "      <td>Myles Berkowitz</td>\n",
       "      <td>Other</td>\n",
       "      <td>Unknown</td>\n",
       "      <td>NaN</td>\n",
       "      <td>0</td>\n",
       "      <td>Male</td>\n",
       "      <td>Myles Berkowitz</td>\n",
       "    </tr>\n",
       "  </tbody>\n",
       "</table>\n",
       "</div>"
      ],
      "text/plain": [
       "                 title                                  site country  \\\n",
       "0  10 Rillington Place  http://www.imdb.com/title/tt0066730/      UK   \n",
       "1     12 Years a Slave  http://www.imdb.com/title/tt2024544/   US/UK   \n",
       "2            127 Hours  http://www.imdb.com/title/tt1542344/   US/UK   \n",
       "3                 1987  http://www.imdb.com/title/tt2833074/  Canada   \n",
       "4             20 Dates  http://www.imdb.com/title/tt0138987/      US   \n",
       "\n",
       "   year_release box_office           director  number_of_subjects  \\\n",
       "0          1971          -  Richard Fleischer                   1   \n",
       "1          2013     $56.7M      Steve McQueen                   1   \n",
       "2          2010     $18.3M        Danny Boyle                   1   \n",
       "3          2014          -      Ricardo Trogi                   1   \n",
       "4          1998      $537K    Myles Berkowitz                   1   \n",
       "\n",
       "            subject type_of_subject race_known      subject_race  \\\n",
       "0     John Christie        Criminal    Unknown               NaN   \n",
       "1   Solomon Northup           Other      Known  African American   \n",
       "2      Aron Ralston         Athlete    Unknown               NaN   \n",
       "3     Ricardo Trogi           Other      Known             White   \n",
       "4   Myles Berkowitz           Other    Unknown               NaN   \n",
       "\n",
       "   person_of_color subject_sex    lead_actor_actress  \n",
       "0                0        Male  Richard Attenborough  \n",
       "1                1        Male      Chiwetel Ejiofor  \n",
       "2                0        Male          James Franco  \n",
       "3                0        Male     Jean-Carl Boucher  \n",
       "4                0        Male       Myles Berkowitz  "
      ]
     },
     "execution_count": 54,
     "metadata": {},
     "output_type": "execute_result"
    }
   ],
   "source": [
    "biopics.head()"
   ]
  },
  {
   "cell_type": "markdown",
   "metadata": {},
   "source": [
    "We're interested in the 'box_office' variable, which is an oddly-formatted representation of the box-office earnings for each movie.  We're going to create a function that \n",
    "converts representations like '$56.7M' to '56700000'.  How?"
   ]
  },
  {
   "cell_type": "markdown",
   "metadata": {},
   "source": [
    "Time for some regular expressions (yay!):"
   ]
  },
  {
   "cell_type": "markdown",
   "metadata": {},
   "source": [
    "## Q6: Fill in the regular expression\n"
   ]
  },
  {
   "cell_type": "code",
   "execution_count": 68,
   "metadata": {},
   "outputs": [
    {
     "data": {
      "text/plain": [
       "nan"
      ]
     },
     "execution_count": 68,
     "metadata": {},
     "output_type": "execute_result"
    }
   ],
   "source": [
    "import re\n",
    "import numpy as np\n",
    "\n",
    "def box_office_dollars(earnings):\n",
    "    m = re.match(r'\\$(\\d+\\.?\\d*)([MK])',earnings)\n",
    "    if not m:\n",
    "        return np.NaN\n",
    "    ret = m.group(1)\n",
    "    if not ret:\n",
    "        return np.NaN\n",
    "    try:\n",
    "        ret = float(ret)\n",
    "    except:\n",
    "        return np.NaN\n",
    "    if m.group(2) == 'M':\n",
    "        return ret * 1000000\n",
    "    if m.group(2) == 'K':\n",
    "        return ret * 1000\n",
    "    return ret\n",
    "\n",
    "# Test out our function, which should print 537000.0 given $537K\n",
    "box_office_dollars(\"$1\")\n"
   ]
  },
  {
   "cell_type": "markdown",
   "metadata": {},
   "source": [
    "And apply it to our DataFrame, creating a new column called 'box_office_dollars'"
   ]
  },
  {
   "cell_type": "code",
   "execution_count": 69,
   "metadata": {},
   "outputs": [],
   "source": [
    "biopics['box_office_dollars'] = biopics['box_office'].apply(box_office_dollars)"
   ]
  },
  {
   "cell_type": "code",
   "execution_count": 70,
   "metadata": {},
   "outputs": [
    {
     "data": {
      "text/html": [
       "<div>\n",
       "<style scoped>\n",
       "    .dataframe tbody tr th:only-of-type {\n",
       "        vertical-align: middle;\n",
       "    }\n",
       "\n",
       "    .dataframe tbody tr th {\n",
       "        vertical-align: top;\n",
       "    }\n",
       "\n",
       "    .dataframe thead th {\n",
       "        text-align: right;\n",
       "    }\n",
       "</style>\n",
       "<table border=\"1\" class=\"dataframe\">\n",
       "  <thead>\n",
       "    <tr style=\"text-align: right;\">\n",
       "      <th></th>\n",
       "      <th>title</th>\n",
       "      <th>site</th>\n",
       "      <th>country</th>\n",
       "      <th>year_release</th>\n",
       "      <th>box_office</th>\n",
       "      <th>director</th>\n",
       "      <th>number_of_subjects</th>\n",
       "      <th>subject</th>\n",
       "      <th>type_of_subject</th>\n",
       "      <th>race_known</th>\n",
       "      <th>subject_race</th>\n",
       "      <th>person_of_color</th>\n",
       "      <th>subject_sex</th>\n",
       "      <th>lead_actor_actress</th>\n",
       "      <th>box_office_dollars</th>\n",
       "    </tr>\n",
       "  </thead>\n",
       "  <tbody>\n",
       "    <tr>\n",
       "      <th>0</th>\n",
       "      <td>10 Rillington Place</td>\n",
       "      <td>http://www.imdb.com/title/tt0066730/</td>\n",
       "      <td>UK</td>\n",
       "      <td>1971</td>\n",
       "      <td>-</td>\n",
       "      <td>Richard Fleischer</td>\n",
       "      <td>1</td>\n",
       "      <td>John Christie</td>\n",
       "      <td>Criminal</td>\n",
       "      <td>Unknown</td>\n",
       "      <td>NaN</td>\n",
       "      <td>0</td>\n",
       "      <td>Male</td>\n",
       "      <td>Richard Attenborough</td>\n",
       "      <td>NaN</td>\n",
       "    </tr>\n",
       "    <tr>\n",
       "      <th>1</th>\n",
       "      <td>12 Years a Slave</td>\n",
       "      <td>http://www.imdb.com/title/tt2024544/</td>\n",
       "      <td>US/UK</td>\n",
       "      <td>2013</td>\n",
       "      <td>$56.7M</td>\n",
       "      <td>Steve McQueen</td>\n",
       "      <td>1</td>\n",
       "      <td>Solomon Northup</td>\n",
       "      <td>Other</td>\n",
       "      <td>Known</td>\n",
       "      <td>African American</td>\n",
       "      <td>1</td>\n",
       "      <td>Male</td>\n",
       "      <td>Chiwetel Ejiofor</td>\n",
       "      <td>56700000.0</td>\n",
       "    </tr>\n",
       "    <tr>\n",
       "      <th>2</th>\n",
       "      <td>127 Hours</td>\n",
       "      <td>http://www.imdb.com/title/tt1542344/</td>\n",
       "      <td>US/UK</td>\n",
       "      <td>2010</td>\n",
       "      <td>$18.3M</td>\n",
       "      <td>Danny Boyle</td>\n",
       "      <td>1</td>\n",
       "      <td>Aron Ralston</td>\n",
       "      <td>Athlete</td>\n",
       "      <td>Unknown</td>\n",
       "      <td>NaN</td>\n",
       "      <td>0</td>\n",
       "      <td>Male</td>\n",
       "      <td>James Franco</td>\n",
       "      <td>18300000.0</td>\n",
       "    </tr>\n",
       "    <tr>\n",
       "      <th>3</th>\n",
       "      <td>1987</td>\n",
       "      <td>http://www.imdb.com/title/tt2833074/</td>\n",
       "      <td>Canada</td>\n",
       "      <td>2014</td>\n",
       "      <td>-</td>\n",
       "      <td>Ricardo Trogi</td>\n",
       "      <td>1</td>\n",
       "      <td>Ricardo Trogi</td>\n",
       "      <td>Other</td>\n",
       "      <td>Known</td>\n",
       "      <td>White</td>\n",
       "      <td>0</td>\n",
       "      <td>Male</td>\n",
       "      <td>Jean-Carl Boucher</td>\n",
       "      <td>NaN</td>\n",
       "    </tr>\n",
       "    <tr>\n",
       "      <th>4</th>\n",
       "      <td>20 Dates</td>\n",
       "      <td>http://www.imdb.com/title/tt0138987/</td>\n",
       "      <td>US</td>\n",
       "      <td>1998</td>\n",
       "      <td>$537K</td>\n",
       "      <td>Myles Berkowitz</td>\n",
       "      <td>1</td>\n",
       "      <td>Myles Berkowitz</td>\n",
       "      <td>Other</td>\n",
       "      <td>Unknown</td>\n",
       "      <td>NaN</td>\n",
       "      <td>0</td>\n",
       "      <td>Male</td>\n",
       "      <td>Myles Berkowitz</td>\n",
       "      <td>537000.0</td>\n",
       "    </tr>\n",
       "  </tbody>\n",
       "</table>\n",
       "</div>"
      ],
      "text/plain": [
       "                 title                                  site country  \\\n",
       "0  10 Rillington Place  http://www.imdb.com/title/tt0066730/      UK   \n",
       "1     12 Years a Slave  http://www.imdb.com/title/tt2024544/   US/UK   \n",
       "2            127 Hours  http://www.imdb.com/title/tt1542344/   US/UK   \n",
       "3                 1987  http://www.imdb.com/title/tt2833074/  Canada   \n",
       "4             20 Dates  http://www.imdb.com/title/tt0138987/      US   \n",
       "\n",
       "   year_release box_office           director  number_of_subjects  \\\n",
       "0          1971          -  Richard Fleischer                   1   \n",
       "1          2013     $56.7M      Steve McQueen                   1   \n",
       "2          2010     $18.3M        Danny Boyle                   1   \n",
       "3          2014          -      Ricardo Trogi                   1   \n",
       "4          1998      $537K    Myles Berkowitz                   1   \n",
       "\n",
       "            subject type_of_subject race_known      subject_race  \\\n",
       "0     John Christie        Criminal    Unknown               NaN   \n",
       "1   Solomon Northup           Other      Known  African American   \n",
       "2      Aron Ralston         Athlete    Unknown               NaN   \n",
       "3     Ricardo Trogi           Other      Known             White   \n",
       "4   Myles Berkowitz           Other    Unknown               NaN   \n",
       "\n",
       "   person_of_color subject_sex    lead_actor_actress  box_office_dollars  \n",
       "0                0        Male  Richard Attenborough                 NaN  \n",
       "1                1        Male      Chiwetel Ejiofor          56700000.0  \n",
       "2                0        Male          James Franco          18300000.0  \n",
       "3                0        Male     Jean-Carl Boucher                 NaN  \n",
       "4                0        Male       Myles Berkowitz            537000.0  "
      ]
     },
     "execution_count": 70,
     "metadata": {},
     "output_type": "execute_result"
    }
   ],
   "source": [
    "biopics.head()"
   ]
  },
  {
   "cell_type": "markdown",
   "metadata": {},
   "source": [
    "## Q7: What should we do with our missing values:"
   ]
  },
  {
   "cell_type": "code",
   "execution_count": 71,
   "metadata": {},
   "outputs": [],
   "source": [
    "biopics = biopics.dropna(subset=['box_office_dollars'])"
   ]
  },
  {
   "cell_type": "code",
   "execution_count": 73,
   "metadata": {},
   "outputs": [
    {
     "data": {
      "text/html": [
       "<div>\n",
       "<style scoped>\n",
       "    .dataframe tbody tr th:only-of-type {\n",
       "        vertical-align: middle;\n",
       "    }\n",
       "\n",
       "    .dataframe tbody tr th {\n",
       "        vertical-align: top;\n",
       "    }\n",
       "\n",
       "    .dataframe thead th {\n",
       "        text-align: right;\n",
       "    }\n",
       "</style>\n",
       "<table border=\"1\" class=\"dataframe\">\n",
       "  <thead>\n",
       "    <tr style=\"text-align: right;\">\n",
       "      <th></th>\n",
       "      <th>title</th>\n",
       "      <th>site</th>\n",
       "      <th>country</th>\n",
       "      <th>year_release</th>\n",
       "      <th>box_office</th>\n",
       "      <th>director</th>\n",
       "      <th>number_of_subjects</th>\n",
       "      <th>subject</th>\n",
       "      <th>type_of_subject</th>\n",
       "      <th>race_known</th>\n",
       "      <th>subject_race</th>\n",
       "      <th>person_of_color</th>\n",
       "      <th>subject_sex</th>\n",
       "      <th>lead_actor_actress</th>\n",
       "      <th>box_office_dollars</th>\n",
       "    </tr>\n",
       "  </thead>\n",
       "  <tbody>\n",
       "    <tr>\n",
       "      <th>1</th>\n",
       "      <td>12 Years a Slave</td>\n",
       "      <td>http://www.imdb.com/title/tt2024544/</td>\n",
       "      <td>US/UK</td>\n",
       "      <td>2013</td>\n",
       "      <td>$56.7M</td>\n",
       "      <td>Steve McQueen</td>\n",
       "      <td>1</td>\n",
       "      <td>Solomon Northup</td>\n",
       "      <td>Other</td>\n",
       "      <td>Known</td>\n",
       "      <td>African American</td>\n",
       "      <td>1</td>\n",
       "      <td>Male</td>\n",
       "      <td>Chiwetel Ejiofor</td>\n",
       "      <td>56700000.0</td>\n",
       "    </tr>\n",
       "    <tr>\n",
       "      <th>2</th>\n",
       "      <td>127 Hours</td>\n",
       "      <td>http://www.imdb.com/title/tt1542344/</td>\n",
       "      <td>US/UK</td>\n",
       "      <td>2010</td>\n",
       "      <td>$18.3M</td>\n",
       "      <td>Danny Boyle</td>\n",
       "      <td>1</td>\n",
       "      <td>Aron Ralston</td>\n",
       "      <td>Athlete</td>\n",
       "      <td>Unknown</td>\n",
       "      <td>NaN</td>\n",
       "      <td>0</td>\n",
       "      <td>Male</td>\n",
       "      <td>James Franco</td>\n",
       "      <td>18300000.0</td>\n",
       "    </tr>\n",
       "    <tr>\n",
       "      <th>4</th>\n",
       "      <td>20 Dates</td>\n",
       "      <td>http://www.imdb.com/title/tt0138987/</td>\n",
       "      <td>US</td>\n",
       "      <td>1998</td>\n",
       "      <td>$537K</td>\n",
       "      <td>Myles Berkowitz</td>\n",
       "      <td>1</td>\n",
       "      <td>Myles Berkowitz</td>\n",
       "      <td>Other</td>\n",
       "      <td>Unknown</td>\n",
       "      <td>NaN</td>\n",
       "      <td>0</td>\n",
       "      <td>Male</td>\n",
       "      <td>Myles Berkowitz</td>\n",
       "      <td>537000.0</td>\n",
       "    </tr>\n",
       "    <tr>\n",
       "      <th>5</th>\n",
       "      <td>21</td>\n",
       "      <td>http://www.imdb.com/title/tt0478087/</td>\n",
       "      <td>US</td>\n",
       "      <td>2008</td>\n",
       "      <td>$81.2M</td>\n",
       "      <td>Robert Luketic</td>\n",
       "      <td>1</td>\n",
       "      <td>Jeff Ma</td>\n",
       "      <td>Other</td>\n",
       "      <td>Known</td>\n",
       "      <td>Asian American</td>\n",
       "      <td>1</td>\n",
       "      <td>Male</td>\n",
       "      <td>Jim Sturgess</td>\n",
       "      <td>81200000.0</td>\n",
       "    </tr>\n",
       "    <tr>\n",
       "      <th>6</th>\n",
       "      <td>24 Hour Party People</td>\n",
       "      <td>http://www.imdb.com/title/tt0274309/</td>\n",
       "      <td>UK</td>\n",
       "      <td>2002</td>\n",
       "      <td>$1.13M</td>\n",
       "      <td>Michael Winterbottom</td>\n",
       "      <td>1</td>\n",
       "      <td>Tony Wilson</td>\n",
       "      <td>Musician</td>\n",
       "      <td>Known</td>\n",
       "      <td>White</td>\n",
       "      <td>0</td>\n",
       "      <td>Male</td>\n",
       "      <td>Steve Coogan</td>\n",
       "      <td>1130000.0</td>\n",
       "    </tr>\n",
       "  </tbody>\n",
       "</table>\n",
       "</div>"
      ],
      "text/plain": [
       "                  title                                  site country  \\\n",
       "1      12 Years a Slave  http://www.imdb.com/title/tt2024544/   US/UK   \n",
       "2             127 Hours  http://www.imdb.com/title/tt1542344/   US/UK   \n",
       "4              20 Dates  http://www.imdb.com/title/tt0138987/      US   \n",
       "5                    21  http://www.imdb.com/title/tt0478087/      US   \n",
       "6  24 Hour Party People  http://www.imdb.com/title/tt0274309/      UK   \n",
       "\n",
       "   year_release box_office              director  number_of_subjects  \\\n",
       "1          2013     $56.7M         Steve McQueen                   1   \n",
       "2          2010     $18.3M           Danny Boyle                   1   \n",
       "4          1998      $537K       Myles Berkowitz                   1   \n",
       "5          2008     $81.2M        Robert Luketic                   1   \n",
       "6          2002     $1.13M  Michael Winterbottom                   1   \n",
       "\n",
       "            subject type_of_subject race_known      subject_race  \\\n",
       "1   Solomon Northup           Other      Known  African American   \n",
       "2      Aron Ralston         Athlete    Unknown               NaN   \n",
       "4   Myles Berkowitz           Other    Unknown               NaN   \n",
       "5           Jeff Ma           Other      Known    Asian American   \n",
       "6       Tony Wilson        Musician      Known             White   \n",
       "\n",
       "   person_of_color subject_sex lead_actor_actress  box_office_dollars  \n",
       "1                1        Male   Chiwetel Ejiofor          56700000.0  \n",
       "2                0        Male       James Franco          18300000.0  \n",
       "4                0        Male    Myles Berkowitz            537000.0  \n",
       "5                1        Male       Jim Sturgess          81200000.0  \n",
       "6                0        Male       Steve Coogan           1130000.0  "
      ]
     },
     "execution_count": 73,
     "metadata": {},
     "output_type": "execute_result"
    }
   ],
   "source": [
    "biopics.head()"
   ]
  },
  {
   "cell_type": "markdown",
   "metadata": {},
   "source": [
    "As always, let's take a look at the distribution of our variable:\n"
   ]
  },
  {
   "cell_type": "code",
   "execution_count": 74,
   "metadata": {},
   "outputs": [
    {
     "data": {
      "text/plain": [
       "<seaborn.axisgrid.FacetGrid at 0x2921b5f3d00>"
      ]
     },
     "execution_count": 74,
     "metadata": {},
     "output_type": "execute_result"
    },
    {
     "data": {
      "image/png": "[encoded data removed]",
      "text/plain": [
       "<Figure size 360x360 with 1 Axes>"
      ]
     },
     "metadata": {
      "needs_background": "light"
     },
     "output_type": "display_data"
    }
   ],
   "source": [
    "sns.displot(biopics['box_office_dollars'])"
   ]
  },
  {
   "cell_type": "markdown",
   "metadata": {},
   "source": [
    "Hmmmm.  That doesn't look good (why?) . \n",
    "\n",
    "Let's see if we can make that look a bit more like a normal distribution.  Let's \n",
    "apply a log transform:"
   ]
  },
  {
   "cell_type": "code",
   "execution_count": 75,
   "metadata": {},
   "outputs": [],
   "source": [
    "biopics['log_box_office_dollars'] = np.log(biopics['box_office_dollars'])"
   ]
  },
  {
   "cell_type": "code",
   "execution_count": 76,
   "metadata": {},
   "outputs": [
    {
     "data": {
      "text/html": [
       "<div>\n",
       "<style scoped>\n",
       "    .dataframe tbody tr th:only-of-type {\n",
       "        vertical-align: middle;\n",
       "    }\n",
       "\n",
       "    .dataframe tbody tr th {\n",
       "        vertical-align: top;\n",
       "    }\n",
       "\n",
       "    .dataframe thead th {\n",
       "        text-align: right;\n",
       "    }\n",
       "</style>\n",
       "<table border=\"1\" class=\"dataframe\">\n",
       "  <thead>\n",
       "    <tr style=\"text-align: right;\">\n",
       "      <th></th>\n",
       "      <th>title</th>\n",
       "      <th>site</th>\n",
       "      <th>country</th>\n",
       "      <th>year_release</th>\n",
       "      <th>box_office</th>\n",
       "      <th>director</th>\n",
       "      <th>number_of_subjects</th>\n",
       "      <th>subject</th>\n",
       "      <th>type_of_subject</th>\n",
       "      <th>race_known</th>\n",
       "      <th>subject_race</th>\n",
       "      <th>person_of_color</th>\n",
       "      <th>subject_sex</th>\n",
       "      <th>lead_actor_actress</th>\n",
       "      <th>box_office_dollars</th>\n",
       "      <th>log_box_office_dollars</th>\n",
       "    </tr>\n",
       "  </thead>\n",
       "  <tbody>\n",
       "    <tr>\n",
       "      <th>1</th>\n",
       "      <td>12 Years a Slave</td>\n",
       "      <td>http://www.imdb.com/title/tt2024544/</td>\n",
       "      <td>US/UK</td>\n",
       "      <td>2013</td>\n",
       "      <td>$56.7M</td>\n",
       "      <td>Steve McQueen</td>\n",
       "      <td>1</td>\n",
       "      <td>Solomon Northup</td>\n",
       "      <td>Other</td>\n",
       "      <td>Known</td>\n",
       "      <td>African American</td>\n",
       "      <td>1</td>\n",
       "      <td>Male</td>\n",
       "      <td>Chiwetel Ejiofor</td>\n",
       "      <td>56700000.0</td>\n",
       "      <td>17.853285</td>\n",
       "    </tr>\n",
       "    <tr>\n",
       "      <th>2</th>\n",
       "      <td>127 Hours</td>\n",
       "      <td>http://www.imdb.com/title/tt1542344/</td>\n",
       "      <td>US/UK</td>\n",
       "      <td>2010</td>\n",
       "      <td>$18.3M</td>\n",
       "      <td>Danny Boyle</td>\n",
       "      <td>1</td>\n",
       "      <td>Aron Ralston</td>\n",
       "      <td>Athlete</td>\n",
       "      <td>Unknown</td>\n",
       "      <td>NaN</td>\n",
       "      <td>0</td>\n",
       "      <td>Male</td>\n",
       "      <td>James Franco</td>\n",
       "      <td>18300000.0</td>\n",
       "      <td>16.722412</td>\n",
       "    </tr>\n",
       "    <tr>\n",
       "      <th>4</th>\n",
       "      <td>20 Dates</td>\n",
       "      <td>http://www.imdb.com/title/tt0138987/</td>\n",
       "      <td>US</td>\n",
       "      <td>1998</td>\n",
       "      <td>$537K</td>\n",
       "      <td>Myles Berkowitz</td>\n",
       "      <td>1</td>\n",
       "      <td>Myles Berkowitz</td>\n",
       "      <td>Other</td>\n",
       "      <td>Unknown</td>\n",
       "      <td>NaN</td>\n",
       "      <td>0</td>\n",
       "      <td>Male</td>\n",
       "      <td>Myles Berkowitz</td>\n",
       "      <td>537000.0</td>\n",
       "      <td>13.193753</td>\n",
       "    </tr>\n",
       "    <tr>\n",
       "      <th>5</th>\n",
       "      <td>21</td>\n",
       "      <td>http://www.imdb.com/title/tt0478087/</td>\n",
       "      <td>US</td>\n",
       "      <td>2008</td>\n",
       "      <td>$81.2M</td>\n",
       "      <td>Robert Luketic</td>\n",
       "      <td>1</td>\n",
       "      <td>Jeff Ma</td>\n",
       "      <td>Other</td>\n",
       "      <td>Known</td>\n",
       "      <td>Asian American</td>\n",
       "      <td>1</td>\n",
       "      <td>Male</td>\n",
       "      <td>Jim Sturgess</td>\n",
       "      <td>81200000.0</td>\n",
       "      <td>18.212426</td>\n",
       "    </tr>\n",
       "    <tr>\n",
       "      <th>6</th>\n",
       "      <td>24 Hour Party People</td>\n",
       "      <td>http://www.imdb.com/title/tt0274309/</td>\n",
       "      <td>UK</td>\n",
       "      <td>2002</td>\n",
       "      <td>$1.13M</td>\n",
       "      <td>Michael Winterbottom</td>\n",
       "      <td>1</td>\n",
       "      <td>Tony Wilson</td>\n",
       "      <td>Musician</td>\n",
       "      <td>Known</td>\n",
       "      <td>White</td>\n",
       "      <td>0</td>\n",
       "      <td>Male</td>\n",
       "      <td>Steve Coogan</td>\n",
       "      <td>1130000.0</td>\n",
       "      <td>13.937728</td>\n",
       "    </tr>\n",
       "  </tbody>\n",
       "</table>\n",
       "</div>"
      ],
      "text/plain": [
       "                  title                                  site country  \\\n",
       "1      12 Years a Slave  http://www.imdb.com/title/tt2024544/   US/UK   \n",
       "2             127 Hours  http://www.imdb.com/title/tt1542344/   US/UK   \n",
       "4              20 Dates  http://www.imdb.com/title/tt0138987/      US   \n",
       "5                    21  http://www.imdb.com/title/tt0478087/      US   \n",
       "6  24 Hour Party People  http://www.imdb.com/title/tt0274309/      UK   \n",
       "\n",
       "   year_release box_office              director  number_of_subjects  \\\n",
       "1          2013     $56.7M         Steve McQueen                   1   \n",
       "2          2010     $18.3M           Danny Boyle                   1   \n",
       "4          1998      $537K       Myles Berkowitz                   1   \n",
       "5          2008     $81.2M        Robert Luketic                   1   \n",
       "6          2002     $1.13M  Michael Winterbottom                   1   \n",
       "\n",
       "            subject type_of_subject race_known      subject_race  \\\n",
       "1   Solomon Northup           Other      Known  African American   \n",
       "2      Aron Ralston         Athlete    Unknown               NaN   \n",
       "4   Myles Berkowitz           Other    Unknown               NaN   \n",
       "5           Jeff Ma           Other      Known    Asian American   \n",
       "6       Tony Wilson        Musician      Known             White   \n",
       "\n",
       "   person_of_color subject_sex lead_actor_actress  box_office_dollars  \\\n",
       "1                1        Male   Chiwetel Ejiofor          56700000.0   \n",
       "2                0        Male       James Franco          18300000.0   \n",
       "4                0        Male    Myles Berkowitz            537000.0   \n",
       "5                1        Male       Jim Sturgess          81200000.0   \n",
       "6                0        Male       Steve Coogan           1130000.0   \n",
       "\n",
       "   log_box_office_dollars  \n",
       "1               17.853285  \n",
       "2               16.722412  \n",
       "4               13.193753  \n",
       "5               18.212426  \n",
       "6               13.937728  "
      ]
     },
     "execution_count": 76,
     "metadata": {},
     "output_type": "execute_result"
    }
   ],
   "source": [
    "biopics.head()"
   ]
  },
  {
   "cell_type": "code",
   "execution_count": 77,
   "metadata": {},
   "outputs": [
    {
     "data": {
      "text/plain": [
       "<seaborn.axisgrid.FacetGrid at 0x2921b5e4b80>"
      ]
     },
     "execution_count": 77,
     "metadata": {},
     "output_type": "execute_result"
    },
    {
     "data": {
      "image/png": "[encoded data removed]",
      "text/plain": [
       "<Figure size 360x360 with 1 Axes>"
      ]
     },
     "metadata": {
      "needs_background": "light"
     },
     "output_type": "display_data"
    }
   ],
   "source": [
    "sns.displot(biopics['log_box_office_dollars'])"
   ]
  },
  {
   "cell_type": "markdown",
   "metadata": {},
   "source": [
    "## Q8a: Use a boxplot to look at the relationship of log(box_office_dollars) and whether the subject of the biopic was a person of color or not"
   ]
  },
  {
   "cell_type": "code",
   "execution_count": 78,
   "metadata": {},
   "outputs": [
    {
     "data": {
      "text/plain": [
       "<AxesSubplot:xlabel='person_of_color', ylabel='log_box_office_dollars'>"
      ]
     },
     "execution_count": 78,
     "metadata": {},
     "output_type": "execute_result"
    },
    {
     "data": {
      "image/png": "[encoded data removed]",
      "text/plain": [
       "<Figure size 432x288 with 1 Axes>"
      ]
     },
     "metadata": {
      "needs_background": "light"
     },
     "output_type": "display_data"
    }
   ],
   "source": [
    "sns.boxplot(x='person_of_color', y=\"log_box_office_dollars\",data=biopics)"
   ]
  },
  {
   "cell_type": "markdown",
   "metadata": {},
   "source": [
    "## Q8b: Does it look like there's a difference between the two groups?"
   ]
  },
  {
   "cell_type": "markdown",
   "metadata": {},
   "source": [
    "I think the two groups do not have significant difference. From the plot, we can see that two of them have similar mean value. The blue group has more outliers than the orange group, which leads to the slight difference between them."
   ]
  },
  {
   "cell_type": "markdown",
   "metadata": {},
   "source": [
    "## Q9: Conduct an ANOVA to determine if there are statistically significant differences between the two groups."
   ]
  },
  {
   "cell_type": "code",
   "execution_count": 80,
   "metadata": {},
   "outputs": [
    {
     "data": {
      "text/html": [
       "<table class=\"simpletable\">\n",
       "<caption>OLS Regression Results</caption>\n",
       "<tr>\n",
       "  <th>Dep. Variable:</th>    <td>log_box_office_dollars</td> <th>  R-squared:         </th> <td>   0.009</td>\n",
       "</tr>\n",
       "<tr>\n",
       "  <th>Model:</th>                      <td>OLS</td>          <th>  Adj. R-squared:    </th> <td>   0.007</td>\n",
       "</tr>\n",
       "<tr>\n",
       "  <th>Method:</th>                <td>Least Squares</td>     <th>  F-statistic:       </th> <td>   4.127</td>\n",
       "</tr>\n",
       "<tr>\n",
       "  <th>Date:</th>                <td>Wed, 09 Feb 2022</td>    <th>  Prob (F-statistic):</th>  <td>0.0428</td> \n",
       "</tr>\n",
       "<tr>\n",
       "  <th>Time:</th>                    <td>15:44:38</td>        <th>  Log-Likelihood:    </th> <td> -984.42</td>\n",
       "</tr>\n",
       "<tr>\n",
       "  <th>No. Observations:</th>         <td>   437</td>         <th>  AIC:               </th> <td>   1973.</td>\n",
       "</tr>\n",
       "<tr>\n",
       "  <th>Df Residuals:</th>             <td>   435</td>         <th>  BIC:               </th> <td>   1981.</td>\n",
       "</tr>\n",
       "<tr>\n",
       "  <th>Df Model:</th>                 <td>     1</td>         <th>                     </th>     <td> </td>   \n",
       "</tr>\n",
       "<tr>\n",
       "  <th>Covariance Type:</th>         <td>nonrobust</td>       <th>                     </th>     <td> </td>   \n",
       "</tr>\n",
       "</table>\n",
       "<table class=\"simpletable\">\n",
       "<tr>\n",
       "         <td></td>            <th>coef</th>     <th>std err</th>      <th>t</th>      <th>P>|t|</th>  <th>[0.025</th>    <th>0.975]</th>  \n",
       "</tr>\n",
       "<tr>\n",
       "  <th>Intercept</th>       <td>   15.2572</td> <td>    0.121</td> <td>  125.644</td> <td> 0.000</td> <td>   15.018</td> <td>   15.496</td>\n",
       "</tr>\n",
       "<tr>\n",
       "  <th>person_of_color</th> <td>    0.5915</td> <td>    0.291</td> <td>    2.031</td> <td> 0.043</td> <td>    0.019</td> <td>    1.164</td>\n",
       "</tr>\n",
       "</table>\n",
       "<table class=\"simpletable\">\n",
       "<tr>\n",
       "  <th>Omnibus:</th>       <td>34.714</td> <th>  Durbin-Watson:     </th> <td>   1.793</td>\n",
       "</tr>\n",
       "<tr>\n",
       "  <th>Prob(Omnibus):</th> <td> 0.000</td> <th>  Jarque-Bera (JB):  </th> <td>  41.072</td>\n",
       "</tr>\n",
       "<tr>\n",
       "  <th>Skew:</th>          <td>-0.745</td> <th>  Prob(JB):          </th> <td>1.21e-09</td>\n",
       "</tr>\n",
       "<tr>\n",
       "  <th>Kurtosis:</th>      <td> 3.182</td> <th>  Cond. No.          </th> <td>    2.73</td>\n",
       "</tr>\n",
       "</table><br/><br/>Notes:<br/>[1] Standard Errors assume that the covariance matrix of the errors is correctly specified."
      ],
      "text/plain": [
       "<class 'statsmodels.iolib.summary.Summary'>\n",
       "\"\"\"\n",
       "                              OLS Regression Results                              \n",
       "==================================================================================\n",
       "Dep. Variable:     log_box_office_dollars   R-squared:                       0.009\n",
       "Model:                                OLS   Adj. R-squared:                  0.007\n",
       "Method:                     Least Squares   F-statistic:                     4.127\n",
       "Date:                    Wed, 09 Feb 2022   Prob (F-statistic):             0.0428\n",
       "Time:                            15:44:38   Log-Likelihood:                -984.42\n",
       "No. Observations:                     437   AIC:                             1973.\n",
       "Df Residuals:                         435   BIC:                             1981.\n",
       "Df Model:                               1                                         \n",
       "Covariance Type:                nonrobust                                         \n",
       "===================================================================================\n",
       "                      coef    std err          t      P>|t|      [0.025      0.975]\n",
       "-----------------------------------------------------------------------------------\n",
       "Intercept          15.2572      0.121    125.644      0.000      15.018      15.496\n",
       "person_of_color     0.5915      0.291      2.031      0.043       0.019       1.164\n",
       "==============================================================================\n",
       "Omnibus:                       34.714   Durbin-Watson:                   1.793\n",
       "Prob(Omnibus):                  0.000   Jarque-Bera (JB):               41.072\n",
       "Skew:                          -0.745   Prob(JB):                     1.21e-09\n",
       "Kurtosis:                       3.182   Cond. No.                         2.73\n",
       "==============================================================================\n",
       "\n",
       "Notes:\n",
       "[1] Standard Errors assume that the covariance matrix of the errors is correctly specified.\n",
       "\"\"\""
      ]
     },
     "execution_count": 80,
     "metadata": {},
     "output_type": "execute_result"
    }
   ],
   "source": [
    "smf.ols('log_box_office_dollars~person_of_color', biopics).fit().summary()"
   ]
  },
  {
   "cell_type": "markdown",
   "metadata": {},
   "source": [
    "From the p-value, we can reject the null hypothesis with the alpha value 0.05. I would like to say there are significant differences."
   ]
  },
  {
   "cell_type": "markdown",
   "metadata": {},
   "source": [
    "## The t-test"
   ]
  },
  {
   "cell_type": "markdown",
   "metadata": {},
   "source": [
    "To test of there's a statistically significant difference between two means, we\n",
    "can use the independent sample t-test.  First, load up the right package:"
   ]
  },
  {
   "cell_type": "code",
   "execution_count": 81,
   "metadata": {},
   "outputs": [],
   "source": [
    "from scipy.stats import ttest_ind"
   ]
  },
  {
   "cell_type": "markdown",
   "metadata": {},
   "source": [
    "It's more readable if we split the data into two samples:"
   ]
  },
  {
   "cell_type": "code",
   "execution_count": 82,
   "metadata": {},
   "outputs": [],
   "source": [
    "poc = biopics[biopics[\"person_of_color\"] == 1]\n",
    "not_poc = biopics[biopics[\"person_of_color\" ] == 0]"
   ]
  },
  {
   "cell_type": "code",
   "execution_count": 83,
   "metadata": {},
   "outputs": [
    {
     "data": {
      "text/plain": [
       "Ttest_indResult(statistic=2.0314176362558167, pvalue=0.042820052741479)"
      ]
     },
     "execution_count": 83,
     "metadata": {},
     "output_type": "execute_result"
    }
   ],
   "source": [
    "ttest_ind(poc[\"log_box_office_dollars\"],not_poc[\"log_box_office_dollars\"])"
   ]
  },
  {
   "cell_type": "markdown",
   "metadata": {},
   "source": [
    "\n",
    "## Q10: What does that mean?"
   ]
  },
  {
   "cell_type": "markdown",
   "metadata": {},
   "source": [
    "Also, with the alpha value of 0.05, we can reject the null hypothesis, and say there are significant differences."
   ]
  },
  {
   "cell_type": "markdown",
   "metadata": {},
   "source": [
    "## ANOVA\n",
    "Ok, that's pretty straight-forward.  Let's look at a more complex problem:"
   ]
  },
  {
   "cell_type": "code",
   "execution_count": 84,
   "metadata": {},
   "outputs": [
    {
     "data": {
      "text/plain": [
       "African                        7\n",
       "African American              31\n",
       "Asian                          4\n",
       "Asian American                 3\n",
       "Caribbean                      1\n",
       "Hispanic (Latin American)     10\n",
       "Hispanic (Latina)              1\n",
       "Hispanic (Latino)              4\n",
       "Hispanic (White)               4\n",
       "Indian                         1\n",
       "Mediterranean                  1\n",
       "Middle Eastern                 5\n",
       "Middle Eastern (White)         8\n",
       "Multi racial                  17\n",
       "Native American                2\n",
       "White                        218\n",
       "Name: subject_race, dtype: int64"
      ]
     },
     "execution_count": 84,
     "metadata": {},
     "output_type": "execute_result"
    }
   ],
   "source": [
    "biopics.subject_race.value_counts().sort_index()"
   ]
  },
  {
   "cell_type": "code",
   "execution_count": 86,
   "metadata": {},
   "outputs": [
    {
     "data": {
      "text/plain": [
       "<AxesSubplot:xlabel='subject_race', ylabel='log_box_office_dollars'>"
      ]
     },
     "execution_count": 86,
     "metadata": {},
     "output_type": "execute_result"
    },
    {
     "data": {
      "image/png": "[encoded data removed]",
      "text/plain": [
       "<Figure size 432x288 with 1 Axes>"
      ]
     },
     "metadata": {
      "needs_background": "light"
     },
     "output_type": "display_data"
    }
   ],
   "source": [
    "sns.boxplot(x=\"subject_race\",y=\"log_box_office_dollars\",data=biopics)"
   ]
  },
  {
   "cell_type": "markdown",
   "metadata": {},
   "source": [
    "Without getting too worred about the fact that the axes are unreadable, it looks like\n",
    "there are some differences between the different groups.  But are they real?\n",
    "\n",
    "Let's start with an ANOVA:"
   ]
  },
  {
   "cell_type": "code",
   "execution_count": 87,
   "metadata": {},
   "outputs": [
    {
     "data": {
      "text/html": [
       "<div>\n",
       "<style scoped>\n",
       "    .dataframe tbody tr th:only-of-type {\n",
       "        vertical-align: middle;\n",
       "    }\n",
       "\n",
       "    .dataframe tbody tr th {\n",
       "        vertical-align: top;\n",
       "    }\n",
       "\n",
       "    .dataframe thead th {\n",
       "        text-align: right;\n",
       "    }\n",
       "</style>\n",
       "<table border=\"1\" class=\"dataframe\">\n",
       "  <thead>\n",
       "    <tr style=\"text-align: right;\">\n",
       "      <th></th>\n",
       "      <th>sum_sq</th>\n",
       "      <th>df</th>\n",
       "      <th>F</th>\n",
       "      <th>PR(&gt;F)</th>\n",
       "    </tr>\n",
       "  </thead>\n",
       "  <tbody>\n",
       "    <tr>\n",
       "      <th>subject_race</th>\n",
       "      <td>182.728250</td>\n",
       "      <td>15.0</td>\n",
       "      <td>2.566995</td>\n",
       "      <td>0.001263</td>\n",
       "    </tr>\n",
       "    <tr>\n",
       "      <th>Residual</th>\n",
       "      <td>1428.419809</td>\n",
       "      <td>301.0</td>\n",
       "      <td>NaN</td>\n",
       "      <td>NaN</td>\n",
       "    </tr>\n",
       "  </tbody>\n",
       "</table>\n",
       "</div>"
      ],
      "text/plain": [
       "                   sum_sq     df         F    PR(>F)\n",
       "subject_race   182.728250   15.0  2.566995  0.001263\n",
       "Residual      1428.419809  301.0       NaN       NaN"
      ]
     },
     "execution_count": 87,
     "metadata": {},
     "output_type": "execute_result"
    }
   ],
   "source": [
    "box_office_dollars_lm = ols('log_box_office_dollars ~ subject_race', data=biopics).fit()\n",
    "table = sm.stats.anova_lm(box_office_dollars_lm, typ=2) # Type 2 ANOVA DataFrame: no interaction effect\n",
    "table"
   ]
  },
  {
   "cell_type": "code",
   "execution_count": 88,
   "metadata": {},
   "outputs": [
    {
     "name": "stdout",
     "output_type": "stream",
     "text": [
      "                              OLS Regression Results                              \n",
      "==================================================================================\n",
      "Dep. Variable:     log_box_office_dollars   R-squared:                       0.113\n",
      "Model:                                OLS   Adj. R-squared:                  0.069\n",
      "Method:                     Least Squares   F-statistic:                     2.567\n",
      "Date:                    Wed, 09 Feb 2022   Prob (F-statistic):            0.00126\n",
      "Time:                            15:51:53   Log-Likelihood:                -688.41\n",
      "No. Observations:                     317   AIC:                             1409.\n",
      "Df Residuals:                         301   BIC:                             1469.\n",
      "Df Model:                              15                                         \n",
      "Covariance Type:                nonrobust                                         \n",
      "=============================================================================================================\n",
      "                                                coef    std err          t      P>|t|      [0.025      0.975]\n",
      "-------------------------------------------------------------------------------------------------------------\n",
      "Intercept                                    14.9040      0.823     18.101      0.000      13.284      16.524\n",
      "subject_race[T.African American]              1.9884      0.912      2.181      0.030       0.194       3.782\n",
      "subject_race[T.Asian]                        -1.0387      1.365     -0.761      0.447      -3.726       1.648\n",
      "subject_race[T.Asian American]                2.1526      1.503      1.432      0.153      -0.806       5.111\n",
      "subject_race[T.Caribbean]                     2.5170      2.329      1.081      0.281      -2.066       7.100\n",
      "subject_race[T.Hispanic (Latin American)]     0.4535      1.074      0.422      0.673      -1.659       2.566\n",
      "subject_race[T.Hispanic (Latina)]             2.4782      2.329      1.064      0.288      -2.105       7.061\n",
      "subject_race[T.Hispanic (Latino)]             1.5807      1.365      1.158      0.248      -1.106       4.268\n",
      "subject_race[T.Hispanic (White)]             -0.4918      1.365     -0.360      0.719      -3.179       2.195\n",
      "subject_race[T.Indian]                       -2.0048      2.329     -0.861      0.390      -6.588       2.578\n",
      "subject_race[T.Mediterranean]                -1.8960      2.329     -0.814      0.416      -6.479       2.687\n",
      "subject_race[T.Middle Eastern]               -0.5770      1.276     -0.452      0.651      -3.087       1.933\n",
      "subject_race[T.Middle Eastern (White)]        2.4058      1.127      2.134      0.034       0.187       4.624\n",
      "subject_race[T.Multi racial]                 -0.6743      0.978     -0.689      0.491      -2.600       1.251\n",
      "subject_race[T.Native American]               0.7853      1.747      0.450      0.653      -2.652       4.222\n",
      "subject_race[T.White]                         0.3095      0.836      0.370      0.712      -1.337       1.956\n",
      "==============================================================================\n",
      "Omnibus:                       34.832   Durbin-Watson:                   1.861\n",
      "Prob(Omnibus):                  0.000   Jarque-Bera (JB):               43.396\n",
      "Skew:                          -0.829   Prob(JB):                     3.77e-10\n",
      "Kurtosis:                       3.734   Cond. No.                         36.7\n",
      "==============================================================================\n",
      "\n",
      "Notes:\n",
      "[1] Standard Errors assume that the covariance matrix of the errors is correctly specified.\n"
     ]
    }
   ],
   "source": [
    "res = smf.ols('log_box_office_dollars ~ subject_race',biopics).fit()\n",
    "print(res.summary())"
   ]
  },
  {
   "cell_type": "markdown",
   "metadata": {},
   "source": [
    "### Q11: Is there a statistically significant difference?"
   ]
  },
  {
   "cell_type": "markdown",
   "metadata": {},
   "source": [
    "From the p-value of the ANOVA model, I would say we cannot reject the null hypothesis of 0.05, which means there are significant differences between the races."
   ]
  },
  {
   "cell_type": "markdown",
   "metadata": {},
   "source": [
    "Let's apply Tukey's HSD using the same model and see what we get."
   ]
  },
  {
   "cell_type": "markdown",
   "metadata": {},
   "source": [
    "### Q12: Write code to use Tukey's HSD test on the subject_race variable and interpret the results."
   ]
  },
  {
   "cell_type": "code",
   "execution_count": 89,
   "metadata": {},
   "outputs": [],
   "source": [
    "biopics = biopics.dropna(subset=['subject_race'])"
   ]
  },
  {
   "cell_type": "code",
   "execution_count": 100,
   "metadata": {},
   "outputs": [
    {
     "data": {
      "text/html": [
       "<table class=\"simpletable\">\n",
       "<caption>Multiple Comparison of Means - Tukey HSD, FWER=0.05</caption>\n",
       "<tr>\n",
       "           <th>group1</th>                    <th>group2</th>           <th>meandiff</th>  <th>p-adj</th>   <th>lower</th>   <th>upper</th>  <th>reject</th>\n",
       "</tr>\n",
       "<tr>\n",
       "           <td>African</td>              <td>African American</td>       <td>1.9884</td>  <td>0.6818</td>  <td>-1.1618</td> <td>5.1385</td>   <td>False</td>\n",
       "</tr>\n",
       "<tr>\n",
       "           <td>African</td>                    <td>Asian</td>            <td>-1.0387</td>   <td>0.9</td>   <td>-5.757</td>  <td>3.6796</td>   <td>False</td>\n",
       "</tr>\n",
       "<tr>\n",
       "           <td>African</td>               <td>Asian American</td>        <td>2.1526</td>    <td>0.9</td>   <td>-3.0421</td> <td>7.3472</td>   <td>False</td>\n",
       "</tr>\n",
       "<tr>\n",
       "           <td>African</td>                  <td>Caribbean</td>           <td>2.517</td>    <td>0.9</td>   <td>-5.5306</td> <td>10.5645</td>  <td>False</td>\n",
       "</tr>\n",
       "<tr>\n",
       "           <td>African</td>          <td>Hispanic (Latin American)</td>  <td>0.4535</td>    <td>0.9</td>   <td>-3.2562</td> <td>4.1632</td>   <td>False</td>\n",
       "</tr>\n",
       "<tr>\n",
       "           <td>African</td>              <td>Hispanic (Latina)</td>      <td>2.4782</td>    <td>0.9</td>   <td>-5.5694</td> <td>10.5257</td>  <td>False</td>\n",
       "</tr>\n",
       "<tr>\n",
       "           <td>African</td>              <td>Hispanic (Latino)</td>      <td>1.5807</td>    <td>0.9</td>   <td>-3.1376</td>  <td>6.299</td>   <td>False</td>\n",
       "</tr>\n",
       "<tr>\n",
       "           <td>African</td>              <td>Hispanic (White)</td>       <td>-0.4918</td>   <td>0.9</td>   <td>-5.2101</td> <td>4.2265</td>   <td>False</td>\n",
       "</tr>\n",
       "<tr>\n",
       "           <td>African</td>                   <td>Indian</td>            <td>-2.0048</td>   <td>0.9</td>  <td>-10.0524</td> <td>6.0427</td>   <td>False</td>\n",
       "</tr>\n",
       "<tr>\n",
       "           <td>African</td>                <td>Mediterranean</td>        <td>-1.896</td>    <td>0.9</td>   <td>-9.9435</td> <td>6.1516</td>   <td>False</td>\n",
       "</tr>\n",
       "<tr>\n",
       "           <td>African</td>               <td>Middle Eastern</td>        <td>-0.577</td>    <td>0.9</td>   <td>-4.9848</td> <td>3.8308</td>   <td>False</td>\n",
       "</tr>\n",
       "<tr>\n",
       "           <td>African</td>           <td>Middle Eastern (White)</td>    <td>2.4058</td>  <td>0.7121</td>  <td>-1.4902</td> <td>6.3018</td>   <td>False</td>\n",
       "</tr>\n",
       "<tr>\n",
       "           <td>African</td>                <td>Multi racial</td>         <td>-0.6743</td>   <td>0.9</td>   <td>-4.0549</td> <td>2.7063</td>   <td>False</td>\n",
       "</tr>\n",
       "<tr>\n",
       "           <td>African</td>               <td>Native American</td>       <td>0.7853</td>    <td>0.9</td>   <td>-5.2504</td> <td>6.8209</td>   <td>False</td>\n",
       "</tr>\n",
       "<tr>\n",
       "           <td>African</td>                    <td>White</td>            <td>0.3095</td>    <td>0.9</td>   <td>-2.5811</td>   <td>3.2</td>    <td>False</td>\n",
       "</tr>\n",
       "<tr>\n",
       "      <td>African American</td>                <td>Asian</td>            <td>-3.0271</td> <td>0.3957</td>  <td>-7.0264</td> <td>0.9723</td>   <td>False</td>\n",
       "</tr>\n",
       "<tr>\n",
       "      <td>African American</td>           <td>Asian American</td>        <td>0.1642</td>    <td>0.9</td>   <td>-4.3874</td> <td>4.7158</td>   <td>False</td>\n",
       "</tr>\n",
       "<tr>\n",
       "      <td>African American</td>              <td>Caribbean</td>          <td>0.5286</td>    <td>0.9</td>   <td>-7.1196</td> <td>8.1768</td>   <td>False</td>\n",
       "</tr>\n",
       "<tr>\n",
       "      <td>African American</td>      <td>Hispanic (Latin American)</td>  <td>-1.5349</td> <td>0.8375</td>  <td>-4.2725</td> <td>1.2028</td>   <td>False</td>\n",
       "</tr>\n",
       "<tr>\n",
       "      <td>African American</td>          <td>Hispanic (Latina)</td>      <td>0.4898</td>    <td>0.9</td>   <td>-7.1584</td>  <td>8.138</td>   <td>False</td>\n",
       "</tr>\n",
       "<tr>\n",
       "      <td>African American</td>          <td>Hispanic (Latino)</td>      <td>-0.4077</td>   <td>0.9</td>   <td>-4.407</td>  <td>3.5917</td>   <td>False</td>\n",
       "</tr>\n",
       "<tr>\n",
       "      <td>African American</td>          <td>Hispanic (White)</td>       <td>-2.4801</td> <td>0.7063</td>  <td>-6.4795</td> <td>1.5192</td>   <td>False</td>\n",
       "</tr>\n",
       "<tr>\n",
       "      <td>African American</td>               <td>Indian</td>            <td>-3.9932</td>   <td>0.9</td>  <td>-11.6414</td>  <td>3.655</td>   <td>False</td>\n",
       "</tr>\n",
       "<tr>\n",
       "      <td>African American</td>            <td>Mediterranean</td>        <td>-3.8843</td>   <td>0.9</td>  <td>-11.5326</td> <td>3.7639</td>   <td>False</td>\n",
       "</tr>\n",
       "<tr>\n",
       "      <td>African American</td>           <td>Middle Eastern</td>        <td>-2.5654</td> <td>0.5143</td>  <td>-6.1933</td> <td>1.0625</td>   <td>False</td>\n",
       "</tr>\n",
       "<tr>\n",
       "      <td>African American</td>       <td>Middle Eastern (White)</td>    <td>0.4174</td>    <td>0.9</td>   <td>-2.5678</td> <td>3.4026</td>   <td>False</td>\n",
       "</tr>\n",
       "<tr>\n",
       "      <td>African American</td>            <td>Multi racial</td>         <td>-2.6627</td> <td>0.0064</td>  <td>-4.9345</td> <td>-0.3908</td>  <td>True</td> \n",
       "</tr>\n",
       "<tr>\n",
       "      <td>African American</td>           <td>Native American</td>       <td>-1.2031</td>   <td>0.9</td>   <td>-6.6951</td> <td>4.2889</td>   <td>False</td>\n",
       "</tr>\n",
       "<tr>\n",
       "      <td>African American</td>                <td>White</td>            <td>-1.6789</td> <td>0.0073</td>  <td>-3.1239</td> <td>-0.2339</td>  <td>True</td> \n",
       "</tr>\n",
       "<tr>\n",
       "            <td>Asian</td>                <td>Asian American</td>        <td>3.1913</td>  <td>0.8499</td>  <td>-2.5582</td> <td>8.9407</td>   <td>False</td>\n",
       "</tr>\n",
       "<tr>\n",
       "            <td>Asian</td>                   <td>Caribbean</td>          <td>3.5557</td>    <td>0.9</td>   <td>-4.8606</td> <td>11.972</td>   <td>False</td>\n",
       "</tr>\n",
       "<tr>\n",
       "            <td>Asian</td>           <td>Hispanic (Latin American)</td>  <td>1.4922</td>    <td>0.9</td>   <td>-2.9613</td> <td>5.9457</td>   <td>False</td>\n",
       "</tr>\n",
       "<tr>\n",
       "            <td>Asian</td>               <td>Hispanic (Latina)</td>      <td>3.5169</td>    <td>0.9</td>   <td>-4.8994</td> <td>11.9332</td>  <td>False</td>\n",
       "</tr>\n",
       "<tr>\n",
       "            <td>Asian</td>               <td>Hispanic (Latino)</td>      <td>2.6194</td>    <td>0.9</td>   <td>-2.7035</td> <td>7.9423</td>   <td>False</td>\n",
       "</tr>\n",
       "<tr>\n",
       "            <td>Asian</td>               <td>Hispanic (White)</td>       <td>0.5469</td>    <td>0.9</td>   <td>-4.776</td>  <td>5.8699</td>   <td>False</td>\n",
       "</tr>\n",
       "<tr>\n",
       "            <td>Asian</td>                    <td>Indian</td>            <td>-0.9661</td>   <td>0.9</td>   <td>-9.3824</td> <td>7.4502</td>   <td>False</td>\n",
       "</tr>\n",
       "<tr>\n",
       "            <td>Asian</td>                 <td>Mediterranean</td>        <td>-0.8573</td>   <td>0.9</td>   <td>-9.2736</td>  <td>7.559</td>   <td>False</td>\n",
       "</tr>\n",
       "<tr>\n",
       "            <td>Asian</td>                <td>Middle Eastern</td>        <td>0.4617</td>    <td>0.9</td>   <td>-4.5881</td> <td>5.5114</td>   <td>False</td>\n",
       "</tr>\n",
       "<tr>\n",
       "            <td>Asian</td>            <td>Middle Eastern (White)</td>    <td>3.4445</td>  <td>0.4199</td>  <td>-1.1653</td> <td>8.0543</td>   <td>False</td>\n",
       "</tr>\n",
       "<tr>\n",
       "            <td>Asian</td>                 <td>Multi racial</td>         <td>0.3644</td>    <td>0.9</td>   <td>-3.8189</td> <td>4.5477</td>   <td>False</td>\n",
       "</tr>\n",
       "<tr>\n",
       "            <td>Asian</td>                <td>Native American</td>       <td>1.8239</td>    <td>0.9</td>   <td>-4.6953</td> <td>8.3432</td>   <td>False</td>\n",
       "</tr>\n",
       "<tr>\n",
       "            <td>Asian</td>                     <td>White</td>            <td>1.3481</td>    <td>0.9</td>   <td>-2.4501</td> <td>5.1464</td>   <td>False</td>\n",
       "</tr>\n",
       "<tr>\n",
       "       <td>Asian American</td>               <td>Caribbean</td>          <td>0.3644</td>    <td>0.9</td>   <td>-8.3279</td> <td>9.0567</td>   <td>False</td>\n",
       "</tr>\n",
       "<tr>\n",
       "       <td>Asian American</td>       <td>Hispanic (Latin American)</td>  <td>-1.699</td>    <td>0.9</td>   <td>-6.6544</td> <td>3.2563</td>   <td>False</td>\n",
       "</tr>\n",
       "<tr>\n",
       "       <td>Asian American</td>           <td>Hispanic (Latina)</td>      <td>0.3256</td>    <td>0.9</td>   <td>-8.3667</td> <td>9.0179</td>   <td>False</td>\n",
       "</tr>\n",
       "<tr>\n",
       "       <td>Asian American</td>           <td>Hispanic (Latino)</td>      <td>-0.5718</td>   <td>0.9</td>   <td>-6.3213</td> <td>5.1776</td>   <td>False</td>\n",
       "</tr>\n",
       "<tr>\n",
       "       <td>Asian American</td>           <td>Hispanic (White)</td>       <td>-2.6443</td>   <td>0.9</td>   <td>-8.3938</td> <td>3.1051</td>   <td>False</td>\n",
       "</tr>\n",
       "<tr>\n",
       "       <td>Asian American</td>                <td>Indian</td>            <td>-4.1574</td>   <td>0.9</td>  <td>-12.8497</td> <td>4.5349</td>   <td>False</td>\n",
       "</tr>\n",
       "<tr>\n",
       "       <td>Asian American</td>             <td>Mediterranean</td>        <td>-4.0485</td>   <td>0.9</td>  <td>-12.7408</td> <td>4.6438</td>   <td>False</td>\n",
       "</tr>\n",
       "<tr>\n",
       "       <td>Asian American</td>            <td>Middle Eastern</td>        <td>-2.7296</td>   <td>0.9</td>   <td>-8.2271</td> <td>2.7679</td>   <td>False</td>\n",
       "</tr>\n",
       "<tr>\n",
       "       <td>Asian American</td>        <td>Middle Eastern (White)</td>    <td>0.2532</td>    <td>0.9</td>   <td>-4.8431</td> <td>5.3495</td>   <td>False</td>\n",
       "</tr>\n",
       "<tr>\n",
       "       <td>Asian American</td>             <td>Multi racial</td>         <td>-2.8269</td> <td>0.7514</td>  <td>-7.5409</td> <td>1.8872</td>   <td>False</td>\n",
       "</tr>\n",
       "<tr>\n",
       "       <td>Asian American</td>            <td>Native American</td>       <td>-1.3673</td>   <td>0.9</td>   <td>-8.2392</td> <td>5.5046</td>   <td>False</td>\n",
       "</tr>\n",
       "<tr>\n",
       "       <td>Asian American</td>                 <td>White</td>            <td>-1.8431</td>   <td>0.9</td>   <td>-6.2191</td> <td>2.5329</td>   <td>False</td>\n",
       "</tr>\n",
       "<tr>\n",
       "          <td>Caribbean</td>         <td>Hispanic (Latin American)</td>  <td>-2.0635</td>   <td>0.9</td>   <td>-9.9587</td> <td>5.8317</td>   <td>False</td>\n",
       "</tr>\n",
       "<tr>\n",
       "          <td>Caribbean</td>             <td>Hispanic (Latina)</td>      <td>-0.0388</td>   <td>0.9</td>  <td>-10.6847</td> <td>10.6071</td>  <td>False</td>\n",
       "</tr>\n",
       "<tr>\n",
       "          <td>Caribbean</td>             <td>Hispanic (Latino)</td>      <td>-0.9363</td>   <td>0.9</td>   <td>-9.3526</td> <td>7.4801</td>   <td>False</td>\n",
       "</tr>\n",
       "<tr>\n",
       "          <td>Caribbean</td>             <td>Hispanic (White)</td>       <td>-3.0087</td>   <td>0.9</td>  <td>-11.4251</td> <td>5.4076</td>   <td>False</td>\n",
       "</tr>\n",
       "<tr>\n",
       "          <td>Caribbean</td>                  <td>Indian</td>            <td>-4.5218</td>   <td>0.9</td>  <td>-15.1677</td> <td>6.1241</td>   <td>False</td>\n",
       "</tr>\n",
       "<tr>\n",
       "          <td>Caribbean</td>               <td>Mediterranean</td>        <td>-4.4129</td>   <td>0.9</td>  <td>-15.0588</td> <td>6.2329</td>   <td>False</td>\n",
       "</tr>\n",
       "<tr>\n",
       "          <td>Caribbean</td>              <td>Middle Eastern</td>        <td>-3.094</td>    <td>0.9</td>  <td>-11.3403</td> <td>5.1523</td>   <td>False</td>\n",
       "</tr>\n",
       "<tr>\n",
       "          <td>Caribbean</td>          <td>Middle Eastern (White)</td>    <td>-0.1112</td>   <td>0.9</td>   <td>-8.0956</td> <td>7.8732</td>   <td>False</td>\n",
       "</tr>\n",
       "<tr>\n",
       "          <td>Caribbean</td>               <td>Multi racial</td>         <td>-3.1913</td>   <td>0.9</td>  <td>-10.9373</td> <td>4.5547</td>   <td>False</td>\n",
       "</tr>\n",
       "<tr>\n",
       "          <td>Caribbean</td>              <td>Native American</td>       <td>-1.7317</td>   <td>0.9</td>  <td>-10.9513</td> <td>7.4879</td>   <td>False</td>\n",
       "</tr>\n",
       "<tr>\n",
       "          <td>Caribbean</td>                   <td>White</td>            <td>-2.2075</td>   <td>0.9</td>   <td>-9.7525</td> <td>5.3375</td>   <td>False</td>\n",
       "</tr>\n",
       "<tr>\n",
       "  <td>Hispanic (Latin American)</td>     <td>Hispanic (Latina)</td>      <td>2.0247</td>    <td>0.9</td>   <td>-5.8705</td> <td>9.9199</td>   <td>False</td>\n",
       "</tr>\n",
       "<tr>\n",
       "  <td>Hispanic (Latin American)</td>     <td>Hispanic (Latino)</td>      <td>1.1272</td>    <td>0.9</td>   <td>-3.3263</td> <td>5.5807</td>   <td>False</td>\n",
       "</tr>\n",
       "<tr>\n",
       "  <td>Hispanic (Latin American)</td>     <td>Hispanic (White)</td>       <td>-0.9453</td>   <td>0.9</td>   <td>-5.3988</td> <td>3.5082</td>   <td>False</td>\n",
       "</tr>\n",
       "<tr>\n",
       "  <td>Hispanic (Latin American)</td>          <td>Indian</td>            <td>-2.4583</td>   <td>0.9</td>  <td>-10.3535</td> <td>5.4369</td>   <td>False</td>\n",
       "</tr>\n",
       "<tr>\n",
       "  <td>Hispanic (Latin American)</td>       <td>Mediterranean</td>        <td>-2.3495</td>   <td>0.9</td>  <td>-10.2447</td> <td>5.5457</td>   <td>False</td>\n",
       "</tr>\n",
       "<tr>\n",
       "  <td>Hispanic (Latin American)</td>      <td>Middle Eastern</td>        <td>-1.0305</td>   <td>0.9</td>   <td>-5.1537</td> <td>3.0926</td>   <td>False</td>\n",
       "</tr>\n",
       "<tr>\n",
       "  <td>Hispanic (Latin American)</td>  <td>Middle Eastern (White)</td>    <td>1.9523</td>  <td>0.8682</td>  <td>-1.6185</td>  <td>5.523</td>   <td>False</td>\n",
       "</tr>\n",
       "<tr>\n",
       "  <td>Hispanic (Latin American)</td>       <td>Multi racial</td>         <td>-1.1278</td>   <td>0.9</td>   <td>-4.1278</td> <td>1.8722</td>   <td>False</td>\n",
       "</tr>\n",
       "<tr>\n",
       "  <td>Hispanic (Latin American)</td>      <td>Native American</td>       <td>0.3317</td>    <td>0.9</td>   <td>-5.4992</td> <td>6.1627</td>   <td>False</td>\n",
       "</tr>\n",
       "<tr>\n",
       "  <td>Hispanic (Latin American)</td>           <td>White</td>            <td>-0.1441</td>   <td>0.9</td>   <td>-2.5785</td> <td>2.2904</td>   <td>False</td>\n",
       "</tr>\n",
       "<tr>\n",
       "      <td>Hispanic (Latina)</td>         <td>Hispanic (Latino)</td>      <td>-0.8975</td>   <td>0.9</td>   <td>-9.3138</td> <td>7.5188</td>   <td>False</td>\n",
       "</tr>\n",
       "<tr>\n",
       "      <td>Hispanic (Latina)</td>         <td>Hispanic (White)</td>        <td>-2.97</td>    <td>0.9</td>  <td>-11.3863</td> <td>5.4463</td>   <td>False</td>\n",
       "</tr>\n",
       "<tr>\n",
       "      <td>Hispanic (Latina)</td>              <td>Indian</td>            <td>-4.483</td>    <td>0.9</td>  <td>-15.1289</td> <td>6.1629</td>   <td>False</td>\n",
       "</tr>\n",
       "<tr>\n",
       "      <td>Hispanic (Latina)</td>           <td>Mediterranean</td>        <td>-4.3741</td>   <td>0.9</td>   <td>-15.02</td>  <td>6.2717</td>   <td>False</td>\n",
       "</tr>\n",
       "<tr>\n",
       "      <td>Hispanic (Latina)</td>          <td>Middle Eastern</td>        <td>-3.0552</td>   <td>0.9</td>  <td>-11.3015</td> <td>5.1911</td>   <td>False</td>\n",
       "</tr>\n",
       "<tr>\n",
       "      <td>Hispanic (Latina)</td>      <td>Middle Eastern (White)</td>    <td>-0.0724</td>   <td>0.9</td>   <td>-8.0568</td>  <td>7.912</td>   <td>False</td>\n",
       "</tr>\n",
       "<tr>\n",
       "      <td>Hispanic (Latina)</td>           <td>Multi racial</td>         <td>-3.1525</td>   <td>0.9</td>  <td>-10.8985</td> <td>4.5935</td>   <td>False</td>\n",
       "</tr>\n",
       "<tr>\n",
       "      <td>Hispanic (Latina)</td>          <td>Native American</td>       <td>-1.6929</td>   <td>0.9</td>  <td>-10.9125</td> <td>7.5267</td>   <td>False</td>\n",
       "</tr>\n",
       "<tr>\n",
       "      <td>Hispanic (Latina)</td>               <td>White</td>            <td>-2.1687</td>   <td>0.9</td>   <td>-9.7137</td> <td>5.3763</td>   <td>False</td>\n",
       "</tr>\n",
       "<tr>\n",
       "      <td>Hispanic (Latino)</td>         <td>Hispanic (White)</td>       <td>-2.0725</td>   <td>0.9</td>   <td>-7.3954</td> <td>3.2504</td>   <td>False</td>\n",
       "</tr>\n",
       "<tr>\n",
       "      <td>Hispanic (Latino)</td>              <td>Indian</td>            <td>-3.5855</td>   <td>0.9</td>  <td>-12.0018</td> <td>4.8308</td>   <td>False</td>\n",
       "</tr>\n",
       "<tr>\n",
       "      <td>Hispanic (Latino)</td>           <td>Mediterranean</td>        <td>-3.4767</td>   <td>0.9</td>   <td>-11.893</td> <td>4.9396</td>   <td>False</td>\n",
       "</tr>\n",
       "<tr>\n",
       "      <td>Hispanic (Latino)</td>          <td>Middle Eastern</td>        <td>-2.1577</td>   <td>0.9</td>   <td>-7.2075</td>  <td>2.892</td>   <td>False</td>\n",
       "</tr>\n",
       "<tr>\n",
       "      <td>Hispanic (Latino)</td>      <td>Middle Eastern (White)</td>     <td>0.825</td>    <td>0.9</td>   <td>-3.7848</td> <td>5.4348</td>   <td>False</td>\n",
       "</tr>\n",
       "<tr>\n",
       "      <td>Hispanic (Latino)</td>           <td>Multi racial</td>         <td>-2.255</td>  <td>0.8852</td>  <td>-6.4383</td> <td>1.9283</td>   <td>False</td>\n",
       "</tr>\n",
       "<tr>\n",
       "      <td>Hispanic (Latino)</td>          <td>Native American</td>       <td>-0.7955</td>   <td>0.9</td>   <td>-7.3147</td> <td>5.7238</td>   <td>False</td>\n",
       "</tr>\n",
       "<tr>\n",
       "      <td>Hispanic (Latino)</td>               <td>White</td>            <td>-1.2713</td>   <td>0.9</td>   <td>-5.0695</td>  <td>2.527</td>   <td>False</td>\n",
       "</tr>\n",
       "<tr>\n",
       "      <td>Hispanic (White)</td>               <td>Indian</td>            <td>-1.513</td>    <td>0.9</td>   <td>-9.9294</td> <td>6.9033</td>   <td>False</td>\n",
       "</tr>\n",
       "<tr>\n",
       "      <td>Hispanic (White)</td>            <td>Mediterranean</td>        <td>-1.4042</td>   <td>0.9</td>   <td>-9.8205</td> <td>7.0121</td>   <td>False</td>\n",
       "</tr>\n",
       "<tr>\n",
       "      <td>Hispanic (White)</td>           <td>Middle Eastern</td>        <td>-0.0853</td>   <td>0.9</td>   <td>-5.135</td>  <td>4.9645</td>   <td>False</td>\n",
       "</tr>\n",
       "<tr>\n",
       "      <td>Hispanic (White)</td>       <td>Middle Eastern (White)</td>    <td>2.8975</td>  <td>0.6877</td>  <td>-1.7123</td> <td>7.5073</td>   <td>False</td>\n",
       "</tr>\n",
       "<tr>\n",
       "      <td>Hispanic (White)</td>            <td>Multi racial</td>         <td>-0.1825</td>   <td>0.9</td>   <td>-4.3659</td> <td>4.0008</td>   <td>False</td>\n",
       "</tr>\n",
       "<tr>\n",
       "      <td>Hispanic (White)</td>           <td>Native American</td>        <td>1.277</td>    <td>0.9</td>   <td>-5.2422</td> <td>7.7963</td>   <td>False</td>\n",
       "</tr>\n",
       "<tr>\n",
       "      <td>Hispanic (White)</td>                <td>White</td>            <td>0.8012</td>    <td>0.9</td>   <td>-2.997</td>  <td>4.5995</td>   <td>False</td>\n",
       "</tr>\n",
       "<tr>\n",
       "           <td>Indian</td>                 <td>Mediterranean</td>        <td>0.1089</td>    <td>0.9</td>   <td>-10.537</td> <td>10.7547</td>  <td>False</td>\n",
       "</tr>\n",
       "<tr>\n",
       "           <td>Indian</td>                <td>Middle Eastern</td>        <td>1.4278</td>    <td>0.9</td>   <td>-6.8185</td> <td>9.6741</td>   <td>False</td>\n",
       "</tr>\n",
       "<tr>\n",
       "           <td>Indian</td>            <td>Middle Eastern (White)</td>    <td>4.4106</td>  <td>0.8557</td>  <td>-3.5738</td> <td>12.395</td>   <td>False</td>\n",
       "</tr>\n",
       "<tr>\n",
       "           <td>Indian</td>                 <td>Multi racial</td>         <td>1.3305</td>    <td>0.9</td>   <td>-6.4155</td> <td>9.0765</td>   <td>False</td>\n",
       "</tr>\n",
       "<tr>\n",
       "           <td>Indian</td>                <td>Native American</td>       <td>2.7901</td>    <td>0.9</td>   <td>-6.4295</td> <td>12.0097</td>  <td>False</td>\n",
       "</tr>\n",
       "<tr>\n",
       "           <td>Indian</td>                     <td>White</td>            <td>2.3143</td>    <td>0.9</td>   <td>-5.2307</td> <td>9.8593</td>   <td>False</td>\n",
       "</tr>\n",
       "<tr>\n",
       "        <td>Mediterranean</td>            <td>Middle Eastern</td>        <td>1.3189</td>    <td>0.9</td>   <td>-6.9273</td> <td>9.5652</td>   <td>False</td>\n",
       "</tr>\n",
       "<tr>\n",
       "        <td>Mediterranean</td>        <td>Middle Eastern (White)</td>    <td>4.3017</td>  <td>0.8858</td>  <td>-3.6827</td> <td>12.2861</td>  <td>False</td>\n",
       "</tr>\n",
       "<tr>\n",
       "        <td>Mediterranean</td>             <td>Multi racial</td>         <td>1.2217</td>    <td>0.9</td>   <td>-6.5244</td> <td>8.9677</td>   <td>False</td>\n",
       "</tr>\n",
       "<tr>\n",
       "        <td>Mediterranean</td>            <td>Native American</td>       <td>2.6812</td>    <td>0.9</td>   <td>-6.5384</td> <td>11.9008</td>  <td>False</td>\n",
       "</tr>\n",
       "<tr>\n",
       "        <td>Mediterranean</td>                 <td>White</td>            <td>2.2054</td>    <td>0.9</td>   <td>-5.3396</td> <td>9.7504</td>   <td>False</td>\n",
       "</tr>\n",
       "<tr>\n",
       "       <td>Middle Eastern</td>        <td>Middle Eastern (White)</td>    <td>2.9828</td>   <td>0.541</td>  <td>-1.3087</td> <td>7.2743</td>   <td>False</td>\n",
       "</tr>\n",
       "<tr>\n",
       "       <td>Middle Eastern</td>             <td>Multi racial</td>         <td>-0.0973</td>   <td>0.9</td>   <td>-3.927</td>  <td>3.7325</td>   <td>False</td>\n",
       "</tr>\n",
       "<tr>\n",
       "       <td>Middle Eastern</td>            <td>Native American</td>       <td>1.3623</td>    <td>0.9</td>   <td>-4.9359</td> <td>7.6605</td>   <td>False</td>\n",
       "</tr>\n",
       "<tr>\n",
       "       <td>Middle Eastern</td>                 <td>White</td>            <td>0.8865</td>    <td>0.9</td>   <td>-2.5184</td> <td>4.2914</td>   <td>False</td>\n",
       "</tr>\n",
       "<tr>\n",
       "   <td>Middle Eastern (White)</td>         <td>Multi racial</td>         <td>-3.0801</td> <td>0.0805</td>  <td>-6.3076</td> <td>0.1474</td>   <td>False</td>\n",
       "</tr>\n",
       "<tr>\n",
       "   <td>Middle Eastern (White)</td>        <td>Native American</td>       <td>-1.6205</td>   <td>0.9</td>   <td>-7.5717</td> <td>4.3307</td>   <td>False</td>\n",
       "</tr>\n",
       "<tr>\n",
       "   <td>Middle Eastern (White)</td>             <td>White</td>            <td>-2.0963</td> <td>0.3547</td>  <td>-4.8062</td> <td>0.6136</td>   <td>False</td>\n",
       "</tr>\n",
       "<tr>\n",
       "        <td>Multi racial</td>             <td>Native American</td>       <td>1.4596</td>    <td>0.9</td>   <td>-4.1678</td> <td>7.0869</td>   <td>False</td>\n",
       "</tr>\n",
       "<tr>\n",
       "        <td>Multi racial</td>                  <td>White</td>            <td>0.9838</td>    <td>0.9</td>   <td>-0.9118</td> <td>2.8794</td>   <td>False</td>\n",
       "</tr>\n",
       "<tr>\n",
       "       <td>Native American</td>                <td>White</td>            <td>-0.4758</td>   <td>0.9</td>   <td>-5.8231</td> <td>4.8715</td>   <td>False</td>\n",
       "</tr>\n",
       "</table>"
      ],
      "text/plain": [
       "<class 'statsmodels.iolib.table.SimpleTable'>"
      ]
     },
     "execution_count": 100,
     "metadata": {},
     "output_type": "execute_result"
    }
   ],
   "source": [
    "from statsmodels.stats.multicomp import pairwise_tukeyhsd\n",
    "pairwise_tukeyhsd(biopics['log_box_office_dollars'], biopics['subject_race']).summary()"
   ]
  },
  {
   "cell_type": "markdown",
   "metadata": {},
   "source": [
    "From the table of summary, we can find that we can reject the null hypothesis that there are no differences between African American and White, and African American and Multi races with alpha value 0.05, which means there are significant differences."
   ]
  },
  {
   "cell_type": "markdown",
   "metadata": {},
   "source": [
    "# <font color=\"green\">END OF NOTEBOOK</font>\n",
    "## Remember to submit HTML and IPYNB files via Canvas."
   ]
  }
 ],
 "metadata": {
  "kernelspec": {
   "display_name": "Python 3 (ipykernel)",
   "language": "python",
   "name": "python3"
  },
  "language_info": {
   "codemirror_mode": {
    "name": "ipython",
    "version": 3
   },
   "file_extension": ".py",
   "mimetype": "text/x-python",
   "name": "python",
   "nbconvert_exporter": "python",
   "pygments_lexer": "ipython3",
   "version": "3.9.7"
  }
 },
 "nbformat": 4,
 "nbformat_minor": 4
}
